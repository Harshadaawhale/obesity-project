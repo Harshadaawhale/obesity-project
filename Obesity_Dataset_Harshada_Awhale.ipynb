{
  "nbformat": 4,
  "nbformat_minor": 0,
  "metadata": {
    "colab": {
      "provenance": [],
      "gpuType": "T4"
    },
    "kernelspec": {
      "name": "python3",
      "display_name": "Python 3"
    },
    "language_info": {
      "name": "python"
    },
    "accelerator": "GPU"
  },
  "cells": [
    {
      "cell_type": "code",
      "execution_count": 3,
      "metadata": {
        "id": "z2gWsCtfGyaO"
      },
      "outputs": [],
      "source": [
        "# Importing Libraries\n",
        "\n",
        "import pandas as pd\n",
        "import numpy as np\n",
        "import matplotlib.pyplot as plt\n",
        "import seaborn as sns\n",
        "%matplotlib inline"
      ]
    },
    {
      "cell_type": "code",
      "source": [
        "# Remove warning\n",
        "\n",
        "import warnings\n",
        "warnings.filterwarnings(\"ignore\")"
      ],
      "metadata": {
        "id": "DHCNqyDkIpb4"
      },
      "execution_count": 4,
      "outputs": []
    },
    {
      "cell_type": "code",
      "source": [
        "'''\n",
        "Description of dataset.\n",
        "\n",
        "Gender: Indicates the gender of the individual (e.g., Male, Female).\n",
        "Age: Represents the age of the individual in years.\n",
        "Height: Specifies the height of the individual in centimeters or meters.\n",
        "Weight: Denotes the weight of the individual in kilograms or pounds.\n",
        "Family_history_with_overweight: Indicates whether there is a family history of overweight or obesity among relatives.\n",
        "FAVC: Represents whether the individual consumes high-calorie food frequently (e.g., Yes, No).\n",
        "FCVC: Stands for Frequency of Consumption of Vegetables. It represents how often the individual consumes vegetables in their diet.\n",
        "NCP: Stands for Number of Main Meals. It represents the number of main meals the individual consumes per day.\n",
        "CAEC: Represents Consumption of Food between Meals. It indicates the frequency of consumption of food between main meals (e.g., Always, Frequently, Sometimes, No).\n",
        "SMOKE: Indicates whether the individual smokes (e.g., Yes, No).\n",
        "CH2O: Represents daily water intake in liters or ounces.\n",
        "SCC: Stands for Calories Consumed per day. It represents the average calorie intake per day.\n",
        "FAF: Stands for Physical Activity Frequency. It represents the frequency of physical activity per week.\n",
        "TUE: Stands for Time Using Technology Devices. It represents the time spent using technological devices (e.g., smartphones, computers) per day.\n",
        "CALC: Stands for Consumption of Alcohol. It indicates the frequency of alcohol consumption (e.g., Frequently, Sometimes, No).\n",
        "MTRANS: Represents mode of transportation used by the individual (e.g., Automobile, Bike, Public Transportation).\n",
        "NObeyesdad: Stands for Non-Obese and Obese Classification. It represents the classification of individuals into different weight categories based on their Body Mass Index (BMI) or other criteria.\n",
        "'''\n",
        "\n",
        "\n",
        "\n",
        "\n",
        "\n"
      ],
      "metadata": {
        "id": "Heq3irgqO8hw",
        "colab": {
          "base_uri": "https://localhost:8080/",
          "height": 180
        },
        "outputId": "b48a2a8a-fc55-49a6-8a70-2665ae98a783"
      },
      "execution_count": 5,
      "outputs": [
        {
          "output_type": "execute_result",
          "data": {
            "text/plain": [
              "'\\nDescription of dataset.\\n\\nGender: Indicates the gender of the individual (e.g., Male, Female).\\nAge: Represents the age of the individual in years.\\nHeight: Specifies the height of the individual in centimeters or meters.\\nWeight: Denotes the weight of the individual in kilograms or pounds.\\nFamily_history_with_overweight: Indicates whether there is a family history of overweight or obesity among relatives.\\nFAVC: Represents whether the individual consumes high-calorie food frequently (e.g., Yes, No).\\nFCVC: Stands for Frequency of Consumption of Vegetables. It represents how often the individual consumes vegetables in their diet.\\nNCP: Stands for Number of Main Meals. It represents the number of main meals the individual consumes per day.\\nCAEC: Represents Consumption of Food between Meals. It indicates the frequency of consumption of food between main meals (e.g., Always, Frequently, Sometimes, No).\\nSMOKE: Indicates whether the individual smokes (e.g., Yes, No).\\nCH2O: Represents daily water intake in liters or ounces.\\nSCC: Stands for Calories Consumed per day. It represents the average calorie intake per day.\\nFAF: Stands for Physical Activity Frequency. It represents the frequency of physical activity per week.\\nTUE: Stands for Time Using Technology Devices. It represents the time spent using technological devices (e.g., smartphones, computers) per day.\\nCALC: Stands for Consumption of Alcohol. It indicates the frequency of alcohol consumption (e.g., Frequently, Sometimes, No).\\nMTRANS: Represents mode of transportation used by the individual (e.g., Automobile, Bike, Public Transportation).\\nNObeyesdad: Stands for Non-Obese and Obese Classification. It represents the classification of individuals into different weight categories based on their Body Mass Index (BMI) or other criteria.\\n'"
            ],
            "application/vnd.google.colaboratory.intrinsic+json": {
              "type": "string"
            }
          },
          "metadata": {},
          "execution_count": 5
        }
      ]
    },
    {
      "cell_type": "code",
      "source": [
        "# Read dataset\n",
        "\n",
        "df = pd.read_csv(r\"/content/ObesityDataSet_raw_and_data_sinthetic.csv\")"
      ],
      "metadata": {
        "id": "UdFtdgEmIvga"
      },
      "execution_count": 6,
      "outputs": []
    },
    {
      "cell_type": "code",
      "source": [
        "df"
      ],
      "metadata": {
        "colab": {
          "base_uri": "https://localhost:8080/",
          "height": 443
        },
        "id": "jYyyJwgUKITo",
        "outputId": "a4aec179-b2c6-4620-cf2d-d4dfd296e87c"
      },
      "execution_count": 7,
      "outputs": [
        {
          "output_type": "execute_result",
          "data": {
            "text/plain": [
              "      Gender        Age    Height      Weight family_history_with_overweight  \\\n",
              "0     Female  21.000000  1.620000   64.000000                            yes   \n",
              "1     Female  21.000000  1.520000   56.000000                            yes   \n",
              "2       Male  23.000000  1.800000   77.000000                            yes   \n",
              "3       Male  27.000000  1.800000   87.000000                             no   \n",
              "4       Male  22.000000  1.780000   89.800000                             no   \n",
              "...      ...        ...       ...         ...                            ...   \n",
              "2106  Female  20.976842  1.710730  131.408528                            yes   \n",
              "2107  Female  21.982942  1.748584  133.742943                            yes   \n",
              "2108  Female  22.524036  1.752206  133.689352                            yes   \n",
              "2109  Female  24.361936  1.739450  133.346641                            yes   \n",
              "2110  Female  23.664709  1.738836  133.472641                            yes   \n",
              "\n",
              "     FAVC  FCVC  NCP       CAEC SMOKE      CH2O  SCC       FAF       TUE  \\\n",
              "0      no   2.0  3.0  Sometimes    no  2.000000   no  0.000000  1.000000   \n",
              "1      no   3.0  3.0  Sometimes   yes  3.000000  yes  3.000000  0.000000   \n",
              "2      no   2.0  3.0  Sometimes    no  2.000000   no  2.000000  1.000000   \n",
              "3      no   3.0  3.0  Sometimes    no  2.000000   no  2.000000  0.000000   \n",
              "4      no   2.0  1.0  Sometimes    no  2.000000   no  0.000000  0.000000   \n",
              "...   ...   ...  ...        ...   ...       ...  ...       ...       ...   \n",
              "2106  yes   3.0  3.0  Sometimes    no  1.728139   no  1.676269  0.906247   \n",
              "2107  yes   3.0  3.0  Sometimes    no  2.005130   no  1.341390  0.599270   \n",
              "2108  yes   3.0  3.0  Sometimes    no  2.054193   no  1.414209  0.646288   \n",
              "2109  yes   3.0  3.0  Sometimes    no  2.852339   no  1.139107  0.586035   \n",
              "2110  yes   3.0  3.0  Sometimes    no  2.863513   no  1.026452  0.714137   \n",
              "\n",
              "            CALC                 MTRANS           NObeyesdad  \n",
              "0             no  Public_Transportation        Normal_Weight  \n",
              "1      Sometimes  Public_Transportation        Normal_Weight  \n",
              "2     Frequently  Public_Transportation        Normal_Weight  \n",
              "3     Frequently                Walking   Overweight_Level_I  \n",
              "4      Sometimes  Public_Transportation  Overweight_Level_II  \n",
              "...          ...                    ...                  ...  \n",
              "2106   Sometimes  Public_Transportation     Obesity_Type_III  \n",
              "2107   Sometimes  Public_Transportation     Obesity_Type_III  \n",
              "2108   Sometimes  Public_Transportation     Obesity_Type_III  \n",
              "2109   Sometimes  Public_Transportation     Obesity_Type_III  \n",
              "2110   Sometimes  Public_Transportation     Obesity_Type_III  \n",
              "\n",
              "[2111 rows x 17 columns]"
            ],
            "text/html": [
              "\n",
              "  <div id=\"df-58899b7a-f002-4a27-8534-501a4ce5294a\" class=\"colab-df-container\">\n",
              "    <div>\n",
              "<style scoped>\n",
              "    .dataframe tbody tr th:only-of-type {\n",
              "        vertical-align: middle;\n",
              "    }\n",
              "\n",
              "    .dataframe tbody tr th {\n",
              "        vertical-align: top;\n",
              "    }\n",
              "\n",
              "    .dataframe thead th {\n",
              "        text-align: right;\n",
              "    }\n",
              "</style>\n",
              "<table border=\"1\" class=\"dataframe\">\n",
              "  <thead>\n",
              "    <tr style=\"text-align: right;\">\n",
              "      <th></th>\n",
              "      <th>Gender</th>\n",
              "      <th>Age</th>\n",
              "      <th>Height</th>\n",
              "      <th>Weight</th>\n",
              "      <th>family_history_with_overweight</th>\n",
              "      <th>FAVC</th>\n",
              "      <th>FCVC</th>\n",
              "      <th>NCP</th>\n",
              "      <th>CAEC</th>\n",
              "      <th>SMOKE</th>\n",
              "      <th>CH2O</th>\n",
              "      <th>SCC</th>\n",
              "      <th>FAF</th>\n",
              "      <th>TUE</th>\n",
              "      <th>CALC</th>\n",
              "      <th>MTRANS</th>\n",
              "      <th>NObeyesdad</th>\n",
              "    </tr>\n",
              "  </thead>\n",
              "  <tbody>\n",
              "    <tr>\n",
              "      <th>0</th>\n",
              "      <td>Female</td>\n",
              "      <td>21.000000</td>\n",
              "      <td>1.620000</td>\n",
              "      <td>64.000000</td>\n",
              "      <td>yes</td>\n",
              "      <td>no</td>\n",
              "      <td>2.0</td>\n",
              "      <td>3.0</td>\n",
              "      <td>Sometimes</td>\n",
              "      <td>no</td>\n",
              "      <td>2.000000</td>\n",
              "      <td>no</td>\n",
              "      <td>0.000000</td>\n",
              "      <td>1.000000</td>\n",
              "      <td>no</td>\n",
              "      <td>Public_Transportation</td>\n",
              "      <td>Normal_Weight</td>\n",
              "    </tr>\n",
              "    <tr>\n",
              "      <th>1</th>\n",
              "      <td>Female</td>\n",
              "      <td>21.000000</td>\n",
              "      <td>1.520000</td>\n",
              "      <td>56.000000</td>\n",
              "      <td>yes</td>\n",
              "      <td>no</td>\n",
              "      <td>3.0</td>\n",
              "      <td>3.0</td>\n",
              "      <td>Sometimes</td>\n",
              "      <td>yes</td>\n",
              "      <td>3.000000</td>\n",
              "      <td>yes</td>\n",
              "      <td>3.000000</td>\n",
              "      <td>0.000000</td>\n",
              "      <td>Sometimes</td>\n",
              "      <td>Public_Transportation</td>\n",
              "      <td>Normal_Weight</td>\n",
              "    </tr>\n",
              "    <tr>\n",
              "      <th>2</th>\n",
              "      <td>Male</td>\n",
              "      <td>23.000000</td>\n",
              "      <td>1.800000</td>\n",
              "      <td>77.000000</td>\n",
              "      <td>yes</td>\n",
              "      <td>no</td>\n",
              "      <td>2.0</td>\n",
              "      <td>3.0</td>\n",
              "      <td>Sometimes</td>\n",
              "      <td>no</td>\n",
              "      <td>2.000000</td>\n",
              "      <td>no</td>\n",
              "      <td>2.000000</td>\n",
              "      <td>1.000000</td>\n",
              "      <td>Frequently</td>\n",
              "      <td>Public_Transportation</td>\n",
              "      <td>Normal_Weight</td>\n",
              "    </tr>\n",
              "    <tr>\n",
              "      <th>3</th>\n",
              "      <td>Male</td>\n",
              "      <td>27.000000</td>\n",
              "      <td>1.800000</td>\n",
              "      <td>87.000000</td>\n",
              "      <td>no</td>\n",
              "      <td>no</td>\n",
              "      <td>3.0</td>\n",
              "      <td>3.0</td>\n",
              "      <td>Sometimes</td>\n",
              "      <td>no</td>\n",
              "      <td>2.000000</td>\n",
              "      <td>no</td>\n",
              "      <td>2.000000</td>\n",
              "      <td>0.000000</td>\n",
              "      <td>Frequently</td>\n",
              "      <td>Walking</td>\n",
              "      <td>Overweight_Level_I</td>\n",
              "    </tr>\n",
              "    <tr>\n",
              "      <th>4</th>\n",
              "      <td>Male</td>\n",
              "      <td>22.000000</td>\n",
              "      <td>1.780000</td>\n",
              "      <td>89.800000</td>\n",
              "      <td>no</td>\n",
              "      <td>no</td>\n",
              "      <td>2.0</td>\n",
              "      <td>1.0</td>\n",
              "      <td>Sometimes</td>\n",
              "      <td>no</td>\n",
              "      <td>2.000000</td>\n",
              "      <td>no</td>\n",
              "      <td>0.000000</td>\n",
              "      <td>0.000000</td>\n",
              "      <td>Sometimes</td>\n",
              "      <td>Public_Transportation</td>\n",
              "      <td>Overweight_Level_II</td>\n",
              "    </tr>\n",
              "    <tr>\n",
              "      <th>...</th>\n",
              "      <td>...</td>\n",
              "      <td>...</td>\n",
              "      <td>...</td>\n",
              "      <td>...</td>\n",
              "      <td>...</td>\n",
              "      <td>...</td>\n",
              "      <td>...</td>\n",
              "      <td>...</td>\n",
              "      <td>...</td>\n",
              "      <td>...</td>\n",
              "      <td>...</td>\n",
              "      <td>...</td>\n",
              "      <td>...</td>\n",
              "      <td>...</td>\n",
              "      <td>...</td>\n",
              "      <td>...</td>\n",
              "      <td>...</td>\n",
              "    </tr>\n",
              "    <tr>\n",
              "      <th>2106</th>\n",
              "      <td>Female</td>\n",
              "      <td>20.976842</td>\n",
              "      <td>1.710730</td>\n",
              "      <td>131.408528</td>\n",
              "      <td>yes</td>\n",
              "      <td>yes</td>\n",
              "      <td>3.0</td>\n",
              "      <td>3.0</td>\n",
              "      <td>Sometimes</td>\n",
              "      <td>no</td>\n",
              "      <td>1.728139</td>\n",
              "      <td>no</td>\n",
              "      <td>1.676269</td>\n",
              "      <td>0.906247</td>\n",
              "      <td>Sometimes</td>\n",
              "      <td>Public_Transportation</td>\n",
              "      <td>Obesity_Type_III</td>\n",
              "    </tr>\n",
              "    <tr>\n",
              "      <th>2107</th>\n",
              "      <td>Female</td>\n",
              "      <td>21.982942</td>\n",
              "      <td>1.748584</td>\n",
              "      <td>133.742943</td>\n",
              "      <td>yes</td>\n",
              "      <td>yes</td>\n",
              "      <td>3.0</td>\n",
              "      <td>3.0</td>\n",
              "      <td>Sometimes</td>\n",
              "      <td>no</td>\n",
              "      <td>2.005130</td>\n",
              "      <td>no</td>\n",
              "      <td>1.341390</td>\n",
              "      <td>0.599270</td>\n",
              "      <td>Sometimes</td>\n",
              "      <td>Public_Transportation</td>\n",
              "      <td>Obesity_Type_III</td>\n",
              "    </tr>\n",
              "    <tr>\n",
              "      <th>2108</th>\n",
              "      <td>Female</td>\n",
              "      <td>22.524036</td>\n",
              "      <td>1.752206</td>\n",
              "      <td>133.689352</td>\n",
              "      <td>yes</td>\n",
              "      <td>yes</td>\n",
              "      <td>3.0</td>\n",
              "      <td>3.0</td>\n",
              "      <td>Sometimes</td>\n",
              "      <td>no</td>\n",
              "      <td>2.054193</td>\n",
              "      <td>no</td>\n",
              "      <td>1.414209</td>\n",
              "      <td>0.646288</td>\n",
              "      <td>Sometimes</td>\n",
              "      <td>Public_Transportation</td>\n",
              "      <td>Obesity_Type_III</td>\n",
              "    </tr>\n",
              "    <tr>\n",
              "      <th>2109</th>\n",
              "      <td>Female</td>\n",
              "      <td>24.361936</td>\n",
              "      <td>1.739450</td>\n",
              "      <td>133.346641</td>\n",
              "      <td>yes</td>\n",
              "      <td>yes</td>\n",
              "      <td>3.0</td>\n",
              "      <td>3.0</td>\n",
              "      <td>Sometimes</td>\n",
              "      <td>no</td>\n",
              "      <td>2.852339</td>\n",
              "      <td>no</td>\n",
              "      <td>1.139107</td>\n",
              "      <td>0.586035</td>\n",
              "      <td>Sometimes</td>\n",
              "      <td>Public_Transportation</td>\n",
              "      <td>Obesity_Type_III</td>\n",
              "    </tr>\n",
              "    <tr>\n",
              "      <th>2110</th>\n",
              "      <td>Female</td>\n",
              "      <td>23.664709</td>\n",
              "      <td>1.738836</td>\n",
              "      <td>133.472641</td>\n",
              "      <td>yes</td>\n",
              "      <td>yes</td>\n",
              "      <td>3.0</td>\n",
              "      <td>3.0</td>\n",
              "      <td>Sometimes</td>\n",
              "      <td>no</td>\n",
              "      <td>2.863513</td>\n",
              "      <td>no</td>\n",
              "      <td>1.026452</td>\n",
              "      <td>0.714137</td>\n",
              "      <td>Sometimes</td>\n",
              "      <td>Public_Transportation</td>\n",
              "      <td>Obesity_Type_III</td>\n",
              "    </tr>\n",
              "  </tbody>\n",
              "</table>\n",
              "<p>2111 rows × 17 columns</p>\n",
              "</div>\n",
              "    <div class=\"colab-df-buttons\">\n",
              "\n",
              "  <div class=\"colab-df-container\">\n",
              "    <button class=\"colab-df-convert\" onclick=\"convertToInteractive('df-58899b7a-f002-4a27-8534-501a4ce5294a')\"\n",
              "            title=\"Convert this dataframe to an interactive table.\"\n",
              "            style=\"display:none;\">\n",
              "\n",
              "  <svg xmlns=\"http://www.w3.org/2000/svg\" height=\"24px\" viewBox=\"0 -960 960 960\">\n",
              "    <path d=\"M120-120v-720h720v720H120Zm60-500h600v-160H180v160Zm220 220h160v-160H400v160Zm0 220h160v-160H400v160ZM180-400h160v-160H180v160Zm440 0h160v-160H620v160ZM180-180h160v-160H180v160Zm440 0h160v-160H620v160Z\"/>\n",
              "  </svg>\n",
              "    </button>\n",
              "\n",
              "  <style>\n",
              "    .colab-df-container {\n",
              "      display:flex;\n",
              "      gap: 12px;\n",
              "    }\n",
              "\n",
              "    .colab-df-convert {\n",
              "      background-color: #E8F0FE;\n",
              "      border: none;\n",
              "      border-radius: 50%;\n",
              "      cursor: pointer;\n",
              "      display: none;\n",
              "      fill: #1967D2;\n",
              "      height: 32px;\n",
              "      padding: 0 0 0 0;\n",
              "      width: 32px;\n",
              "    }\n",
              "\n",
              "    .colab-df-convert:hover {\n",
              "      background-color: #E2EBFA;\n",
              "      box-shadow: 0px 1px 2px rgba(60, 64, 67, 0.3), 0px 1px 3px 1px rgba(60, 64, 67, 0.15);\n",
              "      fill: #174EA6;\n",
              "    }\n",
              "\n",
              "    .colab-df-buttons div {\n",
              "      margin-bottom: 4px;\n",
              "    }\n",
              "\n",
              "    [theme=dark] .colab-df-convert {\n",
              "      background-color: #3B4455;\n",
              "      fill: #D2E3FC;\n",
              "    }\n",
              "\n",
              "    [theme=dark] .colab-df-convert:hover {\n",
              "      background-color: #434B5C;\n",
              "      box-shadow: 0px 1px 3px 1px rgba(0, 0, 0, 0.15);\n",
              "      filter: drop-shadow(0px 1px 2px rgba(0, 0, 0, 0.3));\n",
              "      fill: #FFFFFF;\n",
              "    }\n",
              "  </style>\n",
              "\n",
              "    <script>\n",
              "      const buttonEl =\n",
              "        document.querySelector('#df-58899b7a-f002-4a27-8534-501a4ce5294a button.colab-df-convert');\n",
              "      buttonEl.style.display =\n",
              "        google.colab.kernel.accessAllowed ? 'block' : 'none';\n",
              "\n",
              "      async function convertToInteractive(key) {\n",
              "        const element = document.querySelector('#df-58899b7a-f002-4a27-8534-501a4ce5294a');\n",
              "        const dataTable =\n",
              "          await google.colab.kernel.invokeFunction('convertToInteractive',\n",
              "                                                    [key], {});\n",
              "        if (!dataTable) return;\n",
              "\n",
              "        const docLinkHtml = 'Like what you see? Visit the ' +\n",
              "          '<a target=\"_blank\" href=https://colab.research.google.com/notebooks/data_table.ipynb>data table notebook</a>'\n",
              "          + ' to learn more about interactive tables.';\n",
              "        element.innerHTML = '';\n",
              "        dataTable['output_type'] = 'display_data';\n",
              "        await google.colab.output.renderOutput(dataTable, element);\n",
              "        const docLink = document.createElement('div');\n",
              "        docLink.innerHTML = docLinkHtml;\n",
              "        element.appendChild(docLink);\n",
              "      }\n",
              "    </script>\n",
              "  </div>\n",
              "\n",
              "\n",
              "<div id=\"df-bc153a7c-49e5-4f02-8a41-046ae335e3ad\">\n",
              "  <button class=\"colab-df-quickchart\" onclick=\"quickchart('df-bc153a7c-49e5-4f02-8a41-046ae335e3ad')\"\n",
              "            title=\"Suggest charts\"\n",
              "            style=\"display:none;\">\n",
              "\n",
              "<svg xmlns=\"http://www.w3.org/2000/svg\" height=\"24px\"viewBox=\"0 0 24 24\"\n",
              "     width=\"24px\">\n",
              "    <g>\n",
              "        <path d=\"M19 3H5c-1.1 0-2 .9-2 2v14c0 1.1.9 2 2 2h14c1.1 0 2-.9 2-2V5c0-1.1-.9-2-2-2zM9 17H7v-7h2v7zm4 0h-2V7h2v10zm4 0h-2v-4h2v4z\"/>\n",
              "    </g>\n",
              "</svg>\n",
              "  </button>\n",
              "\n",
              "<style>\n",
              "  .colab-df-quickchart {\n",
              "      --bg-color: #E8F0FE;\n",
              "      --fill-color: #1967D2;\n",
              "      --hover-bg-color: #E2EBFA;\n",
              "      --hover-fill-color: #174EA6;\n",
              "      --disabled-fill-color: #AAA;\n",
              "      --disabled-bg-color: #DDD;\n",
              "  }\n",
              "\n",
              "  [theme=dark] .colab-df-quickchart {\n",
              "      --bg-color: #3B4455;\n",
              "      --fill-color: #D2E3FC;\n",
              "      --hover-bg-color: #434B5C;\n",
              "      --hover-fill-color: #FFFFFF;\n",
              "      --disabled-bg-color: #3B4455;\n",
              "      --disabled-fill-color: #666;\n",
              "  }\n",
              "\n",
              "  .colab-df-quickchart {\n",
              "    background-color: var(--bg-color);\n",
              "    border: none;\n",
              "    border-radius: 50%;\n",
              "    cursor: pointer;\n",
              "    display: none;\n",
              "    fill: var(--fill-color);\n",
              "    height: 32px;\n",
              "    padding: 0;\n",
              "    width: 32px;\n",
              "  }\n",
              "\n",
              "  .colab-df-quickchart:hover {\n",
              "    background-color: var(--hover-bg-color);\n",
              "    box-shadow: 0 1px 2px rgba(60, 64, 67, 0.3), 0 1px 3px 1px rgba(60, 64, 67, 0.15);\n",
              "    fill: var(--button-hover-fill-color);\n",
              "  }\n",
              "\n",
              "  .colab-df-quickchart-complete:disabled,\n",
              "  .colab-df-quickchart-complete:disabled:hover {\n",
              "    background-color: var(--disabled-bg-color);\n",
              "    fill: var(--disabled-fill-color);\n",
              "    box-shadow: none;\n",
              "  }\n",
              "\n",
              "  .colab-df-spinner {\n",
              "    border: 2px solid var(--fill-color);\n",
              "    border-color: transparent;\n",
              "    border-bottom-color: var(--fill-color);\n",
              "    animation:\n",
              "      spin 1s steps(1) infinite;\n",
              "  }\n",
              "\n",
              "  @keyframes spin {\n",
              "    0% {\n",
              "      border-color: transparent;\n",
              "      border-bottom-color: var(--fill-color);\n",
              "      border-left-color: var(--fill-color);\n",
              "    }\n",
              "    20% {\n",
              "      border-color: transparent;\n",
              "      border-left-color: var(--fill-color);\n",
              "      border-top-color: var(--fill-color);\n",
              "    }\n",
              "    30% {\n",
              "      border-color: transparent;\n",
              "      border-left-color: var(--fill-color);\n",
              "      border-top-color: var(--fill-color);\n",
              "      border-right-color: var(--fill-color);\n",
              "    }\n",
              "    40% {\n",
              "      border-color: transparent;\n",
              "      border-right-color: var(--fill-color);\n",
              "      border-top-color: var(--fill-color);\n",
              "    }\n",
              "    60% {\n",
              "      border-color: transparent;\n",
              "      border-right-color: var(--fill-color);\n",
              "    }\n",
              "    80% {\n",
              "      border-color: transparent;\n",
              "      border-right-color: var(--fill-color);\n",
              "      border-bottom-color: var(--fill-color);\n",
              "    }\n",
              "    90% {\n",
              "      border-color: transparent;\n",
              "      border-bottom-color: var(--fill-color);\n",
              "    }\n",
              "  }\n",
              "</style>\n",
              "\n",
              "  <script>\n",
              "    async function quickchart(key) {\n",
              "      const quickchartButtonEl =\n",
              "        document.querySelector('#' + key + ' button');\n",
              "      quickchartButtonEl.disabled = true;  // To prevent multiple clicks.\n",
              "      quickchartButtonEl.classList.add('colab-df-spinner');\n",
              "      try {\n",
              "        const charts = await google.colab.kernel.invokeFunction(\n",
              "            'suggestCharts', [key], {});\n",
              "      } catch (error) {\n",
              "        console.error('Error during call to suggestCharts:', error);\n",
              "      }\n",
              "      quickchartButtonEl.classList.remove('colab-df-spinner');\n",
              "      quickchartButtonEl.classList.add('colab-df-quickchart-complete');\n",
              "    }\n",
              "    (() => {\n",
              "      let quickchartButtonEl =\n",
              "        document.querySelector('#df-bc153a7c-49e5-4f02-8a41-046ae335e3ad button');\n",
              "      quickchartButtonEl.style.display =\n",
              "        google.colab.kernel.accessAllowed ? 'block' : 'none';\n",
              "    })();\n",
              "  </script>\n",
              "</div>\n",
              "\n",
              "  <div id=\"id_1c582465-0a79-491e-b890-dd43a09ae04d\">\n",
              "    <style>\n",
              "      .colab-df-generate {\n",
              "        background-color: #E8F0FE;\n",
              "        border: none;\n",
              "        border-radius: 50%;\n",
              "        cursor: pointer;\n",
              "        display: none;\n",
              "        fill: #1967D2;\n",
              "        height: 32px;\n",
              "        padding: 0 0 0 0;\n",
              "        width: 32px;\n",
              "      }\n",
              "\n",
              "      .colab-df-generate:hover {\n",
              "        background-color: #E2EBFA;\n",
              "        box-shadow: 0px 1px 2px rgba(60, 64, 67, 0.3), 0px 1px 3px 1px rgba(60, 64, 67, 0.15);\n",
              "        fill: #174EA6;\n",
              "      }\n",
              "\n",
              "      [theme=dark] .colab-df-generate {\n",
              "        background-color: #3B4455;\n",
              "        fill: #D2E3FC;\n",
              "      }\n",
              "\n",
              "      [theme=dark] .colab-df-generate:hover {\n",
              "        background-color: #434B5C;\n",
              "        box-shadow: 0px 1px 3px 1px rgba(0, 0, 0, 0.15);\n",
              "        filter: drop-shadow(0px 1px 2px rgba(0, 0, 0, 0.3));\n",
              "        fill: #FFFFFF;\n",
              "      }\n",
              "    </style>\n",
              "    <button class=\"colab-df-generate\" onclick=\"generateWithVariable('df')\"\n",
              "            title=\"Generate code using this dataframe.\"\n",
              "            style=\"display:none;\">\n",
              "\n",
              "  <svg xmlns=\"http://www.w3.org/2000/svg\" height=\"24px\"viewBox=\"0 0 24 24\"\n",
              "       width=\"24px\">\n",
              "    <path d=\"M7,19H8.4L18.45,9,17,7.55,7,17.6ZM5,21V16.75L18.45,3.32a2,2,0,0,1,2.83,0l1.4,1.43a1.91,1.91,0,0,1,.58,1.4,1.91,1.91,0,0,1-.58,1.4L9.25,21ZM18.45,9,17,7.55Zm-12,3A5.31,5.31,0,0,0,4.9,8.1,5.31,5.31,0,0,0,1,6.5,5.31,5.31,0,0,0,4.9,4.9,5.31,5.31,0,0,0,6.5,1,5.31,5.31,0,0,0,8.1,4.9,5.31,5.31,0,0,0,12,6.5,5.46,5.46,0,0,0,6.5,12Z\"/>\n",
              "  </svg>\n",
              "    </button>\n",
              "    <script>\n",
              "      (() => {\n",
              "      const buttonEl =\n",
              "        document.querySelector('#id_1c582465-0a79-491e-b890-dd43a09ae04d button.colab-df-generate');\n",
              "      buttonEl.style.display =\n",
              "        google.colab.kernel.accessAllowed ? 'block' : 'none';\n",
              "\n",
              "      buttonEl.onclick = () => {\n",
              "        google.colab.notebook.generateWithVariable('df');\n",
              "      }\n",
              "      })();\n",
              "    </script>\n",
              "  </div>\n",
              "\n",
              "    </div>\n",
              "  </div>\n"
            ],
            "application/vnd.google.colaboratory.intrinsic+json": {
              "type": "dataframe",
              "variable_name": "df",
              "summary": "{\n  \"name\": \"df\",\n  \"rows\": 2111,\n  \"fields\": [\n    {\n      \"column\": \"Gender\",\n      \"properties\": {\n        \"dtype\": \"category\",\n        \"num_unique_values\": 2,\n        \"samples\": [\n          \"Male\",\n          \"Female\"\n        ],\n        \"semantic_type\": \"\",\n        \"description\": \"\"\n      }\n    },\n    {\n      \"column\": \"Age\",\n      \"properties\": {\n        \"dtype\": \"number\",\n        \"std\": 6.345968273732234,\n        \"min\": 14.0,\n        \"max\": 61.0,\n        \"num_unique_values\": 1402,\n        \"samples\": [\n          25.526746,\n          26.740655\n        ],\n        \"semantic_type\": \"\",\n        \"description\": \"\"\n      }\n    },\n    {\n      \"column\": \"Height\",\n      \"properties\": {\n        \"dtype\": \"number\",\n        \"std\": 0.09330481986792007,\n        \"min\": 1.45,\n        \"max\": 1.98,\n        \"num_unique_values\": 1574,\n        \"samples\": [\n          1.760175,\n          1.688436\n        ],\n        \"semantic_type\": \"\",\n        \"description\": \"\"\n      }\n    },\n    {\n      \"column\": \"Weight\",\n      \"properties\": {\n        \"dtype\": \"number\",\n        \"std\": 26.1911717452047,\n        \"min\": 39.0,\n        \"max\": 173.0,\n        \"num_unique_values\": 1525,\n        \"samples\": [\n          120.702935,\n          64.4\n        ],\n        \"semantic_type\": \"\",\n        \"description\": \"\"\n      }\n    },\n    {\n      \"column\": \"family_history_with_overweight\",\n      \"properties\": {\n        \"dtype\": \"category\",\n        \"num_unique_values\": 2,\n        \"samples\": [\n          \"no\",\n          \"yes\"\n        ],\n        \"semantic_type\": \"\",\n        \"description\": \"\"\n      }\n    },\n    {\n      \"column\": \"FAVC\",\n      \"properties\": {\n        \"dtype\": \"category\",\n        \"num_unique_values\": 2,\n        \"samples\": [\n          \"yes\",\n          \"no\"\n        ],\n        \"semantic_type\": \"\",\n        \"description\": \"\"\n      }\n    },\n    {\n      \"column\": \"FCVC\",\n      \"properties\": {\n        \"dtype\": \"number\",\n        \"std\": 0.5339265785033002,\n        \"min\": 1.0,\n        \"max\": 3.0,\n        \"num_unique_values\": 810,\n        \"samples\": [\n          2.987148,\n          2.939727\n        ],\n        \"semantic_type\": \"\",\n        \"description\": \"\"\n      }\n    },\n    {\n      \"column\": \"NCP\",\n      \"properties\": {\n        \"dtype\": \"number\",\n        \"std\": 0.7780386488418612,\n        \"min\": 1.0,\n        \"max\": 4.0,\n        \"num_unique_values\": 635,\n        \"samples\": [\n          1.468948,\n          2.9948\n        ],\n        \"semantic_type\": \"\",\n        \"description\": \"\"\n      }\n    },\n    {\n      \"column\": \"CAEC\",\n      \"properties\": {\n        \"dtype\": \"category\",\n        \"num_unique_values\": 4,\n        \"samples\": [\n          \"Frequently\",\n          \"no\"\n        ],\n        \"semantic_type\": \"\",\n        \"description\": \"\"\n      }\n    },\n    {\n      \"column\": \"SMOKE\",\n      \"properties\": {\n        \"dtype\": \"category\",\n        \"num_unique_values\": 2,\n        \"samples\": [\n          \"yes\",\n          \"no\"\n        ],\n        \"semantic_type\": \"\",\n        \"description\": \"\"\n      }\n    },\n    {\n      \"column\": \"CH2O\",\n      \"properties\": {\n        \"dtype\": \"number\",\n        \"std\": 0.6129534517968722,\n        \"min\": 1.0,\n        \"max\": 3.0,\n        \"num_unique_values\": 1268,\n        \"samples\": [\n          2.395387,\n          1.983973\n        ],\n        \"semantic_type\": \"\",\n        \"description\": \"\"\n      }\n    },\n    {\n      \"column\": \"SCC\",\n      \"properties\": {\n        \"dtype\": \"category\",\n        \"num_unique_values\": 2,\n        \"samples\": [\n          \"yes\",\n          \"no\"\n        ],\n        \"semantic_type\": \"\",\n        \"description\": \"\"\n      }\n    },\n    {\n      \"column\": \"FAF\",\n      \"properties\": {\n        \"dtype\": \"number\",\n        \"std\": 0.850592430836698,\n        \"min\": 0.0,\n        \"max\": 3.0,\n        \"num_unique_values\": 1190,\n        \"samples\": [\n          1.655488,\n          2.433918\n        ],\n        \"semantic_type\": \"\",\n        \"description\": \"\"\n      }\n    },\n    {\n      \"column\": \"TUE\",\n      \"properties\": {\n        \"dtype\": \"number\",\n        \"std\": 0.6089272596763782,\n        \"min\": 0.0,\n        \"max\": 2.0,\n        \"num_unique_values\": 1129,\n        \"samples\": [\n          1.416353,\n          0.878258\n        ],\n        \"semantic_type\": \"\",\n        \"description\": \"\"\n      }\n    },\n    {\n      \"column\": \"CALC\",\n      \"properties\": {\n        \"dtype\": \"category\",\n        \"num_unique_values\": 4,\n        \"samples\": [\n          \"Sometimes\",\n          \"Always\"\n        ],\n        \"semantic_type\": \"\",\n        \"description\": \"\"\n      }\n    },\n    {\n      \"column\": \"MTRANS\",\n      \"properties\": {\n        \"dtype\": \"category\",\n        \"num_unique_values\": 5,\n        \"samples\": [\n          \"Walking\",\n          \"Bike\"\n        ],\n        \"semantic_type\": \"\",\n        \"description\": \"\"\n      }\n    },\n    {\n      \"column\": \"NObeyesdad\",\n      \"properties\": {\n        \"dtype\": \"category\",\n        \"num_unique_values\": 7,\n        \"samples\": [\n          \"Normal_Weight\",\n          \"Overweight_Level_I\"\n        ],\n        \"semantic_type\": \"\",\n        \"description\": \"\"\n      }\n    }\n  ]\n}"
            }
          },
          "metadata": {},
          "execution_count": 7
        }
      ]
    },
    {
      "cell_type": "code",
      "source": [
        "# It checks the null values present or not in data\n",
        "\n",
        "df.isnull().sum()"
      ],
      "metadata": {
        "colab": {
          "base_uri": "https://localhost:8080/"
        },
        "id": "CxoGqdqqKJkd",
        "outputId": "466bdec4-395b-4097-937a-1ee73a176bbd"
      },
      "execution_count": 8,
      "outputs": [
        {
          "output_type": "execute_result",
          "data": {
            "text/plain": [
              "Gender                            0\n",
              "Age                               0\n",
              "Height                            0\n",
              "Weight                            0\n",
              "family_history_with_overweight    0\n",
              "FAVC                              0\n",
              "FCVC                              0\n",
              "NCP                               0\n",
              "CAEC                              0\n",
              "SMOKE                             0\n",
              "CH2O                              0\n",
              "SCC                               0\n",
              "FAF                               0\n",
              "TUE                               0\n",
              "CALC                              0\n",
              "MTRANS                            0\n",
              "NObeyesdad                        0\n",
              "dtype: int64"
            ]
          },
          "metadata": {},
          "execution_count": 8
        }
      ]
    },
    {
      "cell_type": "code",
      "source": [
        "# It shows the information of data\n",
        "\n",
        "df.info()"
      ],
      "metadata": {
        "colab": {
          "base_uri": "https://localhost:8080/"
        },
        "id": "2QqdUtcEKPFj",
        "outputId": "3274f933-03f3-4486-f928-a32a225c69a7"
      },
      "execution_count": 9,
      "outputs": [
        {
          "output_type": "stream",
          "name": "stdout",
          "text": [
            "<class 'pandas.core.frame.DataFrame'>\n",
            "RangeIndex: 2111 entries, 0 to 2110\n",
            "Data columns (total 17 columns):\n",
            " #   Column                          Non-Null Count  Dtype  \n",
            "---  ------                          --------------  -----  \n",
            " 0   Gender                          2111 non-null   object \n",
            " 1   Age                             2111 non-null   float64\n",
            " 2   Height                          2111 non-null   float64\n",
            " 3   Weight                          2111 non-null   float64\n",
            " 4   family_history_with_overweight  2111 non-null   object \n",
            " 5   FAVC                            2111 non-null   object \n",
            " 6   FCVC                            2111 non-null   float64\n",
            " 7   NCP                             2111 non-null   float64\n",
            " 8   CAEC                            2111 non-null   object \n",
            " 9   SMOKE                           2111 non-null   object \n",
            " 10  CH2O                            2111 non-null   float64\n",
            " 11  SCC                             2111 non-null   object \n",
            " 12  FAF                             2111 non-null   float64\n",
            " 13  TUE                             2111 non-null   float64\n",
            " 14  CALC                            2111 non-null   object \n",
            " 15  MTRANS                          2111 non-null   object \n",
            " 16  NObeyesdad                      2111 non-null   object \n",
            "dtypes: float64(8), object(9)\n",
            "memory usage: 280.5+ KB\n"
          ]
        }
      ]
    },
    {
      "cell_type": "code",
      "source": [
        "#  datatypes of the columns\n",
        "\n",
        "df.dtypes"
      ],
      "metadata": {
        "colab": {
          "base_uri": "https://localhost:8080/"
        },
        "id": "NWSmlRZaKS-Z",
        "outputId": "e78d4c24-d264-4434-bc86-de34fb9312ad"
      },
      "execution_count": 10,
      "outputs": [
        {
          "output_type": "execute_result",
          "data": {
            "text/plain": [
              "Gender                             object\n",
              "Age                               float64\n",
              "Height                            float64\n",
              "Weight                            float64\n",
              "family_history_with_overweight     object\n",
              "FAVC                               object\n",
              "FCVC                              float64\n",
              "NCP                               float64\n",
              "CAEC                               object\n",
              "SMOKE                              object\n",
              "CH2O                              float64\n",
              "SCC                                object\n",
              "FAF                               float64\n",
              "TUE                               float64\n",
              "CALC                               object\n",
              "MTRANS                             object\n",
              "NObeyesdad                         object\n",
              "dtype: object"
            ]
          },
          "metadata": {},
          "execution_count": 10
        }
      ]
    },
    {
      "cell_type": "code",
      "source": [
        "# It shows the first five records\n",
        "\n",
        "df.head()"
      ],
      "metadata": {
        "colab": {
          "base_uri": "https://localhost:8080/",
          "height": 226
        },
        "id": "kbIXM9BGKtO_",
        "outputId": "82b1a031-03b7-4604-b56e-80c27acdd86b"
      },
      "execution_count": 11,
      "outputs": [
        {
          "output_type": "execute_result",
          "data": {
            "text/plain": [
              "   Gender   Age  Height  Weight family_history_with_overweight FAVC  FCVC  \\\n",
              "0  Female  21.0    1.62    64.0                            yes   no   2.0   \n",
              "1  Female  21.0    1.52    56.0                            yes   no   3.0   \n",
              "2    Male  23.0    1.80    77.0                            yes   no   2.0   \n",
              "3    Male  27.0    1.80    87.0                             no   no   3.0   \n",
              "4    Male  22.0    1.78    89.8                             no   no   2.0   \n",
              "\n",
              "   NCP       CAEC SMOKE  CH2O  SCC  FAF  TUE        CALC  \\\n",
              "0  3.0  Sometimes    no   2.0   no  0.0  1.0          no   \n",
              "1  3.0  Sometimes   yes   3.0  yes  3.0  0.0   Sometimes   \n",
              "2  3.0  Sometimes    no   2.0   no  2.0  1.0  Frequently   \n",
              "3  3.0  Sometimes    no   2.0   no  2.0  0.0  Frequently   \n",
              "4  1.0  Sometimes    no   2.0   no  0.0  0.0   Sometimes   \n",
              "\n",
              "                  MTRANS           NObeyesdad  \n",
              "0  Public_Transportation        Normal_Weight  \n",
              "1  Public_Transportation        Normal_Weight  \n",
              "2  Public_Transportation        Normal_Weight  \n",
              "3                Walking   Overweight_Level_I  \n",
              "4  Public_Transportation  Overweight_Level_II  "
            ],
            "text/html": [
              "\n",
              "  <div id=\"df-5fd713af-3c5c-4da0-9186-35e17a50fa55\" class=\"colab-df-container\">\n",
              "    <div>\n",
              "<style scoped>\n",
              "    .dataframe tbody tr th:only-of-type {\n",
              "        vertical-align: middle;\n",
              "    }\n",
              "\n",
              "    .dataframe tbody tr th {\n",
              "        vertical-align: top;\n",
              "    }\n",
              "\n",
              "    .dataframe thead th {\n",
              "        text-align: right;\n",
              "    }\n",
              "</style>\n",
              "<table border=\"1\" class=\"dataframe\">\n",
              "  <thead>\n",
              "    <tr style=\"text-align: right;\">\n",
              "      <th></th>\n",
              "      <th>Gender</th>\n",
              "      <th>Age</th>\n",
              "      <th>Height</th>\n",
              "      <th>Weight</th>\n",
              "      <th>family_history_with_overweight</th>\n",
              "      <th>FAVC</th>\n",
              "      <th>FCVC</th>\n",
              "      <th>NCP</th>\n",
              "      <th>CAEC</th>\n",
              "      <th>SMOKE</th>\n",
              "      <th>CH2O</th>\n",
              "      <th>SCC</th>\n",
              "      <th>FAF</th>\n",
              "      <th>TUE</th>\n",
              "      <th>CALC</th>\n",
              "      <th>MTRANS</th>\n",
              "      <th>NObeyesdad</th>\n",
              "    </tr>\n",
              "  </thead>\n",
              "  <tbody>\n",
              "    <tr>\n",
              "      <th>0</th>\n",
              "      <td>Female</td>\n",
              "      <td>21.0</td>\n",
              "      <td>1.62</td>\n",
              "      <td>64.0</td>\n",
              "      <td>yes</td>\n",
              "      <td>no</td>\n",
              "      <td>2.0</td>\n",
              "      <td>3.0</td>\n",
              "      <td>Sometimes</td>\n",
              "      <td>no</td>\n",
              "      <td>2.0</td>\n",
              "      <td>no</td>\n",
              "      <td>0.0</td>\n",
              "      <td>1.0</td>\n",
              "      <td>no</td>\n",
              "      <td>Public_Transportation</td>\n",
              "      <td>Normal_Weight</td>\n",
              "    </tr>\n",
              "    <tr>\n",
              "      <th>1</th>\n",
              "      <td>Female</td>\n",
              "      <td>21.0</td>\n",
              "      <td>1.52</td>\n",
              "      <td>56.0</td>\n",
              "      <td>yes</td>\n",
              "      <td>no</td>\n",
              "      <td>3.0</td>\n",
              "      <td>3.0</td>\n",
              "      <td>Sometimes</td>\n",
              "      <td>yes</td>\n",
              "      <td>3.0</td>\n",
              "      <td>yes</td>\n",
              "      <td>3.0</td>\n",
              "      <td>0.0</td>\n",
              "      <td>Sometimes</td>\n",
              "      <td>Public_Transportation</td>\n",
              "      <td>Normal_Weight</td>\n",
              "    </tr>\n",
              "    <tr>\n",
              "      <th>2</th>\n",
              "      <td>Male</td>\n",
              "      <td>23.0</td>\n",
              "      <td>1.80</td>\n",
              "      <td>77.0</td>\n",
              "      <td>yes</td>\n",
              "      <td>no</td>\n",
              "      <td>2.0</td>\n",
              "      <td>3.0</td>\n",
              "      <td>Sometimes</td>\n",
              "      <td>no</td>\n",
              "      <td>2.0</td>\n",
              "      <td>no</td>\n",
              "      <td>2.0</td>\n",
              "      <td>1.0</td>\n",
              "      <td>Frequently</td>\n",
              "      <td>Public_Transportation</td>\n",
              "      <td>Normal_Weight</td>\n",
              "    </tr>\n",
              "    <tr>\n",
              "      <th>3</th>\n",
              "      <td>Male</td>\n",
              "      <td>27.0</td>\n",
              "      <td>1.80</td>\n",
              "      <td>87.0</td>\n",
              "      <td>no</td>\n",
              "      <td>no</td>\n",
              "      <td>3.0</td>\n",
              "      <td>3.0</td>\n",
              "      <td>Sometimes</td>\n",
              "      <td>no</td>\n",
              "      <td>2.0</td>\n",
              "      <td>no</td>\n",
              "      <td>2.0</td>\n",
              "      <td>0.0</td>\n",
              "      <td>Frequently</td>\n",
              "      <td>Walking</td>\n",
              "      <td>Overweight_Level_I</td>\n",
              "    </tr>\n",
              "    <tr>\n",
              "      <th>4</th>\n",
              "      <td>Male</td>\n",
              "      <td>22.0</td>\n",
              "      <td>1.78</td>\n",
              "      <td>89.8</td>\n",
              "      <td>no</td>\n",
              "      <td>no</td>\n",
              "      <td>2.0</td>\n",
              "      <td>1.0</td>\n",
              "      <td>Sometimes</td>\n",
              "      <td>no</td>\n",
              "      <td>2.0</td>\n",
              "      <td>no</td>\n",
              "      <td>0.0</td>\n",
              "      <td>0.0</td>\n",
              "      <td>Sometimes</td>\n",
              "      <td>Public_Transportation</td>\n",
              "      <td>Overweight_Level_II</td>\n",
              "    </tr>\n",
              "  </tbody>\n",
              "</table>\n",
              "</div>\n",
              "    <div class=\"colab-df-buttons\">\n",
              "\n",
              "  <div class=\"colab-df-container\">\n",
              "    <button class=\"colab-df-convert\" onclick=\"convertToInteractive('df-5fd713af-3c5c-4da0-9186-35e17a50fa55')\"\n",
              "            title=\"Convert this dataframe to an interactive table.\"\n",
              "            style=\"display:none;\">\n",
              "\n",
              "  <svg xmlns=\"http://www.w3.org/2000/svg\" height=\"24px\" viewBox=\"0 -960 960 960\">\n",
              "    <path d=\"M120-120v-720h720v720H120Zm60-500h600v-160H180v160Zm220 220h160v-160H400v160Zm0 220h160v-160H400v160ZM180-400h160v-160H180v160Zm440 0h160v-160H620v160ZM180-180h160v-160H180v160Zm440 0h160v-160H620v160Z\"/>\n",
              "  </svg>\n",
              "    </button>\n",
              "\n",
              "  <style>\n",
              "    .colab-df-container {\n",
              "      display:flex;\n",
              "      gap: 12px;\n",
              "    }\n",
              "\n",
              "    .colab-df-convert {\n",
              "      background-color: #E8F0FE;\n",
              "      border: none;\n",
              "      border-radius: 50%;\n",
              "      cursor: pointer;\n",
              "      display: none;\n",
              "      fill: #1967D2;\n",
              "      height: 32px;\n",
              "      padding: 0 0 0 0;\n",
              "      width: 32px;\n",
              "    }\n",
              "\n",
              "    .colab-df-convert:hover {\n",
              "      background-color: #E2EBFA;\n",
              "      box-shadow: 0px 1px 2px rgba(60, 64, 67, 0.3), 0px 1px 3px 1px rgba(60, 64, 67, 0.15);\n",
              "      fill: #174EA6;\n",
              "    }\n",
              "\n",
              "    .colab-df-buttons div {\n",
              "      margin-bottom: 4px;\n",
              "    }\n",
              "\n",
              "    [theme=dark] .colab-df-convert {\n",
              "      background-color: #3B4455;\n",
              "      fill: #D2E3FC;\n",
              "    }\n",
              "\n",
              "    [theme=dark] .colab-df-convert:hover {\n",
              "      background-color: #434B5C;\n",
              "      box-shadow: 0px 1px 3px 1px rgba(0, 0, 0, 0.15);\n",
              "      filter: drop-shadow(0px 1px 2px rgba(0, 0, 0, 0.3));\n",
              "      fill: #FFFFFF;\n",
              "    }\n",
              "  </style>\n",
              "\n",
              "    <script>\n",
              "      const buttonEl =\n",
              "        document.querySelector('#df-5fd713af-3c5c-4da0-9186-35e17a50fa55 button.colab-df-convert');\n",
              "      buttonEl.style.display =\n",
              "        google.colab.kernel.accessAllowed ? 'block' : 'none';\n",
              "\n",
              "      async function convertToInteractive(key) {\n",
              "        const element = document.querySelector('#df-5fd713af-3c5c-4da0-9186-35e17a50fa55');\n",
              "        const dataTable =\n",
              "          await google.colab.kernel.invokeFunction('convertToInteractive',\n",
              "                                                    [key], {});\n",
              "        if (!dataTable) return;\n",
              "\n",
              "        const docLinkHtml = 'Like what you see? Visit the ' +\n",
              "          '<a target=\"_blank\" href=https://colab.research.google.com/notebooks/data_table.ipynb>data table notebook</a>'\n",
              "          + ' to learn more about interactive tables.';\n",
              "        element.innerHTML = '';\n",
              "        dataTable['output_type'] = 'display_data';\n",
              "        await google.colab.output.renderOutput(dataTable, element);\n",
              "        const docLink = document.createElement('div');\n",
              "        docLink.innerHTML = docLinkHtml;\n",
              "        element.appendChild(docLink);\n",
              "      }\n",
              "    </script>\n",
              "  </div>\n",
              "\n",
              "\n",
              "<div id=\"df-c1a8b91f-5492-444e-8841-cba6b060117b\">\n",
              "  <button class=\"colab-df-quickchart\" onclick=\"quickchart('df-c1a8b91f-5492-444e-8841-cba6b060117b')\"\n",
              "            title=\"Suggest charts\"\n",
              "            style=\"display:none;\">\n",
              "\n",
              "<svg xmlns=\"http://www.w3.org/2000/svg\" height=\"24px\"viewBox=\"0 0 24 24\"\n",
              "     width=\"24px\">\n",
              "    <g>\n",
              "        <path d=\"M19 3H5c-1.1 0-2 .9-2 2v14c0 1.1.9 2 2 2h14c1.1 0 2-.9 2-2V5c0-1.1-.9-2-2-2zM9 17H7v-7h2v7zm4 0h-2V7h2v10zm4 0h-2v-4h2v4z\"/>\n",
              "    </g>\n",
              "</svg>\n",
              "  </button>\n",
              "\n",
              "<style>\n",
              "  .colab-df-quickchart {\n",
              "      --bg-color: #E8F0FE;\n",
              "      --fill-color: #1967D2;\n",
              "      --hover-bg-color: #E2EBFA;\n",
              "      --hover-fill-color: #174EA6;\n",
              "      --disabled-fill-color: #AAA;\n",
              "      --disabled-bg-color: #DDD;\n",
              "  }\n",
              "\n",
              "  [theme=dark] .colab-df-quickchart {\n",
              "      --bg-color: #3B4455;\n",
              "      --fill-color: #D2E3FC;\n",
              "      --hover-bg-color: #434B5C;\n",
              "      --hover-fill-color: #FFFFFF;\n",
              "      --disabled-bg-color: #3B4455;\n",
              "      --disabled-fill-color: #666;\n",
              "  }\n",
              "\n",
              "  .colab-df-quickchart {\n",
              "    background-color: var(--bg-color);\n",
              "    border: none;\n",
              "    border-radius: 50%;\n",
              "    cursor: pointer;\n",
              "    display: none;\n",
              "    fill: var(--fill-color);\n",
              "    height: 32px;\n",
              "    padding: 0;\n",
              "    width: 32px;\n",
              "  }\n",
              "\n",
              "  .colab-df-quickchart:hover {\n",
              "    background-color: var(--hover-bg-color);\n",
              "    box-shadow: 0 1px 2px rgba(60, 64, 67, 0.3), 0 1px 3px 1px rgba(60, 64, 67, 0.15);\n",
              "    fill: var(--button-hover-fill-color);\n",
              "  }\n",
              "\n",
              "  .colab-df-quickchart-complete:disabled,\n",
              "  .colab-df-quickchart-complete:disabled:hover {\n",
              "    background-color: var(--disabled-bg-color);\n",
              "    fill: var(--disabled-fill-color);\n",
              "    box-shadow: none;\n",
              "  }\n",
              "\n",
              "  .colab-df-spinner {\n",
              "    border: 2px solid var(--fill-color);\n",
              "    border-color: transparent;\n",
              "    border-bottom-color: var(--fill-color);\n",
              "    animation:\n",
              "      spin 1s steps(1) infinite;\n",
              "  }\n",
              "\n",
              "  @keyframes spin {\n",
              "    0% {\n",
              "      border-color: transparent;\n",
              "      border-bottom-color: var(--fill-color);\n",
              "      border-left-color: var(--fill-color);\n",
              "    }\n",
              "    20% {\n",
              "      border-color: transparent;\n",
              "      border-left-color: var(--fill-color);\n",
              "      border-top-color: var(--fill-color);\n",
              "    }\n",
              "    30% {\n",
              "      border-color: transparent;\n",
              "      border-left-color: var(--fill-color);\n",
              "      border-top-color: var(--fill-color);\n",
              "      border-right-color: var(--fill-color);\n",
              "    }\n",
              "    40% {\n",
              "      border-color: transparent;\n",
              "      border-right-color: var(--fill-color);\n",
              "      border-top-color: var(--fill-color);\n",
              "    }\n",
              "    60% {\n",
              "      border-color: transparent;\n",
              "      border-right-color: var(--fill-color);\n",
              "    }\n",
              "    80% {\n",
              "      border-color: transparent;\n",
              "      border-right-color: var(--fill-color);\n",
              "      border-bottom-color: var(--fill-color);\n",
              "    }\n",
              "    90% {\n",
              "      border-color: transparent;\n",
              "      border-bottom-color: var(--fill-color);\n",
              "    }\n",
              "  }\n",
              "</style>\n",
              "\n",
              "  <script>\n",
              "    async function quickchart(key) {\n",
              "      const quickchartButtonEl =\n",
              "        document.querySelector('#' + key + ' button');\n",
              "      quickchartButtonEl.disabled = true;  // To prevent multiple clicks.\n",
              "      quickchartButtonEl.classList.add('colab-df-spinner');\n",
              "      try {\n",
              "        const charts = await google.colab.kernel.invokeFunction(\n",
              "            'suggestCharts', [key], {});\n",
              "      } catch (error) {\n",
              "        console.error('Error during call to suggestCharts:', error);\n",
              "      }\n",
              "      quickchartButtonEl.classList.remove('colab-df-spinner');\n",
              "      quickchartButtonEl.classList.add('colab-df-quickchart-complete');\n",
              "    }\n",
              "    (() => {\n",
              "      let quickchartButtonEl =\n",
              "        document.querySelector('#df-c1a8b91f-5492-444e-8841-cba6b060117b button');\n",
              "      quickchartButtonEl.style.display =\n",
              "        google.colab.kernel.accessAllowed ? 'block' : 'none';\n",
              "    })();\n",
              "  </script>\n",
              "</div>\n",
              "\n",
              "    </div>\n",
              "  </div>\n"
            ],
            "application/vnd.google.colaboratory.intrinsic+json": {
              "type": "dataframe",
              "variable_name": "df",
              "summary": "{\n  \"name\": \"df\",\n  \"rows\": 2111,\n  \"fields\": [\n    {\n      \"column\": \"Gender\",\n      \"properties\": {\n        \"dtype\": \"category\",\n        \"num_unique_values\": 2,\n        \"samples\": [\n          \"Male\",\n          \"Female\"\n        ],\n        \"semantic_type\": \"\",\n        \"description\": \"\"\n      }\n    },\n    {\n      \"column\": \"Age\",\n      \"properties\": {\n        \"dtype\": \"number\",\n        \"std\": 6.345968273732234,\n        \"min\": 14.0,\n        \"max\": 61.0,\n        \"num_unique_values\": 1402,\n        \"samples\": [\n          25.526746,\n          26.740655\n        ],\n        \"semantic_type\": \"\",\n        \"description\": \"\"\n      }\n    },\n    {\n      \"column\": \"Height\",\n      \"properties\": {\n        \"dtype\": \"number\",\n        \"std\": 0.09330481986792007,\n        \"min\": 1.45,\n        \"max\": 1.98,\n        \"num_unique_values\": 1574,\n        \"samples\": [\n          1.760175,\n          1.688436\n        ],\n        \"semantic_type\": \"\",\n        \"description\": \"\"\n      }\n    },\n    {\n      \"column\": \"Weight\",\n      \"properties\": {\n        \"dtype\": \"number\",\n        \"std\": 26.1911717452047,\n        \"min\": 39.0,\n        \"max\": 173.0,\n        \"num_unique_values\": 1525,\n        \"samples\": [\n          120.702935,\n          64.4\n        ],\n        \"semantic_type\": \"\",\n        \"description\": \"\"\n      }\n    },\n    {\n      \"column\": \"family_history_with_overweight\",\n      \"properties\": {\n        \"dtype\": \"category\",\n        \"num_unique_values\": 2,\n        \"samples\": [\n          \"no\",\n          \"yes\"\n        ],\n        \"semantic_type\": \"\",\n        \"description\": \"\"\n      }\n    },\n    {\n      \"column\": \"FAVC\",\n      \"properties\": {\n        \"dtype\": \"category\",\n        \"num_unique_values\": 2,\n        \"samples\": [\n          \"yes\",\n          \"no\"\n        ],\n        \"semantic_type\": \"\",\n        \"description\": \"\"\n      }\n    },\n    {\n      \"column\": \"FCVC\",\n      \"properties\": {\n        \"dtype\": \"number\",\n        \"std\": 0.5339265785033002,\n        \"min\": 1.0,\n        \"max\": 3.0,\n        \"num_unique_values\": 810,\n        \"samples\": [\n          2.987148,\n          2.939727\n        ],\n        \"semantic_type\": \"\",\n        \"description\": \"\"\n      }\n    },\n    {\n      \"column\": \"NCP\",\n      \"properties\": {\n        \"dtype\": \"number\",\n        \"std\": 0.7780386488418612,\n        \"min\": 1.0,\n        \"max\": 4.0,\n        \"num_unique_values\": 635,\n        \"samples\": [\n          1.468948,\n          2.9948\n        ],\n        \"semantic_type\": \"\",\n        \"description\": \"\"\n      }\n    },\n    {\n      \"column\": \"CAEC\",\n      \"properties\": {\n        \"dtype\": \"category\",\n        \"num_unique_values\": 4,\n        \"samples\": [\n          \"Frequently\",\n          \"no\"\n        ],\n        \"semantic_type\": \"\",\n        \"description\": \"\"\n      }\n    },\n    {\n      \"column\": \"SMOKE\",\n      \"properties\": {\n        \"dtype\": \"category\",\n        \"num_unique_values\": 2,\n        \"samples\": [\n          \"yes\",\n          \"no\"\n        ],\n        \"semantic_type\": \"\",\n        \"description\": \"\"\n      }\n    },\n    {\n      \"column\": \"CH2O\",\n      \"properties\": {\n        \"dtype\": \"number\",\n        \"std\": 0.6129534517968722,\n        \"min\": 1.0,\n        \"max\": 3.0,\n        \"num_unique_values\": 1268,\n        \"samples\": [\n          2.395387,\n          1.983973\n        ],\n        \"semantic_type\": \"\",\n        \"description\": \"\"\n      }\n    },\n    {\n      \"column\": \"SCC\",\n      \"properties\": {\n        \"dtype\": \"category\",\n        \"num_unique_values\": 2,\n        \"samples\": [\n          \"yes\",\n          \"no\"\n        ],\n        \"semantic_type\": \"\",\n        \"description\": \"\"\n      }\n    },\n    {\n      \"column\": \"FAF\",\n      \"properties\": {\n        \"dtype\": \"number\",\n        \"std\": 0.850592430836698,\n        \"min\": 0.0,\n        \"max\": 3.0,\n        \"num_unique_values\": 1190,\n        \"samples\": [\n          1.655488,\n          2.433918\n        ],\n        \"semantic_type\": \"\",\n        \"description\": \"\"\n      }\n    },\n    {\n      \"column\": \"TUE\",\n      \"properties\": {\n        \"dtype\": \"number\",\n        \"std\": 0.6089272596763782,\n        \"min\": 0.0,\n        \"max\": 2.0,\n        \"num_unique_values\": 1129,\n        \"samples\": [\n          1.416353,\n          0.878258\n        ],\n        \"semantic_type\": \"\",\n        \"description\": \"\"\n      }\n    },\n    {\n      \"column\": \"CALC\",\n      \"properties\": {\n        \"dtype\": \"category\",\n        \"num_unique_values\": 4,\n        \"samples\": [\n          \"Sometimes\",\n          \"Always\"\n        ],\n        \"semantic_type\": \"\",\n        \"description\": \"\"\n      }\n    },\n    {\n      \"column\": \"MTRANS\",\n      \"properties\": {\n        \"dtype\": \"category\",\n        \"num_unique_values\": 5,\n        \"samples\": [\n          \"Walking\",\n          \"Bike\"\n        ],\n        \"semantic_type\": \"\",\n        \"description\": \"\"\n      }\n    },\n    {\n      \"column\": \"NObeyesdad\",\n      \"properties\": {\n        \"dtype\": \"category\",\n        \"num_unique_values\": 7,\n        \"samples\": [\n          \"Normal_Weight\",\n          \"Overweight_Level_I\"\n        ],\n        \"semantic_type\": \"\",\n        \"description\": \"\"\n      }\n    }\n  ]\n}"
            }
          },
          "metadata": {},
          "execution_count": 11
        }
      ]
    },
    {
      "cell_type": "code",
      "source": [
        "# it shows the last five records\n",
        "\n",
        "df.tail()"
      ],
      "metadata": {
        "colab": {
          "base_uri": "https://localhost:8080/",
          "height": 226
        },
        "id": "Vi2LtFkYK5rR",
        "outputId": "a3c5b692-fc8d-41b2-8ac2-0a8201a71d80"
      },
      "execution_count": 12,
      "outputs": [
        {
          "output_type": "execute_result",
          "data": {
            "text/plain": [
              "      Gender        Age    Height      Weight family_history_with_overweight  \\\n",
              "2106  Female  20.976842  1.710730  131.408528                            yes   \n",
              "2107  Female  21.982942  1.748584  133.742943                            yes   \n",
              "2108  Female  22.524036  1.752206  133.689352                            yes   \n",
              "2109  Female  24.361936  1.739450  133.346641                            yes   \n",
              "2110  Female  23.664709  1.738836  133.472641                            yes   \n",
              "\n",
              "     FAVC  FCVC  NCP       CAEC SMOKE      CH2O SCC       FAF       TUE  \\\n",
              "2106  yes   3.0  3.0  Sometimes    no  1.728139  no  1.676269  0.906247   \n",
              "2107  yes   3.0  3.0  Sometimes    no  2.005130  no  1.341390  0.599270   \n",
              "2108  yes   3.0  3.0  Sometimes    no  2.054193  no  1.414209  0.646288   \n",
              "2109  yes   3.0  3.0  Sometimes    no  2.852339  no  1.139107  0.586035   \n",
              "2110  yes   3.0  3.0  Sometimes    no  2.863513  no  1.026452  0.714137   \n",
              "\n",
              "           CALC                 MTRANS        NObeyesdad  \n",
              "2106  Sometimes  Public_Transportation  Obesity_Type_III  \n",
              "2107  Sometimes  Public_Transportation  Obesity_Type_III  \n",
              "2108  Sometimes  Public_Transportation  Obesity_Type_III  \n",
              "2109  Sometimes  Public_Transportation  Obesity_Type_III  \n",
              "2110  Sometimes  Public_Transportation  Obesity_Type_III  "
            ],
            "text/html": [
              "\n",
              "  <div id=\"df-716acf82-41c4-4c68-82ea-20bdaac96df7\" class=\"colab-df-container\">\n",
              "    <div>\n",
              "<style scoped>\n",
              "    .dataframe tbody tr th:only-of-type {\n",
              "        vertical-align: middle;\n",
              "    }\n",
              "\n",
              "    .dataframe tbody tr th {\n",
              "        vertical-align: top;\n",
              "    }\n",
              "\n",
              "    .dataframe thead th {\n",
              "        text-align: right;\n",
              "    }\n",
              "</style>\n",
              "<table border=\"1\" class=\"dataframe\">\n",
              "  <thead>\n",
              "    <tr style=\"text-align: right;\">\n",
              "      <th></th>\n",
              "      <th>Gender</th>\n",
              "      <th>Age</th>\n",
              "      <th>Height</th>\n",
              "      <th>Weight</th>\n",
              "      <th>family_history_with_overweight</th>\n",
              "      <th>FAVC</th>\n",
              "      <th>FCVC</th>\n",
              "      <th>NCP</th>\n",
              "      <th>CAEC</th>\n",
              "      <th>SMOKE</th>\n",
              "      <th>CH2O</th>\n",
              "      <th>SCC</th>\n",
              "      <th>FAF</th>\n",
              "      <th>TUE</th>\n",
              "      <th>CALC</th>\n",
              "      <th>MTRANS</th>\n",
              "      <th>NObeyesdad</th>\n",
              "    </tr>\n",
              "  </thead>\n",
              "  <tbody>\n",
              "    <tr>\n",
              "      <th>2106</th>\n",
              "      <td>Female</td>\n",
              "      <td>20.976842</td>\n",
              "      <td>1.710730</td>\n",
              "      <td>131.408528</td>\n",
              "      <td>yes</td>\n",
              "      <td>yes</td>\n",
              "      <td>3.0</td>\n",
              "      <td>3.0</td>\n",
              "      <td>Sometimes</td>\n",
              "      <td>no</td>\n",
              "      <td>1.728139</td>\n",
              "      <td>no</td>\n",
              "      <td>1.676269</td>\n",
              "      <td>0.906247</td>\n",
              "      <td>Sometimes</td>\n",
              "      <td>Public_Transportation</td>\n",
              "      <td>Obesity_Type_III</td>\n",
              "    </tr>\n",
              "    <tr>\n",
              "      <th>2107</th>\n",
              "      <td>Female</td>\n",
              "      <td>21.982942</td>\n",
              "      <td>1.748584</td>\n",
              "      <td>133.742943</td>\n",
              "      <td>yes</td>\n",
              "      <td>yes</td>\n",
              "      <td>3.0</td>\n",
              "      <td>3.0</td>\n",
              "      <td>Sometimes</td>\n",
              "      <td>no</td>\n",
              "      <td>2.005130</td>\n",
              "      <td>no</td>\n",
              "      <td>1.341390</td>\n",
              "      <td>0.599270</td>\n",
              "      <td>Sometimes</td>\n",
              "      <td>Public_Transportation</td>\n",
              "      <td>Obesity_Type_III</td>\n",
              "    </tr>\n",
              "    <tr>\n",
              "      <th>2108</th>\n",
              "      <td>Female</td>\n",
              "      <td>22.524036</td>\n",
              "      <td>1.752206</td>\n",
              "      <td>133.689352</td>\n",
              "      <td>yes</td>\n",
              "      <td>yes</td>\n",
              "      <td>3.0</td>\n",
              "      <td>3.0</td>\n",
              "      <td>Sometimes</td>\n",
              "      <td>no</td>\n",
              "      <td>2.054193</td>\n",
              "      <td>no</td>\n",
              "      <td>1.414209</td>\n",
              "      <td>0.646288</td>\n",
              "      <td>Sometimes</td>\n",
              "      <td>Public_Transportation</td>\n",
              "      <td>Obesity_Type_III</td>\n",
              "    </tr>\n",
              "    <tr>\n",
              "      <th>2109</th>\n",
              "      <td>Female</td>\n",
              "      <td>24.361936</td>\n",
              "      <td>1.739450</td>\n",
              "      <td>133.346641</td>\n",
              "      <td>yes</td>\n",
              "      <td>yes</td>\n",
              "      <td>3.0</td>\n",
              "      <td>3.0</td>\n",
              "      <td>Sometimes</td>\n",
              "      <td>no</td>\n",
              "      <td>2.852339</td>\n",
              "      <td>no</td>\n",
              "      <td>1.139107</td>\n",
              "      <td>0.586035</td>\n",
              "      <td>Sometimes</td>\n",
              "      <td>Public_Transportation</td>\n",
              "      <td>Obesity_Type_III</td>\n",
              "    </tr>\n",
              "    <tr>\n",
              "      <th>2110</th>\n",
              "      <td>Female</td>\n",
              "      <td>23.664709</td>\n",
              "      <td>1.738836</td>\n",
              "      <td>133.472641</td>\n",
              "      <td>yes</td>\n",
              "      <td>yes</td>\n",
              "      <td>3.0</td>\n",
              "      <td>3.0</td>\n",
              "      <td>Sometimes</td>\n",
              "      <td>no</td>\n",
              "      <td>2.863513</td>\n",
              "      <td>no</td>\n",
              "      <td>1.026452</td>\n",
              "      <td>0.714137</td>\n",
              "      <td>Sometimes</td>\n",
              "      <td>Public_Transportation</td>\n",
              "      <td>Obesity_Type_III</td>\n",
              "    </tr>\n",
              "  </tbody>\n",
              "</table>\n",
              "</div>\n",
              "    <div class=\"colab-df-buttons\">\n",
              "\n",
              "  <div class=\"colab-df-container\">\n",
              "    <button class=\"colab-df-convert\" onclick=\"convertToInteractive('df-716acf82-41c4-4c68-82ea-20bdaac96df7')\"\n",
              "            title=\"Convert this dataframe to an interactive table.\"\n",
              "            style=\"display:none;\">\n",
              "\n",
              "  <svg xmlns=\"http://www.w3.org/2000/svg\" height=\"24px\" viewBox=\"0 -960 960 960\">\n",
              "    <path d=\"M120-120v-720h720v720H120Zm60-500h600v-160H180v160Zm220 220h160v-160H400v160Zm0 220h160v-160H400v160ZM180-400h160v-160H180v160Zm440 0h160v-160H620v160ZM180-180h160v-160H180v160Zm440 0h160v-160H620v160Z\"/>\n",
              "  </svg>\n",
              "    </button>\n",
              "\n",
              "  <style>\n",
              "    .colab-df-container {\n",
              "      display:flex;\n",
              "      gap: 12px;\n",
              "    }\n",
              "\n",
              "    .colab-df-convert {\n",
              "      background-color: #E8F0FE;\n",
              "      border: none;\n",
              "      border-radius: 50%;\n",
              "      cursor: pointer;\n",
              "      display: none;\n",
              "      fill: #1967D2;\n",
              "      height: 32px;\n",
              "      padding: 0 0 0 0;\n",
              "      width: 32px;\n",
              "    }\n",
              "\n",
              "    .colab-df-convert:hover {\n",
              "      background-color: #E2EBFA;\n",
              "      box-shadow: 0px 1px 2px rgba(60, 64, 67, 0.3), 0px 1px 3px 1px rgba(60, 64, 67, 0.15);\n",
              "      fill: #174EA6;\n",
              "    }\n",
              "\n",
              "    .colab-df-buttons div {\n",
              "      margin-bottom: 4px;\n",
              "    }\n",
              "\n",
              "    [theme=dark] .colab-df-convert {\n",
              "      background-color: #3B4455;\n",
              "      fill: #D2E3FC;\n",
              "    }\n",
              "\n",
              "    [theme=dark] .colab-df-convert:hover {\n",
              "      background-color: #434B5C;\n",
              "      box-shadow: 0px 1px 3px 1px rgba(0, 0, 0, 0.15);\n",
              "      filter: drop-shadow(0px 1px 2px rgba(0, 0, 0, 0.3));\n",
              "      fill: #FFFFFF;\n",
              "    }\n",
              "  </style>\n",
              "\n",
              "    <script>\n",
              "      const buttonEl =\n",
              "        document.querySelector('#df-716acf82-41c4-4c68-82ea-20bdaac96df7 button.colab-df-convert');\n",
              "      buttonEl.style.display =\n",
              "        google.colab.kernel.accessAllowed ? 'block' : 'none';\n",
              "\n",
              "      async function convertToInteractive(key) {\n",
              "        const element = document.querySelector('#df-716acf82-41c4-4c68-82ea-20bdaac96df7');\n",
              "        const dataTable =\n",
              "          await google.colab.kernel.invokeFunction('convertToInteractive',\n",
              "                                                    [key], {});\n",
              "        if (!dataTable) return;\n",
              "\n",
              "        const docLinkHtml = 'Like what you see? Visit the ' +\n",
              "          '<a target=\"_blank\" href=https://colab.research.google.com/notebooks/data_table.ipynb>data table notebook</a>'\n",
              "          + ' to learn more about interactive tables.';\n",
              "        element.innerHTML = '';\n",
              "        dataTable['output_type'] = 'display_data';\n",
              "        await google.colab.output.renderOutput(dataTable, element);\n",
              "        const docLink = document.createElement('div');\n",
              "        docLink.innerHTML = docLinkHtml;\n",
              "        element.appendChild(docLink);\n",
              "      }\n",
              "    </script>\n",
              "  </div>\n",
              "\n",
              "\n",
              "<div id=\"df-7ecfe248-954c-4a5c-bbb7-4b5b7744e2f0\">\n",
              "  <button class=\"colab-df-quickchart\" onclick=\"quickchart('df-7ecfe248-954c-4a5c-bbb7-4b5b7744e2f0')\"\n",
              "            title=\"Suggest charts\"\n",
              "            style=\"display:none;\">\n",
              "\n",
              "<svg xmlns=\"http://www.w3.org/2000/svg\" height=\"24px\"viewBox=\"0 0 24 24\"\n",
              "     width=\"24px\">\n",
              "    <g>\n",
              "        <path d=\"M19 3H5c-1.1 0-2 .9-2 2v14c0 1.1.9 2 2 2h14c1.1 0 2-.9 2-2V5c0-1.1-.9-2-2-2zM9 17H7v-7h2v7zm4 0h-2V7h2v10zm4 0h-2v-4h2v4z\"/>\n",
              "    </g>\n",
              "</svg>\n",
              "  </button>\n",
              "\n",
              "<style>\n",
              "  .colab-df-quickchart {\n",
              "      --bg-color: #E8F0FE;\n",
              "      --fill-color: #1967D2;\n",
              "      --hover-bg-color: #E2EBFA;\n",
              "      --hover-fill-color: #174EA6;\n",
              "      --disabled-fill-color: #AAA;\n",
              "      --disabled-bg-color: #DDD;\n",
              "  }\n",
              "\n",
              "  [theme=dark] .colab-df-quickchart {\n",
              "      --bg-color: #3B4455;\n",
              "      --fill-color: #D2E3FC;\n",
              "      --hover-bg-color: #434B5C;\n",
              "      --hover-fill-color: #FFFFFF;\n",
              "      --disabled-bg-color: #3B4455;\n",
              "      --disabled-fill-color: #666;\n",
              "  }\n",
              "\n",
              "  .colab-df-quickchart {\n",
              "    background-color: var(--bg-color);\n",
              "    border: none;\n",
              "    border-radius: 50%;\n",
              "    cursor: pointer;\n",
              "    display: none;\n",
              "    fill: var(--fill-color);\n",
              "    height: 32px;\n",
              "    padding: 0;\n",
              "    width: 32px;\n",
              "  }\n",
              "\n",
              "  .colab-df-quickchart:hover {\n",
              "    background-color: var(--hover-bg-color);\n",
              "    box-shadow: 0 1px 2px rgba(60, 64, 67, 0.3), 0 1px 3px 1px rgba(60, 64, 67, 0.15);\n",
              "    fill: var(--button-hover-fill-color);\n",
              "  }\n",
              "\n",
              "  .colab-df-quickchart-complete:disabled,\n",
              "  .colab-df-quickchart-complete:disabled:hover {\n",
              "    background-color: var(--disabled-bg-color);\n",
              "    fill: var(--disabled-fill-color);\n",
              "    box-shadow: none;\n",
              "  }\n",
              "\n",
              "  .colab-df-spinner {\n",
              "    border: 2px solid var(--fill-color);\n",
              "    border-color: transparent;\n",
              "    border-bottom-color: var(--fill-color);\n",
              "    animation:\n",
              "      spin 1s steps(1) infinite;\n",
              "  }\n",
              "\n",
              "  @keyframes spin {\n",
              "    0% {\n",
              "      border-color: transparent;\n",
              "      border-bottom-color: var(--fill-color);\n",
              "      border-left-color: var(--fill-color);\n",
              "    }\n",
              "    20% {\n",
              "      border-color: transparent;\n",
              "      border-left-color: var(--fill-color);\n",
              "      border-top-color: var(--fill-color);\n",
              "    }\n",
              "    30% {\n",
              "      border-color: transparent;\n",
              "      border-left-color: var(--fill-color);\n",
              "      border-top-color: var(--fill-color);\n",
              "      border-right-color: var(--fill-color);\n",
              "    }\n",
              "    40% {\n",
              "      border-color: transparent;\n",
              "      border-right-color: var(--fill-color);\n",
              "      border-top-color: var(--fill-color);\n",
              "    }\n",
              "    60% {\n",
              "      border-color: transparent;\n",
              "      border-right-color: var(--fill-color);\n",
              "    }\n",
              "    80% {\n",
              "      border-color: transparent;\n",
              "      border-right-color: var(--fill-color);\n",
              "      border-bottom-color: var(--fill-color);\n",
              "    }\n",
              "    90% {\n",
              "      border-color: transparent;\n",
              "      border-bottom-color: var(--fill-color);\n",
              "    }\n",
              "  }\n",
              "</style>\n",
              "\n",
              "  <script>\n",
              "    async function quickchart(key) {\n",
              "      const quickchartButtonEl =\n",
              "        document.querySelector('#' + key + ' button');\n",
              "      quickchartButtonEl.disabled = true;  // To prevent multiple clicks.\n",
              "      quickchartButtonEl.classList.add('colab-df-spinner');\n",
              "      try {\n",
              "        const charts = await google.colab.kernel.invokeFunction(\n",
              "            'suggestCharts', [key], {});\n",
              "      } catch (error) {\n",
              "        console.error('Error during call to suggestCharts:', error);\n",
              "      }\n",
              "      quickchartButtonEl.classList.remove('colab-df-spinner');\n",
              "      quickchartButtonEl.classList.add('colab-df-quickchart-complete');\n",
              "    }\n",
              "    (() => {\n",
              "      let quickchartButtonEl =\n",
              "        document.querySelector('#df-7ecfe248-954c-4a5c-bbb7-4b5b7744e2f0 button');\n",
              "      quickchartButtonEl.style.display =\n",
              "        google.colab.kernel.accessAllowed ? 'block' : 'none';\n",
              "    })();\n",
              "  </script>\n",
              "</div>\n",
              "\n",
              "    </div>\n",
              "  </div>\n"
            ],
            "application/vnd.google.colaboratory.intrinsic+json": {
              "type": "dataframe",
              "summary": "{\n  \"name\": \"df\",\n  \"rows\": 5,\n  \"fields\": [\n    {\n      \"column\": \"Gender\",\n      \"properties\": {\n        \"dtype\": \"category\",\n        \"num_unique_values\": 1,\n        \"samples\": [\n          \"Female\"\n        ],\n        \"semantic_type\": \"\",\n        \"description\": \"\"\n      }\n    },\n    {\n      \"column\": \"Age\",\n      \"properties\": {\n        \"dtype\": \"number\",\n        \"std\": 1.3423004336917268,\n        \"min\": 20.976842,\n        \"max\": 24.361936,\n        \"num_unique_values\": 5,\n        \"samples\": [\n          21.982942\n        ],\n        \"semantic_type\": \"\",\n        \"description\": \"\"\n      }\n    },\n    {\n      \"column\": \"Height\",\n      \"properties\": {\n        \"dtype\": \"number\",\n        \"std\": 0.016280957134026178,\n        \"min\": 1.71073,\n        \"max\": 1.752206,\n        \"num_unique_values\": 5,\n        \"samples\": [\n          1.748584\n        ],\n        \"semantic_type\": \"\",\n        \"description\": \"\"\n      }\n    },\n    {\n      \"column\": \"Weight\",\n      \"properties\": {\n        \"dtype\": \"number\",\n        \"std\": 0.9767747160289899,\n        \"min\": 131.408528,\n        \"max\": 133.742943,\n        \"num_unique_values\": 5,\n        \"samples\": [\n          133.742943\n        ],\n        \"semantic_type\": \"\",\n        \"description\": \"\"\n      }\n    },\n    {\n      \"column\": \"family_history_with_overweight\",\n      \"properties\": {\n        \"dtype\": \"category\",\n        \"num_unique_values\": 1,\n        \"samples\": [\n          \"yes\"\n        ],\n        \"semantic_type\": \"\",\n        \"description\": \"\"\n      }\n    },\n    {\n      \"column\": \"FAVC\",\n      \"properties\": {\n        \"dtype\": \"category\",\n        \"num_unique_values\": 1,\n        \"samples\": [\n          \"yes\"\n        ],\n        \"semantic_type\": \"\",\n        \"description\": \"\"\n      }\n    },\n    {\n      \"column\": \"FCVC\",\n      \"properties\": {\n        \"dtype\": \"number\",\n        \"std\": 0.0,\n        \"min\": 3.0,\n        \"max\": 3.0,\n        \"num_unique_values\": 1,\n        \"samples\": [\n          3.0\n        ],\n        \"semantic_type\": \"\",\n        \"description\": \"\"\n      }\n    },\n    {\n      \"column\": \"NCP\",\n      \"properties\": {\n        \"dtype\": \"number\",\n        \"std\": 0.0,\n        \"min\": 3.0,\n        \"max\": 3.0,\n        \"num_unique_values\": 1,\n        \"samples\": [\n          3.0\n        ],\n        \"semantic_type\": \"\",\n        \"description\": \"\"\n      }\n    },\n    {\n      \"column\": \"CAEC\",\n      \"properties\": {\n        \"dtype\": \"category\",\n        \"num_unique_values\": 1,\n        \"samples\": [\n          \"Sometimes\"\n        ],\n        \"semantic_type\": \"\",\n        \"description\": \"\"\n      }\n    },\n    {\n      \"column\": \"SMOKE\",\n      \"properties\": {\n        \"dtype\": \"category\",\n        \"num_unique_values\": 1,\n        \"samples\": [\n          \"no\"\n        ],\n        \"semantic_type\": \"\",\n        \"description\": \"\"\n      }\n    },\n    {\n      \"column\": \"CH2O\",\n      \"properties\": {\n        \"dtype\": \"number\",\n        \"std\": 0.5236930105130295,\n        \"min\": 1.728139,\n        \"max\": 2.863513,\n        \"num_unique_values\": 5,\n        \"samples\": [\n          2.00513\n        ],\n        \"semantic_type\": \"\",\n        \"description\": \"\"\n      }\n    },\n    {\n      \"column\": \"SCC\",\n      \"properties\": {\n        \"dtype\": \"category\",\n        \"num_unique_values\": 1,\n        \"samples\": [\n          \"no\"\n        ],\n        \"semantic_type\": \"\",\n        \"description\": \"\"\n      }\n    },\n    {\n      \"column\": \"FAF\",\n      \"properties\": {\n        \"dtype\": \"number\",\n        \"std\": 0.2525627891382656,\n        \"min\": 1.026452,\n        \"max\": 1.676269,\n        \"num_unique_values\": 5,\n        \"samples\": [\n          1.34139\n        ],\n        \"semantic_type\": \"\",\n        \"description\": \"\"\n      }\n    },\n    {\n      \"column\": \"TUE\",\n      \"properties\": {\n        \"dtype\": \"number\",\n        \"std\": 0.13066748939694223,\n        \"min\": 0.586035,\n        \"max\": 0.906247,\n        \"num_unique_values\": 5,\n        \"samples\": [\n          0.59927\n        ],\n        \"semantic_type\": \"\",\n        \"description\": \"\"\n      }\n    },\n    {\n      \"column\": \"CALC\",\n      \"properties\": {\n        \"dtype\": \"category\",\n        \"num_unique_values\": 1,\n        \"samples\": [\n          \"Sometimes\"\n        ],\n        \"semantic_type\": \"\",\n        \"description\": \"\"\n      }\n    },\n    {\n      \"column\": \"MTRANS\",\n      \"properties\": {\n        \"dtype\": \"category\",\n        \"num_unique_values\": 1,\n        \"samples\": [\n          \"Public_Transportation\"\n        ],\n        \"semantic_type\": \"\",\n        \"description\": \"\"\n      }\n    },\n    {\n      \"column\": \"NObeyesdad\",\n      \"properties\": {\n        \"dtype\": \"category\",\n        \"num_unique_values\": 1,\n        \"samples\": [\n          \"Obesity_Type_III\"\n        ],\n        \"semantic_type\": \"\",\n        \"description\": \"\"\n      }\n    }\n  ]\n}"
            }
          },
          "metadata": {},
          "execution_count": 12
        }
      ]
    },
    {
      "cell_type": "code",
      "source": [
        "# Checking outliers\n",
        "\n",
        "sns.boxplot(df[\"Age\"])"
      ],
      "metadata": {
        "colab": {
          "base_uri": "https://localhost:8080/",
          "height": 429
        },
        "id": "ilvUGLQ7K8Ey",
        "outputId": "20158f64-a272-452b-c984-01cef18bd2f2"
      },
      "execution_count": 13,
      "outputs": [
        {
          "output_type": "execute_result",
          "data": {
            "text/plain": [
              "<Axes: ylabel='Age'>"
            ]
          },
          "metadata": {},
          "execution_count": 13
        },
        {
          "output_type": "display_data",
          "data": {
            "text/plain": [
              "<Figure size 640x480 with 1 Axes>"
            ],
            "image/png": "[encoded data removed]"
          },
          "metadata": {}
        }
      ]
    },
    {
      "cell_type": "code",
      "source": [],
      "metadata": {
        "id": "qC1OjUIQ6jjE"
      },
      "execution_count": 13,
      "outputs": []
    },
    {
      "cell_type": "code",
      "source": [
        "df[\"Age\"].skew()\n",
        "sns.displot(df[\"Age\"],kind='kde')"
      ],
      "metadata": {
        "colab": {
          "base_uri": "https://localhost:8080/",
          "height": 524
        },
        "id": "u1_vDbLJ6D66",
        "outputId": "18c76d07-d146-4b16-be8a-322a8a211b42"
      },
      "execution_count": 14,
      "outputs": [
        {
          "output_type": "execute_result",
          "data": {
            "text/plain": [
              "<seaborn.axisgrid.FacetGrid at 0x7d60d367f250>"
            ]
          },
          "metadata": {},
          "execution_count": 14
        },
        {
          "output_type": "display_data",
          "data": {
            "text/plain": [
              "<Figure size 500x500 with 1 Axes>"
            ],
            "image/png": "[encoded data removed]"
          },
          "metadata": {}
        }
      ]
    },
    {
      "cell_type": "markdown",
      "source": [
        "**Removing Outliers**"
      ],
      "metadata": {
        "id": "ZigQ4BRVQ_Ry"
      }
    },
    {
      "cell_type": "code",
      "source": [
        "Q1=np.percentile(df['Age'],25)"
      ],
      "metadata": {
        "id": "Bxtyr5HhLF2J"
      },
      "execution_count": 15,
      "outputs": []
    },
    {
      "cell_type": "code",
      "source": [
        "Q3=np.percentile(df['Age'],75)"
      ],
      "metadata": {
        "id": "y6YYwvqFLVNp"
      },
      "execution_count": 16,
      "outputs": []
    },
    {
      "cell_type": "code",
      "source": [
        "IQR=Q3-Q1"
      ],
      "metadata": {
        "id": "MpdwZ5krLesX"
      },
      "execution_count": 17,
      "outputs": []
    },
    {
      "cell_type": "code",
      "source": [
        "Min1=Q1-1.5*IQR\n",
        "Max1=Q3+1.5*IQR"
      ],
      "metadata": {
        "id": "wwqS3HXDLha-"
      },
      "execution_count": 18,
      "outputs": []
    },
    {
      "cell_type": "code",
      "source": [
        "df=df[(df['Age']>Min1) & (df['Age']<Max1)]"
      ],
      "metadata": {
        "id": "1Nyu2_-WLrV2"
      },
      "execution_count": 19,
      "outputs": []
    },
    {
      "cell_type": "code",
      "source": [
        "sns.boxplot(df[\"Age\"])"
      ],
      "metadata": {
        "colab": {
          "base_uri": "https://localhost:8080/",
          "height": 429
        },
        "id": "qGMHOes6MG9L",
        "outputId": "630dae98-982d-47ae-b833-6709b2485f8a"
      },
      "execution_count": 20,
      "outputs": [
        {
          "output_type": "execute_result",
          "data": {
            "text/plain": [
              "<Axes: ylabel='Age'>"
            ]
          },
          "metadata": {},
          "execution_count": 20
        },
        {
          "output_type": "display_data",
          "data": {
            "text/plain": [
              "<Figure size 640x480 with 1 Axes>"
            ],
            "image/png": "[encoded data removed]"
          },
          "metadata": {}
        }
      ]
    },
    {
      "cell_type": "code",
      "source": [
        "sns.boxplot(df[\"Height\"])"
      ],
      "metadata": {
        "colab": {
          "base_uri": "https://localhost:8080/",
          "height": 430
        },
        "id": "-yOOGCs9MSC4",
        "outputId": "ce383d37-92eb-4a47-b18a-d6ca931c161b"
      },
      "execution_count": 21,
      "outputs": [
        {
          "output_type": "execute_result",
          "data": {
            "text/plain": [
              "<Axes: ylabel='Height'>"
            ]
          },
          "metadata": {},
          "execution_count": 21
        },
        {
          "output_type": "display_data",
          "data": {
            "text/plain": [
              "<Figure size 640x480 with 1 Axes>"
            ],
            "image/png": "[encoded data removed]"
          },
          "metadata": {}
        }
      ]
    },
    {
      "cell_type": "code",
      "source": [
        "Q1=np.percentile(df['Height'],25)"
      ],
      "metadata": {
        "id": "CT9iwKBoMcoP"
      },
      "execution_count": 22,
      "outputs": []
    },
    {
      "cell_type": "code",
      "source": [
        "Q3=np.percentile(df['Height'],75)"
      ],
      "metadata": {
        "id": "4dR0gXUjMjY-"
      },
      "execution_count": 23,
      "outputs": []
    },
    {
      "cell_type": "code",
      "source": [
        "IQR=Q3-Q1"
      ],
      "metadata": {
        "id": "IdtoGcyfMnMT"
      },
      "execution_count": 24,
      "outputs": []
    },
    {
      "cell_type": "code",
      "source": [
        "Min1=Q1-1.5*IQR\n",
        "Max1=Q3+1.5*IQR"
      ],
      "metadata": {
        "id": "v7V2UxuzMp4F"
      },
      "execution_count": 25,
      "outputs": []
    },
    {
      "cell_type": "code",
      "source": [
        "df=df[(df['Height']>Min1) & (df['Height']<Max1)]"
      ],
      "metadata": {
        "id": "3vNfxO0UMse2"
      },
      "execution_count": 26,
      "outputs": []
    },
    {
      "cell_type": "code",
      "source": [
        "sns.boxplot(df[\"Height\"])"
      ],
      "metadata": {
        "colab": {
          "base_uri": "https://localhost:8080/",
          "height": 433
        },
        "id": "9UwXD01rM7j1",
        "outputId": "fed7fc4a-72e5-494b-906f-057dc580f89d"
      },
      "execution_count": 27,
      "outputs": [
        {
          "output_type": "execute_result",
          "data": {
            "text/plain": [
              "<Axes: ylabel='Height'>"
            ]
          },
          "metadata": {},
          "execution_count": 27
        },
        {
          "output_type": "display_data",
          "data": {
            "text/plain": [
              "<Figure size 640x480 with 1 Axes>"
            ],
            "image/png": "[encoded data removed]"
          },
          "metadata": {}
        }
      ]
    },
    {
      "cell_type": "code",
      "source": [
        "sns.boxplot(df[\"Weight\"])"
      ],
      "metadata": {
        "colab": {
          "base_uri": "https://localhost:8080/",
          "height": 429
        },
        "id": "PTMiGNfLM_O0",
        "outputId": "bbe2b379-0abf-48b8-c207-d3544d5444c1"
      },
      "execution_count": 28,
      "outputs": [
        {
          "output_type": "execute_result",
          "data": {
            "text/plain": [
              "<Axes: ylabel='Weight'>"
            ]
          },
          "metadata": {},
          "execution_count": 28
        },
        {
          "output_type": "display_data",
          "data": {
            "text/plain": [
              "<Figure size 640x480 with 1 Axes>"
            ],
            "image/png": "[encoded data removed]"
          },
          "metadata": {}
        }
      ]
    },
    {
      "cell_type": "code",
      "source": [
        "sns.boxplot(df[\"FCVC\"])"
      ],
      "metadata": {
        "colab": {
          "base_uri": "https://localhost:8080/",
          "height": 429
        },
        "id": "TV6odXgFNLp8",
        "outputId": "eed0f192-836d-4ad4-a2f2-85e45d39e434"
      },
      "execution_count": 29,
      "outputs": [
        {
          "output_type": "execute_result",
          "data": {
            "text/plain": [
              "<Axes: ylabel='FCVC'>"
            ]
          },
          "metadata": {},
          "execution_count": 29
        },
        {
          "output_type": "display_data",
          "data": {
            "text/plain": [
              "<Figure size 640x480 with 1 Axes>"
            ],
            "image/png": "[encoded data removed]"
          },
          "metadata": {}
        }
      ]
    },
    {
      "cell_type": "code",
      "source": [
        "sns.boxplot(df[\"NCP\"])"
      ],
      "metadata": {
        "colab": {
          "base_uri": "https://localhost:8080/",
          "height": 429
        },
        "id": "WjH8i45LNW6a",
        "outputId": "53a5dccc-629a-4129-8c60-01cfe95a8b6d"
      },
      "execution_count": 30,
      "outputs": [
        {
          "output_type": "execute_result",
          "data": {
            "text/plain": [
              "<Axes: ylabel='NCP'>"
            ]
          },
          "metadata": {},
          "execution_count": 30
        },
        {
          "output_type": "display_data",
          "data": {
            "text/plain": [
              "<Figure size 640x480 with 1 Axes>"
            ],
            "image/png": "[encoded data removed]"
          },
          "metadata": {}
        }
      ]
    },
    {
      "cell_type": "code",
      "source": [
        "\n",
        "sns.boxplot(df[\"CH2O\"])"
      ],
      "metadata": {
        "colab": {
          "base_uri": "https://localhost:8080/",
          "height": 429
        },
        "id": "S2hsJfjzPLm1",
        "outputId": "4e597e94-dd9f-4ecd-cbc6-4f9644793d31"
      },
      "execution_count": 31,
      "outputs": [
        {
          "output_type": "execute_result",
          "data": {
            "text/plain": [
              "<Axes: ylabel='CH2O'>"
            ]
          },
          "metadata": {},
          "execution_count": 31
        },
        {
          "output_type": "display_data",
          "data": {
            "text/plain": [
              "<Figure size 640x480 with 1 Axes>"
            ],
            "image/png": "[encoded data removed]"
          },
          "metadata": {}
        }
      ]
    },
    {
      "cell_type": "code",
      "source": [
        "sns.boxplot(df[\"FAF\"])"
      ],
      "metadata": {
        "colab": {
          "base_uri": "https://localhost:8080/",
          "height": 429
        },
        "id": "zk8--XPIPQtd",
        "outputId": "fbc149b7-4637-4a0d-e1b7-d14f1c12d2ca"
      },
      "execution_count": 32,
      "outputs": [
        {
          "output_type": "execute_result",
          "data": {
            "text/plain": [
              "<Axes: ylabel='FAF'>"
            ]
          },
          "metadata": {},
          "execution_count": 32
        },
        {
          "output_type": "display_data",
          "data": {
            "text/plain": [
              "<Figure size 640x480 with 1 Axes>"
            ],
            "image/png": "[encoded data removed]"
          },
          "metadata": {}
        }
      ]
    },
    {
      "cell_type": "code",
      "source": [
        "sns.boxplot(df[\"TUE\"])"
      ],
      "metadata": {
        "colab": {
          "base_uri": "https://localhost:8080/",
          "height": 429
        },
        "id": "ohbj7O4mPf2D",
        "outputId": "78210970-8ffc-4333-9d13-17622a3af4be"
      },
      "execution_count": 33,
      "outputs": [
        {
          "output_type": "execute_result",
          "data": {
            "text/plain": [
              "<Axes: ylabel='TUE'>"
            ]
          },
          "metadata": {},
          "execution_count": 33
        },
        {
          "output_type": "display_data",
          "data": {
            "text/plain": [
              "<Figure size 640x480 with 1 Axes>"
            ],
            "image/png": "[encoded data removed]"
          },
          "metadata": {}
        }
      ]
    },
    {
      "cell_type": "code",
      "source": [
        "# obeyeisty type 3 is the highest weight problem as compared to other weight problems\n",
        "df['NObeyesdad'].value_counts().plot(kind='bar',color=\"purple\")"
      ],
      "metadata": {
        "colab": {
          "base_uri": "https://localhost:8080/",
          "height": 592
        },
        "id": "znI20R5-OddZ",
        "outputId": "4f9267f6-8efb-4b66-b93d-d261091a5138"
      },
      "execution_count": 34,
      "outputs": [
        {
          "output_type": "execute_result",
          "data": {
            "text/plain": [
              "<Axes: xlabel='NObeyesdad'>"
            ]
          },
          "metadata": {},
          "execution_count": 34
        },
        {
          "output_type": "display_data",
          "data": {
            "text/plain": [
              "<Figure size 640x480 with 1 Axes>"
            ],
            "image/png": "[encoded data removed]"
          },
          "metadata": {}
        }
      ]
    },
    {
      "cell_type": "code",
      "source": [
        "# highest count of gender category.\n",
        "\n",
        "df['Gender'].value_counts().plot(kind='bar',color=\"lightgreen\")"
      ],
      "metadata": {
        "colab": {
          "base_uri": "https://localhost:8080/",
          "height": 504
        },
        "id": "hNtDuxUXP_rM",
        "outputId": "4852740c-5b5e-4d2f-8581-de8988b525ad"
      },
      "execution_count": 35,
      "outputs": [
        {
          "output_type": "execute_result",
          "data": {
            "text/plain": [
              "<Axes: xlabel='Gender'>"
            ]
          },
          "metadata": {},
          "execution_count": 35
        },
        {
          "output_type": "display_data",
          "data": {
            "text/plain": [
              "<Figure size 640x480 with 1 Axes>"
            ],
            "image/png": "[encoded data removed]"
          },
          "metadata": {}
        }
      ]
    },
    {
      "cell_type": "code",
      "source": [
        "# age between 15 to 20 large obesity problems.\n",
        "\n",
        "data = df[\"Age\"]\n",
        "\n",
        "plt.hist(data, bins=10, color='Indigo', edgecolor='yellow')\n",
        "plt.xlabel('Age Distribution')\n",
        "plt.ylabel('Frequency')\n",
        "plt.title('Histogram of Data')\n",
        "plt.show()\n"
      ],
      "metadata": {
        "colab": {
          "base_uri": "https://localhost:8080/",
          "height": 472
        },
        "id": "EXXD4P37SHBC",
        "outputId": "af407f3e-f3bb-4875-f25d-31994ec3a31f"
      },
      "execution_count": 36,
      "outputs": [
        {
          "output_type": "display_data",
          "data": {
            "text/plain": [
              "<Figure size 640x480 with 1 Axes>"
            ],
            "image/png": "[encoded data removed]"
          },
          "metadata": {}
        }
      ]
    },
    {
      "cell_type": "code",
      "source": [
        "# high-calorie food frequently\n",
        "\n",
        "df['FAVC'].value_counts().plot(kind='bar',color=\"lightcoral\")"
      ],
      "metadata": {
        "colab": {
          "base_uri": "https://localhost:8080/",
          "height": 477
        },
        "id": "3qtDYU2lpyVg",
        "outputId": "c6044d94-44ea-492f-dcbd-cd78788b1b81"
      },
      "execution_count": 37,
      "outputs": [
        {
          "output_type": "execute_result",
          "data": {
            "text/plain": [
              "<Axes: xlabel='FAVC'>"
            ]
          },
          "metadata": {},
          "execution_count": 37
        },
        {
          "output_type": "display_data",
          "data": {
            "text/plain": [
              "<Figure size 640x480 with 1 Axes>"
            ],
            "image/png": "[encoded data removed]"
          },
          "metadata": {}
        }
      ]
    },
    {
      "cell_type": "code",
      "source": [
        "# 98% people are not smoking and remaining 2% people are smoke.\n",
        "# The autopct parameter formats the percentages.\n",
        "\n",
        "plt.pie(df['SMOKE'].value_counts(), labels=df['SMOKE'].value_counts().index[0:], autopct='%.0f%%')\n",
        "plt.show()"
      ],
      "metadata": {
        "colab": {
          "base_uri": "https://localhost:8080/",
          "height": 406
        },
        "id": "xCq2SRVfrV7i",
        "outputId": "8013852e-4c12-47e2-cf87-b40a7cd1a411"
      },
      "execution_count": 38,
      "outputs": [
        {
          "output_type": "display_data",
          "data": {
            "text/plain": [
              "<Figure size 640x480 with 1 Axes>"
            ],
            "image/png": "[encoded data removed]"
          },
          "metadata": {}
        }
      ]
    },
    {
      "cell_type": "code",
      "source": [
        "#  high water consumption between 2.00 to 2.25\n",
        "\n",
        "data = df[\"CH2O\"]\n",
        "\n",
        "plt.hist(data, bins=10, color='olive', edgecolor='yellow')\n",
        "plt.xlabel('Daily Water Consumption')\n",
        "plt.ylabel('Frequency')\n",
        "plt.title('Distribution of Daily Water Consumption')\n",
        "plt.show()\n"
      ],
      "metadata": {
        "colab": {
          "base_uri": "https://localhost:8080/",
          "height": 472
        },
        "id": "8kRRuXastKnM",
        "outputId": "e6ff6784-38ca-4b31-8795-9a4eb3b0a5bb"
      },
      "execution_count": 39,
      "outputs": [
        {
          "output_type": "display_data",
          "data": {
            "text/plain": [
              "<Figure size 640x480 with 1 Axes>"
            ],
            "image/png": "[encoded data removed]"
          },
          "metadata": {}
        }
      ]
    },
    {
      "cell_type": "code",
      "source": [
        "#  individual consumes per day main meals sometimes.\n",
        "\n",
        "df['CAEC'].value_counts().plot(kind='bar',color=\"lightgray\")\n",
        "plt.title('Consumption of Food Between Meals')\n",
        "plt.xlabel('Consumption Category')\n",
        "plt.ylabel('Count')"
      ],
      "metadata": {
        "colab": {
          "base_uri": "https://localhost:8080/",
          "height": 553
        },
        "id": "pqzl2RUP67RD",
        "outputId": "5a37c830-7ee3-4f69-dd69-1ae858e7ebe6"
      },
      "execution_count": 40,
      "outputs": [
        {
          "output_type": "execute_result",
          "data": {
            "text/plain": [
              "Text(0, 0.5, 'Count')"
            ]
          },
          "metadata": {},
          "execution_count": 40
        },
        {
          "output_type": "display_data",
          "data": {
            "text/plain": [
              "<Figure size 640x480 with 1 Axes>"
            ],
            "image/png": "[encoded data removed]"
          },
          "metadata": {}
        }
      ]
    },
    {
      "cell_type": "code",
      "source": [
        "# physical activity frequency per week.\n",
        "\n",
        "data = df[\"FAF\"]\n",
        "\n",
        "plt.hist(data, bins=10, color='dodgerblue', edgecolor='black')\n",
        "plt.xlabel('FAF')\n",
        "plt.ylabel('Frequency')\n",
        "plt.title('Distribution of Physical Activity Frequencies')\n",
        "plt.show()\n"
      ],
      "metadata": {
        "id": "okylSwrV8OPP",
        "colab": {
          "base_uri": "https://localhost:8080/",
          "height": 472
        },
        "outputId": "2b2d583c-91c8-4206-ef96-ab6b8838c112"
      },
      "execution_count": 41,
      "outputs": [
        {
          "output_type": "display_data",
          "data": {
            "text/plain": [
              "<Figure size 640x480 with 1 Axes>"
            ],
            "image/png": "[encoded data removed]"
          },
          "metadata": {}
        }
      ]
    },
    {
      "cell_type": "code",
      "source": [
        "#  individuals highly used public transportation\n",
        "\n",
        "df['MTRANS'].value_counts().plot(kind='bar',color=\"Crimson\")\n",
        "plt.title('Modes of Transportation Used by Individuals')\n",
        "plt.xlabel('Mode of Transportation')\n",
        "plt.ylabel('Count')"
      ],
      "metadata": {
        "colab": {
          "base_uri": "https://localhost:8080/",
          "height": 624
        },
        "id": "vM5anTkhdAgL",
        "outputId": "1386688c-8f72-405e-d27d-bf73ce3e746d"
      },
      "execution_count": 42,
      "outputs": [
        {
          "output_type": "execute_result",
          "data": {
            "text/plain": [
              "Text(0, 0.5, 'Count')"
            ]
          },
          "metadata": {},
          "execution_count": 42
        },
        {
          "output_type": "display_data",
          "data": {
            "text/plain": [
              "<Figure size 640x480 with 1 Axes>"
            ],
            "image/png": "[encoded data removed]"
          },
          "metadata": {}
        }
      ]
    },
    {
      "cell_type": "code",
      "source": [
        "# count of rows and columns\n",
        "\n",
        "df.shape"
      ],
      "metadata": {
        "colab": {
          "base_uri": "https://localhost:8080/"
        },
        "id": "qmBH-N-k5ekY",
        "outputId": "4f37e719-bc3a-4abf-a85c-fa85d8e7f00e"
      },
      "execution_count": 43,
      "outputs": [
        {
          "output_type": "execute_result",
          "data": {
            "text/plain": [
              "(1942, 17)"
            ]
          },
          "metadata": {},
          "execution_count": 43
        }
      ]
    },
    {
      "cell_type": "code",
      "source": [
        "df"
      ],
      "metadata": {
        "colab": {
          "base_uri": "https://localhost:8080/",
          "height": 443
        },
        "id": "nWbUSIRYRVRb",
        "outputId": "941ea609-fa57-48a3-a5ec-fc2e54d76d79"
      },
      "execution_count": 44,
      "outputs": [
        {
          "output_type": "execute_result",
          "data": {
            "text/plain": [
              "      Gender        Age    Height      Weight family_history_with_overweight  \\\n",
              "0     Female  21.000000  1.620000   64.000000                            yes   \n",
              "1     Female  21.000000  1.520000   56.000000                            yes   \n",
              "2       Male  23.000000  1.800000   77.000000                            yes   \n",
              "3       Male  27.000000  1.800000   87.000000                             no   \n",
              "4       Male  22.000000  1.780000   89.800000                             no   \n",
              "...      ...        ...       ...         ...                            ...   \n",
              "2106  Female  20.976842  1.710730  131.408528                            yes   \n",
              "2107  Female  21.982942  1.748584  133.742943                            yes   \n",
              "2108  Female  22.524036  1.752206  133.689352                            yes   \n",
              "2109  Female  24.361936  1.739450  133.346641                            yes   \n",
              "2110  Female  23.664709  1.738836  133.472641                            yes   \n",
              "\n",
              "     FAVC  FCVC  NCP       CAEC SMOKE      CH2O  SCC       FAF       TUE  \\\n",
              "0      no   2.0  3.0  Sometimes    no  2.000000   no  0.000000  1.000000   \n",
              "1      no   3.0  3.0  Sometimes   yes  3.000000  yes  3.000000  0.000000   \n",
              "2      no   2.0  3.0  Sometimes    no  2.000000   no  2.000000  1.000000   \n",
              "3      no   3.0  3.0  Sometimes    no  2.000000   no  2.000000  0.000000   \n",
              "4      no   2.0  1.0  Sometimes    no  2.000000   no  0.000000  0.000000   \n",
              "...   ...   ...  ...        ...   ...       ...  ...       ...       ...   \n",
              "2106  yes   3.0  3.0  Sometimes    no  1.728139   no  1.676269  0.906247   \n",
              "2107  yes   3.0  3.0  Sometimes    no  2.005130   no  1.341390  0.599270   \n",
              "2108  yes   3.0  3.0  Sometimes    no  2.054193   no  1.414209  0.646288   \n",
              "2109  yes   3.0  3.0  Sometimes    no  2.852339   no  1.139107  0.586035   \n",
              "2110  yes   3.0  3.0  Sometimes    no  2.863513   no  1.026452  0.714137   \n",
              "\n",
              "            CALC                 MTRANS           NObeyesdad  \n",
              "0             no  Public_Transportation        Normal_Weight  \n",
              "1      Sometimes  Public_Transportation        Normal_Weight  \n",
              "2     Frequently  Public_Transportation        Normal_Weight  \n",
              "3     Frequently                Walking   Overweight_Level_I  \n",
              "4      Sometimes  Public_Transportation  Overweight_Level_II  \n",
              "...          ...                    ...                  ...  \n",
              "2106   Sometimes  Public_Transportation     Obesity_Type_III  \n",
              "2107   Sometimes  Public_Transportation     Obesity_Type_III  \n",
              "2108   Sometimes  Public_Transportation     Obesity_Type_III  \n",
              "2109   Sometimes  Public_Transportation     Obesity_Type_III  \n",
              "2110   Sometimes  Public_Transportation     Obesity_Type_III  \n",
              "\n",
              "[1942 rows x 17 columns]"
            ],
            "text/html": [
              "\n",
              "  <div id=\"df-f370e102-8c05-48a5-9e39-3b27488bec2b\" class=\"colab-df-container\">\n",
              "    <div>\n",
              "<style scoped>\n",
              "    .dataframe tbody tr th:only-of-type {\n",
              "        vertical-align: middle;\n",
              "    }\n",
              "\n",
              "    .dataframe tbody tr th {\n",
              "        vertical-align: top;\n",
              "    }\n",
              "\n",
              "    .dataframe thead th {\n",
              "        text-align: right;\n",
              "    }\n",
              "</style>\n",
              "<table border=\"1\" class=\"dataframe\">\n",
              "  <thead>\n",
              "    <tr style=\"text-align: right;\">\n",
              "      <th></th>\n",
              "      <th>Gender</th>\n",
              "      <th>Age</th>\n",
              "      <th>Height</th>\n",
              "      <th>Weight</th>\n",
              "      <th>family_history_with_overweight</th>\n",
              "      <th>FAVC</th>\n",
              "      <th>FCVC</th>\n",
              "      <th>NCP</th>\n",
              "      <th>CAEC</th>\n",
              "      <th>SMOKE</th>\n",
              "      <th>CH2O</th>\n",
              "      <th>SCC</th>\n",
              "      <th>FAF</th>\n",
              "      <th>TUE</th>\n",
              "      <th>CALC</th>\n",
              "      <th>MTRANS</th>\n",
              "      <th>NObeyesdad</th>\n",
              "    </tr>\n",
              "  </thead>\n",
              "  <tbody>\n",
              "    <tr>\n",
              "      <th>0</th>\n",
              "      <td>Female</td>\n",
              "      <td>21.000000</td>\n",
              "      <td>1.620000</td>\n",
              "      <td>64.000000</td>\n",
              "      <td>yes</td>\n",
              "      <td>no</td>\n",
              "      <td>2.0</td>\n",
              "      <td>3.0</td>\n",
              "      <td>Sometimes</td>\n",
              "      <td>no</td>\n",
              "      <td>2.000000</td>\n",
              "      <td>no</td>\n",
              "      <td>0.000000</td>\n",
              "      <td>1.000000</td>\n",
              "      <td>no</td>\n",
              "      <td>Public_Transportation</td>\n",
              "      <td>Normal_Weight</td>\n",
              "    </tr>\n",
              "    <tr>\n",
              "      <th>1</th>\n",
              "      <td>Female</td>\n",
              "      <td>21.000000</td>\n",
              "      <td>1.520000</td>\n",
              "      <td>56.000000</td>\n",
              "      <td>yes</td>\n",
              "      <td>no</td>\n",
              "      <td>3.0</td>\n",
              "      <td>3.0</td>\n",
              "      <td>Sometimes</td>\n",
              "      <td>yes</td>\n",
              "      <td>3.000000</td>\n",
              "      <td>yes</td>\n",
              "      <td>3.000000</td>\n",
              "      <td>0.000000</td>\n",
              "      <td>Sometimes</td>\n",
              "      <td>Public_Transportation</td>\n",
              "      <td>Normal_Weight</td>\n",
              "    </tr>\n",
              "    <tr>\n",
              "      <th>2</th>\n",
              "      <td>Male</td>\n",
              "      <td>23.000000</td>\n",
              "      <td>1.800000</td>\n",
              "      <td>77.000000</td>\n",
              "      <td>yes</td>\n",
              "      <td>no</td>\n",
              "      <td>2.0</td>\n",
              "      <td>3.0</td>\n",
              "      <td>Sometimes</td>\n",
              "      <td>no</td>\n",
              "      <td>2.000000</td>\n",
              "      <td>no</td>\n",
              "      <td>2.000000</td>\n",
              "      <td>1.000000</td>\n",
              "      <td>Frequently</td>\n",
              "      <td>Public_Transportation</td>\n",
              "      <td>Normal_Weight</td>\n",
              "    </tr>\n",
              "    <tr>\n",
              "      <th>3</th>\n",
              "      <td>Male</td>\n",
              "      <td>27.000000</td>\n",
              "      <td>1.800000</td>\n",
              "      <td>87.000000</td>\n",
              "      <td>no</td>\n",
              "      <td>no</td>\n",
              "      <td>3.0</td>\n",
              "      <td>3.0</td>\n",
              "      <td>Sometimes</td>\n",
              "      <td>no</td>\n",
              "      <td>2.000000</td>\n",
              "      <td>no</td>\n",
              "      <td>2.000000</td>\n",
              "      <td>0.000000</td>\n",
              "      <td>Frequently</td>\n",
              "      <td>Walking</td>\n",
              "      <td>Overweight_Level_I</td>\n",
              "    </tr>\n",
              "    <tr>\n",
              "      <th>4</th>\n",
              "      <td>Male</td>\n",
              "      <td>22.000000</td>\n",
              "      <td>1.780000</td>\n",
              "      <td>89.800000</td>\n",
              "      <td>no</td>\n",
              "      <td>no</td>\n",
              "      <td>2.0</td>\n",
              "      <td>1.0</td>\n",
              "      <td>Sometimes</td>\n",
              "      <td>no</td>\n",
              "      <td>2.000000</td>\n",
              "      <td>no</td>\n",
              "      <td>0.000000</td>\n",
              "      <td>0.000000</td>\n",
              "      <td>Sometimes</td>\n",
              "      <td>Public_Transportation</td>\n",
              "      <td>Overweight_Level_II</td>\n",
              "    </tr>\n",
              "    <tr>\n",
              "      <th>...</th>\n",
              "      <td>...</td>\n",
              "      <td>...</td>\n",
              "      <td>...</td>\n",
              "      <td>...</td>\n",
              "      <td>...</td>\n",
              "      <td>...</td>\n",
              "      <td>...</td>\n",
              "      <td>...</td>\n",
              "      <td>...</td>\n",
              "      <td>...</td>\n",
              "      <td>...</td>\n",
              "      <td>...</td>\n",
              "      <td>...</td>\n",
              "      <td>...</td>\n",
              "      <td>...</td>\n",
              "      <td>...</td>\n",
              "      <td>...</td>\n",
              "    </tr>\n",
              "    <tr>\n",
              "      <th>2106</th>\n",
              "      <td>Female</td>\n",
              "      <td>20.976842</td>\n",
              "      <td>1.710730</td>\n",
              "      <td>131.408528</td>\n",
              "      <td>yes</td>\n",
              "      <td>yes</td>\n",
              "      <td>3.0</td>\n",
              "      <td>3.0</td>\n",
              "      <td>Sometimes</td>\n",
              "      <td>no</td>\n",
              "      <td>1.728139</td>\n",
              "      <td>no</td>\n",
              "      <td>1.676269</td>\n",
              "      <td>0.906247</td>\n",
              "      <td>Sometimes</td>\n",
              "      <td>Public_Transportation</td>\n",
              "      <td>Obesity_Type_III</td>\n",
              "    </tr>\n",
              "    <tr>\n",
              "      <th>2107</th>\n",
              "      <td>Female</td>\n",
              "      <td>21.982942</td>\n",
              "      <td>1.748584</td>\n",
              "      <td>133.742943</td>\n",
              "      <td>yes</td>\n",
              "      <td>yes</td>\n",
              "      <td>3.0</td>\n",
              "      <td>3.0</td>\n",
              "      <td>Sometimes</td>\n",
              "      <td>no</td>\n",
              "      <td>2.005130</td>\n",
              "      <td>no</td>\n",
              "      <td>1.341390</td>\n",
              "      <td>0.599270</td>\n",
              "      <td>Sometimes</td>\n",
              "      <td>Public_Transportation</td>\n",
              "      <td>Obesity_Type_III</td>\n",
              "    </tr>\n",
              "    <tr>\n",
              "      <th>2108</th>\n",
              "      <td>Female</td>\n",
              "      <td>22.524036</td>\n",
              "      <td>1.752206</td>\n",
              "      <td>133.689352</td>\n",
              "      <td>yes</td>\n",
              "      <td>yes</td>\n",
              "      <td>3.0</td>\n",
              "      <td>3.0</td>\n",
              "      <td>Sometimes</td>\n",
              "      <td>no</td>\n",
              "      <td>2.054193</td>\n",
              "      <td>no</td>\n",
              "      <td>1.414209</td>\n",
              "      <td>0.646288</td>\n",
              "      <td>Sometimes</td>\n",
              "      <td>Public_Transportation</td>\n",
              "      <td>Obesity_Type_III</td>\n",
              "    </tr>\n",
              "    <tr>\n",
              "      <th>2109</th>\n",
              "      <td>Female</td>\n",
              "      <td>24.361936</td>\n",
              "      <td>1.739450</td>\n",
              "      <td>133.346641</td>\n",
              "      <td>yes</td>\n",
              "      <td>yes</td>\n",
              "      <td>3.0</td>\n",
              "      <td>3.0</td>\n",
              "      <td>Sometimes</td>\n",
              "      <td>no</td>\n",
              "      <td>2.852339</td>\n",
              "      <td>no</td>\n",
              "      <td>1.139107</td>\n",
              "      <td>0.586035</td>\n",
              "      <td>Sometimes</td>\n",
              "      <td>Public_Transportation</td>\n",
              "      <td>Obesity_Type_III</td>\n",
              "    </tr>\n",
              "    <tr>\n",
              "      <th>2110</th>\n",
              "      <td>Female</td>\n",
              "      <td>23.664709</td>\n",
              "      <td>1.738836</td>\n",
              "      <td>133.472641</td>\n",
              "      <td>yes</td>\n",
              "      <td>yes</td>\n",
              "      <td>3.0</td>\n",
              "      <td>3.0</td>\n",
              "      <td>Sometimes</td>\n",
              "      <td>no</td>\n",
              "      <td>2.863513</td>\n",
              "      <td>no</td>\n",
              "      <td>1.026452</td>\n",
              "      <td>0.714137</td>\n",
              "      <td>Sometimes</td>\n",
              "      <td>Public_Transportation</td>\n",
              "      <td>Obesity_Type_III</td>\n",
              "    </tr>\n",
              "  </tbody>\n",
              "</table>\n",
              "<p>1942 rows × 17 columns</p>\n",
              "</div>\n",
              "    <div class=\"colab-df-buttons\">\n",
              "\n",
              "  <div class=\"colab-df-container\">\n",
              "    <button class=\"colab-df-convert\" onclick=\"convertToInteractive('df-f370e102-8c05-48a5-9e39-3b27488bec2b')\"\n",
              "            title=\"Convert this dataframe to an interactive table.\"\n",
              "            style=\"display:none;\">\n",
              "\n",
              "  <svg xmlns=\"http://www.w3.org/2000/svg\" height=\"24px\" viewBox=\"0 -960 960 960\">\n",
              "    <path d=\"M120-120v-720h720v720H120Zm60-500h600v-160H180v160Zm220 220h160v-160H400v160Zm0 220h160v-160H400v160ZM180-400h160v-160H180v160Zm440 0h160v-160H620v160ZM180-180h160v-160H180v160Zm440 0h160v-160H620v160Z\"/>\n",
              "  </svg>\n",
              "    </button>\n",
              "\n",
              "  <style>\n",
              "    .colab-df-container {\n",
              "      display:flex;\n",
              "      gap: 12px;\n",
              "    }\n",
              "\n",
              "    .colab-df-convert {\n",
              "      background-color: #E8F0FE;\n",
              "      border: none;\n",
              "      border-radius: 50%;\n",
              "      cursor: pointer;\n",
              "      display: none;\n",
              "      fill: #1967D2;\n",
              "      height: 32px;\n",
              "      padding: 0 0 0 0;\n",
              "      width: 32px;\n",
              "    }\n",
              "\n",
              "    .colab-df-convert:hover {\n",
              "      background-color: #E2EBFA;\n",
              "      box-shadow: 0px 1px 2px rgba(60, 64, 67, 0.3), 0px 1px 3px 1px rgba(60, 64, 67, 0.15);\n",
              "      fill: #174EA6;\n",
              "    }\n",
              "\n",
              "    .colab-df-buttons div {\n",
              "      margin-bottom: 4px;\n",
              "    }\n",
              "\n",
              "    [theme=dark] .colab-df-convert {\n",
              "      background-color: #3B4455;\n",
              "      fill: #D2E3FC;\n",
              "    }\n",
              "\n",
              "    [theme=dark] .colab-df-convert:hover {\n",
              "      background-color: #434B5C;\n",
              "      box-shadow: 0px 1px 3px 1px rgba(0, 0, 0, 0.15);\n",
              "      filter: drop-shadow(0px 1px 2px rgba(0, 0, 0, 0.3));\n",
              "      fill: #FFFFFF;\n",
              "    }\n",
              "  </style>\n",
              "\n",
              "    <script>\n",
              "      const buttonEl =\n",
              "        document.querySelector('#df-f370e102-8c05-48a5-9e39-3b27488bec2b button.colab-df-convert');\n",
              "      buttonEl.style.display =\n",
              "        google.colab.kernel.accessAllowed ? 'block' : 'none';\n",
              "\n",
              "      async function convertToInteractive(key) {\n",
              "        const element = document.querySelector('#df-f370e102-8c05-48a5-9e39-3b27488bec2b');\n",
              "        const dataTable =\n",
              "          await google.colab.kernel.invokeFunction('convertToInteractive',\n",
              "                                                    [key], {});\n",
              "        if (!dataTable) return;\n",
              "\n",
              "        const docLinkHtml = 'Like what you see? Visit the ' +\n",
              "          '<a target=\"_blank\" href=https://colab.research.google.com/notebooks/data_table.ipynb>data table notebook</a>'\n",
              "          + ' to learn more about interactive tables.';\n",
              "        element.innerHTML = '';\n",
              "        dataTable['output_type'] = 'display_data';\n",
              "        await google.colab.output.renderOutput(dataTable, element);\n",
              "        const docLink = document.createElement('div');\n",
              "        docLink.innerHTML = docLinkHtml;\n",
              "        element.appendChild(docLink);\n",
              "      }\n",
              "    </script>\n",
              "  </div>\n",
              "\n",
              "\n",
              "<div id=\"df-abf7973d-fcf4-4c8b-b8f2-e683332e024c\">\n",
              "  <button class=\"colab-df-quickchart\" onclick=\"quickchart('df-abf7973d-fcf4-4c8b-b8f2-e683332e024c')\"\n",
              "            title=\"Suggest charts\"\n",
              "            style=\"display:none;\">\n",
              "\n",
              "<svg xmlns=\"http://www.w3.org/2000/svg\" height=\"24px\"viewBox=\"0 0 24 24\"\n",
              "     width=\"24px\">\n",
              "    <g>\n",
              "        <path d=\"M19 3H5c-1.1 0-2 .9-2 2v14c0 1.1.9 2 2 2h14c1.1 0 2-.9 2-2V5c0-1.1-.9-2-2-2zM9 17H7v-7h2v7zm4 0h-2V7h2v10zm4 0h-2v-4h2v4z\"/>\n",
              "    </g>\n",
              "</svg>\n",
              "  </button>\n",
              "\n",
              "<style>\n",
              "  .colab-df-quickchart {\n",
              "      --bg-color: #E8F0FE;\n",
              "      --fill-color: #1967D2;\n",
              "      --hover-bg-color: #E2EBFA;\n",
              "      --hover-fill-color: #174EA6;\n",
              "      --disabled-fill-color: #AAA;\n",
              "      --disabled-bg-color: #DDD;\n",
              "  }\n",
              "\n",
              "  [theme=dark] .colab-df-quickchart {\n",
              "      --bg-color: #3B4455;\n",
              "      --fill-color: #D2E3FC;\n",
              "      --hover-bg-color: #434B5C;\n",
              "      --hover-fill-color: #FFFFFF;\n",
              "      --disabled-bg-color: #3B4455;\n",
              "      --disabled-fill-color: #666;\n",
              "  }\n",
              "\n",
              "  .colab-df-quickchart {\n",
              "    background-color: var(--bg-color);\n",
              "    border: none;\n",
              "    border-radius: 50%;\n",
              "    cursor: pointer;\n",
              "    display: none;\n",
              "    fill: var(--fill-color);\n",
              "    height: 32px;\n",
              "    padding: 0;\n",
              "    width: 32px;\n",
              "  }\n",
              "\n",
              "  .colab-df-quickchart:hover {\n",
              "    background-color: var(--hover-bg-color);\n",
              "    box-shadow: 0 1px 2px rgba(60, 64, 67, 0.3), 0 1px 3px 1px rgba(60, 64, 67, 0.15);\n",
              "    fill: var(--button-hover-fill-color);\n",
              "  }\n",
              "\n",
              "  .colab-df-quickchart-complete:disabled,\n",
              "  .colab-df-quickchart-complete:disabled:hover {\n",
              "    background-color: var(--disabled-bg-color);\n",
              "    fill: var(--disabled-fill-color);\n",
              "    box-shadow: none;\n",
              "  }\n",
              "\n",
              "  .colab-df-spinner {\n",
              "    border: 2px solid var(--fill-color);\n",
              "    border-color: transparent;\n",
              "    border-bottom-color: var(--fill-color);\n",
              "    animation:\n",
              "      spin 1s steps(1) infinite;\n",
              "  }\n",
              "\n",
              "  @keyframes spin {\n",
              "    0% {\n",
              "      border-color: transparent;\n",
              "      border-bottom-color: var(--fill-color);\n",
              "      border-left-color: var(--fill-color);\n",
              "    }\n",
              "    20% {\n",
              "      border-color: transparent;\n",
              "      border-left-color: var(--fill-color);\n",
              "      border-top-color: var(--fill-color);\n",
              "    }\n",
              "    30% {\n",
              "      border-color: transparent;\n",
              "      border-left-color: var(--fill-color);\n",
              "      border-top-color: var(--fill-color);\n",
              "      border-right-color: var(--fill-color);\n",
              "    }\n",
              "    40% {\n",
              "      border-color: transparent;\n",
              "      border-right-color: var(--fill-color);\n",
              "      border-top-color: var(--fill-color);\n",
              "    }\n",
              "    60% {\n",
              "      border-color: transparent;\n",
              "      border-right-color: var(--fill-color);\n",
              "    }\n",
              "    80% {\n",
              "      border-color: transparent;\n",
              "      border-right-color: var(--fill-color);\n",
              "      border-bottom-color: var(--fill-color);\n",
              "    }\n",
              "    90% {\n",
              "      border-color: transparent;\n",
              "      border-bottom-color: var(--fill-color);\n",
              "    }\n",
              "  }\n",
              "</style>\n",
              "\n",
              "  <script>\n",
              "    async function quickchart(key) {\n",
              "      const quickchartButtonEl =\n",
              "        document.querySelector('#' + key + ' button');\n",
              "      quickchartButtonEl.disabled = true;  // To prevent multiple clicks.\n",
              "      quickchartButtonEl.classList.add('colab-df-spinner');\n",
              "      try {\n",
              "        const charts = await google.colab.kernel.invokeFunction(\n",
              "            'suggestCharts', [key], {});\n",
              "      } catch (error) {\n",
              "        console.error('Error during call to suggestCharts:', error);\n",
              "      }\n",
              "      quickchartButtonEl.classList.remove('colab-df-spinner');\n",
              "      quickchartButtonEl.classList.add('colab-df-quickchart-complete');\n",
              "    }\n",
              "    (() => {\n",
              "      let quickchartButtonEl =\n",
              "        document.querySelector('#df-abf7973d-fcf4-4c8b-b8f2-e683332e024c button');\n",
              "      quickchartButtonEl.style.display =\n",
              "        google.colab.kernel.accessAllowed ? 'block' : 'none';\n",
              "    })();\n",
              "  </script>\n",
              "</div>\n",
              "\n",
              "  <div id=\"id_f4874d44-977d-4d78-b272-25e5d67a33b6\">\n",
              "    <style>\n",
              "      .colab-df-generate {\n",
              "        background-color: #E8F0FE;\n",
              "        border: none;\n",
              "        border-radius: 50%;\n",
              "        cursor: pointer;\n",
              "        display: none;\n",
              "        fill: #1967D2;\n",
              "        height: 32px;\n",
              "        padding: 0 0 0 0;\n",
              "        width: 32px;\n",
              "      }\n",
              "\n",
              "      .colab-df-generate:hover {\n",
              "        background-color: #E2EBFA;\n",
              "        box-shadow: 0px 1px 2px rgba(60, 64, 67, 0.3), 0px 1px 3px 1px rgba(60, 64, 67, 0.15);\n",
              "        fill: #174EA6;\n",
              "      }\n",
              "\n",
              "      [theme=dark] .colab-df-generate {\n",
              "        background-color: #3B4455;\n",
              "        fill: #D2E3FC;\n",
              "      }\n",
              "\n",
              "      [theme=dark] .colab-df-generate:hover {\n",
              "        background-color: #434B5C;\n",
              "        box-shadow: 0px 1px 3px 1px rgba(0, 0, 0, 0.15);\n",
              "        filter: drop-shadow(0px 1px 2px rgba(0, 0, 0, 0.3));\n",
              "        fill: #FFFFFF;\n",
              "      }\n",
              "    </style>\n",
              "    <button class=\"colab-df-generate\" onclick=\"generateWithVariable('df')\"\n",
              "            title=\"Generate code using this dataframe.\"\n",
              "            style=\"display:none;\">\n",
              "\n",
              "  <svg xmlns=\"http://www.w3.org/2000/svg\" height=\"24px\"viewBox=\"0 0 24 24\"\n",
              "       width=\"24px\">\n",
              "    <path d=\"M7,19H8.4L18.45,9,17,7.55,7,17.6ZM5,21V16.75L18.45,3.32a2,2,0,0,1,2.83,0l1.4,1.43a1.91,1.91,0,0,1,.58,1.4,1.91,1.91,0,0,1-.58,1.4L9.25,21ZM18.45,9,17,7.55Zm-12,3A5.31,5.31,0,0,0,4.9,8.1,5.31,5.31,0,0,0,1,6.5,5.31,5.31,0,0,0,4.9,4.9,5.31,5.31,0,0,0,6.5,1,5.31,5.31,0,0,0,8.1,4.9,5.31,5.31,0,0,0,12,6.5,5.46,5.46,0,0,0,6.5,12Z\"/>\n",
              "  </svg>\n",
              "    </button>\n",
              "    <script>\n",
              "      (() => {\n",
              "      const buttonEl =\n",
              "        document.querySelector('#id_f4874d44-977d-4d78-b272-25e5d67a33b6 button.colab-df-generate');\n",
              "      buttonEl.style.display =\n",
              "        google.colab.kernel.accessAllowed ? 'block' : 'none';\n",
              "\n",
              "      buttonEl.onclick = () => {\n",
              "        google.colab.notebook.generateWithVariable('df');\n",
              "      }\n",
              "      })();\n",
              "    </script>\n",
              "  </div>\n",
              "\n",
              "    </div>\n",
              "  </div>\n"
            ],
            "application/vnd.google.colaboratory.intrinsic+json": {
              "type": "dataframe",
              "variable_name": "df",
              "summary": "{\n  \"name\": \"df\",\n  \"rows\": 1942,\n  \"fields\": [\n    {\n      \"column\": \"Gender\",\n      \"properties\": {\n        \"dtype\": \"category\",\n        \"num_unique_values\": 2,\n        \"samples\": [\n          \"Male\",\n          \"Female\"\n        ],\n        \"semantic_type\": \"\",\n        \"description\": \"\"\n      }\n    },\n    {\n      \"column\": \"Age\",\n      \"properties\": {\n        \"dtype\": \"number\",\n        \"std\": 4.305942621625425,\n        \"min\": 14.0,\n        \"max\": 35.0,\n        \"num_unique_values\": 1260,\n        \"samples\": [\n          22.377998,\n          23.147644\n        ],\n        \"semantic_type\": \"\",\n        \"description\": \"\"\n      }\n    },\n    {\n      \"column\": \"Height\",\n      \"properties\": {\n        \"dtype\": \"number\",\n        \"std\": 0.09217535051019578,\n        \"min\": 1.45,\n        \"max\": 1.975663,\n        \"num_unique_values\": 1449,\n        \"samples\": [\n          1.725587,\n          1.783906\n        ],\n        \"semantic_type\": \"\",\n        \"description\": \"\"\n      }\n    },\n    {\n      \"column\": \"Weight\",\n      \"properties\": {\n        \"dtype\": \"number\",\n        \"std\": 26.861180516586316,\n        \"min\": 39.0,\n        \"max\": 173.0,\n        \"num_unique_values\": 1404,\n        \"samples\": [\n          103.276087,\n          99.623778\n        ],\n        \"semantic_type\": \"\",\n        \"description\": \"\"\n      }\n    },\n    {\n      \"column\": \"family_history_with_overweight\",\n      \"properties\": {\n        \"dtype\": \"category\",\n        \"num_unique_values\": 2,\n        \"samples\": [\n          \"no\",\n          \"yes\"\n        ],\n        \"semantic_type\": \"\",\n        \"description\": \"\"\n      }\n    },\n    {\n      \"column\": \"FAVC\",\n      \"properties\": {\n        \"dtype\": \"category\",\n        \"num_unique_values\": 2,\n        \"samples\": [\n          \"yes\",\n          \"no\"\n        ],\n        \"semantic_type\": \"\",\n        \"description\": \"\"\n      }\n    },\n    {\n      \"column\": \"FCVC\",\n      \"properties\": {\n        \"dtype\": \"number\",\n        \"std\": 0.5443757838952157,\n        \"min\": 1.0,\n        \"max\": 3.0,\n        \"num_unique_values\": 727,\n        \"samples\": [\n          2.197261,\n          2.777165\n        ],\n        \"semantic_type\": \"\",\n        \"description\": \"\"\n      }\n    },\n    {\n      \"column\": \"NCP\",\n      \"properties\": {\n        \"dtype\": \"number\",\n        \"std\": 0.7785406911695275,\n        \"min\": 1.0,\n        \"max\": 4.0,\n        \"num_unique_values\": 557,\n        \"samples\": [\n          3.390143,\n          2.37985\n        ],\n        \"semantic_type\": \"\",\n        \"description\": \"\"\n      }\n    },\n    {\n      \"column\": \"CAEC\",\n      \"properties\": {\n        \"dtype\": \"category\",\n        \"num_unique_values\": 4,\n        \"samples\": [\n          \"Frequently\",\n          \"no\"\n        ],\n        \"semantic_type\": \"\",\n        \"description\": \"\"\n      }\n    },\n    {\n      \"column\": \"SMOKE\",\n      \"properties\": {\n        \"dtype\": \"category\",\n        \"num_unique_values\": 2,\n        \"samples\": [\n          \"yes\",\n          \"no\"\n        ],\n        \"semantic_type\": \"\",\n        \"description\": \"\"\n      }\n    },\n    {\n      \"column\": \"CH2O\",\n      \"properties\": {\n        \"dtype\": \"number\",\n        \"std\": 0.611405598548393,\n        \"min\": 1.0,\n        \"max\": 3.0,\n        \"num_unique_values\": 1156,\n        \"samples\": [\n          1.000544,\n          2.397124\n        ],\n        \"semantic_type\": \"\",\n        \"description\": \"\"\n      }\n    },\n    {\n      \"column\": \"SCC\",\n      \"properties\": {\n        \"dtype\": \"category\",\n        \"num_unique_values\": 2,\n        \"samples\": [\n          \"yes\",\n          \"no\"\n        ],\n        \"semantic_type\": \"\",\n        \"description\": \"\"\n      }\n    },\n    {\n      \"column\": \"FAF\",\n      \"properties\": {\n        \"dtype\": \"number\",\n        \"std\": 0.8458613797108924,\n        \"min\": 0.0,\n        \"max\": 3.0,\n        \"num_unique_values\": 1103,\n        \"samples\": [\n          0.998039,\n          0.850715\n        ],\n        \"semantic_type\": \"\",\n        \"description\": \"\"\n      }\n    },\n    {\n      \"column\": \"TUE\",\n      \"properties\": {\n        \"dtype\": \"number\",\n        \"std\": 0.6085453787589119,\n        \"min\": 0.0,\n        \"max\": 2.0,\n        \"num_unique_values\": 1089,\n        \"samples\": [\n          1.066708,\n          1.593704\n        ],\n        \"semantic_type\": \"\",\n        \"description\": \"\"\n      }\n    },\n    {\n      \"column\": \"CALC\",\n      \"properties\": {\n        \"dtype\": \"category\",\n        \"num_unique_values\": 4,\n        \"samples\": [\n          \"Sometimes\",\n          \"Always\"\n        ],\n        \"semantic_type\": \"\",\n        \"description\": \"\"\n      }\n    },\n    {\n      \"column\": \"MTRANS\",\n      \"properties\": {\n        \"dtype\": \"category\",\n        \"num_unique_values\": 5,\n        \"samples\": [\n          \"Walking\",\n          \"Bike\"\n        ],\n        \"semantic_type\": \"\",\n        \"description\": \"\"\n      }\n    },\n    {\n      \"column\": \"NObeyesdad\",\n      \"properties\": {\n        \"dtype\": \"category\",\n        \"num_unique_values\": 7,\n        \"samples\": [\n          \"Normal_Weight\",\n          \"Overweight_Level_I\"\n        ],\n        \"semantic_type\": \"\",\n        \"description\": \"\"\n      }\n    }\n  ]\n}"
            }
          },
          "metadata": {},
          "execution_count": 44
        }
      ]
    },
    {
      "cell_type": "code",
      "source": [
        "# dummies for conversion of categorical data into numerical form.\n",
        "\n",
        "df = pd.get_dummies(data=df,columns=['Gender',\"family_history_with_overweight\",\"FAVC\",\"CAEC\",\"SMOKE\",\"SCC\",\"CALC\",\"MTRANS\"],drop_first=True)"
      ],
      "metadata": {
        "id": "ZYIBg4XjQcko"
      },
      "execution_count": 45,
      "outputs": []
    },
    {
      "cell_type": "code",
      "source": [
        "df.info()"
      ],
      "metadata": {
        "colab": {
          "base_uri": "https://localhost:8080/"
        },
        "id": "5zgEztyoSjEv",
        "outputId": "d719739a-c369-43b5-96af-0a2f4bbb2a4c"
      },
      "execution_count": 46,
      "outputs": [
        {
          "output_type": "stream",
          "name": "stdout",
          "text": [
            "<class 'pandas.core.frame.DataFrame'>\n",
            "Index: 1942 entries, 0 to 2110\n",
            "Data columns (total 24 columns):\n",
            " #   Column                              Non-Null Count  Dtype  \n",
            "---  ------                              --------------  -----  \n",
            " 0   Age                                 1942 non-null   float64\n",
            " 1   Height                              1942 non-null   float64\n",
            " 2   Weight                              1942 non-null   float64\n",
            " 3   FCVC                                1942 non-null   float64\n",
            " 4   NCP                                 1942 non-null   float64\n",
            " 5   CH2O                                1942 non-null   float64\n",
            " 6   FAF                                 1942 non-null   float64\n",
            " 7   TUE                                 1942 non-null   float64\n",
            " 8   NObeyesdad                          1942 non-null   object \n",
            " 9   Gender_Male                         1942 non-null   bool   \n",
            " 10  family_history_with_overweight_yes  1942 non-null   bool   \n",
            " 11  FAVC_yes                            1942 non-null   bool   \n",
            " 12  CAEC_Frequently                     1942 non-null   bool   \n",
            " 13  CAEC_Sometimes                      1942 non-null   bool   \n",
            " 14  CAEC_no                             1942 non-null   bool   \n",
            " 15  SMOKE_yes                           1942 non-null   bool   \n",
            " 16  SCC_yes                             1942 non-null   bool   \n",
            " 17  CALC_Frequently                     1942 non-null   bool   \n",
            " 18  CALC_Sometimes                      1942 non-null   bool   \n",
            " 19  CALC_no                             1942 non-null   bool   \n",
            " 20  MTRANS_Bike                         1942 non-null   bool   \n",
            " 21  MTRANS_Motorbike                    1942 non-null   bool   \n",
            " 22  MTRANS_Public_Transportation        1942 non-null   bool   \n",
            " 23  MTRANS_Walking                      1942 non-null   bool   \n",
            "dtypes: bool(15), float64(8), object(1)\n",
            "memory usage: 180.2+ KB\n"
          ]
        }
      ]
    },
    {
      "cell_type": "code",
      "source": [
        "df"
      ],
      "metadata": {
        "colab": {
          "base_uri": "https://localhost:8080/",
          "height": 443
        },
        "id": "9IZALZHu75wv",
        "outputId": "db0514a5-830c-403d-97e2-2abb29617968"
      },
      "execution_count": 47,
      "outputs": [
        {
          "output_type": "execute_result",
          "data": {
            "text/plain": [
              "            Age    Height      Weight  FCVC  NCP      CH2O       FAF  \\\n",
              "0     21.000000  1.620000   64.000000   2.0  3.0  2.000000  0.000000   \n",
              "1     21.000000  1.520000   56.000000   3.0  3.0  3.000000  3.000000   \n",
              "2     23.000000  1.800000   77.000000   2.0  3.0  2.000000  2.000000   \n",
              "3     27.000000  1.800000   87.000000   3.0  3.0  2.000000  2.000000   \n",
              "4     22.000000  1.780000   89.800000   2.0  1.0  2.000000  0.000000   \n",
              "...         ...       ...         ...   ...  ...       ...       ...   \n",
              "2106  20.976842  1.710730  131.408528   3.0  3.0  1.728139  1.676269   \n",
              "2107  21.982942  1.748584  133.742943   3.0  3.0  2.005130  1.341390   \n",
              "2108  22.524036  1.752206  133.689352   3.0  3.0  2.054193  1.414209   \n",
              "2109  24.361936  1.739450  133.346641   3.0  3.0  2.852339  1.139107   \n",
              "2110  23.664709  1.738836  133.472641   3.0  3.0  2.863513  1.026452   \n",
              "\n",
              "           TUE           NObeyesdad  Gender_Male  ...  CAEC_no  SMOKE_yes  \\\n",
              "0     1.000000        Normal_Weight        False  ...    False      False   \n",
              "1     0.000000        Normal_Weight        False  ...    False       True   \n",
              "2     1.000000        Normal_Weight         True  ...    False      False   \n",
              "3     0.000000   Overweight_Level_I         True  ...    False      False   \n",
              "4     0.000000  Overweight_Level_II         True  ...    False      False   \n",
              "...        ...                  ...          ...  ...      ...        ...   \n",
              "2106  0.906247     Obesity_Type_III        False  ...    False      False   \n",
              "2107  0.599270     Obesity_Type_III        False  ...    False      False   \n",
              "2108  0.646288     Obesity_Type_III        False  ...    False      False   \n",
              "2109  0.586035     Obesity_Type_III        False  ...    False      False   \n",
              "2110  0.714137     Obesity_Type_III        False  ...    False      False   \n",
              "\n",
              "      SCC_yes  CALC_Frequently  CALC_Sometimes  CALC_no  MTRANS_Bike  \\\n",
              "0       False            False           False     True        False   \n",
              "1        True            False            True    False        False   \n",
              "2       False             True           False    False        False   \n",
              "3       False             True           False    False        False   \n",
              "4       False            False            True    False        False   \n",
              "...       ...              ...             ...      ...          ...   \n",
              "2106    False            False            True    False        False   \n",
              "2107    False            False            True    False        False   \n",
              "2108    False            False            True    False        False   \n",
              "2109    False            False            True    False        False   \n",
              "2110    False            False            True    False        False   \n",
              "\n",
              "      MTRANS_Motorbike  MTRANS_Public_Transportation  MTRANS_Walking  \n",
              "0                False                          True           False  \n",
              "1                False                          True           False  \n",
              "2                False                          True           False  \n",
              "3                False                         False            True  \n",
              "4                False                          True           False  \n",
              "...                ...                           ...             ...  \n",
              "2106             False                          True           False  \n",
              "2107             False                          True           False  \n",
              "2108             False                          True           False  \n",
              "2109             False                          True           False  \n",
              "2110             False                          True           False  \n",
              "\n",
              "[1942 rows x 24 columns]"
            ],
            "text/html": [
              "\n",
              "  <div id=\"df-6ca0695d-5511-4847-a850-9012bdae1dd7\" class=\"colab-df-container\">\n",
              "    <div>\n",
              "<style scoped>\n",
              "    .dataframe tbody tr th:only-of-type {\n",
              "        vertical-align: middle;\n",
              "    }\n",
              "\n",
              "    .dataframe tbody tr th {\n",
              "        vertical-align: top;\n",
              "    }\n",
              "\n",
              "    .dataframe thead th {\n",
              "        text-align: right;\n",
              "    }\n",
              "</style>\n",
              "<table border=\"1\" class=\"dataframe\">\n",
              "  <thead>\n",
              "    <tr style=\"text-align: right;\">\n",
              "      <th></th>\n",
              "      <th>Age</th>\n",
              "      <th>Height</th>\n",
              "      <th>Weight</th>\n",
              "      <th>FCVC</th>\n",
              "      <th>NCP</th>\n",
              "      <th>CH2O</th>\n",
              "      <th>FAF</th>\n",
              "      <th>TUE</th>\n",
              "      <th>NObeyesdad</th>\n",
              "      <th>Gender_Male</th>\n",
              "      <th>...</th>\n",
              "      <th>CAEC_no</th>\n",
              "      <th>SMOKE_yes</th>\n",
              "      <th>SCC_yes</th>\n",
              "      <th>CALC_Frequently</th>\n",
              "      <th>CALC_Sometimes</th>\n",
              "      <th>CALC_no</th>\n",
              "      <th>MTRANS_Bike</th>\n",
              "      <th>MTRANS_Motorbike</th>\n",
              "      <th>MTRANS_Public_Transportation</th>\n",
              "      <th>MTRANS_Walking</th>\n",
              "    </tr>\n",
              "  </thead>\n",
              "  <tbody>\n",
              "    <tr>\n",
              "      <th>0</th>\n",
              "      <td>21.000000</td>\n",
              "      <td>1.620000</td>\n",
              "      <td>64.000000</td>\n",
              "      <td>2.0</td>\n",
              "      <td>3.0</td>\n",
              "      <td>2.000000</td>\n",
              "      <td>0.000000</td>\n",
              "      <td>1.000000</td>\n",
              "      <td>Normal_Weight</td>\n",
              "      <td>False</td>\n",
              "      <td>...</td>\n",
              "      <td>False</td>\n",
              "      <td>False</td>\n",
              "      <td>False</td>\n",
              "      <td>False</td>\n",
              "      <td>False</td>\n",
              "      <td>True</td>\n",
              "      <td>False</td>\n",
              "      <td>False</td>\n",
              "      <td>True</td>\n",
              "      <td>False</td>\n",
              "    </tr>\n",
              "    <tr>\n",
              "      <th>1</th>\n",
              "      <td>21.000000</td>\n",
              "      <td>1.520000</td>\n",
              "      <td>56.000000</td>\n",
              "      <td>3.0</td>\n",
              "      <td>3.0</td>\n",
              "      <td>3.000000</td>\n",
              "      <td>3.000000</td>\n",
              "      <td>0.000000</td>\n",
              "      <td>Normal_Weight</td>\n",
              "      <td>False</td>\n",
              "      <td>...</td>\n",
              "      <td>False</td>\n",
              "      <td>True</td>\n",
              "      <td>True</td>\n",
              "      <td>False</td>\n",
              "      <td>True</td>\n",
              "      <td>False</td>\n",
              "      <td>False</td>\n",
              "      <td>False</td>\n",
              "      <td>True</td>\n",
              "      <td>False</td>\n",
              "    </tr>\n",
              "    <tr>\n",
              "      <th>2</th>\n",
              "      <td>23.000000</td>\n",
              "      <td>1.800000</td>\n",
              "      <td>77.000000</td>\n",
              "      <td>2.0</td>\n",
              "      <td>3.0</td>\n",
              "      <td>2.000000</td>\n",
              "      <td>2.000000</td>\n",
              "      <td>1.000000</td>\n",
              "      <td>Normal_Weight</td>\n",
              "      <td>True</td>\n",
              "      <td>...</td>\n",
              "      <td>False</td>\n",
              "      <td>False</td>\n",
              "      <td>False</td>\n",
              "      <td>True</td>\n",
              "      <td>False</td>\n",
              "      <td>False</td>\n",
              "      <td>False</td>\n",
              "      <td>False</td>\n",
              "      <td>True</td>\n",
              "      <td>False</td>\n",
              "    </tr>\n",
              "    <tr>\n",
              "      <th>3</th>\n",
              "      <td>27.000000</td>\n",
              "      <td>1.800000</td>\n",
              "      <td>87.000000</td>\n",
              "      <td>3.0</td>\n",
              "      <td>3.0</td>\n",
              "      <td>2.000000</td>\n",
              "      <td>2.000000</td>\n",
              "      <td>0.000000</td>\n",
              "      <td>Overweight_Level_I</td>\n",
              "      <td>True</td>\n",
              "      <td>...</td>\n",
              "      <td>False</td>\n",
              "      <td>False</td>\n",
              "      <td>False</td>\n",
              "      <td>True</td>\n",
              "      <td>False</td>\n",
              "      <td>False</td>\n",
              "      <td>False</td>\n",
              "      <td>False</td>\n",
              "      <td>False</td>\n",
              "      <td>True</td>\n",
              "    </tr>\n",
              "    <tr>\n",
              "      <th>4</th>\n",
              "      <td>22.000000</td>\n",
              "      <td>1.780000</td>\n",
              "      <td>89.800000</td>\n",
              "      <td>2.0</td>\n",
              "      <td>1.0</td>\n",
              "      <td>2.000000</td>\n",
              "      <td>0.000000</td>\n",
              "      <td>0.000000</td>\n",
              "      <td>Overweight_Level_II</td>\n",
              "      <td>True</td>\n",
              "      <td>...</td>\n",
              "      <td>False</td>\n",
              "      <td>False</td>\n",
              "      <td>False</td>\n",
              "      <td>False</td>\n",
              "      <td>True</td>\n",
              "      <td>False</td>\n",
              "      <td>False</td>\n",
              "      <td>False</td>\n",
              "      <td>True</td>\n",
              "      <td>False</td>\n",
              "    </tr>\n",
              "    <tr>\n",
              "      <th>...</th>\n",
              "      <td>...</td>\n",
              "      <td>...</td>\n",
              "      <td>...</td>\n",
              "      <td>...</td>\n",
              "      <td>...</td>\n",
              "      <td>...</td>\n",
              "      <td>...</td>\n",
              "      <td>...</td>\n",
              "      <td>...</td>\n",
              "      <td>...</td>\n",
              "      <td>...</td>\n",
              "      <td>...</td>\n",
              "      <td>...</td>\n",
              "      <td>...</td>\n",
              "      <td>...</td>\n",
              "      <td>...</td>\n",
              "      <td>...</td>\n",
              "      <td>...</td>\n",
              "      <td>...</td>\n",
              "      <td>...</td>\n",
              "      <td>...</td>\n",
              "    </tr>\n",
              "    <tr>\n",
              "      <th>2106</th>\n",
              "      <td>20.976842</td>\n",
              "      <td>1.710730</td>\n",
              "      <td>131.408528</td>\n",
              "      <td>3.0</td>\n",
              "      <td>3.0</td>\n",
              "      <td>1.728139</td>\n",
              "      <td>1.676269</td>\n",
              "      <td>0.906247</td>\n",
              "      <td>Obesity_Type_III</td>\n",
              "      <td>False</td>\n",
              "      <td>...</td>\n",
              "      <td>False</td>\n",
              "      <td>False</td>\n",
              "      <td>False</td>\n",
              "      <td>False</td>\n",
              "      <td>True</td>\n",
              "      <td>False</td>\n",
              "      <td>False</td>\n",
              "      <td>False</td>\n",
              "      <td>True</td>\n",
              "      <td>False</td>\n",
              "    </tr>\n",
              "    <tr>\n",
              "      <th>2107</th>\n",
              "      <td>21.982942</td>\n",
              "      <td>1.748584</td>\n",
              "      <td>133.742943</td>\n",
              "      <td>3.0</td>\n",
              "      <td>3.0</td>\n",
              "      <td>2.005130</td>\n",
              "      <td>1.341390</td>\n",
              "      <td>0.599270</td>\n",
              "      <td>Obesity_Type_III</td>\n",
              "      <td>False</td>\n",
              "      <td>...</td>\n",
              "      <td>False</td>\n",
              "      <td>False</td>\n",
              "      <td>False</td>\n",
              "      <td>False</td>\n",
              "      <td>True</td>\n",
              "      <td>False</td>\n",
              "      <td>False</td>\n",
              "      <td>False</td>\n",
              "      <td>True</td>\n",
              "      <td>False</td>\n",
              "    </tr>\n",
              "    <tr>\n",
              "      <th>2108</th>\n",
              "      <td>22.524036</td>\n",
              "      <td>1.752206</td>\n",
              "      <td>133.689352</td>\n",
              "      <td>3.0</td>\n",
              "      <td>3.0</td>\n",
              "      <td>2.054193</td>\n",
              "      <td>1.414209</td>\n",
              "      <td>0.646288</td>\n",
              "      <td>Obesity_Type_III</td>\n",
              "      <td>False</td>\n",
              "      <td>...</td>\n",
              "      <td>False</td>\n",
              "      <td>False</td>\n",
              "      <td>False</td>\n",
              "      <td>False</td>\n",
              "      <td>True</td>\n",
              "      <td>False</td>\n",
              "      <td>False</td>\n",
              "      <td>False</td>\n",
              "      <td>True</td>\n",
              "      <td>False</td>\n",
              "    </tr>\n",
              "    <tr>\n",
              "      <th>2109</th>\n",
              "      <td>24.361936</td>\n",
              "      <td>1.739450</td>\n",
              "      <td>133.346641</td>\n",
              "      <td>3.0</td>\n",
              "      <td>3.0</td>\n",
              "      <td>2.852339</td>\n",
              "      <td>1.139107</td>\n",
              "      <td>0.586035</td>\n",
              "      <td>Obesity_Type_III</td>\n",
              "      <td>False</td>\n",
              "      <td>...</td>\n",
              "      <td>False</td>\n",
              "      <td>False</td>\n",
              "      <td>False</td>\n",
              "      <td>False</td>\n",
              "      <td>True</td>\n",
              "      <td>False</td>\n",
              "      <td>False</td>\n",
              "      <td>False</td>\n",
              "      <td>True</td>\n",
              "      <td>False</td>\n",
              "    </tr>\n",
              "    <tr>\n",
              "      <th>2110</th>\n",
              "      <td>23.664709</td>\n",
              "      <td>1.738836</td>\n",
              "      <td>133.472641</td>\n",
              "      <td>3.0</td>\n",
              "      <td>3.0</td>\n",
              "      <td>2.863513</td>\n",
              "      <td>1.026452</td>\n",
              "      <td>0.714137</td>\n",
              "      <td>Obesity_Type_III</td>\n",
              "      <td>False</td>\n",
              "      <td>...</td>\n",
              "      <td>False</td>\n",
              "      <td>False</td>\n",
              "      <td>False</td>\n",
              "      <td>False</td>\n",
              "      <td>True</td>\n",
              "      <td>False</td>\n",
              "      <td>False</td>\n",
              "      <td>False</td>\n",
              "      <td>True</td>\n",
              "      <td>False</td>\n",
              "    </tr>\n",
              "  </tbody>\n",
              "</table>\n",
              "<p>1942 rows × 24 columns</p>\n",
              "</div>\n",
              "    <div class=\"colab-df-buttons\">\n",
              "\n",
              "  <div class=\"colab-df-container\">\n",
              "    <button class=\"colab-df-convert\" onclick=\"convertToInteractive('df-6ca0695d-5511-4847-a850-9012bdae1dd7')\"\n",
              "            title=\"Convert this dataframe to an interactive table.\"\n",
              "            style=\"display:none;\">\n",
              "\n",
              "  <svg xmlns=\"http://www.w3.org/2000/svg\" height=\"24px\" viewBox=\"0 -960 960 960\">\n",
              "    <path d=\"M120-120v-720h720v720H120Zm60-500h600v-160H180v160Zm220 220h160v-160H400v160Zm0 220h160v-160H400v160ZM180-400h160v-160H180v160Zm440 0h160v-160H620v160ZM180-180h160v-160H180v160Zm440 0h160v-160H620v160Z\"/>\n",
              "  </svg>\n",
              "    </button>\n",
              "\n",
              "  <style>\n",
              "    .colab-df-container {\n",
              "      display:flex;\n",
              "      gap: 12px;\n",
              "    }\n",
              "\n",
              "    .colab-df-convert {\n",
              "      background-color: #E8F0FE;\n",
              "      border: none;\n",
              "      border-radius: 50%;\n",
              "      cursor: pointer;\n",
              "      display: none;\n",
              "      fill: #1967D2;\n",
              "      height: 32px;\n",
              "      padding: 0 0 0 0;\n",
              "      width: 32px;\n",
              "    }\n",
              "\n",
              "    .colab-df-convert:hover {\n",
              "      background-color: #E2EBFA;\n",
              "      box-shadow: 0px 1px 2px rgba(60, 64, 67, 0.3), 0px 1px 3px 1px rgba(60, 64, 67, 0.15);\n",
              "      fill: #174EA6;\n",
              "    }\n",
              "\n",
              "    .colab-df-buttons div {\n",
              "      margin-bottom: 4px;\n",
              "    }\n",
              "\n",
              "    [theme=dark] .colab-df-convert {\n",
              "      background-color: #3B4455;\n",
              "      fill: #D2E3FC;\n",
              "    }\n",
              "\n",
              "    [theme=dark] .colab-df-convert:hover {\n",
              "      background-color: #434B5C;\n",
              "      box-shadow: 0px 1px 3px 1px rgba(0, 0, 0, 0.15);\n",
              "      filter: drop-shadow(0px 1px 2px rgba(0, 0, 0, 0.3));\n",
              "      fill: #FFFFFF;\n",
              "    }\n",
              "  </style>\n",
              "\n",
              "    <script>\n",
              "      const buttonEl =\n",
              "        document.querySelector('#df-6ca0695d-5511-4847-a850-9012bdae1dd7 button.colab-df-convert');\n",
              "      buttonEl.style.display =\n",
              "        google.colab.kernel.accessAllowed ? 'block' : 'none';\n",
              "\n",
              "      async function convertToInteractive(key) {\n",
              "        const element = document.querySelector('#df-6ca0695d-5511-4847-a850-9012bdae1dd7');\n",
              "        const dataTable =\n",
              "          await google.colab.kernel.invokeFunction('convertToInteractive',\n",
              "                                                    [key], {});\n",
              "        if (!dataTable) return;\n",
              "\n",
              "        const docLinkHtml = 'Like what you see? Visit the ' +\n",
              "          '<a target=\"_blank\" href=https://colab.research.google.com/notebooks/data_table.ipynb>data table notebook</a>'\n",
              "          + ' to learn more about interactive tables.';\n",
              "        element.innerHTML = '';\n",
              "        dataTable['output_type'] = 'display_data';\n",
              "        await google.colab.output.renderOutput(dataTable, element);\n",
              "        const docLink = document.createElement('div');\n",
              "        docLink.innerHTML = docLinkHtml;\n",
              "        element.appendChild(docLink);\n",
              "      }\n",
              "    </script>\n",
              "  </div>\n",
              "\n",
              "\n",
              "<div id=\"df-da3a6451-f32a-46c1-8282-9d1adc9594ff\">\n",
              "  <button class=\"colab-df-quickchart\" onclick=\"quickchart('df-da3a6451-f32a-46c1-8282-9d1adc9594ff')\"\n",
              "            title=\"Suggest charts\"\n",
              "            style=\"display:none;\">\n",
              "\n",
              "<svg xmlns=\"http://www.w3.org/2000/svg\" height=\"24px\"viewBox=\"0 0 24 24\"\n",
              "     width=\"24px\">\n",
              "    <g>\n",
              "        <path d=\"M19 3H5c-1.1 0-2 .9-2 2v14c0 1.1.9 2 2 2h14c1.1 0 2-.9 2-2V5c0-1.1-.9-2-2-2zM9 17H7v-7h2v7zm4 0h-2V7h2v10zm4 0h-2v-4h2v4z\"/>\n",
              "    </g>\n",
              "</svg>\n",
              "  </button>\n",
              "\n",
              "<style>\n",
              "  .colab-df-quickchart {\n",
              "      --bg-color: #E8F0FE;\n",
              "      --fill-color: #1967D2;\n",
              "      --hover-bg-color: #E2EBFA;\n",
              "      --hover-fill-color: #174EA6;\n",
              "      --disabled-fill-color: #AAA;\n",
              "      --disabled-bg-color: #DDD;\n",
              "  }\n",
              "\n",
              "  [theme=dark] .colab-df-quickchart {\n",
              "      --bg-color: #3B4455;\n",
              "      --fill-color: #D2E3FC;\n",
              "      --hover-bg-color: #434B5C;\n",
              "      --hover-fill-color: #FFFFFF;\n",
              "      --disabled-bg-color: #3B4455;\n",
              "      --disabled-fill-color: #666;\n",
              "  }\n",
              "\n",
              "  .colab-df-quickchart {\n",
              "    background-color: var(--bg-color);\n",
              "    border: none;\n",
              "    border-radius: 50%;\n",
              "    cursor: pointer;\n",
              "    display: none;\n",
              "    fill: var(--fill-color);\n",
              "    height: 32px;\n",
              "    padding: 0;\n",
              "    width: 32px;\n",
              "  }\n",
              "\n",
              "  .colab-df-quickchart:hover {\n",
              "    background-color: var(--hover-bg-color);\n",
              "    box-shadow: 0 1px 2px rgba(60, 64, 67, 0.3), 0 1px 3px 1px rgba(60, 64, 67, 0.15);\n",
              "    fill: var(--button-hover-fill-color);\n",
              "  }\n",
              "\n",
              "  .colab-df-quickchart-complete:disabled,\n",
              "  .colab-df-quickchart-complete:disabled:hover {\n",
              "    background-color: var(--disabled-bg-color);\n",
              "    fill: var(--disabled-fill-color);\n",
              "    box-shadow: none;\n",
              "  }\n",
              "\n",
              "  .colab-df-spinner {\n",
              "    border: 2px solid var(--fill-color);\n",
              "    border-color: transparent;\n",
              "    border-bottom-color: var(--fill-color);\n",
              "    animation:\n",
              "      spin 1s steps(1) infinite;\n",
              "  }\n",
              "\n",
              "  @keyframes spin {\n",
              "    0% {\n",
              "      border-color: transparent;\n",
              "      border-bottom-color: var(--fill-color);\n",
              "      border-left-color: var(--fill-color);\n",
              "    }\n",
              "    20% {\n",
              "      border-color: transparent;\n",
              "      border-left-color: var(--fill-color);\n",
              "      border-top-color: var(--fill-color);\n",
              "    }\n",
              "    30% {\n",
              "      border-color: transparent;\n",
              "      border-left-color: var(--fill-color);\n",
              "      border-top-color: var(--fill-color);\n",
              "      border-right-color: var(--fill-color);\n",
              "    }\n",
              "    40% {\n",
              "      border-color: transparent;\n",
              "      border-right-color: var(--fill-color);\n",
              "      border-top-color: var(--fill-color);\n",
              "    }\n",
              "    60% {\n",
              "      border-color: transparent;\n",
              "      border-right-color: var(--fill-color);\n",
              "    }\n",
              "    80% {\n",
              "      border-color: transparent;\n",
              "      border-right-color: var(--fill-color);\n",
              "      border-bottom-color: var(--fill-color);\n",
              "    }\n",
              "    90% {\n",
              "      border-color: transparent;\n",
              "      border-bottom-color: var(--fill-color);\n",
              "    }\n",
              "  }\n",
              "</style>\n",
              "\n",
              "  <script>\n",
              "    async function quickchart(key) {\n",
              "      const quickchartButtonEl =\n",
              "        document.querySelector('#' + key + ' button');\n",
              "      quickchartButtonEl.disabled = true;  // To prevent multiple clicks.\n",
              "      quickchartButtonEl.classList.add('colab-df-spinner');\n",
              "      try {\n",
              "        const charts = await google.colab.kernel.invokeFunction(\n",
              "            'suggestCharts', [key], {});\n",
              "      } catch (error) {\n",
              "        console.error('Error during call to suggestCharts:', error);\n",
              "      }\n",
              "      quickchartButtonEl.classList.remove('colab-df-spinner');\n",
              "      quickchartButtonEl.classList.add('colab-df-quickchart-complete');\n",
              "    }\n",
              "    (() => {\n",
              "      let quickchartButtonEl =\n",
              "        document.querySelector('#df-da3a6451-f32a-46c1-8282-9d1adc9594ff button');\n",
              "      quickchartButtonEl.style.display =\n",
              "        google.colab.kernel.accessAllowed ? 'block' : 'none';\n",
              "    })();\n",
              "  </script>\n",
              "</div>\n",
              "\n",
              "  <div id=\"id_c9f29f2e-50fd-417d-a74d-586765c6a106\">\n",
              "    <style>\n",
              "      .colab-df-generate {\n",
              "        background-color: #E8F0FE;\n",
              "        border: none;\n",
              "        border-radius: 50%;\n",
              "        cursor: pointer;\n",
              "        display: none;\n",
              "        fill: #1967D2;\n",
              "        height: 32px;\n",
              "        padding: 0 0 0 0;\n",
              "        width: 32px;\n",
              "      }\n",
              "\n",
              "      .colab-df-generate:hover {\n",
              "        background-color: #E2EBFA;\n",
              "        box-shadow: 0px 1px 2px rgba(60, 64, 67, 0.3), 0px 1px 3px 1px rgba(60, 64, 67, 0.15);\n",
              "        fill: #174EA6;\n",
              "      }\n",
              "\n",
              "      [theme=dark] .colab-df-generate {\n",
              "        background-color: #3B4455;\n",
              "        fill: #D2E3FC;\n",
              "      }\n",
              "\n",
              "      [theme=dark] .colab-df-generate:hover {\n",
              "        background-color: #434B5C;\n",
              "        box-shadow: 0px 1px 3px 1px rgba(0, 0, 0, 0.15);\n",
              "        filter: drop-shadow(0px 1px 2px rgba(0, 0, 0, 0.3));\n",
              "        fill: #FFFFFF;\n",
              "      }\n",
              "    </style>\n",
              "    <button class=\"colab-df-generate\" onclick=\"generateWithVariable('df')\"\n",
              "            title=\"Generate code using this dataframe.\"\n",
              "            style=\"display:none;\">\n",
              "\n",
              "  <svg xmlns=\"http://www.w3.org/2000/svg\" height=\"24px\"viewBox=\"0 0 24 24\"\n",
              "       width=\"24px\">\n",
              "    <path d=\"M7,19H8.4L18.45,9,17,7.55,7,17.6ZM5,21V16.75L18.45,3.32a2,2,0,0,1,2.83,0l1.4,1.43a1.91,1.91,0,0,1,.58,1.4,1.91,1.91,0,0,1-.58,1.4L9.25,21ZM18.45,9,17,7.55Zm-12,3A5.31,5.31,0,0,0,4.9,8.1,5.31,5.31,0,0,0,1,6.5,5.31,5.31,0,0,0,4.9,4.9,5.31,5.31,0,0,0,6.5,1,5.31,5.31,0,0,0,8.1,4.9,5.31,5.31,0,0,0,12,6.5,5.46,5.46,0,0,0,6.5,12Z\"/>\n",
              "  </svg>\n",
              "    </button>\n",
              "    <script>\n",
              "      (() => {\n",
              "      const buttonEl =\n",
              "        document.querySelector('#id_c9f29f2e-50fd-417d-a74d-586765c6a106 button.colab-df-generate');\n",
              "      buttonEl.style.display =\n",
              "        google.colab.kernel.accessAllowed ? 'block' : 'none';\n",
              "\n",
              "      buttonEl.onclick = () => {\n",
              "        google.colab.notebook.generateWithVariable('df');\n",
              "      }\n",
              "      })();\n",
              "    </script>\n",
              "  </div>\n",
              "\n",
              "    </div>\n",
              "  </div>\n"
            ],
            "application/vnd.google.colaboratory.intrinsic+json": {
              "type": "dataframe",
              "variable_name": "df"
            }
          },
          "metadata": {},
          "execution_count": 47
        }
      ]
    },
    {
      "cell_type": "code",
      "source": [
        "df['Gender_Male']=df['Gender_Male'].astype('int')"
      ],
      "metadata": {
        "id": "gA2T_kIv3kZX"
      },
      "execution_count": 48,
      "outputs": []
    },
    {
      "cell_type": "code",
      "source": [
        "df['family_history_with_overweight_yes']=df['family_history_with_overweight_yes'].astype('int')"
      ],
      "metadata": {
        "id": "XXtc7oMyShiZ"
      },
      "execution_count": 49,
      "outputs": []
    },
    {
      "cell_type": "code",
      "source": [
        "df['FAVC_yes']=df['FAVC_yes'].astype('int')"
      ],
      "metadata": {
        "id": "kl_BipcbVE4g"
      },
      "execution_count": 50,
      "outputs": []
    },
    {
      "cell_type": "code",
      "source": [
        "df['CAEC_Frequently']=df['CAEC_Frequently'].astype('int')"
      ],
      "metadata": {
        "id": "PIVgo2oLVFEq"
      },
      "execution_count": 51,
      "outputs": []
    },
    {
      "cell_type": "code",
      "source": [
        "df['CAEC_Sometimes']=df['CAEC_Sometimes'].astype('int')"
      ],
      "metadata": {
        "id": "QTTRQH2_VFF_"
      },
      "execution_count": 52,
      "outputs": []
    },
    {
      "cell_type": "code",
      "source": [
        "df['CAEC_no']=df['CAEC_no'].astype('int')"
      ],
      "metadata": {
        "id": "XZVPOmOhVFLA"
      },
      "execution_count": 53,
      "outputs": []
    },
    {
      "cell_type": "code",
      "source": [
        "df['SMOKE_yes']=df['SMOKE_yes'].astype('int')"
      ],
      "metadata": {
        "id": "uhmV3m8yVFUp"
      },
      "execution_count": 54,
      "outputs": []
    },
    {
      "cell_type": "code",
      "source": [
        "df['SCC_yes']=df['SCC_yes'].astype('int')"
      ],
      "metadata": {
        "id": "2wsnBvDBVFWR"
      },
      "execution_count": 55,
      "outputs": []
    },
    {
      "cell_type": "code",
      "source": [
        "df['CALC_Frequently']=df['CALC_Frequently'].astype('int')"
      ],
      "metadata": {
        "id": "p_fK1EYxVFbL"
      },
      "execution_count": 56,
      "outputs": []
    },
    {
      "cell_type": "code",
      "source": [
        "df['CALC_Sometimes']=df['CALC_Sometimes'].astype('int')"
      ],
      "metadata": {
        "id": "Y3SkUnnuVFc_"
      },
      "execution_count": 57,
      "outputs": []
    },
    {
      "cell_type": "code",
      "source": [
        "df['CALC_no']=df['CALC_no'].astype('int')"
      ],
      "metadata": {
        "id": "4dQ4HEkpVFg7"
      },
      "execution_count": 58,
      "outputs": []
    },
    {
      "cell_type": "code",
      "source": [
        "df['MTRANS_Bike']=df['MTRANS_Bike'].astype('int')"
      ],
      "metadata": {
        "id": "S0XFuJ576z77"
      },
      "execution_count": 59,
      "outputs": []
    },
    {
      "cell_type": "code",
      "source": [
        "df['MTRANS_Public_Transportation']=df['MTRANS_Public_Transportation'].astype('int')"
      ],
      "metadata": {
        "id": "qKf0-Jgt60Km"
      },
      "execution_count": 60,
      "outputs": []
    },
    {
      "cell_type": "code",
      "source": [
        "df['MTRANS_Motorbike']=df['MTRANS_Motorbike'].astype('int')"
      ],
      "metadata": {
        "id": "KvkdCVco60W6"
      },
      "execution_count": 61,
      "outputs": []
    },
    {
      "cell_type": "code",
      "source": [
        "df['MTRANS_Walking']=df['MTRANS_Walking'].astype('int')"
      ],
      "metadata": {
        "id": "NMLDwydL7MVe"
      },
      "execution_count": 62,
      "outputs": []
    },
    {
      "cell_type": "code",
      "source": [
        "from sklearn.preprocessing import LabelEncoder\n",
        "\n",
        "# Initialize LabelEncoder\n",
        "label_encoder = LabelEncoder()\n",
        "\n",
        "# Encode the target variable\n",
        "df['NObeyesdad_encoded'] = label_encoder.fit_transform(df['NObeyesdad'])\n",
        "\n",
        "#Normal_Weight: 0\n",
        "#Overweight_Level_I: 1\n",
        "#Overweight_Level_II: 2\n",
        "#Obesity_Type_I: 3\n"
      ],
      "metadata": {
        "id": "KkoQy40E733F"
      },
      "execution_count": 63,
      "outputs": []
    },
    {
      "cell_type": "code",
      "source": [
        "df"
      ],
      "metadata": {
        "colab": {
          "base_uri": "https://localhost:8080/",
          "height": 443
        },
        "id": "i9qfMULU3oZf",
        "outputId": "a40fa246-e5f2-438d-a498-1039135b8d0c"
      },
      "execution_count": 64,
      "outputs": [
        {
          "output_type": "execute_result",
          "data": {
            "text/plain": [
              "            Age    Height      Weight  FCVC  NCP      CH2O       FAF  \\\n",
              "0     21.000000  1.620000   64.000000   2.0  3.0  2.000000  0.000000   \n",
              "1     21.000000  1.520000   56.000000   3.0  3.0  3.000000  3.000000   \n",
              "2     23.000000  1.800000   77.000000   2.0  3.0  2.000000  2.000000   \n",
              "3     27.000000  1.800000   87.000000   3.0  3.0  2.000000  2.000000   \n",
              "4     22.000000  1.780000   89.800000   2.0  1.0  2.000000  0.000000   \n",
              "...         ...       ...         ...   ...  ...       ...       ...   \n",
              "2106  20.976842  1.710730  131.408528   3.0  3.0  1.728139  1.676269   \n",
              "2107  21.982942  1.748584  133.742943   3.0  3.0  2.005130  1.341390   \n",
              "2108  22.524036  1.752206  133.689352   3.0  3.0  2.054193  1.414209   \n",
              "2109  24.361936  1.739450  133.346641   3.0  3.0  2.852339  1.139107   \n",
              "2110  23.664709  1.738836  133.472641   3.0  3.0  2.863513  1.026452   \n",
              "\n",
              "           TUE           NObeyesdad  Gender_Male  ...  SMOKE_yes  SCC_yes  \\\n",
              "0     1.000000        Normal_Weight            0  ...          0        0   \n",
              "1     0.000000        Normal_Weight            0  ...          1        1   \n",
              "2     1.000000        Normal_Weight            1  ...          0        0   \n",
              "3     0.000000   Overweight_Level_I            1  ...          0        0   \n",
              "4     0.000000  Overweight_Level_II            1  ...          0        0   \n",
              "...        ...                  ...          ...  ...        ...      ...   \n",
              "2106  0.906247     Obesity_Type_III            0  ...          0        0   \n",
              "2107  0.599270     Obesity_Type_III            0  ...          0        0   \n",
              "2108  0.646288     Obesity_Type_III            0  ...          0        0   \n",
              "2109  0.586035     Obesity_Type_III            0  ...          0        0   \n",
              "2110  0.714137     Obesity_Type_III            0  ...          0        0   \n",
              "\n",
              "      CALC_Frequently  CALC_Sometimes  CALC_no  MTRANS_Bike  MTRANS_Motorbike  \\\n",
              "0                   0               0        1            0                 0   \n",
              "1                   0               1        0            0                 0   \n",
              "2                   1               0        0            0                 0   \n",
              "3                   1               0        0            0                 0   \n",
              "4                   0               1        0            0                 0   \n",
              "...               ...             ...      ...          ...               ...   \n",
              "2106                0               1        0            0                 0   \n",
              "2107                0               1        0            0                 0   \n",
              "2108                0               1        0            0                 0   \n",
              "2109                0               1        0            0                 0   \n",
              "2110                0               1        0            0                 0   \n",
              "\n",
              "      MTRANS_Public_Transportation  MTRANS_Walking  NObeyesdad_encoded  \n",
              "0                                1               0                   1  \n",
              "1                                1               0                   1  \n",
              "2                                1               0                   1  \n",
              "3                                0               1                   5  \n",
              "4                                1               0                   6  \n",
              "...                            ...             ...                 ...  \n",
              "2106                             1               0                   4  \n",
              "2107                             1               0                   4  \n",
              "2108                             1               0                   4  \n",
              "2109                             1               0                   4  \n",
              "2110                             1               0                   4  \n",
              "\n",
              "[1942 rows x 25 columns]"
            ],
            "text/html": [
              "\n",
              "  <div id=\"df-77dcd658-0352-4bfb-969c-b3e2d30ddded\" class=\"colab-df-container\">\n",
              "    <div>\n",
              "<style scoped>\n",
              "    .dataframe tbody tr th:only-of-type {\n",
              "        vertical-align: middle;\n",
              "    }\n",
              "\n",
              "    .dataframe tbody tr th {\n",
              "        vertical-align: top;\n",
              "    }\n",
              "\n",
              "    .dataframe thead th {\n",
              "        text-align: right;\n",
              "    }\n",
              "</style>\n",
              "<table border=\"1\" class=\"dataframe\">\n",
              "  <thead>\n",
              "    <tr style=\"text-align: right;\">\n",
              "      <th></th>\n",
              "      <th>Age</th>\n",
              "      <th>Height</th>\n",
              "      <th>Weight</th>\n",
              "      <th>FCVC</th>\n",
              "      <th>NCP</th>\n",
              "      <th>CH2O</th>\n",
              "      <th>FAF</th>\n",
              "      <th>TUE</th>\n",
              "      <th>NObeyesdad</th>\n",
              "      <th>Gender_Male</th>\n",
              "      <th>...</th>\n",
              "      <th>SMOKE_yes</th>\n",
              "      <th>SCC_yes</th>\n",
              "      <th>CALC_Frequently</th>\n",
              "      <th>CALC_Sometimes</th>\n",
              "      <th>CALC_no</th>\n",
              "      <th>MTRANS_Bike</th>\n",
              "      <th>MTRANS_Motorbike</th>\n",
              "      <th>MTRANS_Public_Transportation</th>\n",
              "      <th>MTRANS_Walking</th>\n",
              "      <th>NObeyesdad_encoded</th>\n",
              "    </tr>\n",
              "  </thead>\n",
              "  <tbody>\n",
              "    <tr>\n",
              "      <th>0</th>\n",
              "      <td>21.000000</td>\n",
              "      <td>1.620000</td>\n",
              "      <td>64.000000</td>\n",
              "      <td>2.0</td>\n",
              "      <td>3.0</td>\n",
              "      <td>2.000000</td>\n",
              "      <td>0.000000</td>\n",
              "      <td>1.000000</td>\n",
              "      <td>Normal_Weight</td>\n",
              "      <td>0</td>\n",
              "      <td>...</td>\n",
              "      <td>0</td>\n",
              "      <td>0</td>\n",
              "      <td>0</td>\n",
              "      <td>0</td>\n",
              "      <td>1</td>\n",
              "      <td>0</td>\n",
              "      <td>0</td>\n",
              "      <td>1</td>\n",
              "      <td>0</td>\n",
              "      <td>1</td>\n",
              "    </tr>\n",
              "    <tr>\n",
              "      <th>1</th>\n",
              "      <td>21.000000</td>\n",
              "      <td>1.520000</td>\n",
              "      <td>56.000000</td>\n",
              "      <td>3.0</td>\n",
              "      <td>3.0</td>\n",
              "      <td>3.000000</td>\n",
              "      <td>3.000000</td>\n",
              "      <td>0.000000</td>\n",
              "      <td>Normal_Weight</td>\n",
              "      <td>0</td>\n",
              "      <td>...</td>\n",
              "      <td>1</td>\n",
              "      <td>1</td>\n",
              "      <td>0</td>\n",
              "      <td>1</td>\n",
              "      <td>0</td>\n",
              "      <td>0</td>\n",
              "      <td>0</td>\n",
              "      <td>1</td>\n",
              "      <td>0</td>\n",
              "      <td>1</td>\n",
              "    </tr>\n",
              "    <tr>\n",
              "      <th>2</th>\n",
              "      <td>23.000000</td>\n",
              "      <td>1.800000</td>\n",
              "      <td>77.000000</td>\n",
              "      <td>2.0</td>\n",
              "      <td>3.0</td>\n",
              "      <td>2.000000</td>\n",
              "      <td>2.000000</td>\n",
              "      <td>1.000000</td>\n",
              "      <td>Normal_Weight</td>\n",
              "      <td>1</td>\n",
              "      <td>...</td>\n",
              "      <td>0</td>\n",
              "      <td>0</td>\n",
              "      <td>1</td>\n",
              "      <td>0</td>\n",
              "      <td>0</td>\n",
              "      <td>0</td>\n",
              "      <td>0</td>\n",
              "      <td>1</td>\n",
              "      <td>0</td>\n",
              "      <td>1</td>\n",
              "    </tr>\n",
              "    <tr>\n",
              "      <th>3</th>\n",
              "      <td>27.000000</td>\n",
              "      <td>1.800000</td>\n",
              "      <td>87.000000</td>\n",
              "      <td>3.0</td>\n",
              "      <td>3.0</td>\n",
              "      <td>2.000000</td>\n",
              "      <td>2.000000</td>\n",
              "      <td>0.000000</td>\n",
              "      <td>Overweight_Level_I</td>\n",
              "      <td>1</td>\n",
              "      <td>...</td>\n",
              "      <td>0</td>\n",
              "      <td>0</td>\n",
              "      <td>1</td>\n",
              "      <td>0</td>\n",
              "      <td>0</td>\n",
              "      <td>0</td>\n",
              "      <td>0</td>\n",
              "      <td>0</td>\n",
              "      <td>1</td>\n",
              "      <td>5</td>\n",
              "    </tr>\n",
              "    <tr>\n",
              "      <th>4</th>\n",
              "      <td>22.000000</td>\n",
              "      <td>1.780000</td>\n",
              "      <td>89.800000</td>\n",
              "      <td>2.0</td>\n",
              "      <td>1.0</td>\n",
              "      <td>2.000000</td>\n",
              "      <td>0.000000</td>\n",
              "      <td>0.000000</td>\n",
              "      <td>Overweight_Level_II</td>\n",
              "      <td>1</td>\n",
              "      <td>...</td>\n",
              "      <td>0</td>\n",
              "      <td>0</td>\n",
              "      <td>0</td>\n",
              "      <td>1</td>\n",
              "      <td>0</td>\n",
              "      <td>0</td>\n",
              "      <td>0</td>\n",
              "      <td>1</td>\n",
              "      <td>0</td>\n",
              "      <td>6</td>\n",
              "    </tr>\n",
              "    <tr>\n",
              "      <th>...</th>\n",
              "      <td>...</td>\n",
              "      <td>...</td>\n",
              "      <td>...</td>\n",
              "      <td>...</td>\n",
              "      <td>...</td>\n",
              "      <td>...</td>\n",
              "      <td>...</td>\n",
              "      <td>...</td>\n",
              "      <td>...</td>\n",
              "      <td>...</td>\n",
              "      <td>...</td>\n",
              "      <td>...</td>\n",
              "      <td>...</td>\n",
              "      <td>...</td>\n",
              "      <td>...</td>\n",
              "      <td>...</td>\n",
              "      <td>...</td>\n",
              "      <td>...</td>\n",
              "      <td>...</td>\n",
              "      <td>...</td>\n",
              "      <td>...</td>\n",
              "    </tr>\n",
              "    <tr>\n",
              "      <th>2106</th>\n",
              "      <td>20.976842</td>\n",
              "      <td>1.710730</td>\n",
              "      <td>131.408528</td>\n",
              "      <td>3.0</td>\n",
              "      <td>3.0</td>\n",
              "      <td>1.728139</td>\n",
              "      <td>1.676269</td>\n",
              "      <td>0.906247</td>\n",
              "      <td>Obesity_Type_III</td>\n",
              "      <td>0</td>\n",
              "      <td>...</td>\n",
              "      <td>0</td>\n",
              "      <td>0</td>\n",
              "      <td>0</td>\n",
              "      <td>1</td>\n",
              "      <td>0</td>\n",
              "      <td>0</td>\n",
              "      <td>0</td>\n",
              "      <td>1</td>\n",
              "      <td>0</td>\n",
              "      <td>4</td>\n",
              "    </tr>\n",
              "    <tr>\n",
              "      <th>2107</th>\n",
              "      <td>21.982942</td>\n",
              "      <td>1.748584</td>\n",
              "      <td>133.742943</td>\n",
              "      <td>3.0</td>\n",
              "      <td>3.0</td>\n",
              "      <td>2.005130</td>\n",
              "      <td>1.341390</td>\n",
              "      <td>0.599270</td>\n",
              "      <td>Obesity_Type_III</td>\n",
              "      <td>0</td>\n",
              "      <td>...</td>\n",
              "      <td>0</td>\n",
              "      <td>0</td>\n",
              "      <td>0</td>\n",
              "      <td>1</td>\n",
              "      <td>0</td>\n",
              "      <td>0</td>\n",
              "      <td>0</td>\n",
              "      <td>1</td>\n",
              "      <td>0</td>\n",
              "      <td>4</td>\n",
              "    </tr>\n",
              "    <tr>\n",
              "      <th>2108</th>\n",
              "      <td>22.524036</td>\n",
              "      <td>1.752206</td>\n",
              "      <td>133.689352</td>\n",
              "      <td>3.0</td>\n",
              "      <td>3.0</td>\n",
              "      <td>2.054193</td>\n",
              "      <td>1.414209</td>\n",
              "      <td>0.646288</td>\n",
              "      <td>Obesity_Type_III</td>\n",
              "      <td>0</td>\n",
              "      <td>...</td>\n",
              "      <td>0</td>\n",
              "      <td>0</td>\n",
              "      <td>0</td>\n",
              "      <td>1</td>\n",
              "      <td>0</td>\n",
              "      <td>0</td>\n",
              "      <td>0</td>\n",
              "      <td>1</td>\n",
              "      <td>0</td>\n",
              "      <td>4</td>\n",
              "    </tr>\n",
              "    <tr>\n",
              "      <th>2109</th>\n",
              "      <td>24.361936</td>\n",
              "      <td>1.739450</td>\n",
              "      <td>133.346641</td>\n",
              "      <td>3.0</td>\n",
              "      <td>3.0</td>\n",
              "      <td>2.852339</td>\n",
              "      <td>1.139107</td>\n",
              "      <td>0.586035</td>\n",
              "      <td>Obesity_Type_III</td>\n",
              "      <td>0</td>\n",
              "      <td>...</td>\n",
              "      <td>0</td>\n",
              "      <td>0</td>\n",
              "      <td>0</td>\n",
              "      <td>1</td>\n",
              "      <td>0</td>\n",
              "      <td>0</td>\n",
              "      <td>0</td>\n",
              "      <td>1</td>\n",
              "      <td>0</td>\n",
              "      <td>4</td>\n",
              "    </tr>\n",
              "    <tr>\n",
              "      <th>2110</th>\n",
              "      <td>23.664709</td>\n",
              "      <td>1.738836</td>\n",
              "      <td>133.472641</td>\n",
              "      <td>3.0</td>\n",
              "      <td>3.0</td>\n",
              "      <td>2.863513</td>\n",
              "      <td>1.026452</td>\n",
              "      <td>0.714137</td>\n",
              "      <td>Obesity_Type_III</td>\n",
              "      <td>0</td>\n",
              "      <td>...</td>\n",
              "      <td>0</td>\n",
              "      <td>0</td>\n",
              "      <td>0</td>\n",
              "      <td>1</td>\n",
              "      <td>0</td>\n",
              "      <td>0</td>\n",
              "      <td>0</td>\n",
              "      <td>1</td>\n",
              "      <td>0</td>\n",
              "      <td>4</td>\n",
              "    </tr>\n",
              "  </tbody>\n",
              "</table>\n",
              "<p>1942 rows × 25 columns</p>\n",
              "</div>\n",
              "    <div class=\"colab-df-buttons\">\n",
              "\n",
              "  <div class=\"colab-df-container\">\n",
              "    <button class=\"colab-df-convert\" onclick=\"convertToInteractive('df-77dcd658-0352-4bfb-969c-b3e2d30ddded')\"\n",
              "            title=\"Convert this dataframe to an interactive table.\"\n",
              "            style=\"display:none;\">\n",
              "\n",
              "  <svg xmlns=\"http://www.w3.org/2000/svg\" height=\"24px\" viewBox=\"0 -960 960 960\">\n",
              "    <path d=\"M120-120v-720h720v720H120Zm60-500h600v-160H180v160Zm220 220h160v-160H400v160Zm0 220h160v-160H400v160ZM180-400h160v-160H180v160Zm440 0h160v-160H620v160ZM180-180h160v-160H180v160Zm440 0h160v-160H620v160Z\"/>\n",
              "  </svg>\n",
              "    </button>\n",
              "\n",
              "  <style>\n",
              "    .colab-df-container {\n",
              "      display:flex;\n",
              "      gap: 12px;\n",
              "    }\n",
              "\n",
              "    .colab-df-convert {\n",
              "      background-color: #E8F0FE;\n",
              "      border: none;\n",
              "      border-radius: 50%;\n",
              "      cursor: pointer;\n",
              "      display: none;\n",
              "      fill: #1967D2;\n",
              "      height: 32px;\n",
              "      padding: 0 0 0 0;\n",
              "      width: 32px;\n",
              "    }\n",
              "\n",
              "    .colab-df-convert:hover {\n",
              "      background-color: #E2EBFA;\n",
              "      box-shadow: 0px 1px 2px rgba(60, 64, 67, 0.3), 0px 1px 3px 1px rgba(60, 64, 67, 0.15);\n",
              "      fill: #174EA6;\n",
              "    }\n",
              "\n",
              "    .colab-df-buttons div {\n",
              "      margin-bottom: 4px;\n",
              "    }\n",
              "\n",
              "    [theme=dark] .colab-df-convert {\n",
              "      background-color: #3B4455;\n",
              "      fill: #D2E3FC;\n",
              "    }\n",
              "\n",
              "    [theme=dark] .colab-df-convert:hover {\n",
              "      background-color: #434B5C;\n",
              "      box-shadow: 0px 1px 3px 1px rgba(0, 0, 0, 0.15);\n",
              "      filter: drop-shadow(0px 1px 2px rgba(0, 0, 0, 0.3));\n",
              "      fill: #FFFFFF;\n",
              "    }\n",
              "  </style>\n",
              "\n",
              "    <script>\n",
              "      const buttonEl =\n",
              "        document.querySelector('#df-77dcd658-0352-4bfb-969c-b3e2d30ddded button.colab-df-convert');\n",
              "      buttonEl.style.display =\n",
              "        google.colab.kernel.accessAllowed ? 'block' : 'none';\n",
              "\n",
              "      async function convertToInteractive(key) {\n",
              "        const element = document.querySelector('#df-77dcd658-0352-4bfb-969c-b3e2d30ddded');\n",
              "        const dataTable =\n",
              "          await google.colab.kernel.invokeFunction('convertToInteractive',\n",
              "                                                    [key], {});\n",
              "        if (!dataTable) return;\n",
              "\n",
              "        const docLinkHtml = 'Like what you see? Visit the ' +\n",
              "          '<a target=\"_blank\" href=https://colab.research.google.com/notebooks/data_table.ipynb>data table notebook</a>'\n",
              "          + ' to learn more about interactive tables.';\n",
              "        element.innerHTML = '';\n",
              "        dataTable['output_type'] = 'display_data';\n",
              "        await google.colab.output.renderOutput(dataTable, element);\n",
              "        const docLink = document.createElement('div');\n",
              "        docLink.innerHTML = docLinkHtml;\n",
              "        element.appendChild(docLink);\n",
              "      }\n",
              "    </script>\n",
              "  </div>\n",
              "\n",
              "\n",
              "<div id=\"df-723811f0-bfb2-435c-8d4a-2fb693e5c228\">\n",
              "  <button class=\"colab-df-quickchart\" onclick=\"quickchart('df-723811f0-bfb2-435c-8d4a-2fb693e5c228')\"\n",
              "            title=\"Suggest charts\"\n",
              "            style=\"display:none;\">\n",
              "\n",
              "<svg xmlns=\"http://www.w3.org/2000/svg\" height=\"24px\"viewBox=\"0 0 24 24\"\n",
              "     width=\"24px\">\n",
              "    <g>\n",
              "        <path d=\"M19 3H5c-1.1 0-2 .9-2 2v14c0 1.1.9 2 2 2h14c1.1 0 2-.9 2-2V5c0-1.1-.9-2-2-2zM9 17H7v-7h2v7zm4 0h-2V7h2v10zm4 0h-2v-4h2v4z\"/>\n",
              "    </g>\n",
              "</svg>\n",
              "  </button>\n",
              "\n",
              "<style>\n",
              "  .colab-df-quickchart {\n",
              "      --bg-color: #E8F0FE;\n",
              "      --fill-color: #1967D2;\n",
              "      --hover-bg-color: #E2EBFA;\n",
              "      --hover-fill-color: #174EA6;\n",
              "      --disabled-fill-color: #AAA;\n",
              "      --disabled-bg-color: #DDD;\n",
              "  }\n",
              "\n",
              "  [theme=dark] .colab-df-quickchart {\n",
              "      --bg-color: #3B4455;\n",
              "      --fill-color: #D2E3FC;\n",
              "      --hover-bg-color: #434B5C;\n",
              "      --hover-fill-color: #FFFFFF;\n",
              "      --disabled-bg-color: #3B4455;\n",
              "      --disabled-fill-color: #666;\n",
              "  }\n",
              "\n",
              "  .colab-df-quickchart {\n",
              "    background-color: var(--bg-color);\n",
              "    border: none;\n",
              "    border-radius: 50%;\n",
              "    cursor: pointer;\n",
              "    display: none;\n",
              "    fill: var(--fill-color);\n",
              "    height: 32px;\n",
              "    padding: 0;\n",
              "    width: 32px;\n",
              "  }\n",
              "\n",
              "  .colab-df-quickchart:hover {\n",
              "    background-color: var(--hover-bg-color);\n",
              "    box-shadow: 0 1px 2px rgba(60, 64, 67, 0.3), 0 1px 3px 1px rgba(60, 64, 67, 0.15);\n",
              "    fill: var(--button-hover-fill-color);\n",
              "  }\n",
              "\n",
              "  .colab-df-quickchart-complete:disabled,\n",
              "  .colab-df-quickchart-complete:disabled:hover {\n",
              "    background-color: var(--disabled-bg-color);\n",
              "    fill: var(--disabled-fill-color);\n",
              "    box-shadow: none;\n",
              "  }\n",
              "\n",
              "  .colab-df-spinner {\n",
              "    border: 2px solid var(--fill-color);\n",
              "    border-color: transparent;\n",
              "    border-bottom-color: var(--fill-color);\n",
              "    animation:\n",
              "      spin 1s steps(1) infinite;\n",
              "  }\n",
              "\n",
              "  @keyframes spin {\n",
              "    0% {\n",
              "      border-color: transparent;\n",
              "      border-bottom-color: var(--fill-color);\n",
              "      border-left-color: var(--fill-color);\n",
              "    }\n",
              "    20% {\n",
              "      border-color: transparent;\n",
              "      border-left-color: var(--fill-color);\n",
              "      border-top-color: var(--fill-color);\n",
              "    }\n",
              "    30% {\n",
              "      border-color: transparent;\n",
              "      border-left-color: var(--fill-color);\n",
              "      border-top-color: var(--fill-color);\n",
              "      border-right-color: var(--fill-color);\n",
              "    }\n",
              "    40% {\n",
              "      border-color: transparent;\n",
              "      border-right-color: var(--fill-color);\n",
              "      border-top-color: var(--fill-color);\n",
              "    }\n",
              "    60% {\n",
              "      border-color: transparent;\n",
              "      border-right-color: var(--fill-color);\n",
              "    }\n",
              "    80% {\n",
              "      border-color: transparent;\n",
              "      border-right-color: var(--fill-color);\n",
              "      border-bottom-color: var(--fill-color);\n",
              "    }\n",
              "    90% {\n",
              "      border-color: transparent;\n",
              "      border-bottom-color: var(--fill-color);\n",
              "    }\n",
              "  }\n",
              "</style>\n",
              "\n",
              "  <script>\n",
              "    async function quickchart(key) {\n",
              "      const quickchartButtonEl =\n",
              "        document.querySelector('#' + key + ' button');\n",
              "      quickchartButtonEl.disabled = true;  // To prevent multiple clicks.\n",
              "      quickchartButtonEl.classList.add('colab-df-spinner');\n",
              "      try {\n",
              "        const charts = await google.colab.kernel.invokeFunction(\n",
              "            'suggestCharts', [key], {});\n",
              "      } catch (error) {\n",
              "        console.error('Error during call to suggestCharts:', error);\n",
              "      }\n",
              "      quickchartButtonEl.classList.remove('colab-df-spinner');\n",
              "      quickchartButtonEl.classList.add('colab-df-quickchart-complete');\n",
              "    }\n",
              "    (() => {\n",
              "      let quickchartButtonEl =\n",
              "        document.querySelector('#df-723811f0-bfb2-435c-8d4a-2fb693e5c228 button');\n",
              "      quickchartButtonEl.style.display =\n",
              "        google.colab.kernel.accessAllowed ? 'block' : 'none';\n",
              "    })();\n",
              "  </script>\n",
              "</div>\n",
              "\n",
              "  <div id=\"id_257364ce-ce40-4ca2-9fb6-2fcf5479a38c\">\n",
              "    <style>\n",
              "      .colab-df-generate {\n",
              "        background-color: #E8F0FE;\n",
              "        border: none;\n",
              "        border-radius: 50%;\n",
              "        cursor: pointer;\n",
              "        display: none;\n",
              "        fill: #1967D2;\n",
              "        height: 32px;\n",
              "        padding: 0 0 0 0;\n",
              "        width: 32px;\n",
              "      }\n",
              "\n",
              "      .colab-df-generate:hover {\n",
              "        background-color: #E2EBFA;\n",
              "        box-shadow: 0px 1px 2px rgba(60, 64, 67, 0.3), 0px 1px 3px 1px rgba(60, 64, 67, 0.15);\n",
              "        fill: #174EA6;\n",
              "      }\n",
              "\n",
              "      [theme=dark] .colab-df-generate {\n",
              "        background-color: #3B4455;\n",
              "        fill: #D2E3FC;\n",
              "      }\n",
              "\n",
              "      [theme=dark] .colab-df-generate:hover {\n",
              "        background-color: #434B5C;\n",
              "        box-shadow: 0px 1px 3px 1px rgba(0, 0, 0, 0.15);\n",
              "        filter: drop-shadow(0px 1px 2px rgba(0, 0, 0, 0.3));\n",
              "        fill: #FFFFFF;\n",
              "      }\n",
              "    </style>\n",
              "    <button class=\"colab-df-generate\" onclick=\"generateWithVariable('df')\"\n",
              "            title=\"Generate code using this dataframe.\"\n",
              "            style=\"display:none;\">\n",
              "\n",
              "  <svg xmlns=\"http://www.w3.org/2000/svg\" height=\"24px\"viewBox=\"0 0 24 24\"\n",
              "       width=\"24px\">\n",
              "    <path d=\"M7,19H8.4L18.45,9,17,7.55,7,17.6ZM5,21V16.75L18.45,3.32a2,2,0,0,1,2.83,0l1.4,1.43a1.91,1.91,0,0,1,.58,1.4,1.91,1.91,0,0,1-.58,1.4L9.25,21ZM18.45,9,17,7.55Zm-12,3A5.31,5.31,0,0,0,4.9,8.1,5.31,5.31,0,0,0,1,6.5,5.31,5.31,0,0,0,4.9,4.9,5.31,5.31,0,0,0,6.5,1,5.31,5.31,0,0,0,8.1,4.9,5.31,5.31,0,0,0,12,6.5,5.46,5.46,0,0,0,6.5,12Z\"/>\n",
              "  </svg>\n",
              "    </button>\n",
              "    <script>\n",
              "      (() => {\n",
              "      const buttonEl =\n",
              "        document.querySelector('#id_257364ce-ce40-4ca2-9fb6-2fcf5479a38c button.colab-df-generate');\n",
              "      buttonEl.style.display =\n",
              "        google.colab.kernel.accessAllowed ? 'block' : 'none';\n",
              "\n",
              "      buttonEl.onclick = () => {\n",
              "        google.colab.notebook.generateWithVariable('df');\n",
              "      }\n",
              "      })();\n",
              "    </script>\n",
              "  </div>\n",
              "\n",
              "    </div>\n",
              "  </div>\n"
            ],
            "application/vnd.google.colaboratory.intrinsic+json": {
              "type": "dataframe",
              "variable_name": "df"
            }
          },
          "metadata": {},
          "execution_count": 64
        }
      ]
    },
    {
      "cell_type": "code",
      "source": [
        "df.drop(columns=['NObeyesdad'], inplace=True)"
      ],
      "metadata": {
        "id": "NZQrhvxxAkf9"
      },
      "execution_count": 65,
      "outputs": []
    },
    {
      "cell_type": "code",
      "source": [
        "df"
      ],
      "metadata": {
        "colab": {
          "base_uri": "https://localhost:8080/",
          "height": 443
        },
        "id": "-FEjMFjEAvV3",
        "outputId": "b7f6bc64-7946-4e1a-fe91-33149630108e"
      },
      "execution_count": 66,
      "outputs": [
        {
          "output_type": "execute_result",
          "data": {
            "text/plain": [
              "            Age    Height      Weight  FCVC  NCP      CH2O       FAF  \\\n",
              "0     21.000000  1.620000   64.000000   2.0  3.0  2.000000  0.000000   \n",
              "1     21.000000  1.520000   56.000000   3.0  3.0  3.000000  3.000000   \n",
              "2     23.000000  1.800000   77.000000   2.0  3.0  2.000000  2.000000   \n",
              "3     27.000000  1.800000   87.000000   3.0  3.0  2.000000  2.000000   \n",
              "4     22.000000  1.780000   89.800000   2.0  1.0  2.000000  0.000000   \n",
              "...         ...       ...         ...   ...  ...       ...       ...   \n",
              "2106  20.976842  1.710730  131.408528   3.0  3.0  1.728139  1.676269   \n",
              "2107  21.982942  1.748584  133.742943   3.0  3.0  2.005130  1.341390   \n",
              "2108  22.524036  1.752206  133.689352   3.0  3.0  2.054193  1.414209   \n",
              "2109  24.361936  1.739450  133.346641   3.0  3.0  2.852339  1.139107   \n",
              "2110  23.664709  1.738836  133.472641   3.0  3.0  2.863513  1.026452   \n",
              "\n",
              "           TUE  Gender_Male  family_history_with_overweight_yes  ...  \\\n",
              "0     1.000000            0                                   1  ...   \n",
              "1     0.000000            0                                   1  ...   \n",
              "2     1.000000            1                                   1  ...   \n",
              "3     0.000000            1                                   0  ...   \n",
              "4     0.000000            1                                   0  ...   \n",
              "...        ...          ...                                 ...  ...   \n",
              "2106  0.906247            0                                   1  ...   \n",
              "2107  0.599270            0                                   1  ...   \n",
              "2108  0.646288            0                                   1  ...   \n",
              "2109  0.586035            0                                   1  ...   \n",
              "2110  0.714137            0                                   1  ...   \n",
              "\n",
              "      SMOKE_yes  SCC_yes  CALC_Frequently  CALC_Sometimes  CALC_no  \\\n",
              "0             0        0                0               0        1   \n",
              "1             1        1                0               1        0   \n",
              "2             0        0                1               0        0   \n",
              "3             0        0                1               0        0   \n",
              "4             0        0                0               1        0   \n",
              "...         ...      ...              ...             ...      ...   \n",
              "2106          0        0                0               1        0   \n",
              "2107          0        0                0               1        0   \n",
              "2108          0        0                0               1        0   \n",
              "2109          0        0                0               1        0   \n",
              "2110          0        0                0               1        0   \n",
              "\n",
              "      MTRANS_Bike  MTRANS_Motorbike  MTRANS_Public_Transportation  \\\n",
              "0               0                 0                             1   \n",
              "1               0                 0                             1   \n",
              "2               0                 0                             1   \n",
              "3               0                 0                             0   \n",
              "4               0                 0                             1   \n",
              "...           ...               ...                           ...   \n",
              "2106            0                 0                             1   \n",
              "2107            0                 0                             1   \n",
              "2108            0                 0                             1   \n",
              "2109            0                 0                             1   \n",
              "2110            0                 0                             1   \n",
              "\n",
              "      MTRANS_Walking  NObeyesdad_encoded  \n",
              "0                  0                   1  \n",
              "1                  0                   1  \n",
              "2                  0                   1  \n",
              "3                  1                   5  \n",
              "4                  0                   6  \n",
              "...              ...                 ...  \n",
              "2106               0                   4  \n",
              "2107               0                   4  \n",
              "2108               0                   4  \n",
              "2109               0                   4  \n",
              "2110               0                   4  \n",
              "\n",
              "[1942 rows x 24 columns]"
            ],
            "text/html": [
              "\n",
              "  <div id=\"df-502ea193-f2fb-4c84-b312-01580e81fc8c\" class=\"colab-df-container\">\n",
              "    <div>\n",
              "<style scoped>\n",
              "    .dataframe tbody tr th:only-of-type {\n",
              "        vertical-align: middle;\n",
              "    }\n",
              "\n",
              "    .dataframe tbody tr th {\n",
              "        vertical-align: top;\n",
              "    }\n",
              "\n",
              "    .dataframe thead th {\n",
              "        text-align: right;\n",
              "    }\n",
              "</style>\n",
              "<table border=\"1\" class=\"dataframe\">\n",
              "  <thead>\n",
              "    <tr style=\"text-align: right;\">\n",
              "      <th></th>\n",
              "      <th>Age</th>\n",
              "      <th>Height</th>\n",
              "      <th>Weight</th>\n",
              "      <th>FCVC</th>\n",
              "      <th>NCP</th>\n",
              "      <th>CH2O</th>\n",
              "      <th>FAF</th>\n",
              "      <th>TUE</th>\n",
              "      <th>Gender_Male</th>\n",
              "      <th>family_history_with_overweight_yes</th>\n",
              "      <th>...</th>\n",
              "      <th>SMOKE_yes</th>\n",
              "      <th>SCC_yes</th>\n",
              "      <th>CALC_Frequently</th>\n",
              "      <th>CALC_Sometimes</th>\n",
              "      <th>CALC_no</th>\n",
              "      <th>MTRANS_Bike</th>\n",
              "      <th>MTRANS_Motorbike</th>\n",
              "      <th>MTRANS_Public_Transportation</th>\n",
              "      <th>MTRANS_Walking</th>\n",
              "      <th>NObeyesdad_encoded</th>\n",
              "    </tr>\n",
              "  </thead>\n",
              "  <tbody>\n",
              "    <tr>\n",
              "      <th>0</th>\n",
              "      <td>21.000000</td>\n",
              "      <td>1.620000</td>\n",
              "      <td>64.000000</td>\n",
              "      <td>2.0</td>\n",
              "      <td>3.0</td>\n",
              "      <td>2.000000</td>\n",
              "      <td>0.000000</td>\n",
              "      <td>1.000000</td>\n",
              "      <td>0</td>\n",
              "      <td>1</td>\n",
              "      <td>...</td>\n",
              "      <td>0</td>\n",
              "      <td>0</td>\n",
              "      <td>0</td>\n",
              "      <td>0</td>\n",
              "      <td>1</td>\n",
              "      <td>0</td>\n",
              "      <td>0</td>\n",
              "      <td>1</td>\n",
              "      <td>0</td>\n",
              "      <td>1</td>\n",
              "    </tr>\n",
              "    <tr>\n",
              "      <th>1</th>\n",
              "      <td>21.000000</td>\n",
              "      <td>1.520000</td>\n",
              "      <td>56.000000</td>\n",
              "      <td>3.0</td>\n",
              "      <td>3.0</td>\n",
              "      <td>3.000000</td>\n",
              "      <td>3.000000</td>\n",
              "      <td>0.000000</td>\n",
              "      <td>0</td>\n",
              "      <td>1</td>\n",
              "      <td>...</td>\n",
              "      <td>1</td>\n",
              "      <td>1</td>\n",
              "      <td>0</td>\n",
              "      <td>1</td>\n",
              "      <td>0</td>\n",
              "      <td>0</td>\n",
              "      <td>0</td>\n",
              "      <td>1</td>\n",
              "      <td>0</td>\n",
              "      <td>1</td>\n",
              "    </tr>\n",
              "    <tr>\n",
              "      <th>2</th>\n",
              "      <td>23.000000</td>\n",
              "      <td>1.800000</td>\n",
              "      <td>77.000000</td>\n",
              "      <td>2.0</td>\n",
              "      <td>3.0</td>\n",
              "      <td>2.000000</td>\n",
              "      <td>2.000000</td>\n",
              "      <td>1.000000</td>\n",
              "      <td>1</td>\n",
              "      <td>1</td>\n",
              "      <td>...</td>\n",
              "      <td>0</td>\n",
              "      <td>0</td>\n",
              "      <td>1</td>\n",
              "      <td>0</td>\n",
              "      <td>0</td>\n",
              "      <td>0</td>\n",
              "      <td>0</td>\n",
              "      <td>1</td>\n",
              "      <td>0</td>\n",
              "      <td>1</td>\n",
              "    </tr>\n",
              "    <tr>\n",
              "      <th>3</th>\n",
              "      <td>27.000000</td>\n",
              "      <td>1.800000</td>\n",
              "      <td>87.000000</td>\n",
              "      <td>3.0</td>\n",
              "      <td>3.0</td>\n",
              "      <td>2.000000</td>\n",
              "      <td>2.000000</td>\n",
              "      <td>0.000000</td>\n",
              "      <td>1</td>\n",
              "      <td>0</td>\n",
              "      <td>...</td>\n",
              "      <td>0</td>\n",
              "      <td>0</td>\n",
              "      <td>1</td>\n",
              "      <td>0</td>\n",
              "      <td>0</td>\n",
              "      <td>0</td>\n",
              "      <td>0</td>\n",
              "      <td>0</td>\n",
              "      <td>1</td>\n",
              "      <td>5</td>\n",
              "    </tr>\n",
              "    <tr>\n",
              "      <th>4</th>\n",
              "      <td>22.000000</td>\n",
              "      <td>1.780000</td>\n",
              "      <td>89.800000</td>\n",
              "      <td>2.0</td>\n",
              "      <td>1.0</td>\n",
              "      <td>2.000000</td>\n",
              "      <td>0.000000</td>\n",
              "      <td>0.000000</td>\n",
              "      <td>1</td>\n",
              "      <td>0</td>\n",
              "      <td>...</td>\n",
              "      <td>0</td>\n",
              "      <td>0</td>\n",
              "      <td>0</td>\n",
              "      <td>1</td>\n",
              "      <td>0</td>\n",
              "      <td>0</td>\n",
              "      <td>0</td>\n",
              "      <td>1</td>\n",
              "      <td>0</td>\n",
              "      <td>6</td>\n",
              "    </tr>\n",
              "    <tr>\n",
              "      <th>...</th>\n",
              "      <td>...</td>\n",
              "      <td>...</td>\n",
              "      <td>...</td>\n",
              "      <td>...</td>\n",
              "      <td>...</td>\n",
              "      <td>...</td>\n",
              "      <td>...</td>\n",
              "      <td>...</td>\n",
              "      <td>...</td>\n",
              "      <td>...</td>\n",
              "      <td>...</td>\n",
              "      <td>...</td>\n",
              "      <td>...</td>\n",
              "      <td>...</td>\n",
              "      <td>...</td>\n",
              "      <td>...</td>\n",
              "      <td>...</td>\n",
              "      <td>...</td>\n",
              "      <td>...</td>\n",
              "      <td>...</td>\n",
              "      <td>...</td>\n",
              "    </tr>\n",
              "    <tr>\n",
              "      <th>2106</th>\n",
              "      <td>20.976842</td>\n",
              "      <td>1.710730</td>\n",
              "      <td>131.408528</td>\n",
              "      <td>3.0</td>\n",
              "      <td>3.0</td>\n",
              "      <td>1.728139</td>\n",
              "      <td>1.676269</td>\n",
              "      <td>0.906247</td>\n",
              "      <td>0</td>\n",
              "      <td>1</td>\n",
              "      <td>...</td>\n",
              "      <td>0</td>\n",
              "      <td>0</td>\n",
              "      <td>0</td>\n",
              "      <td>1</td>\n",
              "      <td>0</td>\n",
              "      <td>0</td>\n",
              "      <td>0</td>\n",
              "      <td>1</td>\n",
              "      <td>0</td>\n",
              "      <td>4</td>\n",
              "    </tr>\n",
              "    <tr>\n",
              "      <th>2107</th>\n",
              "      <td>21.982942</td>\n",
              "      <td>1.748584</td>\n",
              "      <td>133.742943</td>\n",
              "      <td>3.0</td>\n",
              "      <td>3.0</td>\n",
              "      <td>2.005130</td>\n",
              "      <td>1.341390</td>\n",
              "      <td>0.599270</td>\n",
              "      <td>0</td>\n",
              "      <td>1</td>\n",
              "      <td>...</td>\n",
              "      <td>0</td>\n",
              "      <td>0</td>\n",
              "      <td>0</td>\n",
              "      <td>1</td>\n",
              "      <td>0</td>\n",
              "      <td>0</td>\n",
              "      <td>0</td>\n",
              "      <td>1</td>\n",
              "      <td>0</td>\n",
              "      <td>4</td>\n",
              "    </tr>\n",
              "    <tr>\n",
              "      <th>2108</th>\n",
              "      <td>22.524036</td>\n",
              "      <td>1.752206</td>\n",
              "      <td>133.689352</td>\n",
              "      <td>3.0</td>\n",
              "      <td>3.0</td>\n",
              "      <td>2.054193</td>\n",
              "      <td>1.414209</td>\n",
              "      <td>0.646288</td>\n",
              "      <td>0</td>\n",
              "      <td>1</td>\n",
              "      <td>...</td>\n",
              "      <td>0</td>\n",
              "      <td>0</td>\n",
              "      <td>0</td>\n",
              "      <td>1</td>\n",
              "      <td>0</td>\n",
              "      <td>0</td>\n",
              "      <td>0</td>\n",
              "      <td>1</td>\n",
              "      <td>0</td>\n",
              "      <td>4</td>\n",
              "    </tr>\n",
              "    <tr>\n",
              "      <th>2109</th>\n",
              "      <td>24.361936</td>\n",
              "      <td>1.739450</td>\n",
              "      <td>133.346641</td>\n",
              "      <td>3.0</td>\n",
              "      <td>3.0</td>\n",
              "      <td>2.852339</td>\n",
              "      <td>1.139107</td>\n",
              "      <td>0.586035</td>\n",
              "      <td>0</td>\n",
              "      <td>1</td>\n",
              "      <td>...</td>\n",
              "      <td>0</td>\n",
              "      <td>0</td>\n",
              "      <td>0</td>\n",
              "      <td>1</td>\n",
              "      <td>0</td>\n",
              "      <td>0</td>\n",
              "      <td>0</td>\n",
              "      <td>1</td>\n",
              "      <td>0</td>\n",
              "      <td>4</td>\n",
              "    </tr>\n",
              "    <tr>\n",
              "      <th>2110</th>\n",
              "      <td>23.664709</td>\n",
              "      <td>1.738836</td>\n",
              "      <td>133.472641</td>\n",
              "      <td>3.0</td>\n",
              "      <td>3.0</td>\n",
              "      <td>2.863513</td>\n",
              "      <td>1.026452</td>\n",
              "      <td>0.714137</td>\n",
              "      <td>0</td>\n",
              "      <td>1</td>\n",
              "      <td>...</td>\n",
              "      <td>0</td>\n",
              "      <td>0</td>\n",
              "      <td>0</td>\n",
              "      <td>1</td>\n",
              "      <td>0</td>\n",
              "      <td>0</td>\n",
              "      <td>0</td>\n",
              "      <td>1</td>\n",
              "      <td>0</td>\n",
              "      <td>4</td>\n",
              "    </tr>\n",
              "  </tbody>\n",
              "</table>\n",
              "<p>1942 rows × 24 columns</p>\n",
              "</div>\n",
              "    <div class=\"colab-df-buttons\">\n",
              "\n",
              "  <div class=\"colab-df-container\">\n",
              "    <button class=\"colab-df-convert\" onclick=\"convertToInteractive('df-502ea193-f2fb-4c84-b312-01580e81fc8c')\"\n",
              "            title=\"Convert this dataframe to an interactive table.\"\n",
              "            style=\"display:none;\">\n",
              "\n",
              "  <svg xmlns=\"http://www.w3.org/2000/svg\" height=\"24px\" viewBox=\"0 -960 960 960\">\n",
              "    <path d=\"M120-120v-720h720v720H120Zm60-500h600v-160H180v160Zm220 220h160v-160H400v160Zm0 220h160v-160H400v160ZM180-400h160v-160H180v160Zm440 0h160v-160H620v160ZM180-180h160v-160H180v160Zm440 0h160v-160H620v160Z\"/>\n",
              "  </svg>\n",
              "    </button>\n",
              "\n",
              "  <style>\n",
              "    .colab-df-container {\n",
              "      display:flex;\n",
              "      gap: 12px;\n",
              "    }\n",
              "\n",
              "    .colab-df-convert {\n",
              "      background-color: #E8F0FE;\n",
              "      border: none;\n",
              "      border-radius: 50%;\n",
              "      cursor: pointer;\n",
              "      display: none;\n",
              "      fill: #1967D2;\n",
              "      height: 32px;\n",
              "      padding: 0 0 0 0;\n",
              "      width: 32px;\n",
              "    }\n",
              "\n",
              "    .colab-df-convert:hover {\n",
              "      background-color: #E2EBFA;\n",
              "      box-shadow: 0px 1px 2px rgba(60, 64, 67, 0.3), 0px 1px 3px 1px rgba(60, 64, 67, 0.15);\n",
              "      fill: #174EA6;\n",
              "    }\n",
              "\n",
              "    .colab-df-buttons div {\n",
              "      margin-bottom: 4px;\n",
              "    }\n",
              "\n",
              "    [theme=dark] .colab-df-convert {\n",
              "      background-color: #3B4455;\n",
              "      fill: #D2E3FC;\n",
              "    }\n",
              "\n",
              "    [theme=dark] .colab-df-convert:hover {\n",
              "      background-color: #434B5C;\n",
              "      box-shadow: 0px 1px 3px 1px rgba(0, 0, 0, 0.15);\n",
              "      filter: drop-shadow(0px 1px 2px rgba(0, 0, 0, 0.3));\n",
              "      fill: #FFFFFF;\n",
              "    }\n",
              "  </style>\n",
              "\n",
              "    <script>\n",
              "      const buttonEl =\n",
              "        document.querySelector('#df-502ea193-f2fb-4c84-b312-01580e81fc8c button.colab-df-convert');\n",
              "      buttonEl.style.display =\n",
              "        google.colab.kernel.accessAllowed ? 'block' : 'none';\n",
              "\n",
              "      async function convertToInteractive(key) {\n",
              "        const element = document.querySelector('#df-502ea193-f2fb-4c84-b312-01580e81fc8c');\n",
              "        const dataTable =\n",
              "          await google.colab.kernel.invokeFunction('convertToInteractive',\n",
              "                                                    [key], {});\n",
              "        if (!dataTable) return;\n",
              "\n",
              "        const docLinkHtml = 'Like what you see? Visit the ' +\n",
              "          '<a target=\"_blank\" href=https://colab.research.google.com/notebooks/data_table.ipynb>data table notebook</a>'\n",
              "          + ' to learn more about interactive tables.';\n",
              "        element.innerHTML = '';\n",
              "        dataTable['output_type'] = 'display_data';\n",
              "        await google.colab.output.renderOutput(dataTable, element);\n",
              "        const docLink = document.createElement('div');\n",
              "        docLink.innerHTML = docLinkHtml;\n",
              "        element.appendChild(docLink);\n",
              "      }\n",
              "    </script>\n",
              "  </div>\n",
              "\n",
              "\n",
              "<div id=\"df-c515cbf5-cd21-4da3-b5c3-2b2e9d5ea20d\">\n",
              "  <button class=\"colab-df-quickchart\" onclick=\"quickchart('df-c515cbf5-cd21-4da3-b5c3-2b2e9d5ea20d')\"\n",
              "            title=\"Suggest charts\"\n",
              "            style=\"display:none;\">\n",
              "\n",
              "<svg xmlns=\"http://www.w3.org/2000/svg\" height=\"24px\"viewBox=\"0 0 24 24\"\n",
              "     width=\"24px\">\n",
              "    <g>\n",
              "        <path d=\"M19 3H5c-1.1 0-2 .9-2 2v14c0 1.1.9 2 2 2h14c1.1 0 2-.9 2-2V5c0-1.1-.9-2-2-2zM9 17H7v-7h2v7zm4 0h-2V7h2v10zm4 0h-2v-4h2v4z\"/>\n",
              "    </g>\n",
              "</svg>\n",
              "  </button>\n",
              "\n",
              "<style>\n",
              "  .colab-df-quickchart {\n",
              "      --bg-color: #E8F0FE;\n",
              "      --fill-color: #1967D2;\n",
              "      --hover-bg-color: #E2EBFA;\n",
              "      --hover-fill-color: #174EA6;\n",
              "      --disabled-fill-color: #AAA;\n",
              "      --disabled-bg-color: #DDD;\n",
              "  }\n",
              "\n",
              "  [theme=dark] .colab-df-quickchart {\n",
              "      --bg-color: #3B4455;\n",
              "      --fill-color: #D2E3FC;\n",
              "      --hover-bg-color: #434B5C;\n",
              "      --hover-fill-color: #FFFFFF;\n",
              "      --disabled-bg-color: #3B4455;\n",
              "      --disabled-fill-color: #666;\n",
              "  }\n",
              "\n",
              "  .colab-df-quickchart {\n",
              "    background-color: var(--bg-color);\n",
              "    border: none;\n",
              "    border-radius: 50%;\n",
              "    cursor: pointer;\n",
              "    display: none;\n",
              "    fill: var(--fill-color);\n",
              "    height: 32px;\n",
              "    padding: 0;\n",
              "    width: 32px;\n",
              "  }\n",
              "\n",
              "  .colab-df-quickchart:hover {\n",
              "    background-color: var(--hover-bg-color);\n",
              "    box-shadow: 0 1px 2px rgba(60, 64, 67, 0.3), 0 1px 3px 1px rgba(60, 64, 67, 0.15);\n",
              "    fill: var(--button-hover-fill-color);\n",
              "  }\n",
              "\n",
              "  .colab-df-quickchart-complete:disabled,\n",
              "  .colab-df-quickchart-complete:disabled:hover {\n",
              "    background-color: var(--disabled-bg-color);\n",
              "    fill: var(--disabled-fill-color);\n",
              "    box-shadow: none;\n",
              "  }\n",
              "\n",
              "  .colab-df-spinner {\n",
              "    border: 2px solid var(--fill-color);\n",
              "    border-color: transparent;\n",
              "    border-bottom-color: var(--fill-color);\n",
              "    animation:\n",
              "      spin 1s steps(1) infinite;\n",
              "  }\n",
              "\n",
              "  @keyframes spin {\n",
              "    0% {\n",
              "      border-color: transparent;\n",
              "      border-bottom-color: var(--fill-color);\n",
              "      border-left-color: var(--fill-color);\n",
              "    }\n",
              "    20% {\n",
              "      border-color: transparent;\n",
              "      border-left-color: var(--fill-color);\n",
              "      border-top-color: var(--fill-color);\n",
              "    }\n",
              "    30% {\n",
              "      border-color: transparent;\n",
              "      border-left-color: var(--fill-color);\n",
              "      border-top-color: var(--fill-color);\n",
              "      border-right-color: var(--fill-color);\n",
              "    }\n",
              "    40% {\n",
              "      border-color: transparent;\n",
              "      border-right-color: var(--fill-color);\n",
              "      border-top-color: var(--fill-color);\n",
              "    }\n",
              "    60% {\n",
              "      border-color: transparent;\n",
              "      border-right-color: var(--fill-color);\n",
              "    }\n",
              "    80% {\n",
              "      border-color: transparent;\n",
              "      border-right-color: var(--fill-color);\n",
              "      border-bottom-color: var(--fill-color);\n",
              "    }\n",
              "    90% {\n",
              "      border-color: transparent;\n",
              "      border-bottom-color: var(--fill-color);\n",
              "    }\n",
              "  }\n",
              "</style>\n",
              "\n",
              "  <script>\n",
              "    async function quickchart(key) {\n",
              "      const quickchartButtonEl =\n",
              "        document.querySelector('#' + key + ' button');\n",
              "      quickchartButtonEl.disabled = true;  // To prevent multiple clicks.\n",
              "      quickchartButtonEl.classList.add('colab-df-spinner');\n",
              "      try {\n",
              "        const charts = await google.colab.kernel.invokeFunction(\n",
              "            'suggestCharts', [key], {});\n",
              "      } catch (error) {\n",
              "        console.error('Error during call to suggestCharts:', error);\n",
              "      }\n",
              "      quickchartButtonEl.classList.remove('colab-df-spinner');\n",
              "      quickchartButtonEl.classList.add('colab-df-quickchart-complete');\n",
              "    }\n",
              "    (() => {\n",
              "      let quickchartButtonEl =\n",
              "        document.querySelector('#df-c515cbf5-cd21-4da3-b5c3-2b2e9d5ea20d button');\n",
              "      quickchartButtonEl.style.display =\n",
              "        google.colab.kernel.accessAllowed ? 'block' : 'none';\n",
              "    })();\n",
              "  </script>\n",
              "</div>\n",
              "\n",
              "  <div id=\"id_166f57f7-7cfb-49e0-bd17-a426a6d81d51\">\n",
              "    <style>\n",
              "      .colab-df-generate {\n",
              "        background-color: #E8F0FE;\n",
              "        border: none;\n",
              "        border-radius: 50%;\n",
              "        cursor: pointer;\n",
              "        display: none;\n",
              "        fill: #1967D2;\n",
              "        height: 32px;\n",
              "        padding: 0 0 0 0;\n",
              "        width: 32px;\n",
              "      }\n",
              "\n",
              "      .colab-df-generate:hover {\n",
              "        background-color: #E2EBFA;\n",
              "        box-shadow: 0px 1px 2px rgba(60, 64, 67, 0.3), 0px 1px 3px 1px rgba(60, 64, 67, 0.15);\n",
              "        fill: #174EA6;\n",
              "      }\n",
              "\n",
              "      [theme=dark] .colab-df-generate {\n",
              "        background-color: #3B4455;\n",
              "        fill: #D2E3FC;\n",
              "      }\n",
              "\n",
              "      [theme=dark] .colab-df-generate:hover {\n",
              "        background-color: #434B5C;\n",
              "        box-shadow: 0px 1px 3px 1px rgba(0, 0, 0, 0.15);\n",
              "        filter: drop-shadow(0px 1px 2px rgba(0, 0, 0, 0.3));\n",
              "        fill: #FFFFFF;\n",
              "      }\n",
              "    </style>\n",
              "    <button class=\"colab-df-generate\" onclick=\"generateWithVariable('df')\"\n",
              "            title=\"Generate code using this dataframe.\"\n",
              "            style=\"display:none;\">\n",
              "\n",
              "  <svg xmlns=\"http://www.w3.org/2000/svg\" height=\"24px\"viewBox=\"0 0 24 24\"\n",
              "       width=\"24px\">\n",
              "    <path d=\"M7,19H8.4L18.45,9,17,7.55,7,17.6ZM5,21V16.75L18.45,3.32a2,2,0,0,1,2.83,0l1.4,1.43a1.91,1.91,0,0,1,.58,1.4,1.91,1.91,0,0,1-.58,1.4L9.25,21ZM18.45,9,17,7.55Zm-12,3A5.31,5.31,0,0,0,4.9,8.1,5.31,5.31,0,0,0,1,6.5,5.31,5.31,0,0,0,4.9,4.9,5.31,5.31,0,0,0,6.5,1,5.31,5.31,0,0,0,8.1,4.9,5.31,5.31,0,0,0,12,6.5,5.46,5.46,0,0,0,6.5,12Z\"/>\n",
              "  </svg>\n",
              "    </button>\n",
              "    <script>\n",
              "      (() => {\n",
              "      const buttonEl =\n",
              "        document.querySelector('#id_166f57f7-7cfb-49e0-bd17-a426a6d81d51 button.colab-df-generate');\n",
              "      buttonEl.style.display =\n",
              "        google.colab.kernel.accessAllowed ? 'block' : 'none';\n",
              "\n",
              "      buttonEl.onclick = () => {\n",
              "        google.colab.notebook.generateWithVariable('df');\n",
              "      }\n",
              "      })();\n",
              "    </script>\n",
              "  </div>\n",
              "\n",
              "    </div>\n",
              "  </div>\n"
            ],
            "application/vnd.google.colaboratory.intrinsic+json": {
              "type": "dataframe",
              "variable_name": "df"
            }
          },
          "metadata": {},
          "execution_count": 66
        }
      ]
    },
    {
      "cell_type": "code",
      "source": [
        "# unique values\n",
        "\n",
        "df[\"NObeyesdad_encoded\"].unique()"
      ],
      "metadata": {
        "colab": {
          "base_uri": "https://localhost:8080/"
        },
        "id": "dINJ4EYW8HMn",
        "outputId": "f271feaf-263a-4ceb-8e53-9bc83edc4d9a"
      },
      "execution_count": 67,
      "outputs": [
        {
          "output_type": "execute_result",
          "data": {
            "text/plain": [
              "array([1, 5, 6, 2, 0, 3, 4])"
            ]
          },
          "metadata": {},
          "execution_count": 67
        }
      ]
    },
    {
      "cell_type": "code",
      "source": [
        "df.columns"
      ],
      "metadata": {
        "colab": {
          "base_uri": "https://localhost:8080/"
        },
        "id": "A-oiHRtK-r3m",
        "outputId": "da96d230-4130-4ac4-ec03-b53d26dfe5b1"
      },
      "execution_count": 68,
      "outputs": [
        {
          "output_type": "execute_result",
          "data": {
            "text/plain": [
              "Index(['Age', 'Height', 'Weight', 'FCVC', 'NCP', 'CH2O', 'FAF', 'TUE',\n",
              "       'Gender_Male', 'family_history_with_overweight_yes', 'FAVC_yes',\n",
              "       'CAEC_Frequently', 'CAEC_Sometimes', 'CAEC_no', 'SMOKE_yes', 'SCC_yes',\n",
              "       'CALC_Frequently', 'CALC_Sometimes', 'CALC_no', 'MTRANS_Bike',\n",
              "       'MTRANS_Motorbike', 'MTRANS_Public_Transportation', 'MTRANS_Walking',\n",
              "       'NObeyesdad_encoded'],\n",
              "      dtype='object')"
            ]
          },
          "metadata": {},
          "execution_count": 68
        }
      ]
    },
    {
      "cell_type": "code",
      "source": [
        "x =  df[['Age', 'Height', 'Weight', 'FCVC', 'NCP', 'CH2O', 'FAF', 'TUE',\n",
        "        'Gender_Male','family_history_with_overweight_yes', 'FAVC_yes', 'CAEC_Frequently',\n",
        "       'CAEC_Sometimes', 'CAEC_no', 'SMOKE_yes', 'SCC_yes', 'CALC_Frequently',\n",
        "       'CALC_Sometimes', 'CALC_no', 'MTRANS_Bike', 'MTRANS_Motorbike',\n",
        "       'MTRANS_Public_Transportation', 'MTRANS_Walking']]"
      ],
      "metadata": {
        "id": "kgrgBk3P_Zu7"
      },
      "execution_count": 69,
      "outputs": []
    },
    {
      "cell_type": "code",
      "source": [
        "y=df['NObeyesdad_encoded']"
      ],
      "metadata": {
        "id": "3Y0tEJn7_3hQ"
      },
      "execution_count": 70,
      "outputs": []
    },
    {
      "cell_type": "code",
      "source": [
        "y"
      ],
      "metadata": {
        "colab": {
          "base_uri": "https://localhost:8080/"
        },
        "id": "Ex_YTM6GA3Po",
        "outputId": "666dea49-8e5c-4200-d8a9-545765a81e62"
      },
      "execution_count": 71,
      "outputs": [
        {
          "output_type": "execute_result",
          "data": {
            "text/plain": [
              "0       1\n",
              "1       1\n",
              "2       1\n",
              "3       5\n",
              "4       6\n",
              "       ..\n",
              "2106    4\n",
              "2107    4\n",
              "2108    4\n",
              "2109    4\n",
              "2110    4\n",
              "Name: NObeyesdad_encoded, Length: 1942, dtype: int64"
            ]
          },
          "metadata": {},
          "execution_count": 71
        }
      ]
    },
    {
      "cell_type": "code",
      "source": [
        "from sklearn.model_selection import train_test_split"
      ],
      "metadata": {
        "id": "xAR10-ISA7Og"
      },
      "execution_count": 72,
      "outputs": []
    },
    {
      "cell_type": "code",
      "source": [
        "# split the data into traning and testing\n",
        "\n",
        "x_train,x_test,y_train,y_test=train_test_split(x,y,test_size=0.3, random_state=100)\n"
      ],
      "metadata": {
        "id": "LH-mTJerBecb"
      },
      "execution_count": 73,
      "outputs": []
    },
    {
      "cell_type": "code",
      "source": [
        "x_train.shape"
      ],
      "metadata": {
        "colab": {
          "base_uri": "https://localhost:8080/"
        },
        "id": "yIXua_X1B6vm",
        "outputId": "d6038c00-5f49-4146-97ce-febed45741f2"
      },
      "execution_count": 74,
      "outputs": [
        {
          "output_type": "execute_result",
          "data": {
            "text/plain": [
              "(1359, 23)"
            ]
          },
          "metadata": {},
          "execution_count": 74
        }
      ]
    },
    {
      "cell_type": "code",
      "source": [
        "y_train"
      ],
      "metadata": {
        "colab": {
          "base_uri": "https://localhost:8080/"
        },
        "id": "MnUbTXfXCCQ3",
        "outputId": "5f1b29dc-d52f-4831-ed1b-610fc6f6b4ce"
      },
      "execution_count": 75,
      "outputs": [
        {
          "output_type": "execute_result",
          "data": {
            "text/plain": [
              "515     0\n",
              "888     5\n",
              "784     5\n",
              "584     0\n",
              "637     0\n",
              "       ..\n",
              "2048    4\n",
              "2064    4\n",
              "2028    4\n",
              "836     5\n",
              "1705    3\n",
              "Name: NObeyesdad_encoded, Length: 1359, dtype: int64"
            ]
          },
          "metadata": {},
          "execution_count": 75
        }
      ]
    },
    {
      "cell_type": "code",
      "source": [
        "from sklearn.preprocessing import StandardScaler"
      ],
      "metadata": {
        "id": "hD_e5YwmDBQa"
      },
      "execution_count": 76,
      "outputs": []
    },
    {
      "cell_type": "code",
      "source": [
        "scalar = StandardScaler()\n",
        "\n",
        "scalar.fit(x_train)\n",
        "\n",
        "x_train_scaled=scalar.transform(x_train)\n",
        "x_test_scaled=scalar.transform(x_test)"
      ],
      "metadata": {
        "id": "ZEKNe0NYDDmi"
      },
      "execution_count": 77,
      "outputs": []
    },
    {
      "cell_type": "markdown",
      "source": [
        "**LogisticRegression**"
      ],
      "metadata": {
        "id": "SxLzNcE8OT8o"
      }
    },
    {
      "cell_type": "code",
      "source": [
        "from sklearn.linear_model import LogisticRegression"
      ],
      "metadata": {
        "id": "TQZAwwpUCL0T"
      },
      "execution_count": 78,
      "outputs": []
    },
    {
      "cell_type": "code",
      "source": [
        "logreg = LogisticRegression()"
      ],
      "metadata": {
        "id": "a6gA8-2vCGEi"
      },
      "execution_count": 79,
      "outputs": []
    },
    {
      "cell_type": "code",
      "source": [
        "logreg.fit(x_train,y_train)"
      ],
      "metadata": {
        "colab": {
          "base_uri": "https://localhost:8080/",
          "height": 74
        },
        "id": "byUTxlO8CICe",
        "outputId": "15f2bef7-9cb4-4cc0-ecf3-f188e9a5c5c0"
      },
      "execution_count": 80,
      "outputs": [
        {
          "output_type": "execute_result",
          "data": {
            "text/plain": [
              "LogisticRegression()"
            ],
            "text/html": [
              "<style>#sk-container-id-1 {color: black;background-color: white;}#sk-container-id-1 pre{padding: 0;}#sk-container-id-1 div.sk-toggleable {background-color: white;}#sk-container-id-1 label.sk-toggleable__label {cursor: pointer;display: block;width: 100%;margin-bottom: 0;padding: 0.3em;box-sizing: border-box;text-align: center;}#sk-container-id-1 label.sk-toggleable__label-arrow:before {content: \"▸\";float: left;margin-right: 0.25em;color: #696969;}#sk-container-id-1 label.sk-toggleable__label-arrow:hover:before {color: black;}#sk-container-id-1 div.sk-estimator:hover label.sk-toggleable__label-arrow:before {color: black;}#sk-container-id-1 div.sk-toggleable__content {max-height: 0;max-width: 0;overflow: hidden;text-align: left;background-color: #f0f8ff;}#sk-container-id-1 div.sk-toggleable__content pre {margin: 0.2em;color: black;border-radius: 0.25em;background-color: #f0f8ff;}#sk-container-id-1 input.sk-toggleable__control:checked~div.sk-toggleable__content {max-height: 200px;max-width: 100%;overflow: auto;}#sk-container-id-1 input.sk-toggleable__control:checked~label.sk-toggleable__label-arrow:before {content: \"▾\";}#sk-container-id-1 div.sk-estimator input.sk-toggleable__control:checked~label.sk-toggleable__label {background-color: #d4ebff;}#sk-container-id-1 div.sk-label input.sk-toggleable__control:checked~label.sk-toggleable__label {background-color: #d4ebff;}#sk-container-id-1 input.sk-hidden--visually {border: 0;clip: rect(1px 1px 1px 1px);clip: rect(1px, 1px, 1px, 1px);height: 1px;margin: -1px;overflow: hidden;padding: 0;position: absolute;width: 1px;}#sk-container-id-1 div.sk-estimator {font-family: monospace;background-color: #f0f8ff;border: 1px dotted black;border-radius: 0.25em;box-sizing: border-box;margin-bottom: 0.5em;}#sk-container-id-1 div.sk-estimator:hover {background-color: #d4ebff;}#sk-container-id-1 div.sk-parallel-item::after {content: \"\";width: 100%;border-bottom: 1px solid gray;flex-grow: 1;}#sk-container-id-1 div.sk-label:hover label.sk-toggleable__label {background-color: #d4ebff;}#sk-container-id-1 div.sk-serial::before {content: \"\";position: absolute;border-left: 1px solid gray;box-sizing: border-box;top: 0;bottom: 0;left: 50%;z-index: 0;}#sk-container-id-1 div.sk-serial {display: flex;flex-direction: column;align-items: center;background-color: white;padding-right: 0.2em;padding-left: 0.2em;position: relative;}#sk-container-id-1 div.sk-item {position: relative;z-index: 1;}#sk-container-id-1 div.sk-parallel {display: flex;align-items: stretch;justify-content: center;background-color: white;position: relative;}#sk-container-id-1 div.sk-item::before, #sk-container-id-1 div.sk-parallel-item::before {content: \"\";position: absolute;border-left: 1px solid gray;box-sizing: border-box;top: 0;bottom: 0;left: 50%;z-index: -1;}#sk-container-id-1 div.sk-parallel-item {display: flex;flex-direction: column;z-index: 1;position: relative;background-color: white;}#sk-container-id-1 div.sk-parallel-item:first-child::after {align-self: flex-end;width: 50%;}#sk-container-id-1 div.sk-parallel-item:last-child::after {align-self: flex-start;width: 50%;}#sk-container-id-1 div.sk-parallel-item:only-child::after {width: 0;}#sk-container-id-1 div.sk-dashed-wrapped {border: 1px dashed gray;margin: 0 0.4em 0.5em 0.4em;box-sizing: border-box;padding-bottom: 0.4em;background-color: white;}#sk-container-id-1 div.sk-label label {font-family: monospace;font-weight: bold;display: inline-block;line-height: 1.2em;}#sk-container-id-1 div.sk-label-container {text-align: center;}#sk-container-id-1 div.sk-container {/* jupyter's `normalize.less` sets `[hidden] { display: none; }` but bootstrap.min.css set `[hidden] { display: none !important; }` so we also need the `!important` here to be able to override the default hidden behavior on the sphinx rendered scikit-learn.org. See: https://github.com/scikit-learn/scikit-learn/issues/21755 */display: inline-block !important;position: relative;}#sk-container-id-1 div.sk-text-repr-fallback {display: none;}</style><div id=\"sk-container-id-1\" class=\"sk-top-container\"><div class=\"sk-text-repr-fallback\"><pre>LogisticRegression()</pre><b>In a Jupyter environment, please rerun this cell to show the HTML representation or trust the notebook. <br />On GitHub, the HTML representation is unable to render, please try loading this page with nbviewer.org.</b></div><div class=\"sk-container\" hidden><div class=\"sk-item\"><div class=\"sk-estimator sk-toggleable\"><input class=\"sk-toggleable__control sk-hidden--visually\" id=\"sk-estimator-id-1\" type=\"checkbox\" checked><label for=\"sk-estimator-id-1\" class=\"sk-toggleable__label sk-toggleable__label-arrow\">LogisticRegression</label><div class=\"sk-toggleable__content\"><pre>LogisticRegression()</pre></div></div></div></div></div>"
            ]
          },
          "metadata": {},
          "execution_count": 80
        }
      ]
    },
    {
      "cell_type": "code",
      "source": [
        "y_pred=logreg.predict(x_test)"
      ],
      "metadata": {
        "id": "_4nTIWuQCR3E"
      },
      "execution_count": 81,
      "outputs": []
    },
    {
      "cell_type": "code",
      "source": [
        "y_pred"
      ],
      "metadata": {
        "colab": {
          "base_uri": "https://localhost:8080/"
        },
        "id": "NOI7DyP5CVP0",
        "outputId": "4472a06c-16e8-4b5b-e839-09c188c3a763"
      },
      "execution_count": 82,
      "outputs": [
        {
          "output_type": "execute_result",
          "data": {
            "text/plain": [
              "array([0, 4, 1, 4, 1, 2, 2, 4, 6, 0, 4, 5, 5, 0, 2, 4, 2, 5, 4, 4, 2, 3,\n",
              "       3, 0, 3, 2, 3, 1, 5, 3, 4, 1, 5, 0, 1, 2, 1, 4, 6, 2, 5, 4, 6, 0,\n",
              "       2, 1, 1, 3, 1, 5, 3, 4, 4, 5, 6, 4, 1, 1, 5, 0, 4, 6, 2, 3, 2, 6,\n",
              "       3, 5, 0, 4, 2, 0, 4, 1, 0, 5, 4, 0, 6, 0, 1, 5, 5, 3, 5, 4, 0, 0,\n",
              "       2, 4, 4, 4, 3, 2, 1, 1, 2, 2, 2, 5, 1, 2, 0, 3, 4, 4, 4, 6, 1, 6,\n",
              "       4, 4, 3, 2, 4, 1, 0, 3, 5, 0, 2, 3, 1, 0, 0, 5, 3, 3, 2, 0, 3, 0,\n",
              "       6, 5, 0, 2, 4, 1, 2, 4, 6, 0, 4, 3, 0, 4, 2, 2, 4, 6, 6, 2, 6, 4,\n",
              "       5, 4, 0, 2, 2, 3, 4, 6, 0, 3, 1, 4, 1, 4, 5, 1, 0, 5, 3, 1, 1, 5,\n",
              "       6, 1, 5, 3, 5, 3, 4, 2, 6, 0, 0, 4, 0, 1, 5, 2, 3, 2, 4, 5, 0, 5,\n",
              "       6, 3, 3, 2, 1, 1, 0, 0, 2, 1, 3, 3, 5, 5, 3, 0, 3, 6, 3, 2, 5, 0,\n",
              "       2, 2, 0, 6, 1, 2, 5, 3, 0, 4, 3, 5, 5, 3, 0, 5, 3, 4, 5, 6, 6, 4,\n",
              "       2, 1, 3, 1, 6, 0, 3, 2, 3, 4, 1, 3, 1, 2, 1, 4, 6, 2, 0, 4, 3, 4,\n",
              "       4, 1, 4, 3, 4, 2, 0, 4, 5, 4, 2, 2, 6, 4, 3, 5, 3, 4, 3, 2, 1, 3,\n",
              "       3, 0, 0, 1, 5, 2, 3, 0, 1, 5, 0, 0, 2, 0, 4, 0, 0, 1, 1, 5, 5, 5,\n",
              "       1, 3, 5, 4, 4, 3, 5, 6, 0, 4, 5, 2, 5, 6, 3, 2, 5, 0, 3, 4, 2, 2,\n",
              "       1, 2, 3, 5, 3, 0, 1, 0, 3, 3, 2, 1, 4, 5, 1, 6, 6, 0, 4, 4, 5, 2,\n",
              "       0, 5, 6, 3, 6, 5, 5, 2, 3, 3, 2, 6, 0, 1, 4, 2, 2, 0, 6, 3, 5, 5,\n",
              "       5, 3, 4, 3, 3, 4, 2, 4, 2, 5, 1, 1, 1, 5, 5, 1, 1, 1, 3, 4, 2, 3,\n",
              "       2, 2, 1, 2, 6, 4, 0, 3, 4, 1, 0, 1, 5, 1, 4, 0, 6, 2, 0, 2, 3, 2,\n",
              "       0, 6, 2, 4, 0, 2, 3, 6, 2, 0, 6, 4, 2, 3, 2, 3, 1, 1, 6, 3, 1, 4,\n",
              "       2, 5, 2, 4, 1, 3, 3, 2, 3, 1, 6, 3, 4, 1, 1, 0, 1, 2, 2, 5, 2, 0,\n",
              "       4, 5, 0, 4, 0, 5, 1, 0, 2, 6, 1, 5, 0, 3, 3, 1, 6, 5, 1, 3, 6, 6,\n",
              "       4, 4, 1, 6, 4, 2, 3, 2, 6, 4, 2, 0, 6, 2, 3, 5, 4, 0, 2, 4, 4, 4,\n",
              "       0, 0, 6, 2, 5, 1, 3, 2, 5, 4, 5, 0, 2, 3, 4, 0, 0, 5, 2, 2, 4, 2,\n",
              "       2, 2, 0, 5, 1, 2, 2, 2, 3, 1, 2, 0, 2, 1, 3, 0, 2, 4, 3, 5, 1, 4,\n",
              "       3, 5, 4, 5, 3, 5, 6, 6, 0, 1, 4, 2, 6, 1, 0, 5, 4, 4, 3, 0, 5, 5,\n",
              "       1, 5, 1, 5, 2, 2, 5, 0, 3, 3, 1])"
            ]
          },
          "metadata": {},
          "execution_count": 82
        }
      ]
    },
    {
      "cell_type": "code",
      "source": [
        "from sklearn import metrics\n",
        "from sklearn.metrics import classification_report, confusion_matrix"
      ],
      "metadata": {
        "id": "8FFwk1cQCa47"
      },
      "execution_count": 83,
      "outputs": []
    },
    {
      "cell_type": "code",
      "source": [
        "from sklearn.metrics import accuracy_score"
      ],
      "metadata": {
        "id": "8cN-rWtPGMso"
      },
      "execution_count": 84,
      "outputs": []
    },
    {
      "cell_type": "code",
      "source": [
        "score=accuracy_score(y_pred, y_test)"
      ],
      "metadata": {
        "id": "mcVvm7cLDYFI"
      },
      "execution_count": 85,
      "outputs": []
    },
    {
      "cell_type": "code",
      "source": [
        "score"
      ],
      "metadata": {
        "colab": {
          "base_uri": "https://localhost:8080/"
        },
        "id": "Vdvsgrp_F5Tu",
        "outputId": "629696f9-670d-40d0-afeb-5e3e74113c50"
      },
      "execution_count": 86,
      "outputs": [
        {
          "output_type": "execute_result",
          "data": {
            "text/plain": [
              "0.6981132075471698"
            ]
          },
          "metadata": {},
          "execution_count": 86
        }
      ]
    },
    {
      "cell_type": "code",
      "source": [
        "print(classification_report(y_pred,y_test))"
      ],
      "metadata": {
        "colab": {
          "base_uri": "https://localhost:8080/"
        },
        "id": "IWT2mRAnHsIU",
        "outputId": "f7bfc26a-578c-4d36-c506-54ead817b9d0"
      },
      "execution_count": 87,
      "outputs": [
        {
          "output_type": "stream",
          "name": "stdout",
          "text": [
            "              precision    recall  f1-score   support\n",
            "\n",
            "           0       0.83      0.77      0.80        84\n",
            "           1       0.54      0.58      0.56        81\n",
            "           2       0.67      0.60      0.64       101\n",
            "           3       0.93      0.78      0.85        90\n",
            "           4       1.00      0.96      0.98        94\n",
            "           5       0.55      0.52      0.54        82\n",
            "           6       0.37      0.61      0.46        51\n",
            "\n",
            "    accuracy                           0.70       583\n",
            "   macro avg       0.70      0.69      0.69       583\n",
            "weighted avg       0.73      0.70      0.71       583\n",
            "\n"
          ]
        }
      ]
    },
    {
      "cell_type": "code",
      "source": [
        "metrics.confusion_matrix(y_test,y_pred)"
      ],
      "metadata": {
        "colab": {
          "base_uri": "https://localhost:8080/"
        },
        "id": "Gkw5hyn3O5fH",
        "outputId": "3b312991-b1cb-44e7-a085-10fcc5cedd8e"
      },
      "execution_count": 88,
      "outputs": [
        {
          "output_type": "execute_result",
          "data": {
            "text/plain": [
              "array([[65, 11,  0,  0,  0,  2,  0],\n",
              "       [19, 47,  5,  0,  0, 12,  4],\n",
              "       [ 0,  0, 61, 12,  3,  5, 10],\n",
              "       [ 0,  0,  4, 70,  1,  0,  0],\n",
              "       [ 0,  0,  0,  0, 90,  0,  0],\n",
              "       [ 0, 13, 13,  3,  0, 43,  6],\n",
              "       [ 0, 10, 18,  5,  0, 20, 31]])"
            ]
          },
          "metadata": {},
          "execution_count": 88
        }
      ]
    },
    {
      "cell_type": "markdown",
      "source": [
        "**Support Vector Classifier**"
      ],
      "metadata": {
        "id": "aJFFHgBb_mZQ"
      }
    },
    {
      "cell_type": "code",
      "source": [
        "from sklearn.svm import SVC, SVR\n"
      ],
      "metadata": {
        "id": "byfYkCDEGbcR"
      },
      "execution_count": 89,
      "outputs": []
    },
    {
      "cell_type": "code",
      "source": [
        "model1=SVC() # model Initialization"
      ],
      "metadata": {
        "id": "F2Ab6l5KHMav"
      },
      "execution_count": 90,
      "outputs": []
    },
    {
      "cell_type": "code",
      "source": [
        "model1.fit(x_train,y_train)"
      ],
      "metadata": {
        "colab": {
          "base_uri": "https://localhost:8080/",
          "height": 74
        },
        "id": "AQbs9bTIJ1wR",
        "outputId": "8c5bc616-0554-4e5a-f9d3-c8c4789ad124"
      },
      "execution_count": 91,
      "outputs": [
        {
          "output_type": "execute_result",
          "data": {
            "text/plain": [
              "SVC()"
            ],
            "text/html": [
              "<style>#sk-container-id-2 {color: black;background-color: white;}#sk-container-id-2 pre{padding: 0;}#sk-container-id-2 div.sk-toggleable {background-color: white;}#sk-container-id-2 label.sk-toggleable__label {cursor: pointer;display: block;width: 100%;margin-bottom: 0;padding: 0.3em;box-sizing: border-box;text-align: center;}#sk-container-id-2 label.sk-toggleable__label-arrow:before {content: \"▸\";float: left;margin-right: 0.25em;color: #696969;}#sk-container-id-2 label.sk-toggleable__label-arrow:hover:before {color: black;}#sk-container-id-2 div.sk-estimator:hover label.sk-toggleable__label-arrow:before {color: black;}#sk-container-id-2 div.sk-toggleable__content {max-height: 0;max-width: 0;overflow: hidden;text-align: left;background-color: #f0f8ff;}#sk-container-id-2 div.sk-toggleable__content pre {margin: 0.2em;color: black;border-radius: 0.25em;background-color: #f0f8ff;}#sk-container-id-2 input.sk-toggleable__control:checked~div.sk-toggleable__content {max-height: 200px;max-width: 100%;overflow: auto;}#sk-container-id-2 input.sk-toggleable__control:checked~label.sk-toggleable__label-arrow:before {content: \"▾\";}#sk-container-id-2 div.sk-estimator input.sk-toggleable__control:checked~label.sk-toggleable__label {background-color: #d4ebff;}#sk-container-id-2 div.sk-label input.sk-toggleable__control:checked~label.sk-toggleable__label {background-color: #d4ebff;}#sk-container-id-2 input.sk-hidden--visually {border: 0;clip: rect(1px 1px 1px 1px);clip: rect(1px, 1px, 1px, 1px);height: 1px;margin: -1px;overflow: hidden;padding: 0;position: absolute;width: 1px;}#sk-container-id-2 div.sk-estimator {font-family: monospace;background-color: #f0f8ff;border: 1px dotted black;border-radius: 0.25em;box-sizing: border-box;margin-bottom: 0.5em;}#sk-container-id-2 div.sk-estimator:hover {background-color: #d4ebff;}#sk-container-id-2 div.sk-parallel-item::after {content: \"\";width: 100%;border-bottom: 1px solid gray;flex-grow: 1;}#sk-container-id-2 div.sk-label:hover label.sk-toggleable__label {background-color: #d4ebff;}#sk-container-id-2 div.sk-serial::before {content: \"\";position: absolute;border-left: 1px solid gray;box-sizing: border-box;top: 0;bottom: 0;left: 50%;z-index: 0;}#sk-container-id-2 div.sk-serial {display: flex;flex-direction: column;align-items: center;background-color: white;padding-right: 0.2em;padding-left: 0.2em;position: relative;}#sk-container-id-2 div.sk-item {position: relative;z-index: 1;}#sk-container-id-2 div.sk-parallel {display: flex;align-items: stretch;justify-content: center;background-color: white;position: relative;}#sk-container-id-2 div.sk-item::before, #sk-container-id-2 div.sk-parallel-item::before {content: \"\";position: absolute;border-left: 1px solid gray;box-sizing: border-box;top: 0;bottom: 0;left: 50%;z-index: -1;}#sk-container-id-2 div.sk-parallel-item {display: flex;flex-direction: column;z-index: 1;position: relative;background-color: white;}#sk-container-id-2 div.sk-parallel-item:first-child::after {align-self: flex-end;width: 50%;}#sk-container-id-2 div.sk-parallel-item:last-child::after {align-self: flex-start;width: 50%;}#sk-container-id-2 div.sk-parallel-item:only-child::after {width: 0;}#sk-container-id-2 div.sk-dashed-wrapped {border: 1px dashed gray;margin: 0 0.4em 0.5em 0.4em;box-sizing: border-box;padding-bottom: 0.4em;background-color: white;}#sk-container-id-2 div.sk-label label {font-family: monospace;font-weight: bold;display: inline-block;line-height: 1.2em;}#sk-container-id-2 div.sk-label-container {text-align: center;}#sk-container-id-2 div.sk-container {/* jupyter's `normalize.less` sets `[hidden] { display: none; }` but bootstrap.min.css set `[hidden] { display: none !important; }` so we also need the `!important` here to be able to override the default hidden behavior on the sphinx rendered scikit-learn.org. See: https://github.com/scikit-learn/scikit-learn/issues/21755 */display: inline-block !important;position: relative;}#sk-container-id-2 div.sk-text-repr-fallback {display: none;}</style><div id=\"sk-container-id-2\" class=\"sk-top-container\"><div class=\"sk-text-repr-fallback\"><pre>SVC()</pre><b>In a Jupyter environment, please rerun this cell to show the HTML representation or trust the notebook. <br />On GitHub, the HTML representation is unable to render, please try loading this page with nbviewer.org.</b></div><div class=\"sk-container\" hidden><div class=\"sk-item\"><div class=\"sk-estimator sk-toggleable\"><input class=\"sk-toggleable__control sk-hidden--visually\" id=\"sk-estimator-id-2\" type=\"checkbox\" checked><label for=\"sk-estimator-id-2\" class=\"sk-toggleable__label sk-toggleable__label-arrow\">SVC</label><div class=\"sk-toggleable__content\"><pre>SVC()</pre></div></div></div></div></div>"
            ]
          },
          "metadata": {},
          "execution_count": 91
        }
      ]
    },
    {
      "cell_type": "code",
      "source": [
        "prediction = model1.predict(x_test)"
      ],
      "metadata": {
        "id": "GrL9sMrXKErQ"
      },
      "execution_count": 92,
      "outputs": []
    },
    {
      "cell_type": "code",
      "source": [
        "score1=accuracy_score(prediction,y_test)"
      ],
      "metadata": {
        "id": "B0VA0U2UHRo-"
      },
      "execution_count": 93,
      "outputs": []
    },
    {
      "cell_type": "code",
      "source": [
        "score1"
      ],
      "metadata": {
        "colab": {
          "base_uri": "https://localhost:8080/"
        },
        "id": "2kD3FUw-Hhb9",
        "outputId": "904a3869-6c36-4509-e825-ccb1ff7a1baa"
      },
      "execution_count": 94,
      "outputs": [
        {
          "output_type": "execute_result",
          "data": {
            "text/plain": [
              "0.5917667238421955"
            ]
          },
          "metadata": {},
          "execution_count": 94
        }
      ]
    },
    {
      "cell_type": "code",
      "source": [
        "print(classification_report(prediction,y_test))"
      ],
      "metadata": {
        "colab": {
          "base_uri": "https://localhost:8080/"
        },
        "id": "aF4opXmAHlFm",
        "outputId": "5c572c13-ba80-461e-c705-8841185f9bfa"
      },
      "execution_count": 95,
      "outputs": [
        {
          "output_type": "stream",
          "name": "stdout",
          "text": [
            "              precision    recall  f1-score   support\n",
            "\n",
            "           0       0.87      0.71      0.78        96\n",
            "           1       0.38      0.53      0.44        62\n",
            "           2       0.42      0.58      0.48        66\n",
            "           3       0.40      0.73      0.52        41\n",
            "           4       1.00      0.63      0.78       142\n",
            "           5       0.60      0.49      0.54        96\n",
            "           6       0.46      0.49      0.48        80\n",
            "\n",
            "    accuracy                           0.59       583\n",
            "   macro avg       0.59      0.59      0.57       583\n",
            "weighted avg       0.67      0.59      0.61       583\n",
            "\n"
          ]
        }
      ]
    },
    {
      "cell_type": "code",
      "source": [
        "metrics.confusion_matrix(y_test,prediction)"
      ],
      "metadata": {
        "colab": {
          "base_uri": "https://localhost:8080/"
        },
        "id": "Vr1SlKS3PDKO",
        "outputId": "34124184-7c18-445e-da6f-35aaaad128f2"
      },
      "execution_count": 96,
      "outputs": [
        {
          "output_type": "execute_result",
          "data": {
            "text/plain": [
              "array([[68, 10,  0,  0,  0,  0,  0],\n",
              "       [26, 33,  1,  0,  0, 24,  3],\n",
              "       [ 0,  0, 38,  8, 17,  3, 25],\n",
              "       [ 0,  0, 10, 30, 35,  0,  0],\n",
              "       [ 0,  0,  0,  0, 90,  0,  0],\n",
              "       [ 2, 11,  5,  0,  0, 47, 13],\n",
              "       [ 0,  8, 12,  3,  0, 22, 39]])"
            ]
          },
          "metadata": {},
          "execution_count": 96
        }
      ]
    },
    {
      "cell_type": "markdown",
      "source": [
        "**Decision Tree**"
      ],
      "metadata": {
        "id": "53_4GbA7_1LQ"
      }
    },
    {
      "cell_type": "code",
      "source": [
        "from sklearn import tree\n",
        "model2= tree.DecisionTreeClassifier(criterion=\"entropy\")"
      ],
      "metadata": {
        "id": "_gcD35ObKpDF"
      },
      "execution_count": 97,
      "outputs": []
    },
    {
      "cell_type": "code",
      "source": [
        "model2.fit(x_train , y_train)"
      ],
      "metadata": {
        "colab": {
          "base_uri": "https://localhost:8080/",
          "height": 74
        },
        "id": "h9VZEUcpK0hO",
        "outputId": "a8f72cc1-fd8a-4d52-dcd9-9082e8a68d6c"
      },
      "execution_count": 98,
      "outputs": [
        {
          "output_type": "execute_result",
          "data": {
            "text/plain": [
              "DecisionTreeClassifier(criterion='entropy')"
            ],
            "text/html": [
              "<style>#sk-container-id-3 {color: black;background-color: white;}#sk-container-id-3 pre{padding: 0;}#sk-container-id-3 div.sk-toggleable {background-color: white;}#sk-container-id-3 label.sk-toggleable__label {cursor: pointer;display: block;width: 100%;margin-bottom: 0;padding: 0.3em;box-sizing: border-box;text-align: center;}#sk-container-id-3 label.sk-toggleable__label-arrow:before {content: \"▸\";float: left;margin-right: 0.25em;color: #696969;}#sk-container-id-3 label.sk-toggleable__label-arrow:hover:before {color: black;}#sk-container-id-3 div.sk-estimator:hover label.sk-toggleable__label-arrow:before {color: black;}#sk-container-id-3 div.sk-toggleable__content {max-height: 0;max-width: 0;overflow: hidden;text-align: left;background-color: #f0f8ff;}#sk-container-id-3 div.sk-toggleable__content pre {margin: 0.2em;color: black;border-radius: 0.25em;background-color: #f0f8ff;}#sk-container-id-3 input.sk-toggleable__control:checked~div.sk-toggleable__content {max-height: 200px;max-width: 100%;overflow: auto;}#sk-container-id-3 input.sk-toggleable__control:checked~label.sk-toggleable__label-arrow:before {content: \"▾\";}#sk-container-id-3 div.sk-estimator input.sk-toggleable__control:checked~label.sk-toggleable__label {background-color: #d4ebff;}#sk-container-id-3 div.sk-label input.sk-toggleable__control:checked~label.sk-toggleable__label {background-color: #d4ebff;}#sk-container-id-3 input.sk-hidden--visually {border: 0;clip: rect(1px 1px 1px 1px);clip: rect(1px, 1px, 1px, 1px);height: 1px;margin: -1px;overflow: hidden;padding: 0;position: absolute;width: 1px;}#sk-container-id-3 div.sk-estimator {font-family: monospace;background-color: #f0f8ff;border: 1px dotted black;border-radius: 0.25em;box-sizing: border-box;margin-bottom: 0.5em;}#sk-container-id-3 div.sk-estimator:hover {background-color: #d4ebff;}#sk-container-id-3 div.sk-parallel-item::after {content: \"\";width: 100%;border-bottom: 1px solid gray;flex-grow: 1;}#sk-container-id-3 div.sk-label:hover label.sk-toggleable__label {background-color: #d4ebff;}#sk-container-id-3 div.sk-serial::before {content: \"\";position: absolute;border-left: 1px solid gray;box-sizing: border-box;top: 0;bottom: 0;left: 50%;z-index: 0;}#sk-container-id-3 div.sk-serial {display: flex;flex-direction: column;align-items: center;background-color: white;padding-right: 0.2em;padding-left: 0.2em;position: relative;}#sk-container-id-3 div.sk-item {position: relative;z-index: 1;}#sk-container-id-3 div.sk-parallel {display: flex;align-items: stretch;justify-content: center;background-color: white;position: relative;}#sk-container-id-3 div.sk-item::before, #sk-container-id-3 div.sk-parallel-item::before {content: \"\";position: absolute;border-left: 1px solid gray;box-sizing: border-box;top: 0;bottom: 0;left: 50%;z-index: -1;}#sk-container-id-3 div.sk-parallel-item {display: flex;flex-direction: column;z-index: 1;position: relative;background-color: white;}#sk-container-id-3 div.sk-parallel-item:first-child::after {align-self: flex-end;width: 50%;}#sk-container-id-3 div.sk-parallel-item:last-child::after {align-self: flex-start;width: 50%;}#sk-container-id-3 div.sk-parallel-item:only-child::after {width: 0;}#sk-container-id-3 div.sk-dashed-wrapped {border: 1px dashed gray;margin: 0 0.4em 0.5em 0.4em;box-sizing: border-box;padding-bottom: 0.4em;background-color: white;}#sk-container-id-3 div.sk-label label {font-family: monospace;font-weight: bold;display: inline-block;line-height: 1.2em;}#sk-container-id-3 div.sk-label-container {text-align: center;}#sk-container-id-3 div.sk-container {/* jupyter's `normalize.less` sets `[hidden] { display: none; }` but bootstrap.min.css set `[hidden] { display: none !important; }` so we also need the `!important` here to be able to override the default hidden behavior on the sphinx rendered scikit-learn.org. See: https://github.com/scikit-learn/scikit-learn/issues/21755 */display: inline-block !important;position: relative;}#sk-container-id-3 div.sk-text-repr-fallback {display: none;}</style><div id=\"sk-container-id-3\" class=\"sk-top-container\"><div class=\"sk-text-repr-fallback\"><pre>DecisionTreeClassifier(criterion=&#x27;entropy&#x27;)</pre><b>In a Jupyter environment, please rerun this cell to show the HTML representation or trust the notebook. <br />On GitHub, the HTML representation is unable to render, please try loading this page with nbviewer.org.</b></div><div class=\"sk-container\" hidden><div class=\"sk-item\"><div class=\"sk-estimator sk-toggleable\"><input class=\"sk-toggleable__control sk-hidden--visually\" id=\"sk-estimator-id-3\" type=\"checkbox\" checked><label for=\"sk-estimator-id-3\" class=\"sk-toggleable__label sk-toggleable__label-arrow\">DecisionTreeClassifier</label><div class=\"sk-toggleable__content\"><pre>DecisionTreeClassifier(criterion=&#x27;entropy&#x27;)</pre></div></div></div></div></div>"
            ]
          },
          "metadata": {},
          "execution_count": 98
        }
      ]
    },
    {
      "cell_type": "code",
      "source": [
        "prediction2 = model2.predict(x_test)"
      ],
      "metadata": {
        "id": "vHoRx-udK5qH"
      },
      "execution_count": 99,
      "outputs": []
    },
    {
      "cell_type": "code",
      "source": [
        "score2 = accuracy_score(prediction2 , y_test)"
      ],
      "metadata": {
        "id": "ErDnRr4hLAU7"
      },
      "execution_count": 100,
      "outputs": []
    },
    {
      "cell_type": "code",
      "source": [
        "score2"
      ],
      "metadata": {
        "colab": {
          "base_uri": "https://localhost:8080/"
        },
        "id": "pTAfrU7oLJNc",
        "outputId": "7c292957-1c9b-4ecd-ab0c-d30932cd5158"
      },
      "execution_count": 101,
      "outputs": [
        {
          "output_type": "execute_result",
          "data": {
            "text/plain": [
              "0.9416809605488851"
            ]
          },
          "metadata": {},
          "execution_count": 101
        }
      ]
    },
    {
      "cell_type": "code",
      "source": [
        "print(classification_report(prediction2,y_test))"
      ],
      "metadata": {
        "colab": {
          "base_uri": "https://localhost:8080/"
        },
        "id": "D6q4g4rvLKq2",
        "outputId": "e0e27646-1c14-4a16-dd3a-bda8ccea7f03"
      },
      "execution_count": 102,
      "outputs": [
        {
          "output_type": "stream",
          "name": "stdout",
          "text": [
            "              precision    recall  f1-score   support\n",
            "\n",
            "           0       0.95      0.99      0.97        75\n",
            "           1       0.91      0.88      0.89        90\n",
            "           2       0.95      0.92      0.93        93\n",
            "           3       0.95      0.92      0.93        77\n",
            "           4       0.99      1.00      0.99        89\n",
            "           5       0.91      0.91      0.91        78\n",
            "           6       0.94      0.98      0.96        81\n",
            "\n",
            "    accuracy                           0.94       583\n",
            "   macro avg       0.94      0.94      0.94       583\n",
            "weighted avg       0.94      0.94      0.94       583\n",
            "\n"
          ]
        }
      ]
    },
    {
      "cell_type": "code",
      "source": [
        "metrics.confusion_matrix(y_test,prediction2)"
      ],
      "metadata": {
        "colab": {
          "base_uri": "https://localhost:8080/"
        },
        "id": "__VUKBA7PVPH",
        "outputId": "c7220703-dcf0-45d5-e19d-5c727c288534"
      },
      "execution_count": 103,
      "outputs": [
        {
          "output_type": "execute_result",
          "data": {
            "text/plain": [
              "array([[74,  4,  0,  0,  0,  0,  0],\n",
              "       [ 1, 79,  0,  0,  0,  6,  1],\n",
              "       [ 0,  0, 86,  5,  0,  0,  0],\n",
              "       [ 0,  0,  4, 71,  0,  0,  0],\n",
              "       [ 0,  0,  0,  1, 89,  0,  0],\n",
              "       [ 0,  6,  0,  0,  0, 71,  1],\n",
              "       [ 0,  1,  3,  0,  0,  1, 79]])"
            ]
          },
          "metadata": {},
          "execution_count": 103
        }
      ]
    },
    {
      "cell_type": "markdown",
      "source": [
        "**Random Forest**"
      ],
      "metadata": {
        "id": "rq6kP6EoACJo"
      }
    },
    {
      "cell_type": "code",
      "source": [
        "from sklearn.ensemble import RandomForestClassifier"
      ],
      "metadata": {
        "id": "P_AO9KDFM3Br"
      },
      "execution_count": 104,
      "outputs": []
    },
    {
      "cell_type": "code",
      "source": [
        "rfc= RandomForestClassifier(n_estimators=500)"
      ],
      "metadata": {
        "id": "EQJc3DAyNPcZ"
      },
      "execution_count": 105,
      "outputs": []
    },
    {
      "cell_type": "code",
      "source": [
        "rfc"
      ],
      "metadata": {
        "colab": {
          "base_uri": "https://localhost:8080/",
          "height": 74
        },
        "id": "3hv-4YcbNVnx",
        "outputId": "c0f00334-8682-4f36-c673-61e1a6fb5cf3"
      },
      "execution_count": 106,
      "outputs": [
        {
          "output_type": "execute_result",
          "data": {
            "text/plain": [
              "RandomForestClassifier(n_estimators=500)"
            ],
            "text/html": [
              "<style>#sk-container-id-4 {color: black;background-color: white;}#sk-container-id-4 pre{padding: 0;}#sk-container-id-4 div.sk-toggleable {background-color: white;}#sk-container-id-4 label.sk-toggleable__label {cursor: pointer;display: block;width: 100%;margin-bottom: 0;padding: 0.3em;box-sizing: border-box;text-align: center;}#sk-container-id-4 label.sk-toggleable__label-arrow:before {content: \"▸\";float: left;margin-right: 0.25em;color: #696969;}#sk-container-id-4 label.sk-toggleable__label-arrow:hover:before {color: black;}#sk-container-id-4 div.sk-estimator:hover label.sk-toggleable__label-arrow:before {color: black;}#sk-container-id-4 div.sk-toggleable__content {max-height: 0;max-width: 0;overflow: hidden;text-align: left;background-color: #f0f8ff;}#sk-container-id-4 div.sk-toggleable__content pre {margin: 0.2em;color: black;border-radius: 0.25em;background-color: #f0f8ff;}#sk-container-id-4 input.sk-toggleable__control:checked~div.sk-toggleable__content {max-height: 200px;max-width: 100%;overflow: auto;}#sk-container-id-4 input.sk-toggleable__control:checked~label.sk-toggleable__label-arrow:before {content: \"▾\";}#sk-container-id-4 div.sk-estimator input.sk-toggleable__control:checked~label.sk-toggleable__label {background-color: #d4ebff;}#sk-container-id-4 div.sk-label input.sk-toggleable__control:checked~label.sk-toggleable__label {background-color: #d4ebff;}#sk-container-id-4 input.sk-hidden--visually {border: 0;clip: rect(1px 1px 1px 1px);clip: rect(1px, 1px, 1px, 1px);height: 1px;margin: -1px;overflow: hidden;padding: 0;position: absolute;width: 1px;}#sk-container-id-4 div.sk-estimator {font-family: monospace;background-color: #f0f8ff;border: 1px dotted black;border-radius: 0.25em;box-sizing: border-box;margin-bottom: 0.5em;}#sk-container-id-4 div.sk-estimator:hover {background-color: #d4ebff;}#sk-container-id-4 div.sk-parallel-item::after {content: \"\";width: 100%;border-bottom: 1px solid gray;flex-grow: 1;}#sk-container-id-4 div.sk-label:hover label.sk-toggleable__label {background-color: #d4ebff;}#sk-container-id-4 div.sk-serial::before {content: \"\";position: absolute;border-left: 1px solid gray;box-sizing: border-box;top: 0;bottom: 0;left: 50%;z-index: 0;}#sk-container-id-4 div.sk-serial {display: flex;flex-direction: column;align-items: center;background-color: white;padding-right: 0.2em;padding-left: 0.2em;position: relative;}#sk-container-id-4 div.sk-item {position: relative;z-index: 1;}#sk-container-id-4 div.sk-parallel {display: flex;align-items: stretch;justify-content: center;background-color: white;position: relative;}#sk-container-id-4 div.sk-item::before, #sk-container-id-4 div.sk-parallel-item::before {content: \"\";position: absolute;border-left: 1px solid gray;box-sizing: border-box;top: 0;bottom: 0;left: 50%;z-index: -1;}#sk-container-id-4 div.sk-parallel-item {display: flex;flex-direction: column;z-index: 1;position: relative;background-color: white;}#sk-container-id-4 div.sk-parallel-item:first-child::after {align-self: flex-end;width: 50%;}#sk-container-id-4 div.sk-parallel-item:last-child::after {align-self: flex-start;width: 50%;}#sk-container-id-4 div.sk-parallel-item:only-child::after {width: 0;}#sk-container-id-4 div.sk-dashed-wrapped {border: 1px dashed gray;margin: 0 0.4em 0.5em 0.4em;box-sizing: border-box;padding-bottom: 0.4em;background-color: white;}#sk-container-id-4 div.sk-label label {font-family: monospace;font-weight: bold;display: inline-block;line-height: 1.2em;}#sk-container-id-4 div.sk-label-container {text-align: center;}#sk-container-id-4 div.sk-container {/* jupyter's `normalize.less` sets `[hidden] { display: none; }` but bootstrap.min.css set `[hidden] { display: none !important; }` so we also need the `!important` here to be able to override the default hidden behavior on the sphinx rendered scikit-learn.org. See: https://github.com/scikit-learn/scikit-learn/issues/21755 */display: inline-block !important;position: relative;}#sk-container-id-4 div.sk-text-repr-fallback {display: none;}</style><div id=\"sk-container-id-4\" class=\"sk-top-container\"><div class=\"sk-text-repr-fallback\"><pre>RandomForestClassifier(n_estimators=500)</pre><b>In a Jupyter environment, please rerun this cell to show the HTML representation or trust the notebook. <br />On GitHub, the HTML representation is unable to render, please try loading this page with nbviewer.org.</b></div><div class=\"sk-container\" hidden><div class=\"sk-item\"><div class=\"sk-estimator sk-toggleable\"><input class=\"sk-toggleable__control sk-hidden--visually\" id=\"sk-estimator-id-4\" type=\"checkbox\" checked><label for=\"sk-estimator-id-4\" class=\"sk-toggleable__label sk-toggleable__label-arrow\">RandomForestClassifier</label><div class=\"sk-toggleable__content\"><pre>RandomForestClassifier(n_estimators=500)</pre></div></div></div></div></div>"
            ]
          },
          "metadata": {},
          "execution_count": 106
        }
      ]
    },
    {
      "cell_type": "code",
      "source": [
        "\n",
        "rfc.fit(x_train,y_train)"
      ],
      "metadata": {
        "colab": {
          "base_uri": "https://localhost:8080/",
          "height": 74
        },
        "id": "euIdyOUPNY_X",
        "outputId": "817c302a-7736-493a-ec7e-d16f0c77e160"
      },
      "execution_count": 107,
      "outputs": [
        {
          "output_type": "execute_result",
          "data": {
            "text/plain": [
              "RandomForestClassifier(n_estimators=500)"
            ],
            "text/html": [
              "<style>#sk-container-id-5 {color: black;background-color: white;}#sk-container-id-5 pre{padding: 0;}#sk-container-id-5 div.sk-toggleable {background-color: white;}#sk-container-id-5 label.sk-toggleable__label {cursor: pointer;display: block;width: 100%;margin-bottom: 0;padding: 0.3em;box-sizing: border-box;text-align: center;}#sk-container-id-5 label.sk-toggleable__label-arrow:before {content: \"▸\";float: left;margin-right: 0.25em;color: #696969;}#sk-container-id-5 label.sk-toggleable__label-arrow:hover:before {color: black;}#sk-container-id-5 div.sk-estimator:hover label.sk-toggleable__label-arrow:before {color: black;}#sk-container-id-5 div.sk-toggleable__content {max-height: 0;max-width: 0;overflow: hidden;text-align: left;background-color: #f0f8ff;}#sk-container-id-5 div.sk-toggleable__content pre {margin: 0.2em;color: black;border-radius: 0.25em;background-color: #f0f8ff;}#sk-container-id-5 input.sk-toggleable__control:checked~div.sk-toggleable__content {max-height: 200px;max-width: 100%;overflow: auto;}#sk-container-id-5 input.sk-toggleable__control:checked~label.sk-toggleable__label-arrow:before {content: \"▾\";}#sk-container-id-5 div.sk-estimator input.sk-toggleable__control:checked~label.sk-toggleable__label {background-color: #d4ebff;}#sk-container-id-5 div.sk-label input.sk-toggleable__control:checked~label.sk-toggleable__label {background-color: #d4ebff;}#sk-container-id-5 input.sk-hidden--visually {border: 0;clip: rect(1px 1px 1px 1px);clip: rect(1px, 1px, 1px, 1px);height: 1px;margin: -1px;overflow: hidden;padding: 0;position: absolute;width: 1px;}#sk-container-id-5 div.sk-estimator {font-family: monospace;background-color: #f0f8ff;border: 1px dotted black;border-radius: 0.25em;box-sizing: border-box;margin-bottom: 0.5em;}#sk-container-id-5 div.sk-estimator:hover {background-color: #d4ebff;}#sk-container-id-5 div.sk-parallel-item::after {content: \"\";width: 100%;border-bottom: 1px solid gray;flex-grow: 1;}#sk-container-id-5 div.sk-label:hover label.sk-toggleable__label {background-color: #d4ebff;}#sk-container-id-5 div.sk-serial::before {content: \"\";position: absolute;border-left: 1px solid gray;box-sizing: border-box;top: 0;bottom: 0;left: 50%;z-index: 0;}#sk-container-id-5 div.sk-serial {display: flex;flex-direction: column;align-items: center;background-color: white;padding-right: 0.2em;padding-left: 0.2em;position: relative;}#sk-container-id-5 div.sk-item {position: relative;z-index: 1;}#sk-container-id-5 div.sk-parallel {display: flex;align-items: stretch;justify-content: center;background-color: white;position: relative;}#sk-container-id-5 div.sk-item::before, #sk-container-id-5 div.sk-parallel-item::before {content: \"\";position: absolute;border-left: 1px solid gray;box-sizing: border-box;top: 0;bottom: 0;left: 50%;z-index: -1;}#sk-container-id-5 div.sk-parallel-item {display: flex;flex-direction: column;z-index: 1;position: relative;background-color: white;}#sk-container-id-5 div.sk-parallel-item:first-child::after {align-self: flex-end;width: 50%;}#sk-container-id-5 div.sk-parallel-item:last-child::after {align-self: flex-start;width: 50%;}#sk-container-id-5 div.sk-parallel-item:only-child::after {width: 0;}#sk-container-id-5 div.sk-dashed-wrapped {border: 1px dashed gray;margin: 0 0.4em 0.5em 0.4em;box-sizing: border-box;padding-bottom: 0.4em;background-color: white;}#sk-container-id-5 div.sk-label label {font-family: monospace;font-weight: bold;display: inline-block;line-height: 1.2em;}#sk-container-id-5 div.sk-label-container {text-align: center;}#sk-container-id-5 div.sk-container {/* jupyter's `normalize.less` sets `[hidden] { display: none; }` but bootstrap.min.css set `[hidden] { display: none !important; }` so we also need the `!important` here to be able to override the default hidden behavior on the sphinx rendered scikit-learn.org. See: https://github.com/scikit-learn/scikit-learn/issues/21755 */display: inline-block !important;position: relative;}#sk-container-id-5 div.sk-text-repr-fallback {display: none;}</style><div id=\"sk-container-id-5\" class=\"sk-top-container\"><div class=\"sk-text-repr-fallback\"><pre>RandomForestClassifier(n_estimators=500)</pre><b>In a Jupyter environment, please rerun this cell to show the HTML representation or trust the notebook. <br />On GitHub, the HTML representation is unable to render, please try loading this page with nbviewer.org.</b></div><div class=\"sk-container\" hidden><div class=\"sk-item\"><div class=\"sk-estimator sk-toggleable\"><input class=\"sk-toggleable__control sk-hidden--visually\" id=\"sk-estimator-id-5\" type=\"checkbox\" checked><label for=\"sk-estimator-id-5\" class=\"sk-toggleable__label sk-toggleable__label-arrow\">RandomForestClassifier</label><div class=\"sk-toggleable__content\"><pre>RandomForestClassifier(n_estimators=500)</pre></div></div></div></div></div>"
            ]
          },
          "metadata": {},
          "execution_count": 107
        }
      ]
    },
    {
      "cell_type": "code",
      "source": [
        "prediction3 = rfc.predict(x_test)"
      ],
      "metadata": {
        "id": "5LKjV0pUNc6a"
      },
      "execution_count": 108,
      "outputs": []
    },
    {
      "cell_type": "code",
      "source": [
        "score3 = accuracy_score(y_test, prediction3)"
      ],
      "metadata": {
        "id": "2Z2AqU8CNkfV"
      },
      "execution_count": 109,
      "outputs": []
    },
    {
      "cell_type": "code",
      "source": [
        "score3"
      ],
      "metadata": {
        "colab": {
          "base_uri": "https://localhost:8080/"
        },
        "id": "ENA0gJjxOPAg",
        "outputId": "e78d5051-ddac-403c-9b43-f008cc6cfb23"
      },
      "execution_count": 110,
      "outputs": [
        {
          "output_type": "execute_result",
          "data": {
            "text/plain": [
              "0.9519725557461407"
            ]
          },
          "metadata": {},
          "execution_count": 110
        }
      ]
    },
    {
      "cell_type": "code",
      "source": [
        "print(classification_report(prediction3,y_test))"
      ],
      "metadata": {
        "colab": {
          "base_uri": "https://localhost:8080/"
        },
        "id": "I5lxb2suO2xD",
        "outputId": "126e81a8-e520-4cab-a72a-217e79a95d5a"
      },
      "execution_count": 111,
      "outputs": [
        {
          "output_type": "stream",
          "name": "stdout",
          "text": [
            "              precision    recall  f1-score   support\n",
            "\n",
            "           0       0.94      1.00      0.97        73\n",
            "           1       0.98      0.82      0.89       104\n",
            "           2       0.99      1.00      0.99        90\n",
            "           3       1.00      0.97      0.99        77\n",
            "           4       0.99      1.00      0.99        89\n",
            "           5       0.87      0.94      0.91        72\n",
            "           6       0.89      0.96      0.93        78\n",
            "\n",
            "    accuracy                           0.95       583\n",
            "   macro avg       0.95      0.96      0.95       583\n",
            "weighted avg       0.95      0.95      0.95       583\n",
            "\n"
          ]
        }
      ]
    },
    {
      "cell_type": "code",
      "source": [
        "metrics.confusion_matrix(y_test,prediction3)"
      ],
      "metadata": {
        "colab": {
          "base_uri": "https://localhost:8080/"
        },
        "id": "k8EpQHTqPcnT",
        "outputId": "e1f3aa25-567c-498c-a800-cbdf5acddcd5"
      },
      "execution_count": 112,
      "outputs": [
        {
          "output_type": "execute_result",
          "data": {
            "text/plain": [
              "array([[73,  5,  0,  0,  0,  0,  0],\n",
              "       [ 0, 85,  0,  0,  0,  0,  2],\n",
              "       [ 0,  0, 90,  1,  0,  0,  0],\n",
              "       [ 0,  0,  0, 75,  0,  0,  0],\n",
              "       [ 0,  0,  0,  1, 89,  0,  0],\n",
              "       [ 0,  9,  0,  0,  0, 68,  1],\n",
              "       [ 0,  5,  0,  0,  0,  4, 75]])"
            ]
          },
          "metadata": {},
          "execution_count": 112
        }
      ]
    },
    {
      "cell_type": "markdown",
      "source": [
        "**XG Boost**"
      ],
      "metadata": {
        "id": "ZQ8lJrGHATJu"
      }
    },
    {
      "cell_type": "code",
      "source": [
        "!pip install xgboost"
      ],
      "metadata": {
        "colab": {
          "base_uri": "https://localhost:8080/"
        },
        "id": "H1w1u6i2O_do",
        "outputId": "c1ea2fe6-77f9-4b79-f46c-eabe2314d01a"
      },
      "execution_count": 113,
      "outputs": [
        {
          "output_type": "stream",
          "name": "stdout",
          "text": [
            "Requirement already satisfied: xgboost in /usr/local/lib/python3.10/dist-packages (2.0.3)\n",
            "Requirement already satisfied: numpy in /usr/local/lib/python3.10/dist-packages (from xgboost) (1.25.2)\n",
            "Requirement already satisfied: scipy in /usr/local/lib/python3.10/dist-packages (from xgboost) (1.11.4)\n"
          ]
        }
      ]
    },
    {
      "cell_type": "code",
      "source": [
        "from xgboost import XGBClassifier"
      ],
      "metadata": {
        "id": "YUSnHrDKPMqX"
      },
      "execution_count": 114,
      "outputs": []
    },
    {
      "cell_type": "code",
      "source": [
        "xgb_model= XGBClassifier(gamma=0)"
      ],
      "metadata": {
        "id": "Z-yt0lvZPQD9"
      },
      "execution_count": 115,
      "outputs": []
    },
    {
      "cell_type": "code",
      "source": [
        "xgb_model.fit(x_train,y_train)"
      ],
      "metadata": {
        "colab": {
          "base_uri": "https://localhost:8080/",
          "height": 248
        },
        "id": "5rhKzEq2PSw4",
        "outputId": "dcaa94ca-0318-492d-ff0e-710456e34db8"
      },
      "execution_count": 116,
      "outputs": [
        {
          "output_type": "execute_result",
          "data": {
            "text/plain": [
              "XGBClassifier(base_score=None, booster=None, callbacks=None,\n",
              "              colsample_bylevel=None, colsample_bynode=None,\n",
              "              colsample_bytree=None, device=None, early_stopping_rounds=None,\n",
              "              enable_categorical=False, eval_metric=None, feature_types=None,\n",
              "              gamma=0, grow_policy=None, importance_type=None,\n",
              "              interaction_constraints=None, learning_rate=None, max_bin=None,\n",
              "              max_cat_threshold=None, max_cat_to_onehot=None,\n",
              "              max_delta_step=None, max_depth=None, max_leaves=None,\n",
              "              min_child_weight=None, missing=nan, monotone_constraints=None,\n",
              "              multi_strategy=None, n_estimators=None, n_jobs=None,\n",
              "              num_parallel_tree=None, objective='multi:softprob', ...)"
            ],
            "text/html": [
              "<style>#sk-container-id-6 {color: black;background-color: white;}#sk-container-id-6 pre{padding: 0;}#sk-container-id-6 div.sk-toggleable {background-color: white;}#sk-container-id-6 label.sk-toggleable__label {cursor: pointer;display: block;width: 100%;margin-bottom: 0;padding: 0.3em;box-sizing: border-box;text-align: center;}#sk-container-id-6 label.sk-toggleable__label-arrow:before {content: \"▸\";float: left;margin-right: 0.25em;color: #696969;}#sk-container-id-6 label.sk-toggleable__label-arrow:hover:before {color: black;}#sk-container-id-6 div.sk-estimator:hover label.sk-toggleable__label-arrow:before {color: black;}#sk-container-id-6 div.sk-toggleable__content {max-height: 0;max-width: 0;overflow: hidden;text-align: left;background-color: #f0f8ff;}#sk-container-id-6 div.sk-toggleable__content pre {margin: 0.2em;color: black;border-radius: 0.25em;background-color: #f0f8ff;}#sk-container-id-6 input.sk-toggleable__control:checked~div.sk-toggleable__content {max-height: 200px;max-width: 100%;overflow: auto;}#sk-container-id-6 input.sk-toggleable__control:checked~label.sk-toggleable__label-arrow:before {content: \"▾\";}#sk-container-id-6 div.sk-estimator input.sk-toggleable__control:checked~label.sk-toggleable__label {background-color: #d4ebff;}#sk-container-id-6 div.sk-label input.sk-toggleable__control:checked~label.sk-toggleable__label {background-color: #d4ebff;}#sk-container-id-6 input.sk-hidden--visually {border: 0;clip: rect(1px 1px 1px 1px);clip: rect(1px, 1px, 1px, 1px);height: 1px;margin: -1px;overflow: hidden;padding: 0;position: absolute;width: 1px;}#sk-container-id-6 div.sk-estimator {font-family: monospace;background-color: #f0f8ff;border: 1px dotted black;border-radius: 0.25em;box-sizing: border-box;margin-bottom: 0.5em;}#sk-container-id-6 div.sk-estimator:hover {background-color: #d4ebff;}#sk-container-id-6 div.sk-parallel-item::after {content: \"\";width: 100%;border-bottom: 1px solid gray;flex-grow: 1;}#sk-container-id-6 div.sk-label:hover label.sk-toggleable__label {background-color: #d4ebff;}#sk-container-id-6 div.sk-serial::before {content: \"\";position: absolute;border-left: 1px solid gray;box-sizing: border-box;top: 0;bottom: 0;left: 50%;z-index: 0;}#sk-container-id-6 div.sk-serial {display: flex;flex-direction: column;align-items: center;background-color: white;padding-right: 0.2em;padding-left: 0.2em;position: relative;}#sk-container-id-6 div.sk-item {position: relative;z-index: 1;}#sk-container-id-6 div.sk-parallel {display: flex;align-items: stretch;justify-content: center;background-color: white;position: relative;}#sk-container-id-6 div.sk-item::before, #sk-container-id-6 div.sk-parallel-item::before {content: \"\";position: absolute;border-left: 1px solid gray;box-sizing: border-box;top: 0;bottom: 0;left: 50%;z-index: -1;}#sk-container-id-6 div.sk-parallel-item {display: flex;flex-direction: column;z-index: 1;position: relative;background-color: white;}#sk-container-id-6 div.sk-parallel-item:first-child::after {align-self: flex-end;width: 50%;}#sk-container-id-6 div.sk-parallel-item:last-child::after {align-self: flex-start;width: 50%;}#sk-container-id-6 div.sk-parallel-item:only-child::after {width: 0;}#sk-container-id-6 div.sk-dashed-wrapped {border: 1px dashed gray;margin: 0 0.4em 0.5em 0.4em;box-sizing: border-box;padding-bottom: 0.4em;background-color: white;}#sk-container-id-6 div.sk-label label {font-family: monospace;font-weight: bold;display: inline-block;line-height: 1.2em;}#sk-container-id-6 div.sk-label-container {text-align: center;}#sk-container-id-6 div.sk-container {/* jupyter's `normalize.less` sets `[hidden] { display: none; }` but bootstrap.min.css set `[hidden] { display: none !important; }` so we also need the `!important` here to be able to override the default hidden behavior on the sphinx rendered scikit-learn.org. See: https://github.com/scikit-learn/scikit-learn/issues/21755 */display: inline-block !important;position: relative;}#sk-container-id-6 div.sk-text-repr-fallback {display: none;}</style><div id=\"sk-container-id-6\" class=\"sk-top-container\"><div class=\"sk-text-repr-fallback\"><pre>XGBClassifier(base_score=None, booster=None, callbacks=None,\n",
              "              colsample_bylevel=None, colsample_bynode=None,\n",
              "              colsample_bytree=None, device=None, early_stopping_rounds=None,\n",
              "              enable_categorical=False, eval_metric=None, feature_types=None,\n",
              "              gamma=0, grow_policy=None, importance_type=None,\n",
              "              interaction_constraints=None, learning_rate=None, max_bin=None,\n",
              "              max_cat_threshold=None, max_cat_to_onehot=None,\n",
              "              max_delta_step=None, max_depth=None, max_leaves=None,\n",
              "              min_child_weight=None, missing=nan, monotone_constraints=None,\n",
              "              multi_strategy=None, n_estimators=None, n_jobs=None,\n",
              "              num_parallel_tree=None, objective=&#x27;multi:softprob&#x27;, ...)</pre><b>In a Jupyter environment, please rerun this cell to show the HTML representation or trust the notebook. <br />On GitHub, the HTML representation is unable to render, please try loading this page with nbviewer.org.</b></div><div class=\"sk-container\" hidden><div class=\"sk-item\"><div class=\"sk-estimator sk-toggleable\"><input class=\"sk-toggleable__control sk-hidden--visually\" id=\"sk-estimator-id-6\" type=\"checkbox\" checked><label for=\"sk-estimator-id-6\" class=\"sk-toggleable__label sk-toggleable__label-arrow\">XGBClassifier</label><div class=\"sk-toggleable__content\"><pre>XGBClassifier(base_score=None, booster=None, callbacks=None,\n",
              "              colsample_bylevel=None, colsample_bynode=None,\n",
              "              colsample_bytree=None, device=None, early_stopping_rounds=None,\n",
              "              enable_categorical=False, eval_metric=None, feature_types=None,\n",
              "              gamma=0, grow_policy=None, importance_type=None,\n",
              "              interaction_constraints=None, learning_rate=None, max_bin=None,\n",
              "              max_cat_threshold=None, max_cat_to_onehot=None,\n",
              "              max_delta_step=None, max_depth=None, max_leaves=None,\n",
              "              min_child_weight=None, missing=nan, monotone_constraints=None,\n",
              "              multi_strategy=None, n_estimators=None, n_jobs=None,\n",
              "              num_parallel_tree=None, objective=&#x27;multi:softprob&#x27;, ...)</pre></div></div></div></div></div>"
            ]
          },
          "metadata": {},
          "execution_count": 116
        }
      ]
    },
    {
      "cell_type": "code",
      "source": [
        "\n",
        "xgb_pred = xgb_model.predict(x_test)"
      ],
      "metadata": {
        "id": "g6QJWcd3PVg8"
      },
      "execution_count": 117,
      "outputs": []
    },
    {
      "cell_type": "code",
      "source": [
        "score4 = accuracy_score(y_test, xgb_pred)"
      ],
      "metadata": {
        "id": "sOnjGn9wPbwc"
      },
      "execution_count": 118,
      "outputs": []
    },
    {
      "cell_type": "code",
      "source": [
        "score4"
      ],
      "metadata": {
        "colab": {
          "base_uri": "https://localhost:8080/"
        },
        "id": "brveXHqWPlG1",
        "outputId": "00047129-07bd-4403-8a80-fc369856d0b9"
      },
      "execution_count": 119,
      "outputs": [
        {
          "output_type": "execute_result",
          "data": {
            "text/plain": [
              "0.9622641509433962"
            ]
          },
          "metadata": {},
          "execution_count": 119
        }
      ]
    },
    {
      "cell_type": "code",
      "source": [
        "print(classification_report(y_test,xgb_pred))"
      ],
      "metadata": {
        "colab": {
          "base_uri": "https://localhost:8080/"
        },
        "id": "cHUV4s5TPpYt",
        "outputId": "c1ad3f58-8014-4930-e6f3-e5abf38cc33d"
      },
      "execution_count": 120,
      "outputs": [
        {
          "output_type": "stream",
          "name": "stdout",
          "text": [
            "              precision    recall  f1-score   support\n",
            "\n",
            "           0       0.99      0.97      0.98        78\n",
            "           1       0.90      0.92      0.91        87\n",
            "           2       1.00      0.99      0.99        91\n",
            "           3       0.99      0.99      0.99        75\n",
            "           4       1.00      0.99      0.99        90\n",
            "           5       0.90      0.90      0.90        78\n",
            "           6       0.96      0.98      0.97        84\n",
            "\n",
            "    accuracy                           0.96       583\n",
            "   macro avg       0.96      0.96      0.96       583\n",
            "weighted avg       0.96      0.96      0.96       583\n",
            "\n"
          ]
        }
      ]
    },
    {
      "cell_type": "code",
      "source": [
        "metrics.confusion_matrix(y_test,xgb_pred)"
      ],
      "metadata": {
        "colab": {
          "base_uri": "https://localhost:8080/"
        },
        "id": "DjVl7YEFQbNL",
        "outputId": "cf70c4a2-60f1-4e27-d47f-a33ac337b9b1"
      },
      "execution_count": 121,
      "outputs": [
        {
          "output_type": "execute_result",
          "data": {
            "text/plain": [
              "array([[76,  2,  0,  0,  0,  0,  0],\n",
              "       [ 1, 80,  0,  0,  0,  6,  0],\n",
              "       [ 0,  0, 90,  0,  0,  1,  0],\n",
              "       [ 0,  0,  0, 74,  0,  0,  1],\n",
              "       [ 0,  0,  0,  1, 89,  0,  0],\n",
              "       [ 0,  6,  0,  0,  0, 70,  2],\n",
              "       [ 0,  1,  0,  0,  0,  1, 82]])"
            ]
          },
          "metadata": {},
          "execution_count": 121
        }
      ]
    },
    {
      "cell_type": "markdown",
      "source": [
        "**AdaBoost**"
      ],
      "metadata": {
        "id": "r-S5sfc1AZCG"
      }
    },
    {
      "cell_type": "code",
      "source": [
        "from sklearn.ensemble import AdaBoostClassifier"
      ],
      "metadata": {
        "id": "mVSQye4kPuPN"
      },
      "execution_count": 122,
      "outputs": []
    },
    {
      "cell_type": "code",
      "source": [
        "from sklearn.tree import DecisionTreeClassifier"
      ],
      "metadata": {
        "id": "RPe2Agg3P2fI"
      },
      "execution_count": 123,
      "outputs": []
    },
    {
      "cell_type": "code",
      "source": [
        "base_estimator= DecisionTreeClassifier(max_depth=1)  # you can adjust paramter of the base estimator\n",
        "\n",
        "adaboost_model= AdaBoostClassifier(base_estimator=base_estimator, n_estimators=50, random_state=100)"
      ],
      "metadata": {
        "id": "LdgW-z5tP5Jm"
      },
      "execution_count": 124,
      "outputs": []
    },
    {
      "cell_type": "code",
      "source": [
        "adaboost_model.fit(x_train, y_train)"
      ],
      "metadata": {
        "colab": {
          "base_uri": "https://localhost:8080/",
          "height": 116
        },
        "id": "bePOkqgdP7rf",
        "outputId": "570d040b-1a6f-4a06-d917-2fcd5e252375"
      },
      "execution_count": 125,
      "outputs": [
        {
          "output_type": "execute_result",
          "data": {
            "text/plain": [
              "AdaBoostClassifier(base_estimator=DecisionTreeClassifier(max_depth=1),\n",
              "                   random_state=100)"
            ],
            "text/html": [
              "<style>#sk-container-id-7 {color: black;background-color: white;}#sk-container-id-7 pre{padding: 0;}#sk-container-id-7 div.sk-toggleable {background-color: white;}#sk-container-id-7 label.sk-toggleable__label {cursor: pointer;display: block;width: 100%;margin-bottom: 0;padding: 0.3em;box-sizing: border-box;text-align: center;}#sk-container-id-7 label.sk-toggleable__label-arrow:before {content: \"▸\";float: left;margin-right: 0.25em;color: #696969;}#sk-container-id-7 label.sk-toggleable__label-arrow:hover:before {color: black;}#sk-container-id-7 div.sk-estimator:hover label.sk-toggleable__label-arrow:before {color: black;}#sk-container-id-7 div.sk-toggleable__content {max-height: 0;max-width: 0;overflow: hidden;text-align: left;background-color: #f0f8ff;}#sk-container-id-7 div.sk-toggleable__content pre {margin: 0.2em;color: black;border-radius: 0.25em;background-color: #f0f8ff;}#sk-container-id-7 input.sk-toggleable__control:checked~div.sk-toggleable__content {max-height: 200px;max-width: 100%;overflow: auto;}#sk-container-id-7 input.sk-toggleable__control:checked~label.sk-toggleable__label-arrow:before {content: \"▾\";}#sk-container-id-7 div.sk-estimator input.sk-toggleable__control:checked~label.sk-toggleable__label {background-color: #d4ebff;}#sk-container-id-7 div.sk-label input.sk-toggleable__control:checked~label.sk-toggleable__label {background-color: #d4ebff;}#sk-container-id-7 input.sk-hidden--visually {border: 0;clip: rect(1px 1px 1px 1px);clip: rect(1px, 1px, 1px, 1px);height: 1px;margin: -1px;overflow: hidden;padding: 0;position: absolute;width: 1px;}#sk-container-id-7 div.sk-estimator {font-family: monospace;background-color: #f0f8ff;border: 1px dotted black;border-radius: 0.25em;box-sizing: border-box;margin-bottom: 0.5em;}#sk-container-id-7 div.sk-estimator:hover {background-color: #d4ebff;}#sk-container-id-7 div.sk-parallel-item::after {content: \"\";width: 100%;border-bottom: 1px solid gray;flex-grow: 1;}#sk-container-id-7 div.sk-label:hover label.sk-toggleable__label {background-color: #d4ebff;}#sk-container-id-7 div.sk-serial::before {content: \"\";position: absolute;border-left: 1px solid gray;box-sizing: border-box;top: 0;bottom: 0;left: 50%;z-index: 0;}#sk-container-id-7 div.sk-serial {display: flex;flex-direction: column;align-items: center;background-color: white;padding-right: 0.2em;padding-left: 0.2em;position: relative;}#sk-container-id-7 div.sk-item {position: relative;z-index: 1;}#sk-container-id-7 div.sk-parallel {display: flex;align-items: stretch;justify-content: center;background-color: white;position: relative;}#sk-container-id-7 div.sk-item::before, #sk-container-id-7 div.sk-parallel-item::before {content: \"\";position: absolute;border-left: 1px solid gray;box-sizing: border-box;top: 0;bottom: 0;left: 50%;z-index: -1;}#sk-container-id-7 div.sk-parallel-item {display: flex;flex-direction: column;z-index: 1;position: relative;background-color: white;}#sk-container-id-7 div.sk-parallel-item:first-child::after {align-self: flex-end;width: 50%;}#sk-container-id-7 div.sk-parallel-item:last-child::after {align-self: flex-start;width: 50%;}#sk-container-id-7 div.sk-parallel-item:only-child::after {width: 0;}#sk-container-id-7 div.sk-dashed-wrapped {border: 1px dashed gray;margin: 0 0.4em 0.5em 0.4em;box-sizing: border-box;padding-bottom: 0.4em;background-color: white;}#sk-container-id-7 div.sk-label label {font-family: monospace;font-weight: bold;display: inline-block;line-height: 1.2em;}#sk-container-id-7 div.sk-label-container {text-align: center;}#sk-container-id-7 div.sk-container {/* jupyter's `normalize.less` sets `[hidden] { display: none; }` but bootstrap.min.css set `[hidden] { display: none !important; }` so we also need the `!important` here to be able to override the default hidden behavior on the sphinx rendered scikit-learn.org. See: https://github.com/scikit-learn/scikit-learn/issues/21755 */display: inline-block !important;position: relative;}#sk-container-id-7 div.sk-text-repr-fallback {display: none;}</style><div id=\"sk-container-id-7\" class=\"sk-top-container\"><div class=\"sk-text-repr-fallback\"><pre>AdaBoostClassifier(base_estimator=DecisionTreeClassifier(max_depth=1),\n",
              "                   random_state=100)</pre><b>In a Jupyter environment, please rerun this cell to show the HTML representation or trust the notebook. <br />On GitHub, the HTML representation is unable to render, please try loading this page with nbviewer.org.</b></div><div class=\"sk-container\" hidden><div class=\"sk-item sk-dashed-wrapped\"><div class=\"sk-label-container\"><div class=\"sk-label sk-toggleable\"><input class=\"sk-toggleable__control sk-hidden--visually\" id=\"sk-estimator-id-7\" type=\"checkbox\" ><label for=\"sk-estimator-id-7\" class=\"sk-toggleable__label sk-toggleable__label-arrow\">AdaBoostClassifier</label><div class=\"sk-toggleable__content\"><pre>AdaBoostClassifier(base_estimator=DecisionTreeClassifier(max_depth=1),\n",
              "                   random_state=100)</pre></div></div></div><div class=\"sk-parallel\"><div class=\"sk-parallel-item\"><div class=\"sk-item\"><div class=\"sk-label-container\"><div class=\"sk-label sk-toggleable\"><input class=\"sk-toggleable__control sk-hidden--visually\" id=\"sk-estimator-id-8\" type=\"checkbox\" ><label for=\"sk-estimator-id-8\" class=\"sk-toggleable__label sk-toggleable__label-arrow\">base_estimator: DecisionTreeClassifier</label><div class=\"sk-toggleable__content\"><pre>DecisionTreeClassifier(max_depth=1)</pre></div></div></div><div class=\"sk-serial\"><div class=\"sk-item\"><div class=\"sk-estimator sk-toggleable\"><input class=\"sk-toggleable__control sk-hidden--visually\" id=\"sk-estimator-id-9\" type=\"checkbox\" ><label for=\"sk-estimator-id-9\" class=\"sk-toggleable__label sk-toggleable__label-arrow\">DecisionTreeClassifier</label><div class=\"sk-toggleable__content\"><pre>DecisionTreeClassifier(max_depth=1)</pre></div></div></div></div></div></div></div></div></div></div>"
            ]
          },
          "metadata": {},
          "execution_count": 125
        }
      ]
    },
    {
      "cell_type": "code",
      "source": [
        "prediction4 = adaboost_model.predict(x_test)"
      ],
      "metadata": {
        "id": "ef82bipcQEgE"
      },
      "execution_count": 126,
      "outputs": []
    },
    {
      "cell_type": "code",
      "source": [
        "score5 = accuracy_score(y_test, prediction4)"
      ],
      "metadata": {
        "id": "DnRNA2WPQPOP"
      },
      "execution_count": 127,
      "outputs": []
    },
    {
      "cell_type": "code",
      "source": [
        "score5"
      ],
      "metadata": {
        "id": "chS4XjmBTnRp",
        "colab": {
          "base_uri": "https://localhost:8080/"
        },
        "outputId": "635066a5-1ef3-40a2-e377-69bead4d5e90"
      },
      "execution_count": 128,
      "outputs": [
        {
          "output_type": "execute_result",
          "data": {
            "text/plain": [
              "0.41337907375643224"
            ]
          },
          "metadata": {},
          "execution_count": 128
        }
      ]
    },
    {
      "cell_type": "code",
      "source": [
        "print(classification_report(y_test,prediction4))"
      ],
      "metadata": {
        "colab": {
          "base_uri": "https://localhost:8080/"
        },
        "id": "PnnPhnJ1NzFd",
        "outputId": "13457ebc-d2e3-4f2d-936a-cbc8b213f2b3"
      },
      "execution_count": 129,
      "outputs": [
        {
          "output_type": "stream",
          "name": "stdout",
          "text": [
            "              precision    recall  f1-score   support\n",
            "\n",
            "           0       0.54      1.00      0.70        78\n",
            "           1       0.36      0.29      0.32        87\n",
            "           2       0.00      0.00      0.00        91\n",
            "           3       0.36      0.96      0.53        75\n",
            "           4       0.00      0.00      0.00        90\n",
            "           5       0.00      0.00      0.00        78\n",
            "           6       0.39      0.79      0.52        84\n",
            "\n",
            "    accuracy                           0.41       583\n",
            "   macro avg       0.24      0.43      0.30       583\n",
            "weighted avg       0.23      0.41      0.28       583\n",
            "\n"
          ]
        }
      ]
    },
    {
      "cell_type": "code",
      "source": [
        "metrics.confusion_matrix(y_test,prediction4)"
      ],
      "metadata": {
        "colab": {
          "base_uri": "https://localhost:8080/"
        },
        "id": "JygU7r1jRrD1",
        "outputId": "65908671-d1ba-474e-e257-d2440489e95d"
      },
      "execution_count": 130,
      "outputs": [
        {
          "output_type": "execute_result",
          "data": {
            "text/plain": [
              "array([[78,  0,  0,  0,  0,  0,  0],\n",
              "       [53, 25,  0,  0,  0,  0,  9],\n",
              "       [ 0,  0,  0, 36,  0,  0, 55],\n",
              "       [ 0,  0,  0, 72,  0,  0,  3],\n",
              "       [ 0,  0,  0, 90,  0,  0,  0],\n",
              "       [ 8, 33,  0,  0,  0,  0, 37],\n",
              "       [ 5, 12,  0,  1,  0,  0, 66]])"
            ]
          },
          "metadata": {},
          "execution_count": 130
        }
      ]
    },
    {
      "cell_type": "code",
      "source": [
        "from sklearn.naive_bayes import GaussianNB\n",
        "\n",
        "nb = GaussianNB()\n",
        "\n",
        "nb.fit(x_train, y_train)\n",
        "\n",
        "prediction5 = nb.predict(x_test)\n",
        "\n",
        "accuracy = accuracy_score(y_test, prediction)"
      ],
      "metadata": {
        "id": "ouTfYA1FzYQ4"
      },
      "execution_count": 131,
      "outputs": []
    },
    {
      "cell_type": "code",
      "source": [
        "accuracy"
      ],
      "metadata": {
        "colab": {
          "base_uri": "https://localhost:8080/"
        },
        "id": "XA0qP4HIzYa8",
        "outputId": "25ed5b77-8030-491e-a288-f9fa71c8ec93"
      },
      "execution_count": 132,
      "outputs": [
        {
          "output_type": "execute_result",
          "data": {
            "text/plain": [
              "0.5917667238421955"
            ]
          },
          "metadata": {},
          "execution_count": 132
        }
      ]
    },
    {
      "cell_type": "code",
      "source": [
        "print(classification_report(y_test,prediction5))"
      ],
      "metadata": {
        "colab": {
          "base_uri": "https://localhost:8080/"
        },
        "id": "0xWP7IW10S81",
        "outputId": "4860b4dd-419c-499c-8eb1-f2099cdf979d"
      },
      "execution_count": 133,
      "outputs": [
        {
          "output_type": "stream",
          "name": "stdout",
          "text": [
            "              precision    recall  f1-score   support\n",
            "\n",
            "           0       0.51      0.77      0.61        78\n",
            "           1       0.56      0.16      0.25        87\n",
            "           2       0.31      0.67      0.43        91\n",
            "           3       0.70      0.76      0.73        75\n",
            "           4       1.00      0.99      0.99        90\n",
            "           5       0.39      0.12      0.18        78\n",
            "           6       0.61      0.37      0.46        84\n",
            "\n",
            "    accuracy                           0.55       583\n",
            "   macro avg       0.58      0.55      0.52       583\n",
            "weighted avg       0.58      0.55      0.52       583\n",
            "\n"
          ]
        }
      ]
    },
    {
      "cell_type": "code",
      "source": [
        "metrics.confusion_matrix(y_test,prediction5)"
      ],
      "metadata": {
        "colab": {
          "base_uri": "https://localhost:8080/"
        },
        "id": "igAt4G2szYc5",
        "outputId": "12f2dafe-1274-44fd-9c57-86e324c4079a"
      },
      "execution_count": 134,
      "outputs": [
        {
          "output_type": "execute_result",
          "data": {
            "text/plain": [
              "array([[60,  2, 16,  0,  0,  0,  0],\n",
              "       [47, 14, 14,  0,  0,  9,  3],\n",
              "       [ 0,  2, 61, 20,  0,  3,  5],\n",
              "       [ 0,  0, 16, 57,  0,  0,  2],\n",
              "       [ 0,  0,  1,  0, 89,  0,  0],\n",
              "       [11,  6, 42,  0,  0,  9, 10],\n",
              "       [ 0,  1, 45,  5,  0,  2, 31]])"
            ]
          },
          "metadata": {},
          "execution_count": 134
        }
      ]
    },
    {
      "cell_type": "code",
      "source": [],
      "metadata": {
        "id": "-Y8g_BwwzYkV"
      },
      "execution_count": 134,
      "outputs": []
    },
    {
      "cell_type": "code",
      "source": [],
      "metadata": {
        "id": "OS3tv8TgzYsY"
      },
      "execution_count": 134,
      "outputs": []
    },
    {
      "cell_type": "markdown",
      "source": [
        "**Accuracy Score:**\n",
        "\n",
        "LogisticRegression = 0.84\n",
        "\n",
        "Support Vector Classifier = 0.81\n",
        "\n",
        "Decision Tree = 0.94\n",
        "\n",
        "Random Forest = 0.95\n",
        "\n",
        "XG Boost = 0.96\n",
        "\n",
        "AdaBoost = 0.41\n",
        "\n",
        "Naive Bayes = 0.52\n"
      ],
      "metadata": {
        "id": "7jAM5PbwB6mT"
      }
    },
    {
      "cell_type": "code",
      "source": [],
      "metadata": {
        "id": "zscgKzx6DCeZ"
      },
      "execution_count": 134,
      "outputs": []
    },
    {
      "cell_type": "markdown",
      "source": [
        "###The Highest Accuracy Contain XG Boost Algorithm."
      ],
      "metadata": {
        "id": "5auY_mNDaDTj"
      }
    },
    {
      "cell_type": "markdown",
      "source": [
        "####Apply ANN on obesity dataset"
      ],
      "metadata": {
        "id": "E527raaMJqIF"
      }
    },
    {
      "cell_type": "code",
      "source": [
        "# importing libraries\n",
        "\n",
        "import tensorflow\n",
        "from tensorflow import keras\n",
        "from keras import Sequential\n",
        "from keras.layers import Dense\n"
      ],
      "metadata": {
        "id": "uS39rJkmJsfK"
      },
      "execution_count": 135,
      "outputs": []
    },
    {
      "cell_type": "code",
      "source": [
        "df"
      ],
      "metadata": {
        "colab": {
          "base_uri": "https://localhost:8080/",
          "height": 443
        },
        "id": "HyKIvgeCJ48Y",
        "outputId": "4442fdba-7b88-4c1b-c8bb-a0a9aeb3d8c7"
      },
      "execution_count": 136,
      "outputs": [
        {
          "output_type": "execute_result",
          "data": {
            "text/plain": [
              "            Age    Height      Weight  FCVC  NCP      CH2O       FAF  \\\n",
              "0     21.000000  1.620000   64.000000   2.0  3.0  2.000000  0.000000   \n",
              "1     21.000000  1.520000   56.000000   3.0  3.0  3.000000  3.000000   \n",
              "2     23.000000  1.800000   77.000000   2.0  3.0  2.000000  2.000000   \n",
              "3     27.000000  1.800000   87.000000   3.0  3.0  2.000000  2.000000   \n",
              "4     22.000000  1.780000   89.800000   2.0  1.0  2.000000  0.000000   \n",
              "...         ...       ...         ...   ...  ...       ...       ...   \n",
              "2106  20.976842  1.710730  131.408528   3.0  3.0  1.728139  1.676269   \n",
              "2107  21.982942  1.748584  133.742943   3.0  3.0  2.005130  1.341390   \n",
              "2108  22.524036  1.752206  133.689352   3.0  3.0  2.054193  1.414209   \n",
              "2109  24.361936  1.739450  133.346641   3.0  3.0  2.852339  1.139107   \n",
              "2110  23.664709  1.738836  133.472641   3.0  3.0  2.863513  1.026452   \n",
              "\n",
              "           TUE  Gender_Male  family_history_with_overweight_yes  ...  \\\n",
              "0     1.000000            0                                   1  ...   \n",
              "1     0.000000            0                                   1  ...   \n",
              "2     1.000000            1                                   1  ...   \n",
              "3     0.000000            1                                   0  ...   \n",
              "4     0.000000            1                                   0  ...   \n",
              "...        ...          ...                                 ...  ...   \n",
              "2106  0.906247            0                                   1  ...   \n",
              "2107  0.599270            0                                   1  ...   \n",
              "2108  0.646288            0                                   1  ...   \n",
              "2109  0.586035            0                                   1  ...   \n",
              "2110  0.714137            0                                   1  ...   \n",
              "\n",
              "      SMOKE_yes  SCC_yes  CALC_Frequently  CALC_Sometimes  CALC_no  \\\n",
              "0             0        0                0               0        1   \n",
              "1             1        1                0               1        0   \n",
              "2             0        0                1               0        0   \n",
              "3             0        0                1               0        0   \n",
              "4             0        0                0               1        0   \n",
              "...         ...      ...              ...             ...      ...   \n",
              "2106          0        0                0               1        0   \n",
              "2107          0        0                0               1        0   \n",
              "2108          0        0                0               1        0   \n",
              "2109          0        0                0               1        0   \n",
              "2110          0        0                0               1        0   \n",
              "\n",
              "      MTRANS_Bike  MTRANS_Motorbike  MTRANS_Public_Transportation  \\\n",
              "0               0                 0                             1   \n",
              "1               0                 0                             1   \n",
              "2               0                 0                             1   \n",
              "3               0                 0                             0   \n",
              "4               0                 0                             1   \n",
              "...           ...               ...                           ...   \n",
              "2106            0                 0                             1   \n",
              "2107            0                 0                             1   \n",
              "2108            0                 0                             1   \n",
              "2109            0                 0                             1   \n",
              "2110            0                 0                             1   \n",
              "\n",
              "      MTRANS_Walking  NObeyesdad_encoded  \n",
              "0                  0                   1  \n",
              "1                  0                   1  \n",
              "2                  0                   1  \n",
              "3                  1                   5  \n",
              "4                  0                   6  \n",
              "...              ...                 ...  \n",
              "2106               0                   4  \n",
              "2107               0                   4  \n",
              "2108               0                   4  \n",
              "2109               0                   4  \n",
              "2110               0                   4  \n",
              "\n",
              "[1942 rows x 24 columns]"
            ],
            "text/html": [
              "\n",
              "  <div id=\"df-a974bf7d-b2a9-4a12-971a-170b3e2a2eee\" class=\"colab-df-container\">\n",
              "    <div>\n",
              "<style scoped>\n",
              "    .dataframe tbody tr th:only-of-type {\n",
              "        vertical-align: middle;\n",
              "    }\n",
              "\n",
              "    .dataframe tbody tr th {\n",
              "        vertical-align: top;\n",
              "    }\n",
              "\n",
              "    .dataframe thead th {\n",
              "        text-align: right;\n",
              "    }\n",
              "</style>\n",
              "<table border=\"1\" class=\"dataframe\">\n",
              "  <thead>\n",
              "    <tr style=\"text-align: right;\">\n",
              "      <th></th>\n",
              "      <th>Age</th>\n",
              "      <th>Height</th>\n",
              "      <th>Weight</th>\n",
              "      <th>FCVC</th>\n",
              "      <th>NCP</th>\n",
              "      <th>CH2O</th>\n",
              "      <th>FAF</th>\n",
              "      <th>TUE</th>\n",
              "      <th>Gender_Male</th>\n",
              "      <th>family_history_with_overweight_yes</th>\n",
              "      <th>...</th>\n",
              "      <th>SMOKE_yes</th>\n",
              "      <th>SCC_yes</th>\n",
              "      <th>CALC_Frequently</th>\n",
              "      <th>CALC_Sometimes</th>\n",
              "      <th>CALC_no</th>\n",
              "      <th>MTRANS_Bike</th>\n",
              "      <th>MTRANS_Motorbike</th>\n",
              "      <th>MTRANS_Public_Transportation</th>\n",
              "      <th>MTRANS_Walking</th>\n",
              "      <th>NObeyesdad_encoded</th>\n",
              "    </tr>\n",
              "  </thead>\n",
              "  <tbody>\n",
              "    <tr>\n",
              "      <th>0</th>\n",
              "      <td>21.000000</td>\n",
              "      <td>1.620000</td>\n",
              "      <td>64.000000</td>\n",
              "      <td>2.0</td>\n",
              "      <td>3.0</td>\n",
              "      <td>2.000000</td>\n",
              "      <td>0.000000</td>\n",
              "      <td>1.000000</td>\n",
              "      <td>0</td>\n",
              "      <td>1</td>\n",
              "      <td>...</td>\n",
              "      <td>0</td>\n",
              "      <td>0</td>\n",
              "      <td>0</td>\n",
              "      <td>0</td>\n",
              "      <td>1</td>\n",
              "      <td>0</td>\n",
              "      <td>0</td>\n",
              "      <td>1</td>\n",
              "      <td>0</td>\n",
              "      <td>1</td>\n",
              "    </tr>\n",
              "    <tr>\n",
              "      <th>1</th>\n",
              "      <td>21.000000</td>\n",
              "      <td>1.520000</td>\n",
              "      <td>56.000000</td>\n",
              "      <td>3.0</td>\n",
              "      <td>3.0</td>\n",
              "      <td>3.000000</td>\n",
              "      <td>3.000000</td>\n",
              "      <td>0.000000</td>\n",
              "      <td>0</td>\n",
              "      <td>1</td>\n",
              "      <td>...</td>\n",
              "      <td>1</td>\n",
              "      <td>1</td>\n",
              "      <td>0</td>\n",
              "      <td>1</td>\n",
              "      <td>0</td>\n",
              "      <td>0</td>\n",
              "      <td>0</td>\n",
              "      <td>1</td>\n",
              "      <td>0</td>\n",
              "      <td>1</td>\n",
              "    </tr>\n",
              "    <tr>\n",
              "      <th>2</th>\n",
              "      <td>23.000000</td>\n",
              "      <td>1.800000</td>\n",
              "      <td>77.000000</td>\n",
              "      <td>2.0</td>\n",
              "      <td>3.0</td>\n",
              "      <td>2.000000</td>\n",
              "      <td>2.000000</td>\n",
              "      <td>1.000000</td>\n",
              "      <td>1</td>\n",
              "      <td>1</td>\n",
              "      <td>...</td>\n",
              "      <td>0</td>\n",
              "      <td>0</td>\n",
              "      <td>1</td>\n",
              "      <td>0</td>\n",
              "      <td>0</td>\n",
              "      <td>0</td>\n",
              "      <td>0</td>\n",
              "      <td>1</td>\n",
              "      <td>0</td>\n",
              "      <td>1</td>\n",
              "    </tr>\n",
              "    <tr>\n",
              "      <th>3</th>\n",
              "      <td>27.000000</td>\n",
              "      <td>1.800000</td>\n",
              "      <td>87.000000</td>\n",
              "      <td>3.0</td>\n",
              "      <td>3.0</td>\n",
              "      <td>2.000000</td>\n",
              "      <td>2.000000</td>\n",
              "      <td>0.000000</td>\n",
              "      <td>1</td>\n",
              "      <td>0</td>\n",
              "      <td>...</td>\n",
              "      <td>0</td>\n",
              "      <td>0</td>\n",
              "      <td>1</td>\n",
              "      <td>0</td>\n",
              "      <td>0</td>\n",
              "      <td>0</td>\n",
              "      <td>0</td>\n",
              "      <td>0</td>\n",
              "      <td>1</td>\n",
              "      <td>5</td>\n",
              "    </tr>\n",
              "    <tr>\n",
              "      <th>4</th>\n",
              "      <td>22.000000</td>\n",
              "      <td>1.780000</td>\n",
              "      <td>89.800000</td>\n",
              "      <td>2.0</td>\n",
              "      <td>1.0</td>\n",
              "      <td>2.000000</td>\n",
              "      <td>0.000000</td>\n",
              "      <td>0.000000</td>\n",
              "      <td>1</td>\n",
              "      <td>0</td>\n",
              "      <td>...</td>\n",
              "      <td>0</td>\n",
              "      <td>0</td>\n",
              "      <td>0</td>\n",
              "      <td>1</td>\n",
              "      <td>0</td>\n",
              "      <td>0</td>\n",
              "      <td>0</td>\n",
              "      <td>1</td>\n",
              "      <td>0</td>\n",
              "      <td>6</td>\n",
              "    </tr>\n",
              "    <tr>\n",
              "      <th>...</th>\n",
              "      <td>...</td>\n",
              "      <td>...</td>\n",
              "      <td>...</td>\n",
              "      <td>...</td>\n",
              "      <td>...</td>\n",
              "      <td>...</td>\n",
              "      <td>...</td>\n",
              "      <td>...</td>\n",
              "      <td>...</td>\n",
              "      <td>...</td>\n",
              "      <td>...</td>\n",
              "      <td>...</td>\n",
              "      <td>...</td>\n",
              "      <td>...</td>\n",
              "      <td>...</td>\n",
              "      <td>...</td>\n",
              "      <td>...</td>\n",
              "      <td>...</td>\n",
              "      <td>...</td>\n",
              "      <td>...</td>\n",
              "      <td>...</td>\n",
              "    </tr>\n",
              "    <tr>\n",
              "      <th>2106</th>\n",
              "      <td>20.976842</td>\n",
              "      <td>1.710730</td>\n",
              "      <td>131.408528</td>\n",
              "      <td>3.0</td>\n",
              "      <td>3.0</td>\n",
              "      <td>1.728139</td>\n",
              "      <td>1.676269</td>\n",
              "      <td>0.906247</td>\n",
              "      <td>0</td>\n",
              "      <td>1</td>\n",
              "      <td>...</td>\n",
              "      <td>0</td>\n",
              "      <td>0</td>\n",
              "      <td>0</td>\n",
              "      <td>1</td>\n",
              "      <td>0</td>\n",
              "      <td>0</td>\n",
              "      <td>0</td>\n",
              "      <td>1</td>\n",
              "      <td>0</td>\n",
              "      <td>4</td>\n",
              "    </tr>\n",
              "    <tr>\n",
              "      <th>2107</th>\n",
              "      <td>21.982942</td>\n",
              "      <td>1.748584</td>\n",
              "      <td>133.742943</td>\n",
              "      <td>3.0</td>\n",
              "      <td>3.0</td>\n",
              "      <td>2.005130</td>\n",
              "      <td>1.341390</td>\n",
              "      <td>0.599270</td>\n",
              "      <td>0</td>\n",
              "      <td>1</td>\n",
              "      <td>...</td>\n",
              "      <td>0</td>\n",
              "      <td>0</td>\n",
              "      <td>0</td>\n",
              "      <td>1</td>\n",
              "      <td>0</td>\n",
              "      <td>0</td>\n",
              "      <td>0</td>\n",
              "      <td>1</td>\n",
              "      <td>0</td>\n",
              "      <td>4</td>\n",
              "    </tr>\n",
              "    <tr>\n",
              "      <th>2108</th>\n",
              "      <td>22.524036</td>\n",
              "      <td>1.752206</td>\n",
              "      <td>133.689352</td>\n",
              "      <td>3.0</td>\n",
              "      <td>3.0</td>\n",
              "      <td>2.054193</td>\n",
              "      <td>1.414209</td>\n",
              "      <td>0.646288</td>\n",
              "      <td>0</td>\n",
              "      <td>1</td>\n",
              "      <td>...</td>\n",
              "      <td>0</td>\n",
              "      <td>0</td>\n",
              "      <td>0</td>\n",
              "      <td>1</td>\n",
              "      <td>0</td>\n",
              "      <td>0</td>\n",
              "      <td>0</td>\n",
              "      <td>1</td>\n",
              "      <td>0</td>\n",
              "      <td>4</td>\n",
              "    </tr>\n",
              "    <tr>\n",
              "      <th>2109</th>\n",
              "      <td>24.361936</td>\n",
              "      <td>1.739450</td>\n",
              "      <td>133.346641</td>\n",
              "      <td>3.0</td>\n",
              "      <td>3.0</td>\n",
              "      <td>2.852339</td>\n",
              "      <td>1.139107</td>\n",
              "      <td>0.586035</td>\n",
              "      <td>0</td>\n",
              "      <td>1</td>\n",
              "      <td>...</td>\n",
              "      <td>0</td>\n",
              "      <td>0</td>\n",
              "      <td>0</td>\n",
              "      <td>1</td>\n",
              "      <td>0</td>\n",
              "      <td>0</td>\n",
              "      <td>0</td>\n",
              "      <td>1</td>\n",
              "      <td>0</td>\n",
              "      <td>4</td>\n",
              "    </tr>\n",
              "    <tr>\n",
              "      <th>2110</th>\n",
              "      <td>23.664709</td>\n",
              "      <td>1.738836</td>\n",
              "      <td>133.472641</td>\n",
              "      <td>3.0</td>\n",
              "      <td>3.0</td>\n",
              "      <td>2.863513</td>\n",
              "      <td>1.026452</td>\n",
              "      <td>0.714137</td>\n",
              "      <td>0</td>\n",
              "      <td>1</td>\n",
              "      <td>...</td>\n",
              "      <td>0</td>\n",
              "      <td>0</td>\n",
              "      <td>0</td>\n",
              "      <td>1</td>\n",
              "      <td>0</td>\n",
              "      <td>0</td>\n",
              "      <td>0</td>\n",
              "      <td>1</td>\n",
              "      <td>0</td>\n",
              "      <td>4</td>\n",
              "    </tr>\n",
              "  </tbody>\n",
              "</table>\n",
              "<p>1942 rows × 24 columns</p>\n",
              "</div>\n",
              "    <div class=\"colab-df-buttons\">\n",
              "\n",
              "  <div class=\"colab-df-container\">\n",
              "    <button class=\"colab-df-convert\" onclick=\"convertToInteractive('df-a974bf7d-b2a9-4a12-971a-170b3e2a2eee')\"\n",
              "            title=\"Convert this dataframe to an interactive table.\"\n",
              "            style=\"display:none;\">\n",
              "\n",
              "  <svg xmlns=\"http://www.w3.org/2000/svg\" height=\"24px\" viewBox=\"0 -960 960 960\">\n",
              "    <path d=\"M120-120v-720h720v720H120Zm60-500h600v-160H180v160Zm220 220h160v-160H400v160Zm0 220h160v-160H400v160ZM180-400h160v-160H180v160Zm440 0h160v-160H620v160ZM180-180h160v-160H180v160Zm440 0h160v-160H620v160Z\"/>\n",
              "  </svg>\n",
              "    </button>\n",
              "\n",
              "  <style>\n",
              "    .colab-df-container {\n",
              "      display:flex;\n",
              "      gap: 12px;\n",
              "    }\n",
              "\n",
              "    .colab-df-convert {\n",
              "      background-color: #E8F0FE;\n",
              "      border: none;\n",
              "      border-radius: 50%;\n",
              "      cursor: pointer;\n",
              "      display: none;\n",
              "      fill: #1967D2;\n",
              "      height: 32px;\n",
              "      padding: 0 0 0 0;\n",
              "      width: 32px;\n",
              "    }\n",
              "\n",
              "    .colab-df-convert:hover {\n",
              "      background-color: #E2EBFA;\n",
              "      box-shadow: 0px 1px 2px rgba(60, 64, 67, 0.3), 0px 1px 3px 1px rgba(60, 64, 67, 0.15);\n",
              "      fill: #174EA6;\n",
              "    }\n",
              "\n",
              "    .colab-df-buttons div {\n",
              "      margin-bottom: 4px;\n",
              "    }\n",
              "\n",
              "    [theme=dark] .colab-df-convert {\n",
              "      background-color: #3B4455;\n",
              "      fill: #D2E3FC;\n",
              "    }\n",
              "\n",
              "    [theme=dark] .colab-df-convert:hover {\n",
              "      background-color: #434B5C;\n",
              "      box-shadow: 0px 1px 3px 1px rgba(0, 0, 0, 0.15);\n",
              "      filter: drop-shadow(0px 1px 2px rgba(0, 0, 0, 0.3));\n",
              "      fill: #FFFFFF;\n",
              "    }\n",
              "  </style>\n",
              "\n",
              "    <script>\n",
              "      const buttonEl =\n",
              "        document.querySelector('#df-a974bf7d-b2a9-4a12-971a-170b3e2a2eee button.colab-df-convert');\n",
              "      buttonEl.style.display =\n",
              "        google.colab.kernel.accessAllowed ? 'block' : 'none';\n",
              "\n",
              "      async function convertToInteractive(key) {\n",
              "        const element = document.querySelector('#df-a974bf7d-b2a9-4a12-971a-170b3e2a2eee');\n",
              "        const dataTable =\n",
              "          await google.colab.kernel.invokeFunction('convertToInteractive',\n",
              "                                                    [key], {});\n",
              "        if (!dataTable) return;\n",
              "\n",
              "        const docLinkHtml = 'Like what you see? Visit the ' +\n",
              "          '<a target=\"_blank\" href=https://colab.research.google.com/notebooks/data_table.ipynb>data table notebook</a>'\n",
              "          + ' to learn more about interactive tables.';\n",
              "        element.innerHTML = '';\n",
              "        dataTable['output_type'] = 'display_data';\n",
              "        await google.colab.output.renderOutput(dataTable, element);\n",
              "        const docLink = document.createElement('div');\n",
              "        docLink.innerHTML = docLinkHtml;\n",
              "        element.appendChild(docLink);\n",
              "      }\n",
              "    </script>\n",
              "  </div>\n",
              "\n",
              "\n",
              "<div id=\"df-c521e3df-3f6e-4e79-8f10-062f61d6eed6\">\n",
              "  <button class=\"colab-df-quickchart\" onclick=\"quickchart('df-c521e3df-3f6e-4e79-8f10-062f61d6eed6')\"\n",
              "            title=\"Suggest charts\"\n",
              "            style=\"display:none;\">\n",
              "\n",
              "<svg xmlns=\"http://www.w3.org/2000/svg\" height=\"24px\"viewBox=\"0 0 24 24\"\n",
              "     width=\"24px\">\n",
              "    <g>\n",
              "        <path d=\"M19 3H5c-1.1 0-2 .9-2 2v14c0 1.1.9 2 2 2h14c1.1 0 2-.9 2-2V5c0-1.1-.9-2-2-2zM9 17H7v-7h2v7zm4 0h-2V7h2v10zm4 0h-2v-4h2v4z\"/>\n",
              "    </g>\n",
              "</svg>\n",
              "  </button>\n",
              "\n",
              "<style>\n",
              "  .colab-df-quickchart {\n",
              "      --bg-color: #E8F0FE;\n",
              "      --fill-color: #1967D2;\n",
              "      --hover-bg-color: #E2EBFA;\n",
              "      --hover-fill-color: #174EA6;\n",
              "      --disabled-fill-color: #AAA;\n",
              "      --disabled-bg-color: #DDD;\n",
              "  }\n",
              "\n",
              "  [theme=dark] .colab-df-quickchart {\n",
              "      --bg-color: #3B4455;\n",
              "      --fill-color: #D2E3FC;\n",
              "      --hover-bg-color: #434B5C;\n",
              "      --hover-fill-color: #FFFFFF;\n",
              "      --disabled-bg-color: #3B4455;\n",
              "      --disabled-fill-color: #666;\n",
              "  }\n",
              "\n",
              "  .colab-df-quickchart {\n",
              "    background-color: var(--bg-color);\n",
              "    border: none;\n",
              "    border-radius: 50%;\n",
              "    cursor: pointer;\n",
              "    display: none;\n",
              "    fill: var(--fill-color);\n",
              "    height: 32px;\n",
              "    padding: 0;\n",
              "    width: 32px;\n",
              "  }\n",
              "\n",
              "  .colab-df-quickchart:hover {\n",
              "    background-color: var(--hover-bg-color);\n",
              "    box-shadow: 0 1px 2px rgba(60, 64, 67, 0.3), 0 1px 3px 1px rgba(60, 64, 67, 0.15);\n",
              "    fill: var(--button-hover-fill-color);\n",
              "  }\n",
              "\n",
              "  .colab-df-quickchart-complete:disabled,\n",
              "  .colab-df-quickchart-complete:disabled:hover {\n",
              "    background-color: var(--disabled-bg-color);\n",
              "    fill: var(--disabled-fill-color);\n",
              "    box-shadow: none;\n",
              "  }\n",
              "\n",
              "  .colab-df-spinner {\n",
              "    border: 2px solid var(--fill-color);\n",
              "    border-color: transparent;\n",
              "    border-bottom-color: var(--fill-color);\n",
              "    animation:\n",
              "      spin 1s steps(1) infinite;\n",
              "  }\n",
              "\n",
              "  @keyframes spin {\n",
              "    0% {\n",
              "      border-color: transparent;\n",
              "      border-bottom-color: var(--fill-color);\n",
              "      border-left-color: var(--fill-color);\n",
              "    }\n",
              "    20% {\n",
              "      border-color: transparent;\n",
              "      border-left-color: var(--fill-color);\n",
              "      border-top-color: var(--fill-color);\n",
              "    }\n",
              "    30% {\n",
              "      border-color: transparent;\n",
              "      border-left-color: var(--fill-color);\n",
              "      border-top-color: var(--fill-color);\n",
              "      border-right-color: var(--fill-color);\n",
              "    }\n",
              "    40% {\n",
              "      border-color: transparent;\n",
              "      border-right-color: var(--fill-color);\n",
              "      border-top-color: var(--fill-color);\n",
              "    }\n",
              "    60% {\n",
              "      border-color: transparent;\n",
              "      border-right-color: var(--fill-color);\n",
              "    }\n",
              "    80% {\n",
              "      border-color: transparent;\n",
              "      border-right-color: var(--fill-color);\n",
              "      border-bottom-color: var(--fill-color);\n",
              "    }\n",
              "    90% {\n",
              "      border-color: transparent;\n",
              "      border-bottom-color: var(--fill-color);\n",
              "    }\n",
              "  }\n",
              "</style>\n",
              "\n",
              "  <script>\n",
              "    async function quickchart(key) {\n",
              "      const quickchartButtonEl =\n",
              "        document.querySelector('#' + key + ' button');\n",
              "      quickchartButtonEl.disabled = true;  // To prevent multiple clicks.\n",
              "      quickchartButtonEl.classList.add('colab-df-spinner');\n",
              "      try {\n",
              "        const charts = await google.colab.kernel.invokeFunction(\n",
              "            'suggestCharts', [key], {});\n",
              "      } catch (error) {\n",
              "        console.error('Error during call to suggestCharts:', error);\n",
              "      }\n",
              "      quickchartButtonEl.classList.remove('colab-df-spinner');\n",
              "      quickchartButtonEl.classList.add('colab-df-quickchart-complete');\n",
              "    }\n",
              "    (() => {\n",
              "      let quickchartButtonEl =\n",
              "        document.querySelector('#df-c521e3df-3f6e-4e79-8f10-062f61d6eed6 button');\n",
              "      quickchartButtonEl.style.display =\n",
              "        google.colab.kernel.accessAllowed ? 'block' : 'none';\n",
              "    })();\n",
              "  </script>\n",
              "</div>\n",
              "\n",
              "  <div id=\"id_bfac4a94-c319-48b2-9eeb-5aee54a7e3f2\">\n",
              "    <style>\n",
              "      .colab-df-generate {\n",
              "        background-color: #E8F0FE;\n",
              "        border: none;\n",
              "        border-radius: 50%;\n",
              "        cursor: pointer;\n",
              "        display: none;\n",
              "        fill: #1967D2;\n",
              "        height: 32px;\n",
              "        padding: 0 0 0 0;\n",
              "        width: 32px;\n",
              "      }\n",
              "\n",
              "      .colab-df-generate:hover {\n",
              "        background-color: #E2EBFA;\n",
              "        box-shadow: 0px 1px 2px rgba(60, 64, 67, 0.3), 0px 1px 3px 1px rgba(60, 64, 67, 0.15);\n",
              "        fill: #174EA6;\n",
              "      }\n",
              "\n",
              "      [theme=dark] .colab-df-generate {\n",
              "        background-color: #3B4455;\n",
              "        fill: #D2E3FC;\n",
              "      }\n",
              "\n",
              "      [theme=dark] .colab-df-generate:hover {\n",
              "        background-color: #434B5C;\n",
              "        box-shadow: 0px 1px 3px 1px rgba(0, 0, 0, 0.15);\n",
              "        filter: drop-shadow(0px 1px 2px rgba(0, 0, 0, 0.3));\n",
              "        fill: #FFFFFF;\n",
              "      }\n",
              "    </style>\n",
              "    <button class=\"colab-df-generate\" onclick=\"generateWithVariable('df')\"\n",
              "            title=\"Generate code using this dataframe.\"\n",
              "            style=\"display:none;\">\n",
              "\n",
              "  <svg xmlns=\"http://www.w3.org/2000/svg\" height=\"24px\"viewBox=\"0 0 24 24\"\n",
              "       width=\"24px\">\n",
              "    <path d=\"M7,19H8.4L18.45,9,17,7.55,7,17.6ZM5,21V16.75L18.45,3.32a2,2,0,0,1,2.83,0l1.4,1.43a1.91,1.91,0,0,1,.58,1.4,1.91,1.91,0,0,1-.58,1.4L9.25,21ZM18.45,9,17,7.55Zm-12,3A5.31,5.31,0,0,0,4.9,8.1,5.31,5.31,0,0,0,1,6.5,5.31,5.31,0,0,0,4.9,4.9,5.31,5.31,0,0,0,6.5,1,5.31,5.31,0,0,0,8.1,4.9,5.31,5.31,0,0,0,12,6.5,5.46,5.46,0,0,0,6.5,12Z\"/>\n",
              "  </svg>\n",
              "    </button>\n",
              "    <script>\n",
              "      (() => {\n",
              "      const buttonEl =\n",
              "        document.querySelector('#id_bfac4a94-c319-48b2-9eeb-5aee54a7e3f2 button.colab-df-generate');\n",
              "      buttonEl.style.display =\n",
              "        google.colab.kernel.accessAllowed ? 'block' : 'none';\n",
              "\n",
              "      buttonEl.onclick = () => {\n",
              "        google.colab.notebook.generateWithVariable('df');\n",
              "      }\n",
              "      })();\n",
              "    </script>\n",
              "  </div>\n",
              "\n",
              "    </div>\n",
              "  </div>\n"
            ],
            "application/vnd.google.colaboratory.intrinsic+json": {
              "type": "dataframe",
              "variable_name": "df"
            }
          },
          "metadata": {},
          "execution_count": 136
        }
      ]
    },
    {
      "cell_type": "code",
      "source": [
        "from tensorflow.keras.layers import Dropout"
      ],
      "metadata": {
        "id": "-1er4su-N-oQ"
      },
      "execution_count": 137,
      "outputs": []
    },
    {
      "cell_type": "code",
      "source": [
        "model = Sequential()\n",
        "\n",
        "model.add(Dense(150,activation='relu',input_dim=23))\n",
        "model.add(Dense(100,activation='relu'))\n",
        "model.add(Dropout(0.5))\n",
        "#model.add(Dense(90,activation='relu'))\n",
        "model.add(Dense(80,activation='relu'))\n",
        "model.add(Dropout(0.5))\n",
        "model.add(Dense(70,activation='relu'))\n",
        "model.add(Dropout(0.5))\n",
        "model.add(Dense(40,activation='relu'))\n",
        "model.add(Dropout(0.5))\n",
        "model.add(Dense(20,activation='relu'))\n",
        "model.add(Dropout(0.5))\n",
        "#model.add(Dense(10,activation='relu'))\n",
        "#model.add(Dense(5,activation='relu'))\n",
        "#model.add(Dense(3,activation='relu'))\n",
        "model.add(Dense(1,activation='sigmoid'))"
      ],
      "metadata": {
        "id": "QHIScHRtJxys"
      },
      "execution_count": 138,
      "outputs": []
    },
    {
      "cell_type": "code",
      "source": [
        "model.summary()"
      ],
      "metadata": {
        "colab": {
          "base_uri": "https://localhost:8080/"
        },
        "id": "JOzR3e5XJ9Hk",
        "outputId": "75948842-5aed-49c7-939b-9104e3829042"
      },
      "execution_count": 139,
      "outputs": [
        {
          "output_type": "stream",
          "name": "stdout",
          "text": [
            "Model: \"sequential\"\n",
            "_________________________________________________________________\n",
            " Layer (type)                Output Shape              Param #   \n",
            "=================================================================\n",
            " dense (Dense)               (None, 150)               3600      \n",
            "                                                                 \n",
            " dense_1 (Dense)             (None, 100)               15100     \n",
            "                                                                 \n",
            " dropout (Dropout)           (None, 100)               0         \n",
            "                                                                 \n",
            " dense_2 (Dense)             (None, 80)                8080      \n",
            "                                                                 \n",
            " dropout_1 (Dropout)         (None, 80)                0         \n",
            "                                                                 \n",
            " dense_3 (Dense)             (None, 70)                5670      \n",
            "                                                                 \n",
            " dropout_2 (Dropout)         (None, 70)                0         \n",
            "                                                                 \n",
            " dense_4 (Dense)             (None, 40)                2840      \n",
            "                                                                 \n",
            " dropout_3 (Dropout)         (None, 40)                0         \n",
            "                                                                 \n",
            " dense_5 (Dense)             (None, 20)                820       \n",
            "                                                                 \n",
            " dropout_4 (Dropout)         (None, 20)                0         \n",
            "                                                                 \n",
            " dense_6 (Dense)             (None, 1)                 21        \n",
            "                                                                 \n",
            "=================================================================\n",
            "Total params: 36131 (141.14 KB)\n",
            "Trainable params: 36131 (141.14 KB)\n",
            "Non-trainable params: 0 (0.00 Byte)\n",
            "_________________________________________________________________\n"
          ]
        }
      ]
    },
    {
      "cell_type": "code",
      "source": [
        "from tensorflow.keras.optimizers import Adam"
      ],
      "metadata": {
        "id": "a3hmVQgQLMHz"
      },
      "execution_count": 140,
      "outputs": []
    },
    {
      "cell_type": "code",
      "source": [
        "model.compile(optimizer=Adam(learning_rate=0.001),loss='binary_crossentropy',metrics=['accuracy']) # here you need to provide the optimizers and loss functions"
      ],
      "metadata": {
        "id": "5i1CbYJTKw-x"
      },
      "execution_count": 141,
      "outputs": []
    },
    {
      "cell_type": "code",
      "source": [
        "history = model.fit(x_train_scaled,y_train,batch_size=35,epochs=300,verbose=1,validation_split=0.2)\n",
        "#validation split gives loss and accuracy for 20 percent splited values like cross validations"
      ],
      "metadata": {
        "colab": {
          "base_uri": "https://localhost:8080/"
        },
        "id": "Jly27wamLWKN",
        "outputId": "f636e5ee-16da-4fbd-82f9-7b183c511cd6"
      },
      "execution_count": 142,
      "outputs": [
        {
          "output_type": "stream",
          "name": "stdout",
          "text": [
            "Epoch 1/300\n",
            "32/32 [==============================] - 10s 26ms/step - loss: -0.1729 - accuracy: 0.1417 - val_loss: -2.5363 - val_accuracy: 0.1360\n",
            "Epoch 2/300\n",
            "32/32 [==============================] - 0s 10ms/step - loss: -40.9609 - accuracy: 0.1426 - val_loss: -241.0949 - val_accuracy: 0.1360\n",
            "Epoch 3/300\n",
            "32/32 [==============================] - 0s 11ms/step - loss: -4292.5645 - accuracy: 0.1435 - val_loss: -22429.4004 - val_accuracy: 0.1360\n",
            "Epoch 4/300\n",
            "32/32 [==============================] - 0s 12ms/step - loss: -201216.8906 - accuracy: 0.1435 - val_loss: -689532.3750 - val_accuracy: 0.1360\n",
            "Epoch 5/300\n",
            "32/32 [==============================] - 0s 11ms/step - loss: -3337971.7500 - accuracy: 0.1435 - val_loss: -8943591.0000 - val_accuracy: 0.1360\n",
            "Epoch 6/300\n",
            "32/32 [==============================] - 0s 13ms/step - loss: -27983420.0000 - accuracy: 0.1435 - val_loss: -65518096.0000 - val_accuracy: 0.1360\n",
            "Epoch 7/300\n",
            "32/32 [==============================] - 0s 12ms/step - loss: -156779520.0000 - accuracy: 0.1435 - val_loss: -335721664.0000 - val_accuracy: 0.1360\n",
            "Epoch 8/300\n",
            "32/32 [==============================] - 0s 11ms/step - loss: -706312320.0000 - accuracy: 0.1435 - val_loss: -1319681536.0000 - val_accuracy: 0.1360\n",
            "Epoch 9/300\n",
            "32/32 [==============================] - 0s 15ms/step - loss: -2471666944.0000 - accuracy: 0.1435 - val_loss: -4259471872.0000 - val_accuracy: 0.1360\n",
            "Epoch 10/300\n",
            "32/32 [==============================] - 0s 11ms/step - loss: -6891133952.0000 - accuracy: 0.1435 - val_loss: -11594279936.0000 - val_accuracy: 0.1360\n",
            "Epoch 11/300\n",
            "32/32 [==============================] - 0s 13ms/step - loss: -18876604416.0000 - accuracy: 0.1435 - val_loss: -28805797888.0000 - val_accuracy: 0.1360\n",
            "Epoch 12/300\n",
            "32/32 [==============================] - 0s 15ms/step - loss: -41659637760.0000 - accuracy: 0.1435 - val_loss: -61740740608.0000 - val_accuracy: 0.1360\n",
            "Epoch 13/300\n",
            "32/32 [==============================] - 0s 13ms/step - loss: -91158339584.0000 - accuracy: 0.1435 - val_loss: -125547036672.0000 - val_accuracy: 0.1360\n",
            "Epoch 14/300\n",
            "32/32 [==============================] - 0s 10ms/step - loss: -177103978496.0000 - accuracy: 0.1435 - val_loss: -240304996352.0000 - val_accuracy: 0.1360\n",
            "Epoch 15/300\n",
            "32/32 [==============================] - 0s 10ms/step - loss: -333816102912.0000 - accuracy: 0.1435 - val_loss: -439850500096.0000 - val_accuracy: 0.1360\n",
            "Epoch 16/300\n",
            "32/32 [==============================] - 0s 15ms/step - loss: -583907213312.0000 - accuracy: 0.1435 - val_loss: -763933753344.0000 - val_accuracy: 0.1360\n",
            "Epoch 17/300\n",
            "32/32 [==============================] - 0s 12ms/step - loss: -1029884674048.0000 - accuracy: 0.1435 - val_loss: -1285063573504.0000 - val_accuracy: 0.1360\n",
            "Epoch 18/300\n",
            "32/32 [==============================] - 0s 12ms/step - loss: -1694795956224.0000 - accuracy: 0.1435 - val_loss: -2052614127616.0000 - val_accuracy: 0.1360\n",
            "Epoch 19/300\n",
            "32/32 [==============================] - 0s 15ms/step - loss: -2546340462592.0000 - accuracy: 0.1435 - val_loss: -3172711792640.0000 - val_accuracy: 0.1360\n",
            "Epoch 20/300\n",
            "32/32 [==============================] - 0s 15ms/step - loss: -3998326194176.0000 - accuracy: 0.1435 - val_loss: -4757185888256.0000 - val_accuracy: 0.1360\n",
            "Epoch 21/300\n",
            "32/32 [==============================] - 1s 16ms/step - loss: -5593864077312.0000 - accuracy: 0.1435 - val_loss: -6981059346432.0000 - val_accuracy: 0.1360\n",
            "Epoch 22/300\n",
            "32/32 [==============================] - 1s 23ms/step - loss: -8630900883456.0000 - accuracy: 0.1435 - val_loss: -9956454563840.0000 - val_accuracy: 0.1360\n",
            "Epoch 23/300\n",
            "32/32 [==============================] - 1s 18ms/step - loss: -11847299235840.0000 - accuracy: 0.1435 - val_loss: -14044407791616.0000 - val_accuracy: 0.1360\n",
            "Epoch 24/300\n",
            "32/32 [==============================] - 0s 15ms/step - loss: -16687963308032.0000 - accuracy: 0.1435 - val_loss: -19449902006272.0000 - val_accuracy: 0.1360\n",
            "Epoch 25/300\n",
            "32/32 [==============================] - 1s 18ms/step - loss: -22735338078208.0000 - accuracy: 0.1435 - val_loss: -26551028547584.0000 - val_accuracy: 0.1360\n",
            "Epoch 26/300\n",
            "32/32 [==============================] - 0s 15ms/step - loss: -30960726835200.0000 - accuracy: 0.1435 - val_loss: -35597246791680.0000 - val_accuracy: 0.1360\n",
            "Epoch 27/300\n",
            "32/32 [==============================] - 0s 12ms/step - loss: -41148479438848.0000 - accuracy: 0.1435 - val_loss: -46913554481152.0000 - val_accuracy: 0.1360\n",
            "Epoch 28/300\n",
            "32/32 [==============================] - 0s 13ms/step - loss: -53638655377408.0000 - accuracy: 0.1435 - val_loss: -60490516529152.0000 - val_accuracy: 0.1360\n",
            "Epoch 29/300\n",
            "32/32 [==============================] - 0s 13ms/step - loss: -70540794527744.0000 - accuracy: 0.1435 - val_loss: -77566236950528.0000 - val_accuracy: 0.1360\n",
            "Epoch 30/300\n",
            "32/32 [==============================] - 0s 13ms/step - loss: -88987813281792.0000 - accuracy: 0.1435 - val_loss: -98851037904896.0000 - val_accuracy: 0.1360\n",
            "Epoch 31/300\n",
            "32/32 [==============================] - 0s 13ms/step - loss: -110094909964288.0000 - accuracy: 0.1435 - val_loss: -123207889715200.0000 - val_accuracy: 0.1360\n",
            "Epoch 32/300\n",
            "32/32 [==============================] - 0s 14ms/step - loss: -138759462977536.0000 - accuracy: 0.1435 - val_loss: -153317984436224.0000 - val_accuracy: 0.1360\n",
            "Epoch 33/300\n",
            "32/32 [==============================] - 0s 15ms/step - loss: -176101225660416.0000 - accuracy: 0.1435 - val_loss: -189517814300672.0000 - val_accuracy: 0.1360\n",
            "Epoch 34/300\n",
            "32/32 [==============================] - 0s 12ms/step - loss: -211502493597696.0000 - accuracy: 0.1435 - val_loss: -232495857532928.0000 - val_accuracy: 0.1360\n",
            "Epoch 35/300\n",
            "32/32 [==============================] - 0s 11ms/step - loss: -262368395264000.0000 - accuracy: 0.1435 - val_loss: -285256426979328.0000 - val_accuracy: 0.1360\n",
            "Epoch 36/300\n",
            "32/32 [==============================] - 0s 10ms/step - loss: -314257690329088.0000 - accuracy: 0.1435 - val_loss: -346633791340544.0000 - val_accuracy: 0.1360\n",
            "Epoch 37/300\n",
            "32/32 [==============================] - 0s 12ms/step - loss: -387835546828800.0000 - accuracy: 0.1435 - val_loss: -421616102146048.0000 - val_accuracy: 0.1360\n",
            "Epoch 38/300\n",
            "32/32 [==============================] - 0s 11ms/step - loss: -457495822729216.0000 - accuracy: 0.1435 - val_loss: -507248455450624.0000 - val_accuracy: 0.1360\n",
            "Epoch 39/300\n",
            "32/32 [==============================] - 0s 11ms/step - loss: -563897731907584.0000 - accuracy: 0.1435 - val_loss: -608942342275072.0000 - val_accuracy: 0.1360\n",
            "Epoch 40/300\n",
            "32/32 [==============================] - 0s 11ms/step - loss: -665987628138496.0000 - accuracy: 0.1435 - val_loss: -727504847372288.0000 - val_accuracy: 0.1360\n",
            "Epoch 41/300\n",
            "32/32 [==============================] - 0s 12ms/step - loss: -815674553270272.0000 - accuracy: 0.1435 - val_loss: -860997329879040.0000 - val_accuracy: 0.1360\n",
            "Epoch 42/300\n",
            "32/32 [==============================] - 0s 12ms/step - loss: -950982598983680.0000 - accuracy: 0.1435 - val_loss: -1016525477642240.0000 - val_accuracy: 0.1360\n",
            "Epoch 43/300\n",
            "32/32 [==============================] - 0s 12ms/step - loss: -1096114241536000.0000 - accuracy: 0.1435 - val_loss: -1186801737793536.0000 - val_accuracy: 0.1360\n",
            "Epoch 44/300\n",
            "32/32 [==============================] - 0s 11ms/step - loss: -1308764045049856.0000 - accuracy: 0.1435 - val_loss: -1394792776859648.0000 - val_accuracy: 0.1360\n",
            "Epoch 45/300\n",
            "32/32 [==============================] - 0s 13ms/step - loss: -1530394289635328.0000 - accuracy: 0.1435 - val_loss: -1623954649251840.0000 - val_accuracy: 0.1360\n",
            "Epoch 46/300\n",
            "32/32 [==============================] - 0s 10ms/step - loss: -1757994270326784.0000 - accuracy: 0.1435 - val_loss: -1870202975289344.0000 - val_accuracy: 0.1360\n",
            "Epoch 47/300\n",
            "32/32 [==============================] - 0s 12ms/step - loss: -2064889950502912.0000 - accuracy: 0.1435 - val_loss: -2150422613590016.0000 - val_accuracy: 0.1360\n",
            "Epoch 48/300\n",
            "32/32 [==============================] - 0s 11ms/step - loss: -2403007090130944.0000 - accuracy: 0.1435 - val_loss: -2481335750885376.0000 - val_accuracy: 0.1360\n",
            "Epoch 49/300\n",
            "32/32 [==============================] - 0s 11ms/step - loss: -2728995913203712.0000 - accuracy: 0.1435 - val_loss: -2853835580112896.0000 - val_accuracy: 0.1360\n",
            "Epoch 50/300\n",
            "32/32 [==============================] - 0s 15ms/step - loss: -3139268100751360.0000 - accuracy: 0.1435 - val_loss: -3254874930151424.0000 - val_accuracy: 0.1360\n",
            "Epoch 51/300\n",
            "32/32 [==============================] - 1s 17ms/step - loss: -3601115060895744.0000 - accuracy: 0.1435 - val_loss: -3703265757757440.0000 - val_accuracy: 0.1360\n",
            "Epoch 52/300\n",
            "32/32 [==============================] - 0s 16ms/step - loss: -4110535494729728.0000 - accuracy: 0.1435 - val_loss: -4218339710730240.0000 - val_accuracy: 0.1360\n",
            "Epoch 53/300\n",
            "32/32 [==============================] - 0s 12ms/step - loss: -4642624497516544.0000 - accuracy: 0.1435 - val_loss: -4771034892861440.0000 - val_accuracy: 0.1360\n",
            "Epoch 54/300\n",
            "32/32 [==============================] - 1s 16ms/step - loss: -5270521335775232.0000 - accuracy: 0.1435 - val_loss: -5394992709238784.0000 - val_accuracy: 0.1360\n",
            "Epoch 55/300\n",
            "32/32 [==============================] - 1s 23ms/step - loss: -5776718665089024.0000 - accuracy: 0.1435 - val_loss: -6061434731495424.0000 - val_accuracy: 0.1360\n",
            "Epoch 56/300\n",
            "32/32 [==============================] - 1s 24ms/step - loss: -6568082495504384.0000 - accuracy: 0.1435 - val_loss: -6805068590350336.0000 - val_accuracy: 0.1360\n",
            "Epoch 57/300\n",
            "32/32 [==============================] - 1s 19ms/step - loss: -7535191555833856.0000 - accuracy: 0.1435 - val_loss: -7649694310203392.0000 - val_accuracy: 0.1360\n",
            "Epoch 58/300\n",
            "32/32 [==============================] - 0s 9ms/step - loss: -8291994858160128.0000 - accuracy: 0.1435 - val_loss: -8533533081468928.0000 - val_accuracy: 0.1360\n",
            "Epoch 59/300\n",
            "32/32 [==============================] - 0s 9ms/step - loss: -9214946822848512.0000 - accuracy: 0.1435 - val_loss: -9497155165224960.0000 - val_accuracy: 0.1360\n",
            "Epoch 60/300\n",
            "32/32 [==============================] - 0s 11ms/step - loss: -9799804330704896.0000 - accuracy: 0.1435 - val_loss: -10523813410242560.0000 - val_accuracy: 0.1360\n",
            "Epoch 61/300\n",
            "32/32 [==============================] - 0s 12ms/step - loss: -11304501025701888.0000 - accuracy: 0.1435 - val_loss: -11653743070150656.0000 - val_accuracy: 0.1360\n",
            "Epoch 62/300\n",
            "32/32 [==============================] - 0s 12ms/step - loss: -12396537262899200.0000 - accuracy: 0.1435 - val_loss: -12926627495280640.0000 - val_accuracy: 0.1360\n",
            "Epoch 63/300\n",
            "32/32 [==============================] - 0s 15ms/step - loss: -14156868263870464.0000 - accuracy: 0.1435 - val_loss: -14307340295602176.0000 - val_accuracy: 0.1360\n",
            "Epoch 64/300\n",
            "32/32 [==============================] - 0s 10ms/step - loss: -15099855177252864.0000 - accuracy: 0.1435 - val_loss: -15798310275121152.0000 - val_accuracy: 0.1360\n",
            "Epoch 65/300\n",
            "32/32 [==============================] - 0s 11ms/step - loss: -16641520803250176.0000 - accuracy: 0.1435 - val_loss: -17365826235531264.0000 - val_accuracy: 0.1360\n",
            "Epoch 66/300\n",
            "32/32 [==============================] - 0s 13ms/step - loss: -18550485589950464.0000 - accuracy: 0.1435 - val_loss: -19118804252491776.0000 - val_accuracy: 0.1360\n",
            "Epoch 67/300\n",
            "32/32 [==============================] - 0s 7ms/step - loss: -20452698688061440.0000 - accuracy: 0.1435 - val_loss: -21095786288775168.0000 - val_accuracy: 0.1360\n",
            "Epoch 68/300\n",
            "32/32 [==============================] - 0s 6ms/step - loss: -23022225149919232.0000 - accuracy: 0.1435 - val_loss: -23143931638185984.0000 - val_accuracy: 0.1360\n",
            "Epoch 69/300\n",
            "32/32 [==============================] - 0s 6ms/step - loss: -24714227516178432.0000 - accuracy: 0.1435 - val_loss: -25277800239857664.0000 - val_accuracy: 0.1360\n",
            "Epoch 70/300\n",
            "32/32 [==============================] - 0s 5ms/step - loss: -28197426665881600.0000 - accuracy: 0.1435 - val_loss: -27668578752790528.0000 - val_accuracy: 0.1360\n",
            "Epoch 71/300\n",
            "32/32 [==============================] - 0s 6ms/step - loss: -29374232672600064.0000 - accuracy: 0.1435 - val_loss: -30061075252641792.0000 - val_accuracy: 0.1360\n",
            "Epoch 72/300\n",
            "32/32 [==============================] - 0s 6ms/step - loss: -31542974261231616.0000 - accuracy: 0.1435 - val_loss: -32669256420163584.0000 - val_accuracy: 0.1360\n",
            "Epoch 73/300\n",
            "32/32 [==============================] - 0s 5ms/step - loss: -34147889106124800.0000 - accuracy: 0.1435 - val_loss: -35353765598986240.0000 - val_accuracy: 0.1360\n",
            "Epoch 74/300\n",
            "32/32 [==============================] - 0s 6ms/step - loss: -38627114794090496.0000 - accuracy: 0.1435 - val_loss: -38435271489880064.0000 - val_accuracy: 0.1360\n",
            "Epoch 75/300\n",
            "32/32 [==============================] - 0s 6ms/step - loss: -40807772769484800.0000 - accuracy: 0.1435 - val_loss: -41702178234040320.0000 - val_accuracy: 0.1360\n",
            "Epoch 76/300\n",
            "32/32 [==============================] - 0s 5ms/step - loss: -45063522719105024.0000 - accuracy: 0.1435 - val_loss: -45196104064565248.0000 - val_accuracy: 0.1360\n",
            "Epoch 77/300\n",
            "32/32 [==============================] - 0s 6ms/step - loss: -48126281077751808.0000 - accuracy: 0.1435 - val_loss: -48912152718737408.0000 - val_accuracy: 0.1360\n",
            "Epoch 78/300\n",
            "32/32 [==============================] - 0s 6ms/step - loss: -50692137490055168.0000 - accuracy: 0.1435 - val_loss: -52731980667682816.0000 - val_accuracy: 0.1360\n",
            "Epoch 79/300\n",
            "32/32 [==============================] - 0s 5ms/step - loss: -57629098083614720.0000 - accuracy: 0.1435 - val_loss: -56895126827433984.0000 - val_accuracy: 0.1360\n",
            "Epoch 80/300\n",
            "32/32 [==============================] - 0s 6ms/step - loss: -59472674140717056.0000 - accuracy: 0.1435 - val_loss: -61174567816658944.0000 - val_accuracy: 0.1360\n",
            "Epoch 81/300\n",
            "32/32 [==============================] - 0s 6ms/step - loss: -65437451706957824.0000 - accuracy: 0.1435 - val_loss: -65855583953092608.0000 - val_accuracy: 0.1360\n",
            "Epoch 82/300\n",
            "32/32 [==============================] - 0s 6ms/step - loss: -70167623744094208.0000 - accuracy: 0.1435 - val_loss: -70828065160167424.0000 - val_accuracy: 0.1360\n",
            "Epoch 83/300\n",
            "32/32 [==============================] - 0s 5ms/step - loss: -75759538019500032.0000 - accuracy: 0.1435 - val_loss: -76231194148077568.0000 - val_accuracy: 0.1360\n",
            "Epoch 84/300\n",
            "32/32 [==============================] - 0s 6ms/step - loss: -81328950961242112.0000 - accuracy: 0.1435 - val_loss: -82037440176455680.0000 - val_accuracy: 0.1360\n",
            "Epoch 85/300\n",
            "32/32 [==============================] - 0s 7ms/step - loss: -82928671660179456.0000 - accuracy: 0.1435 - val_loss: -87646186428694528.0000 - val_accuracy: 0.1360\n",
            "Epoch 86/300\n",
            "32/32 [==============================] - 0s 5ms/step - loss: -95037146540277760.0000 - accuracy: 0.1435 - val_loss: -93969331771146240.0000 - val_accuracy: 0.1360\n",
            "Epoch 87/300\n",
            "32/32 [==============================] - 0s 5ms/step - loss: -97209601128136704.0000 - accuracy: 0.1435 - val_loss: -100514346534174720.0000 - val_accuracy: 0.1360\n",
            "Epoch 88/300\n",
            "32/32 [==============================] - 0s 6ms/step - loss: -106957742370979840.0000 - accuracy: 0.1435 - val_loss: -107453802503733248.0000 - val_accuracy: 0.1360\n",
            "Epoch 89/300\n",
            "32/32 [==============================] - 0s 6ms/step - loss: -112950896786145280.0000 - accuracy: 0.1435 - val_loss: -114890091700158464.0000 - val_accuracy: 0.1360\n",
            "Epoch 90/300\n",
            "32/32 [==============================] - 0s 7ms/step - loss: -123715244471091200.0000 - accuracy: 0.1435 - val_loss: -122762423156342784.0000 - val_accuracy: 0.1360\n",
            "Epoch 91/300\n",
            "32/32 [==============================] - 0s 6ms/step - loss: -129269599257493504.0000 - accuracy: 0.1435 - val_loss: -130735024919019520.0000 - val_accuracy: 0.1360\n",
            "Epoch 92/300\n",
            "32/32 [==============================] - 0s 5ms/step - loss: -138451234313994240.0000 - accuracy: 0.1435 - val_loss: -139104146652397568.0000 - val_accuracy: 0.1360\n",
            "Epoch 93/300\n",
            "32/32 [==============================] - 0s 6ms/step - loss: -147203716238278656.0000 - accuracy: 0.1435 - val_loss: -147529515277484032.0000 - val_accuracy: 0.1360\n",
            "Epoch 94/300\n",
            "32/32 [==============================] - 0s 6ms/step - loss: -154508081219239936.0000 - accuracy: 0.1435 - val_loss: -156309682560958464.0000 - val_accuracy: 0.1360\n",
            "Epoch 95/300\n",
            "32/32 [==============================] - 0s 6ms/step - loss: -167359138764947456.0000 - accuracy: 0.1435 - val_loss: -166049586056527872.0000 - val_accuracy: 0.1360\n",
            "Epoch 96/300\n",
            "32/32 [==============================] - 0s 6ms/step - loss: -172876711451426816.0000 - accuracy: 0.1435 - val_loss: -175928302895104000.0000 - val_accuracy: 0.1360\n",
            "Epoch 97/300\n",
            "32/32 [==============================] - 0s 6ms/step - loss: -187695860451115008.0000 - accuracy: 0.1435 - val_loss: -186528986556268544.0000 - val_accuracy: 0.1360\n",
            "Epoch 98/300\n",
            "32/32 [==============================] - 0s 6ms/step - loss: -199004062664884224.0000 - accuracy: 0.1435 - val_loss: -197757611615977472.0000 - val_accuracy: 0.1360\n",
            "Epoch 99/300\n",
            "32/32 [==============================] - 0s 6ms/step - loss: -209311004922740736.0000 - accuracy: 0.1435 - val_loss: -209023224934039552.0000 - val_accuracy: 0.1360\n",
            "Epoch 100/300\n",
            "32/32 [==============================] - 0s 6ms/step - loss: -225197934331822080.0000 - accuracy: 0.1435 - val_loss: -221644690707972096.0000 - val_accuracy: 0.1360\n",
            "Epoch 101/300\n",
            "32/32 [==============================] - 0s 10ms/step - loss: -239310973528178688.0000 - accuracy: 0.1435 - val_loss: -234197711883075584.0000 - val_accuracy: 0.1360\n",
            "Epoch 102/300\n",
            "32/32 [==============================] - 0s 10ms/step - loss: -245568380101197824.0000 - accuracy: 0.1435 - val_loss: -247619398783729664.0000 - val_accuracy: 0.1360\n",
            "Epoch 103/300\n",
            "32/32 [==============================] - 0s 9ms/step - loss: -265053255153745920.0000 - accuracy: 0.1435 - val_loss: -261392568628019200.0000 - val_accuracy: 0.1360\n",
            "Epoch 104/300\n",
            "32/32 [==============================] - 0s 10ms/step - loss: -271060041795108864.0000 - accuracy: 0.1435 - val_loss: -276068935734919168.0000 - val_accuracy: 0.1360\n",
            "Epoch 105/300\n",
            "32/32 [==============================] - 0s 9ms/step - loss: -278385898792419328.0000 - accuracy: 0.1435 - val_loss: -290760764724084736.0000 - val_accuracy: 0.1360\n",
            "Epoch 106/300\n",
            "32/32 [==============================] - 0s 10ms/step - loss: -306395064156815360.0000 - accuracy: 0.1435 - val_loss: -306384996753473536.0000 - val_accuracy: 0.1360\n",
            "Epoch 107/300\n",
            "32/32 [==============================] - 0s 11ms/step - loss: -324932349164781568.0000 - accuracy: 0.1435 - val_loss: -323440689843011584.0000 - val_accuracy: 0.1360\n",
            "Epoch 108/300\n",
            "32/32 [==============================] - 0s 8ms/step - loss: -337119610924957696.0000 - accuracy: 0.1435 - val_loss: -340221195787960320.0000 - val_accuracy: 0.1360\n",
            "Epoch 109/300\n",
            "32/32 [==============================] - 0s 11ms/step - loss: -364611284269793280.0000 - accuracy: 0.1435 - val_loss: -358747348240695296.0000 - val_accuracy: 0.1360\n",
            "Epoch 110/300\n",
            "32/32 [==============================] - 0s 12ms/step - loss: -364659868939845632.0000 - accuracy: 0.1435 - val_loss: -377808413100343296.0000 - val_accuracy: 0.1360\n",
            "Epoch 111/300\n",
            "32/32 [==============================] - 0s 10ms/step - loss: -412763949331644416.0000 - accuracy: 0.1435 - val_loss: -397437684953382912.0000 - val_accuracy: 0.1360\n",
            "Epoch 112/300\n",
            "32/32 [==============================] - 0s 9ms/step - loss: -413148297365028864.0000 - accuracy: 0.1435 - val_loss: -417749066332504064.0000 - val_accuracy: 0.1360\n",
            "Epoch 113/300\n",
            "32/32 [==============================] - 0s 11ms/step - loss: -448501032171864064.0000 - accuracy: 0.1435 - val_loss: -438733039590178816.0000 - val_accuracy: 0.1360\n",
            "Epoch 114/300\n",
            "32/32 [==============================] - 0s 11ms/step - loss: -458574688986071040.0000 - accuracy: 0.1435 - val_loss: -460212205397213184.0000 - val_accuracy: 0.1360\n",
            "Epoch 115/300\n",
            "32/32 [==============================] - 0s 9ms/step - loss: -472940186360086528.0000 - accuracy: 0.1435 - val_loss: -482273012855341056.0000 - val_accuracy: 0.1360\n",
            "Epoch 116/300\n",
            "32/32 [==============================] - 0s 9ms/step - loss: -505572626320588800.0000 - accuracy: 0.1435 - val_loss: -504118797070761984.0000 - val_accuracy: 0.1360\n",
            "Epoch 117/300\n",
            "32/32 [==============================] - 0s 11ms/step - loss: -532414007257071616.0000 - accuracy: 0.1435 - val_loss: -527166450574557184.0000 - val_accuracy: 0.1360\n",
            "Epoch 118/300\n",
            "32/32 [==============================] - 0s 6ms/step - loss: -543117993471639552.0000 - accuracy: 0.1435 - val_loss: -551302689309327360.0000 - val_accuracy: 0.1360\n",
            "Epoch 119/300\n",
            "32/32 [==============================] - 0s 6ms/step - loss: -579791173023956992.0000 - accuracy: 0.1435 - val_loss: -576032148927021056.0000 - val_accuracy: 0.1360\n",
            "Epoch 120/300\n",
            "32/32 [==============================] - 0s 7ms/step - loss: -615026947281387520.0000 - accuracy: 0.1435 - val_loss: -604742802709938176.0000 - val_accuracy: 0.1360\n",
            "Epoch 121/300\n",
            "32/32 [==============================] - 0s 6ms/step - loss: -636946123897962496.0000 - accuracy: 0.1435 - val_loss: -633067940228366336.0000 - val_accuracy: 0.1360\n",
            "Epoch 122/300\n",
            "32/32 [==============================] - 0s 6ms/step - loss: -682196181341700096.0000 - accuracy: 0.1435 - val_loss: -662286430944362496.0000 - val_accuracy: 0.1360\n",
            "Epoch 123/300\n",
            "32/32 [==============================] - 0s 5ms/step - loss: -696776186562347008.0000 - accuracy: 0.1435 - val_loss: -691982796901580800.0000 - val_accuracy: 0.1360\n",
            "Epoch 124/300\n",
            "32/32 [==============================] - 0s 6ms/step - loss: -713486701720240128.0000 - accuracy: 0.1435 - val_loss: -721384562462031872.0000 - val_accuracy: 0.1360\n",
            "Epoch 125/300\n",
            "32/32 [==============================] - 0s 6ms/step - loss: -767180596148436992.0000 - accuracy: 0.1435 - val_loss: -752738648356552704.0000 - val_accuracy: 0.1360\n",
            "Epoch 126/300\n",
            "32/32 [==============================] - 0s 6ms/step - loss: -796996259117268992.0000 - accuracy: 0.1435 - val_loss: -785450218794516480.0000 - val_accuracy: 0.1360\n",
            "Epoch 127/300\n",
            "32/32 [==============================] - 0s 6ms/step - loss: -796097820678422528.0000 - accuracy: 0.1435 - val_loss: -817366292569784320.0000 - val_accuracy: 0.1360\n",
            "Epoch 128/300\n",
            "32/32 [==============================] - 0s 6ms/step - loss: -847712676057448448.0000 - accuracy: 0.1435 - val_loss: -850964825293979648.0000 - val_accuracy: 0.1360\n",
            "Epoch 129/300\n",
            "32/32 [==============================] - 0s 6ms/step - loss: -886010727637188608.0000 - accuracy: 0.1435 - val_loss: -886828077093486592.0000 - val_accuracy: 0.1360\n",
            "Epoch 130/300\n",
            "32/32 [==============================] - 0s 6ms/step - loss: -937439009636876288.0000 - accuracy: 0.1435 - val_loss: -925646403831595008.0000 - val_accuracy: 0.1360\n",
            "Epoch 131/300\n",
            "32/32 [==============================] - 0s 5ms/step - loss: -1001863725235306496.0000 - accuracy: 0.1435 - val_loss: -966234119656701952.0000 - val_accuracy: 0.1360\n",
            "Epoch 132/300\n",
            "32/32 [==============================] - 0s 6ms/step - loss: -1018195802234814464.0000 - accuracy: 0.1435 - val_loss: -1008218902443851776.0000 - val_accuracy: 0.1360\n",
            "Epoch 133/300\n",
            "32/32 [==============================] - 0s 6ms/step - loss: -1060939935239897088.0000 - accuracy: 0.1435 - val_loss: -1049178390638100480.0000 - val_accuracy: 0.1360\n",
            "Epoch 134/300\n",
            "32/32 [==============================] - 0s 6ms/step - loss: -1118527337781002240.0000 - accuracy: 0.1435 - val_loss: -1091692656993501184.0000 - val_accuracy: 0.1360\n",
            "Epoch 135/300\n",
            "32/32 [==============================] - 0s 6ms/step - loss: -1166016138337845248.0000 - accuracy: 0.1435 - val_loss: -1136644471908204544.0000 - val_accuracy: 0.1360\n",
            "Epoch 136/300\n",
            "32/32 [==============================] - 0s 6ms/step - loss: -1198046149005541376.0000 - accuracy: 0.1435 - val_loss: -1182936110460829696.0000 - val_accuracy: 0.1360\n",
            "Epoch 137/300\n",
            "32/32 [==============================] - 0s 6ms/step - loss: -1262446194311823360.0000 - accuracy: 0.1435 - val_loss: -1232091976803811328.0000 - val_accuracy: 0.1360\n",
            "Epoch 138/300\n",
            "32/32 [==============================] - 0s 6ms/step - loss: -1251027903496323072.0000 - accuracy: 0.1435 - val_loss: -1278642412905824256.0000 - val_accuracy: 0.1360\n",
            "Epoch 139/300\n",
            "32/32 [==============================] - 0s 6ms/step - loss: -1350506767775170560.0000 - accuracy: 0.1435 - val_loss: -1327746602202300416.0000 - val_accuracy: 0.1360\n",
            "Epoch 140/300\n",
            "32/32 [==============================] - 0s 6ms/step - loss: -1378253768335818752.0000 - accuracy: 0.1435 - val_loss: -1377560113937645568.0000 - val_accuracy: 0.1360\n",
            "Epoch 141/300\n",
            "32/32 [==============================] - 0s 6ms/step - loss: -1430489641626107904.0000 - accuracy: 0.1435 - val_loss: -1432054658989293568.0000 - val_accuracy: 0.1360\n",
            "Epoch 142/300\n",
            "32/32 [==============================] - 0s 6ms/step - loss: -1519515036542828544.0000 - accuracy: 0.1435 - val_loss: -1488340995677356032.0000 - val_accuracy: 0.1360\n",
            "Epoch 143/300\n",
            "32/32 [==============================] - 0s 6ms/step - loss: -1616542127330689024.0000 - accuracy: 0.1435 - val_loss: -1548104537888260096.0000 - val_accuracy: 0.1360\n",
            "Epoch 144/300\n",
            "32/32 [==============================] - 0s 6ms/step - loss: -1607828497680564224.0000 - accuracy: 0.1435 - val_loss: -1607163155706806272.0000 - val_accuracy: 0.1360\n",
            "Epoch 145/300\n",
            "32/32 [==============================] - 0s 6ms/step - loss: -1735909645127516160.0000 - accuracy: 0.1435 - val_loss: -1670577351399833600.0000 - val_accuracy: 0.1360\n",
            "Epoch 146/300\n",
            "32/32 [==============================] - 0s 7ms/step - loss: -1765139062240313344.0000 - accuracy: 0.1435 - val_loss: -1734210487345741824.0000 - val_accuracy: 0.1360\n",
            "Epoch 147/300\n",
            "32/32 [==============================] - 0s 6ms/step - loss: -1775211001067601920.0000 - accuracy: 0.1435 - val_loss: -1796001528998264832.0000 - val_accuracy: 0.1360\n",
            "Epoch 148/300\n",
            "32/32 [==============================] - 0s 6ms/step - loss: -1924034435372548096.0000 - accuracy: 0.1435 - val_loss: -1863905168106455040.0000 - val_accuracy: 0.1360\n",
            "Epoch 149/300\n",
            "32/32 [==============================] - 0s 5ms/step - loss: -1938458103783620608.0000 - accuracy: 0.1435 - val_loss: -1929241172685881344.0000 - val_accuracy: 0.1360\n",
            "Epoch 150/300\n",
            "32/32 [==============================] - 0s 6ms/step - loss: -2002232114656837632.0000 - accuracy: 0.1435 - val_loss: -1998240612570103808.0000 - val_accuracy: 0.1360\n",
            "Epoch 151/300\n",
            "32/32 [==============================] - 0s 6ms/step - loss: -2111078405687476224.0000 - accuracy: 0.1435 - val_loss: -2070254088703967232.0000 - val_accuracy: 0.1360\n",
            "Epoch 152/300\n",
            "32/32 [==============================] - 0s 6ms/step - loss: -2169138529509048320.0000 - accuracy: 0.1435 - val_loss: -2144030356855062528.0000 - val_accuracy: 0.1360\n",
            "Epoch 153/300\n",
            "32/32 [==============================] - 0s 6ms/step - loss: -2162211056498245632.0000 - accuracy: 0.1435 - val_loss: -2218203411264831488.0000 - val_accuracy: 0.1360\n",
            "Epoch 154/300\n",
            "32/32 [==============================] - 0s 6ms/step - loss: -2373474794071916544.0000 - accuracy: 0.1435 - val_loss: -2297475313409458176.0000 - val_accuracy: 0.1360\n",
            "Epoch 155/300\n",
            "32/32 [==============================] - 0s 6ms/step - loss: -2395455955656507392.0000 - accuracy: 0.1435 - val_loss: -2376317856263438336.0000 - val_accuracy: 0.1360\n",
            "Epoch 156/300\n",
            "32/32 [==============================] - 0s 6ms/step - loss: -2459816143666282496.0000 - accuracy: 0.1435 - val_loss: -2458661106701303808.0000 - val_accuracy: 0.1360\n",
            "Epoch 157/300\n",
            "32/32 [==============================] - 0s 6ms/step - loss: -2540280878488092672.0000 - accuracy: 0.1435 - val_loss: -2540714086069436416.0000 - val_accuracy: 0.1360\n",
            "Epoch 158/300\n",
            "32/32 [==============================] - 0s 6ms/step - loss: -2566243371676860416.0000 - accuracy: 0.1435 - val_loss: -2625532337181425664.0000 - val_accuracy: 0.1360\n",
            "Epoch 159/300\n",
            "32/32 [==============================] - 0s 6ms/step - loss: -2695975848149778432.0000 - accuracy: 0.1435 - val_loss: -2711934709671133184.0000 - val_accuracy: 0.1360\n",
            "Epoch 160/300\n",
            "32/32 [==============================] - 0s 9ms/step - loss: -2912839398443712512.0000 - accuracy: 0.1435 - val_loss: -2805410240462323712.0000 - val_accuracy: 0.1360\n",
            "Epoch 161/300\n",
            "32/32 [==============================] - 0s 9ms/step - loss: -2958364402513870848.0000 - accuracy: 0.1435 - val_loss: -2902896789671641088.0000 - val_accuracy: 0.1360\n",
            "Epoch 162/300\n",
            "32/32 [==============================] - 0s 8ms/step - loss: -3085876965010309120.0000 - accuracy: 0.1435 - val_loss: -3006493050118602752.0000 - val_accuracy: 0.1360\n",
            "Epoch 163/300\n",
            "32/32 [==============================] - 0s 9ms/step - loss: -3122642709697789952.0000 - accuracy: 0.1435 - val_loss: -3104119787060461568.0000 - val_accuracy: 0.1360\n",
            "Epoch 164/300\n",
            "32/32 [==============================] - 0s 11ms/step - loss: -3304245196966854656.0000 - accuracy: 0.1435 - val_loss: -3212228443227815936.0000 - val_accuracy: 0.1360\n",
            "Epoch 165/300\n",
            "32/32 [==============================] - 0s 9ms/step - loss: -3432548033445756928.0000 - accuracy: 0.1435 - val_loss: -3320815936709066752.0000 - val_accuracy: 0.1360\n",
            "Epoch 166/300\n",
            "32/32 [==============================] - 0s 8ms/step - loss: -3374241206702702592.0000 - accuracy: 0.1435 - val_loss: -3429920750411186176.0000 - val_accuracy: 0.1360\n",
            "Epoch 167/300\n",
            "32/32 [==============================] - 0s 9ms/step - loss: -3542721022694260736.0000 - accuracy: 0.1435 - val_loss: -3542101173014102016.0000 - val_accuracy: 0.1360\n",
            "Epoch 168/300\n",
            "32/32 [==============================] - 0s 9ms/step - loss: -3736619348496744448.0000 - accuracy: 0.1435 - val_loss: -3656975399105069056.0000 - val_accuracy: 0.1360\n",
            "Epoch 169/300\n",
            "32/32 [==============================] - 0s 9ms/step - loss: -3817600029149888512.0000 - accuracy: 0.1435 - val_loss: -3773369150265622528.0000 - val_accuracy: 0.1360\n",
            "Epoch 170/300\n",
            "32/32 [==============================] - 0s 6ms/step - loss: -3904647540087193600.0000 - accuracy: 0.1435 - val_loss: -3889467407676211200.0000 - val_accuracy: 0.1360\n",
            "Epoch 171/300\n",
            "32/32 [==============================] - 0s 6ms/step - loss: -3981721381048942592.0000 - accuracy: 0.1435 - val_loss: -4011196264132640768.0000 - val_accuracy: 0.1360\n",
            "Epoch 172/300\n",
            "32/32 [==============================] - 0s 6ms/step - loss: -4177938027118592000.0000 - accuracy: 0.1435 - val_loss: -4135384178344591360.0000 - val_accuracy: 0.1360\n",
            "Epoch 173/300\n",
            "32/32 [==============================] - 0s 6ms/step - loss: -4234631595425792000.0000 - accuracy: 0.1435 - val_loss: -4255533036591906816.0000 - val_accuracy: 0.1360\n",
            "Epoch 174/300\n",
            "32/32 [==============================] - 0s 5ms/step - loss: -4250585234266914816.0000 - accuracy: 0.1435 - val_loss: -4378872677583028224.0000 - val_accuracy: 0.1360\n",
            "Epoch 175/300\n",
            "32/32 [==============================] - 0s 6ms/step - loss: -4748808862306402304.0000 - accuracy: 0.1435 - val_loss: -4516329772996886528.0000 - val_accuracy: 0.1360\n",
            "Epoch 176/300\n",
            "32/32 [==============================] - 0s 7ms/step - loss: -4754822641154523136.0000 - accuracy: 0.1435 - val_loss: -4654718704515284992.0000 - val_accuracy: 0.1360\n",
            "Epoch 177/300\n",
            "32/32 [==============================] - 0s 6ms/step - loss: -4965612764094529536.0000 - accuracy: 0.1435 - val_loss: -4802195099637252096.0000 - val_accuracy: 0.1360\n",
            "Epoch 178/300\n",
            "32/32 [==============================] - 0s 6ms/step - loss: -4925062225506336768.0000 - accuracy: 0.1435 - val_loss: -4948694578677940224.0000 - val_accuracy: 0.1360\n",
            "Epoch 179/300\n",
            "32/32 [==============================] - 0s 6ms/step - loss: -5091332023126065152.0000 - accuracy: 0.1435 - val_loss: -5104321103740796928.0000 - val_accuracy: 0.1360\n",
            "Epoch 180/300\n",
            "32/32 [==============================] - 0s 7ms/step - loss: -5332268555876433920.0000 - accuracy: 0.1435 - val_loss: -5251178473816326144.0000 - val_accuracy: 0.1360\n",
            "Epoch 181/300\n",
            "32/32 [==============================] - 0s 7ms/step - loss: -5407974329495322624.0000 - accuracy: 0.1435 - val_loss: -5408483403378982912.0000 - val_accuracy: 0.1360\n",
            "Epoch 182/300\n",
            "32/32 [==============================] - 0s 6ms/step - loss: -5771548739940384768.0000 - accuracy: 0.1435 - val_loss: -5570714694789890048.0000 - val_accuracy: 0.1360\n",
            "Epoch 183/300\n",
            "32/32 [==============================] - 0s 6ms/step - loss: -5755888395825971200.0000 - accuracy: 0.1435 - val_loss: -5729561689410502656.0000 - val_accuracy: 0.1360\n",
            "Epoch 184/300\n",
            "32/32 [==============================] - 0s 6ms/step - loss: -5964151841045348352.0000 - accuracy: 0.1435 - val_loss: -5893054120658468864.0000 - val_accuracy: 0.1360\n",
            "Epoch 185/300\n",
            "32/32 [==============================] - 0s 6ms/step - loss: -6152786804685668352.0000 - accuracy: 0.1435 - val_loss: -6060099073975779328.0000 - val_accuracy: 0.1360\n",
            "Epoch 186/300\n",
            "32/32 [==============================] - 0s 6ms/step - loss: -6190087186902155264.0000 - accuracy: 0.1435 - val_loss: -6236206751885033472.0000 - val_accuracy: 0.1360\n",
            "Epoch 187/300\n",
            "32/32 [==============================] - 0s 6ms/step - loss: -6407429299632078848.0000 - accuracy: 0.1435 - val_loss: -6408893299364462592.0000 - val_accuracy: 0.1360\n",
            "Epoch 188/300\n",
            "32/32 [==============================] - 0s 6ms/step - loss: -6530594942908104704.0000 - accuracy: 0.1435 - val_loss: -6592596403598393344.0000 - val_accuracy: 0.1360\n",
            "Epoch 189/300\n",
            "32/32 [==============================] - 0s 6ms/step - loss: -6637723109581389824.0000 - accuracy: 0.1435 - val_loss: -6767851410240307200.0000 - val_accuracy: 0.1360\n",
            "Epoch 190/300\n",
            "32/32 [==============================] - 0s 6ms/step - loss: -7151726653624811520.0000 - accuracy: 0.1435 - val_loss: -6960286835822034944.0000 - val_accuracy: 0.1360\n",
            "Epoch 191/300\n",
            "32/32 [==============================] - 0s 6ms/step - loss: -7402999695187902464.0000 - accuracy: 0.1435 - val_loss: -7148619983520530432.0000 - val_accuracy: 0.1360\n",
            "Epoch 192/300\n",
            "32/32 [==============================] - 0s 6ms/step - loss: -7547433191879999488.0000 - accuracy: 0.1435 - val_loss: -7344461146369294336.0000 - val_accuracy: 0.1360\n",
            "Epoch 193/300\n",
            "32/32 [==============================] - 0s 6ms/step - loss: -7600987654489899008.0000 - accuracy: 0.1435 - val_loss: -7546842754135883776.0000 - val_accuracy: 0.1360\n",
            "Epoch 194/300\n",
            "32/32 [==============================] - 0s 6ms/step - loss: -7744993990914605056.0000 - accuracy: 0.1435 - val_loss: -7758332716226969600.0000 - val_accuracy: 0.1360\n",
            "Epoch 195/300\n",
            "32/32 [==============================] - 0s 6ms/step - loss: -8246006255320039424.0000 - accuracy: 0.1435 - val_loss: -7967325687411376128.0000 - val_accuracy: 0.1360\n",
            "Epoch 196/300\n",
            "32/32 [==============================] - 0s 7ms/step - loss: -8119031903765397504.0000 - accuracy: 0.1435 - val_loss: -8183984453664636928.0000 - val_accuracy: 0.1360\n",
            "Epoch 197/300\n",
            "32/32 [==============================] - 0s 6ms/step - loss: -8728263050378870784.0000 - accuracy: 0.1435 - val_loss: -8406637207556718592.0000 - val_accuracy: 0.1360\n",
            "Epoch 198/300\n",
            "32/32 [==============================] - 0s 6ms/step - loss: -8643440676098277376.0000 - accuracy: 0.1435 - val_loss: -8633111314111135744.0000 - val_accuracy: 0.1360\n",
            "Epoch 199/300\n",
            "32/32 [==============================] - 0s 6ms/step - loss: -9043902602143596544.0000 - accuracy: 0.1435 - val_loss: -8860592023560781824.0000 - val_accuracy: 0.1360\n",
            "Epoch 200/300\n",
            "32/32 [==============================] - 0s 6ms/step - loss: -9608393521111236608.0000 - accuracy: 0.1435 - val_loss: -9108708367240527872.0000 - val_accuracy: 0.1360\n",
            "Epoch 201/300\n",
            "32/32 [==============================] - 0s 7ms/step - loss: -9536000576026836992.0000 - accuracy: 0.1435 - val_loss: -9355502548187873280.0000 - val_accuracy: 0.1360\n",
            "Epoch 202/300\n",
            "32/32 [==============================] - 0s 6ms/step - loss: -9486136624195567616.0000 - accuracy: 0.1435 - val_loss: -9598296705833369600.0000 - val_accuracy: 0.1360\n",
            "Epoch 203/300\n",
            "32/32 [==============================] - 0s 6ms/step - loss: -10159190572510740480.0000 - accuracy: 0.1435 - val_loss: -9848642309338431488.0000 - val_accuracy: 0.1360\n",
            "Epoch 204/300\n",
            "32/32 [==============================] - 0s 6ms/step - loss: -9922344772771512320.0000 - accuracy: 0.1435 - val_loss: -10106350242703081472.0000 - val_accuracy: 0.1360\n",
            "Epoch 205/300\n",
            "32/32 [==============================] - 0s 6ms/step - loss: -10341978883070361600.0000 - accuracy: 0.1435 - val_loss: -10364336352509558784.0000 - val_accuracy: 0.1360\n",
            "Epoch 206/300\n",
            "32/32 [==============================] - 0s 7ms/step - loss: -10817662797618348032.0000 - accuracy: 0.1435 - val_loss: -10627078949617795072.0000 - val_accuracy: 0.1360\n",
            "Epoch 207/300\n",
            "32/32 [==============================] - 0s 6ms/step - loss: -11202441289805070336.0000 - accuracy: 0.1435 - val_loss: -10908220774305234944.0000 - val_accuracy: 0.1360\n",
            "Epoch 208/300\n",
            "32/32 [==============================] - 0s 6ms/step - loss: -11342322258602360832.0000 - accuracy: 0.1435 - val_loss: -11182826002365546496.0000 - val_accuracy: 0.1360\n",
            "Epoch 209/300\n",
            "32/32 [==============================] - 0s 6ms/step - loss: -11480263688888254464.0000 - accuracy: 0.1435 - val_loss: -11466129466913193984.0000 - val_accuracy: 0.1360\n",
            "Epoch 210/300\n",
            "32/32 [==============================] - 0s 6ms/step - loss: -11872451789934559232.0000 - accuracy: 0.1435 - val_loss: -11760296106343268352.0000 - val_accuracy: 0.1360\n",
            "Epoch 211/300\n",
            "32/32 [==============================] - 0s 7ms/step - loss: -11999898381733330944.0000 - accuracy: 0.1435 - val_loss: -12060528751423782912.0000 - val_accuracy: 0.1360\n",
            "Epoch 212/300\n",
            "32/32 [==============================] - 0s 6ms/step - loss: -12348290735622062080.0000 - accuracy: 0.1435 - val_loss: -12351837760133267456.0000 - val_accuracy: 0.1360\n",
            "Epoch 213/300\n",
            "32/32 [==============================] - 0s 6ms/step - loss: -12682396035419471872.0000 - accuracy: 0.1435 - val_loss: -12656049537794703360.0000 - val_accuracy: 0.1360\n",
            "Epoch 214/300\n",
            "32/32 [==============================] - 0s 6ms/step - loss: -13339319048643543040.0000 - accuracy: 0.1435 - val_loss: -12977869994174971904.0000 - val_accuracy: 0.1360\n",
            "Epoch 215/300\n",
            "32/32 [==============================] - 0s 6ms/step - loss: -13420880821191966720.0000 - accuracy: 0.1435 - val_loss: -13303684976298950656.0000 - val_accuracy: 0.1360\n",
            "Epoch 216/300\n",
            "32/32 [==============================] - 0s 6ms/step - loss: -13449775986769920000.0000 - accuracy: 0.1435 - val_loss: -13628227823469592576.0000 - val_accuracy: 0.1360\n",
            "Epoch 217/300\n",
            "32/32 [==============================] - 0s 6ms/step - loss: -14175308525567213568.0000 - accuracy: 0.1435 - val_loss: -13965079703313186816.0000 - val_accuracy: 0.1360\n",
            "Epoch 218/300\n",
            "32/32 [==============================] - 0s 6ms/step - loss: -14893617272970018816.0000 - accuracy: 0.1435 - val_loss: -14325352280340037632.0000 - val_accuracy: 0.1360\n",
            "Epoch 219/300\n",
            "32/32 [==============================] - 0s 7ms/step - loss: -15106931324851585024.0000 - accuracy: 0.1435 - val_loss: -14683542382343880704.0000 - val_accuracy: 0.1360\n",
            "Epoch 220/300\n",
            "32/32 [==============================] - 0s 9ms/step - loss: -15395022063026569216.0000 - accuracy: 0.1435 - val_loss: -15052235019416240128.0000 - val_accuracy: 0.1360\n",
            "Epoch 221/300\n",
            "32/32 [==============================] - 0s 8ms/step - loss: -15506224470036578304.0000 - accuracy: 0.1435 - val_loss: -15413919369373155328.0000 - val_accuracy: 0.1360\n",
            "Epoch 222/300\n",
            "32/32 [==============================] - 0s 9ms/step - loss: -15798969440931938304.0000 - accuracy: 0.1435 - val_loss: -15791917173351383040.0000 - val_accuracy: 0.1360\n",
            "Epoch 223/300\n",
            "32/32 [==============================] - 0s 9ms/step - loss: -16368797939096616960.0000 - accuracy: 0.1435 - val_loss: -16181350997770108928.0000 - val_accuracy: 0.1360\n",
            "Epoch 224/300\n",
            "32/32 [==============================] - 0s 10ms/step - loss: -16678186217501622272.0000 - accuracy: 0.1435 - val_loss: -16576363744188170240.0000 - val_accuracy: 0.1360\n",
            "Epoch 225/300\n",
            "32/32 [==============================] - 0s 9ms/step - loss: -16615716364857901056.0000 - accuracy: 0.1435 - val_loss: -16954251597003620352.0000 - val_accuracy: 0.1360\n",
            "Epoch 226/300\n",
            "32/32 [==============================] - 0s 10ms/step - loss: -18093816234356244480.0000 - accuracy: 0.1435 - val_loss: -17343541385399107584.0000 - val_accuracy: 0.1360\n",
            "Epoch 227/300\n",
            "32/32 [==============================] - 0s 10ms/step - loss: -18085680947822329856.0000 - accuracy: 0.1435 - val_loss: -17743406276630544384.0000 - val_accuracy: 0.1360\n",
            "Epoch 228/300\n",
            "32/32 [==============================] - 0s 10ms/step - loss: -18194490817530298368.0000 - accuracy: 0.1435 - val_loss: -18155537319581450240.0000 - val_accuracy: 0.1360\n",
            "Epoch 229/300\n",
            "32/32 [==============================] - 0s 6ms/step - loss: -19033177396476903424.0000 - accuracy: 0.1435 - val_loss: -18584270988111773696.0000 - val_accuracy: 0.1360\n",
            "Epoch 230/300\n",
            "32/32 [==============================] - 0s 6ms/step - loss: -18843685363522732032.0000 - accuracy: 0.1435 - val_loss: -19003321257736273920.0000 - val_accuracy: 0.1360\n",
            "Epoch 231/300\n",
            "32/32 [==============================] - 0s 6ms/step - loss: -19987179655433027584.0000 - accuracy: 0.1435 - val_loss: -19438584925823959040.0000 - val_accuracy: 0.1360\n",
            "Epoch 232/300\n",
            "32/32 [==============================] - 0s 6ms/step - loss: -20855562943934234624.0000 - accuracy: 0.1435 - val_loss: -19912505223720992768.0000 - val_accuracy: 0.1360\n",
            "Epoch 233/300\n",
            "32/32 [==============================] - 0s 6ms/step - loss: -21037332007214907392.0000 - accuracy: 0.1435 - val_loss: -20361460010597744640.0000 - val_accuracy: 0.1360\n",
            "Epoch 234/300\n",
            "32/32 [==============================] - 0s 6ms/step - loss: -20726845316693753856.0000 - accuracy: 0.1435 - val_loss: -20828068556170067968.0000 - val_accuracy: 0.1360\n",
            "Epoch 235/300\n",
            "32/32 [==============================] - 0s 5ms/step - loss: -21986914229427372032.0000 - accuracy: 0.1435 - val_loss: -21293575391091359744.0000 - val_accuracy: 0.1360\n",
            "Epoch 236/300\n",
            "32/32 [==============================] - 0s 6ms/step - loss: -22150378623128829952.0000 - accuracy: 0.1435 - val_loss: -21764779895267786752.0000 - val_accuracy: 0.1360\n",
            "Epoch 237/300\n",
            "32/32 [==============================] - 0s 6ms/step - loss: -22220424110887927808.0000 - accuracy: 0.1435 - val_loss: -22240784867211083776.0000 - val_accuracy: 0.1360\n",
            "Epoch 238/300\n",
            "32/32 [==============================] - 0s 6ms/step - loss: -23240693935650111488.0000 - accuracy: 0.1435 - val_loss: -22752860417615200256.0000 - val_accuracy: 0.1360\n",
            "Epoch 239/300\n",
            "32/32 [==============================] - 0s 6ms/step - loss: -23109344077572734976.0000 - accuracy: 0.1435 - val_loss: -23241362438719799296.0000 - val_accuracy: 0.1360\n",
            "Epoch 240/300\n",
            "32/32 [==============================] - 0s 6ms/step - loss: -23998277238397075456.0000 - accuracy: 0.1435 - val_loss: -23736375767684087808.0000 - val_accuracy: 0.1360\n",
            "Epoch 241/300\n",
            "32/32 [==============================] - 0s 6ms/step - loss: -24880703489408237568.0000 - accuracy: 0.1435 - val_loss: -24253926885994528768.0000 - val_accuracy: 0.1360\n",
            "Epoch 242/300\n",
            "32/32 [==============================] - 0s 6ms/step - loss: -25270878384664084480.0000 - accuracy: 0.1435 - val_loss: -24754745636353474560.0000 - val_accuracy: 0.1360\n",
            "Epoch 243/300\n",
            "32/32 [==============================] - 0s 6ms/step - loss: -26294712826123517952.0000 - accuracy: 0.1435 - val_loss: -25286819104243580928.0000 - val_accuracy: 0.1360\n",
            "Epoch 244/300\n",
            "32/32 [==============================] - 0s 6ms/step - loss: -25475442523011809280.0000 - accuracy: 0.1435 - val_loss: -25817186130087378944.0000 - val_accuracy: 0.1360\n",
            "Epoch 245/300\n",
            "32/32 [==============================] - 0s 6ms/step - loss: -26799476624202924032.0000 - accuracy: 0.1435 - val_loss: -26347898402582298624.0000 - val_accuracy: 0.1360\n",
            "Epoch 246/300\n",
            "32/32 [==============================] - 0s 6ms/step - loss: -28239273906636062720.0000 - accuracy: 0.1435 - val_loss: -26919127678560763904.0000 - val_accuracy: 0.1360\n",
            "Epoch 247/300\n",
            "32/32 [==============================] - 0s 6ms/step - loss: -26951655630556889088.0000 - accuracy: 0.1435 - val_loss: -27466068742681657344.0000 - val_accuracy: 0.1360\n",
            "Epoch 248/300\n",
            "32/32 [==============================] - 0s 6ms/step - loss: -28705554797743308800.0000 - accuracy: 0.1435 - val_loss: -28066890274610085888.0000 - val_accuracy: 0.1360\n",
            "Epoch 249/300\n",
            "32/32 [==============================] - 0s 6ms/step - loss: -29329147215482978304.0000 - accuracy: 0.1435 - val_loss: -28679947171932405760.0000 - val_accuracy: 0.1360\n",
            "Epoch 250/300\n",
            "32/32 [==============================] - 0s 6ms/step - loss: -29377173883384233984.0000 - accuracy: 0.1435 - val_loss: -29285153556232404992.0000 - val_accuracy: 0.1360\n",
            "Epoch 251/300\n",
            "32/32 [==============================] - 0s 7ms/step - loss: -29935255199317753856.0000 - accuracy: 0.1435 - val_loss: -29904677780949303296.0000 - val_accuracy: 0.1360\n",
            "Epoch 252/300\n",
            "32/32 [==============================] - 0s 6ms/step - loss: -31420431525652463616.0000 - accuracy: 0.1435 - val_loss: -30531454384363012096.0000 - val_accuracy: 0.1360\n",
            "Epoch 253/300\n",
            "32/32 [==============================] - 0s 6ms/step - loss: -32222474680580177920.0000 - accuracy: 0.1435 - val_loss: -31187086570936074240.0000 - val_accuracy: 0.1360\n",
            "Epoch 254/300\n",
            "32/32 [==============================] - 0s 6ms/step - loss: -32417692970091806720.0000 - accuracy: 0.1435 - val_loss: -31825306891371675648.0000 - val_accuracy: 0.1360\n",
            "Epoch 255/300\n",
            "32/32 [==============================] - 0s 6ms/step - loss: -32989062983558627328.0000 - accuracy: 0.1435 - val_loss: -32472668551480606720.0000 - val_accuracy: 0.1360\n",
            "Epoch 256/300\n",
            "32/32 [==============================] - 0s 6ms/step - loss: -33589611836603367424.0000 - accuracy: 0.1435 - val_loss: -33134521774843625472.0000 - val_accuracy: 0.1360\n",
            "Epoch 257/300\n",
            "32/32 [==============================] - 0s 6ms/step - loss: -35373620030204805120.0000 - accuracy: 0.1435 - val_loss: -33805835196252028928.0000 - val_accuracy: 0.1360\n",
            "Epoch 258/300\n",
            "32/32 [==============================] - 0s 6ms/step - loss: -34750841251069689856.0000 - accuracy: 0.1435 - val_loss: -34473742330637582336.0000 - val_accuracy: 0.1360\n",
            "Epoch 259/300\n",
            "32/32 [==============================] - 0s 6ms/step - loss: -35234569192686485504.0000 - accuracy: 0.1435 - val_loss: -35162192740276502528.0000 - val_accuracy: 0.1360\n",
            "Epoch 260/300\n",
            "32/32 [==============================] - 0s 6ms/step - loss: -35466339646751899648.0000 - accuracy: 0.1435 - val_loss: -35831942656150208512.0000 - val_accuracy: 0.1360\n",
            "Epoch 261/300\n",
            "32/32 [==============================] - 0s 6ms/step - loss: -37366911466060382208.0000 - accuracy: 0.1435 - val_loss: -36567412581039341568.0000 - val_accuracy: 0.1360\n",
            "Epoch 262/300\n",
            "32/32 [==============================] - 0s 6ms/step - loss: -38790655878727991296.0000 - accuracy: 0.1435 - val_loss: -37315397147275821056.0000 - val_accuracy: 0.1360\n",
            "Epoch 263/300\n",
            "32/32 [==============================] - 0s 6ms/step - loss: -39367327737263947776.0000 - accuracy: 0.1435 - val_loss: -38077864480673366016.0000 - val_accuracy: 0.1360\n",
            "Epoch 264/300\n",
            "32/32 [==============================] - 0s 6ms/step - loss: -38802944020680015872.0000 - accuracy: 0.1435 - val_loss: -38844334036396015616.0000 - val_accuracy: 0.1360\n",
            "Epoch 265/300\n",
            "32/32 [==============================] - 0s 6ms/step - loss: -40679832359526203392.0000 - accuracy: 0.1435 - val_loss: -39686815029970075648.0000 - val_accuracy: 0.1360\n",
            "Epoch 266/300\n",
            "32/32 [==============================] - 0s 6ms/step - loss: -41326776205216579584.0000 - accuracy: 0.1435 - val_loss: -40452343403739348992.0000 - val_accuracy: 0.1360\n",
            "Epoch 267/300\n",
            "32/32 [==============================] - 0s 7ms/step - loss: -42365493636069588992.0000 - accuracy: 0.1435 - val_loss: -41255176008015806464.0000 - val_accuracy: 0.1360\n",
            "Epoch 268/300\n",
            "32/32 [==============================] - 0s 6ms/step - loss: -44071561848424497152.0000 - accuracy: 0.1435 - val_loss: -42070415501500088320.0000 - val_accuracy: 0.1360\n",
            "Epoch 269/300\n",
            "32/32 [==============================] - 0s 7ms/step - loss: -44745021516530319360.0000 - accuracy: 0.1435 - val_loss: -42928078551630479360.0000 - val_accuracy: 0.1360\n",
            "Epoch 270/300\n",
            "32/32 [==============================] - 0s 6ms/step - loss: -45077175183188426752.0000 - accuracy: 0.1435 - val_loss: -43759441283624468480.0000 - val_accuracy: 0.1360\n",
            "Epoch 271/300\n",
            "32/32 [==============================] - 0s 6ms/step - loss: -46697622226065162240.0000 - accuracy: 0.1435 - val_loss: -44640444766589288448.0000 - val_accuracy: 0.1360\n",
            "Epoch 272/300\n",
            "32/32 [==============================] - 0s 7ms/step - loss: -46079366837766717440.0000 - accuracy: 0.1435 - val_loss: -45505571301649022976.0000 - val_accuracy: 0.1360\n",
            "Epoch 273/300\n",
            "32/32 [==============================] - 0s 6ms/step - loss: -46611816338633523200.0000 - accuracy: 0.1435 - val_loss: -46360485572709974016.0000 - val_accuracy: 0.1360\n",
            "Epoch 274/300\n",
            "32/32 [==============================] - 0s 6ms/step - loss: -48874861957247664128.0000 - accuracy: 0.1435 - val_loss: -47234280657443094528.0000 - val_accuracy: 0.1360\n",
            "Epoch 275/300\n",
            "32/32 [==============================] - 0s 6ms/step - loss: -49847098517038825472.0000 - accuracy: 0.1435 - val_loss: -48180370830725742592.0000 - val_accuracy: 0.1360\n",
            "Epoch 276/300\n",
            "32/32 [==============================] - 0s 6ms/step - loss: -50127293662214750208.0000 - accuracy: 0.1435 - val_loss: -49103450424662294528.0000 - val_accuracy: 0.1360\n",
            "Epoch 277/300\n",
            "32/32 [==============================] - 0s 7ms/step - loss: -50877433271241670656.0000 - accuracy: 0.1435 - val_loss: -49995224723532808192.0000 - val_accuracy: 0.1360\n",
            "Epoch 278/300\n",
            "32/32 [==============================] - 0s 6ms/step - loss: -52273113749121925120.0000 - accuracy: 0.1435 - val_loss: -50941218139792211968.0000 - val_accuracy: 0.1360\n",
            "Epoch 279/300\n",
            "32/32 [==============================] - 0s 9ms/step - loss: -51990675600225337344.0000 - accuracy: 0.1435 - val_loss: -51885434745261129728.0000 - val_accuracy: 0.1360\n",
            "Epoch 280/300\n",
            "32/32 [==============================] - 0s 10ms/step - loss: -54037931066772160512.0000 - accuracy: 0.1435 - val_loss: -52811408253801988096.0000 - val_accuracy: 0.1360\n",
            "Epoch 281/300\n",
            "32/32 [==============================] - 0s 8ms/step - loss: -53697509072673177600.0000 - accuracy: 0.1435 - val_loss: -53768704649594929152.0000 - val_accuracy: 0.1360\n",
            "Epoch 282/300\n",
            "32/32 [==============================] - 0s 9ms/step - loss: -55193645330913558528.0000 - accuracy: 0.1435 - val_loss: -54752296965477761024.0000 - val_accuracy: 0.1360\n",
            "Epoch 283/300\n",
            "32/32 [==============================] - 0s 8ms/step - loss: -56282724792365219840.0000 - accuracy: 0.1435 - val_loss: -55748480888521883648.0000 - val_accuracy: 0.1360\n",
            "Epoch 284/300\n",
            "32/32 [==============================] - 0s 10ms/step - loss: -56168718630704381952.0000 - accuracy: 0.1435 - val_loss: -56714771289430032384.0000 - val_accuracy: 0.1360\n",
            "Epoch 285/300\n",
            "32/32 [==============================] - 0s 9ms/step - loss: -57478373318827442176.0000 - accuracy: 0.1435 - val_loss: -57744331987446923264.0000 - val_accuracy: 0.1360\n",
            "Epoch 286/300\n",
            "32/32 [==============================] - 0s 9ms/step - loss: -60921133341394075648.0000 - accuracy: 0.1435 - val_loss: -58785657459881017344.0000 - val_accuracy: 0.1360\n",
            "Epoch 287/300\n",
            "32/32 [==============================] - 0s 10ms/step - loss: -61365846212410867712.0000 - accuracy: 0.1435 - val_loss: -59851462459195916288.0000 - val_accuracy: 0.1360\n",
            "Epoch 288/300\n",
            "32/32 [==============================] - 0s 10ms/step - loss: -62396088607636979712.0000 - accuracy: 0.1435 - val_loss: -60908269055349096448.0000 - val_accuracy: 0.1360\n",
            "Epoch 289/300\n",
            "32/32 [==============================] - 0s 6ms/step - loss: -64039634190790033408.0000 - accuracy: 0.1435 - val_loss: -62032458122098900992.0000 - val_accuracy: 0.1360\n",
            "Epoch 290/300\n",
            "32/32 [==============================] - 0s 6ms/step - loss: -62368262167361224704.0000 - accuracy: 0.1435 - val_loss: -63130777879270391808.0000 - val_accuracy: 0.1360\n",
            "Epoch 291/300\n",
            "32/32 [==============================] - 0s 7ms/step - loss: -66999572269321158656.0000 - accuracy: 0.1435 - val_loss: -64251905905648467968.0000 - val_accuracy: 0.1360\n",
            "Epoch 292/300\n",
            "32/32 [==============================] - 0s 6ms/step - loss: -66841418516781858816.0000 - accuracy: 0.1435 - val_loss: -65396950508953927680.0000 - val_accuracy: 0.1360\n",
            "Epoch 293/300\n",
            "32/32 [==============================] - 0s 6ms/step - loss: -66022634197809627136.0000 - accuracy: 0.1435 - val_loss: -66532200662679158784.0000 - val_accuracy: 0.1360\n",
            "Epoch 294/300\n",
            "32/32 [==============================] - 0s 6ms/step - loss: -69000854955687411712.0000 - accuracy: 0.1435 - val_loss: -67722646300118745088.0000 - val_accuracy: 0.1360\n",
            "Epoch 295/300\n",
            "32/32 [==============================] - 0s 6ms/step - loss: -72483773540946935808.0000 - accuracy: 0.1435 - val_loss: -68939713313090043904.0000 - val_accuracy: 0.1360\n",
            "Epoch 296/300\n",
            "32/32 [==============================] - 0s 7ms/step - loss: -72969559768330928128.0000 - accuracy: 0.1435 - val_loss: -70196208813033390080.0000 - val_accuracy: 0.1360\n",
            "Epoch 297/300\n",
            "32/32 [==============================] - 0s 6ms/step - loss: -73034206653997645824.0000 - accuracy: 0.1435 - val_loss: -71452911021162758144.0000 - val_accuracy: 0.1360\n",
            "Epoch 298/300\n",
            "32/32 [==============================] - 0s 6ms/step - loss: -75245658788990025728.0000 - accuracy: 0.1435 - val_loss: -72745800355985489920.0000 - val_accuracy: 0.1360\n",
            "Epoch 299/300\n",
            "32/32 [==============================] - 0s 6ms/step - loss: -75706151850888658944.0000 - accuracy: 0.1435 - val_loss: -74026625849228263424.0000 - val_accuracy: 0.1360\n",
            "Epoch 300/300\n",
            "32/32 [==============================] - 0s 7ms/step - loss: -76180665885064691712.0000 - accuracy: 0.1435 - val_loss: -75333936378560905216.0000 - val_accuracy: 0.1360\n"
          ]
        }
      ]
    },
    {
      "cell_type": "code",
      "source": [
        "y_pred = model.predict(x_test)"
      ],
      "metadata": {
        "colab": {
          "base_uri": "https://localhost:8080/"
        },
        "id": "CMj3-UcdQawC",
        "outputId": "c89c6209-fc38-4dc5-fab0-0fcd193acb54"
      },
      "execution_count": 143,
      "outputs": [
        {
          "output_type": "stream",
          "name": "stdout",
          "text": [
            "19/19 [==============================] - 0s 2ms/step\n"
          ]
        }
      ]
    },
    {
      "cell_type": "code",
      "source": [
        "y_pred =np.where(y_pred>0.5,1,0)"
      ],
      "metadata": {
        "id": "Iwu3dHrZTppC"
      },
      "execution_count": 144,
      "outputs": []
    },
    {
      "cell_type": "code",
      "source": [
        "from sklearn.metrics import accuracy_score\n",
        "accuracy_score(y_test,y_pred)"
      ],
      "metadata": {
        "colab": {
          "base_uri": "https://localhost:8080/"
        },
        "id": "4ji0V5MYTw88",
        "outputId": "394587de-03fe-48cb-eab3-e64df31e0ac0"
      },
      "execution_count": 145,
      "outputs": [
        {
          "output_type": "execute_result",
          "data": {
            "text/plain": [
              "0.14922813036020582"
            ]
          },
          "metadata": {},
          "execution_count": 145
        }
      ]
    },
    {
      "cell_type": "code",
      "source": [],
      "metadata": {
        "id": "wYYd1oIfnsdh"
      },
      "execution_count": null,
      "outputs": []
    }
  ]
}